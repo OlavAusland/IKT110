{
 "cells": [
  {
   "cell_type": "markdown",
   "metadata": {
    "pycharm": {
     "name": "#%% md\n"
    }
   },
   "source": [
    "### Handin 1\n",
    "\n",
    "# Changelog:\n",
    "Fixed the equation for the sin() terms in the fortuna algorithm description, was missing a add sign.  \n",
    "Was: $\\Psi_k \\sin(\\gamma_k (\\omega_k x))$ should have been: $\\Psi_k \\sin(\\gamma_k (\\omega_k + x))$\n",
    "\n",
    "\n",
    "Added info to self check if the answer is right on Task 3.\n",
    "\n",
    "# Info\n",
    "\n",
    "Everything should be completed and approved in person. Groups are fine, as 1 random person will have to present on behalf of the group.\n",
    "\n",
    "\n",
    "The objectives for this handin is:\n",
    "* Playing with numpy.\n",
    "* Plotting with Plotly (as a preparation for using dash (https://plotly.com/dash/) later on)\n",
    "* Train a more complex model using the Fortuna Algorithm.\n",
    "* Route planning for Knut Knut Transport AS. \n",
    "\n",
    "## How to solve?\n",
    "There should be a comment/section stating the objective of a task.  \n",
    "And there should be a commented section labeled # -- CODE --  \n",
    "that shows where to put your code. For tasks that are not answered by code you can either write the answer  \n",
    "as a markup cell or write it on a seperate piece of paper."
   ]
  },
  {
   "cell_type": "code",
   "execution_count": 2,
   "metadata": {
    "pycharm": {
     "name": "#%%\n"
    }
   },
   "outputs": [
    {
     "name": "stdout",
     "output_type": "stream",
     "text": [
      "<ok>\n"
     ]
    }
   ],
   "source": [
    "import numpy as np\n",
    "\n",
    "\n",
    "# TASK: Create a numpy array containing the whole numbers between 1, 10 (inclusive)\n",
    "\n",
    "# -- CODE --\n",
    "# a = ?\n",
    "a = np.arange(1, 11)\n",
    "\n",
    "assert isinstance(a, np.ndarray)\n",
    "assert np.isclose(a, [1,2,3,4,5,6,7,8,9,10]).all()\n",
    "print(\"<ok>\")"
   ]
  },
  {
   "cell_type": "code",
   "execution_count": 2,
   "metadata": {
    "pycharm": {
     "name": "#%%\n"
    }
   },
   "outputs": [
    {
     "name": "stdout",
     "output_type": "stream",
     "text": [
      "<ok>\n"
     ]
    }
   ],
   "source": [
    "# TASK: Reshape the array a so that it is a 2 by 4 array\n",
    "\n",
    "a = np.array(range(0, 8))\n",
    "\n",
    "# -- CODE --\n",
    "# a = ?\n",
    "a = np.reshape(a, (2,4))\n",
    "\n",
    "assert( a.shape == (2,4) )\n",
    "print(\"<ok>\")"
   ]
  },
  {
   "cell_type": "code",
   "execution_count": 3,
   "metadata": {
    "pycharm": {
     "name": "#%%\n"
    }
   },
   "outputs": [
    {
     "name": "stdout",
     "output_type": "stream",
     "text": [
      "<ok>\n"
     ]
    }
   ],
   "source": [
    "# TASK: multiply all the numbers in a by 2.\n",
    "\n",
    "\n",
    "a = np.array([[1,2,3,4], [5,6,7,8]])\n",
    "\n",
    "# -- CODE --\n",
    "a = a * 2\n",
    "\n",
    "assert a.shape == (2,4)\n",
    "assert a.sum() == 72\n",
    "print(\"<ok>\")"
   ]
  },
  {
   "cell_type": "code",
   "execution_count": 4,
   "metadata": {
    "pycharm": {
     "name": "#%%\n"
    }
   },
   "outputs": [
    {
     "name": "stdout",
     "output_type": "stream",
     "text": [
      "<ok>\n"
     ]
    }
   ],
   "source": [
    "# TASK:  create a numpy array b that contains the sum of each row (axis 1) in a \n",
    "\n",
    "a = np.array([[1,2,3,4], [5,6,7,8]])\n",
    "\n",
    "# -- CODE --\n",
    "# b = ?\n",
    "b = np.sum(a, axis=1)\n",
    "\n",
    "assert b.shape == (2,)\n",
    "assert (b == [10, 26]).all()\n",
    "print(\"<ok>\")"
   ]
  },
  {
   "cell_type": "code",
   "execution_count": 5,
   "metadata": {
    "pycharm": {
     "name": "#%%\n"
    }
   },
   "outputs": [
    {
     "name": "stdout",
     "output_type": "stream",
     "text": [
      "<ok>\n"
     ]
    }
   ],
   "source": [
    "# TASK:  create a numpy array b that contains the mean value of each column (axis 0) in a \n",
    "a = np.array([[1,2,3,4], [1,2,3,8]])\n",
    "\n",
    "# -- CODE --\n",
    "# b = ?\n",
    "b = np.mean(a, axis=0)\n",
    "\n",
    "assert b.shape == (4,)\n",
    "assert (b == [1, 2, 3, 6]).all()\n",
    "print(\"<ok>\")"
   ]
  },
  {
   "cell_type": "code",
   "execution_count": 3,
   "metadata": {
    "pycharm": {
     "name": "#%%\n"
    }
   },
   "outputs": [
    {
     "name": "stdout",
     "output_type": "stream",
     "text": [
      "<ok>\n"
     ]
    }
   ],
   "source": [
    "# TASK:  stack the arrays a, b and c into an array called s (vertically)\n",
    "# s should be equal to s_true (hint, look at the numpy function vstack )\n",
    "\n",
    "\n",
    "a = np.array([1, 3])\n",
    "b = np.array([2, 4])\n",
    "c = np.array([3, 5])\n",
    "\n",
    "# -- CODE --\n",
    "# s = ?\n",
    "s = np.vstack((a, b, c))\n",
    "\n",
    "s_true = np.array([[1, 3], [2, 4], [3, 5]])\n",
    "assert (s_true == s).all()\n",
    "\n",
    "print(\"<ok>\")"
   ]
  },
  {
   "cell_type": "code",
   "execution_count": 7,
   "metadata": {
    "pycharm": {
     "name": "#%%\n"
    }
   },
   "outputs": [
    {
     "name": "stdout",
     "output_type": "stream",
     "text": [
      "[[[ 1.56256055  0.45500024]\n",
      "  [ 0.53710139  0.11719912]]\n",
      "\n",
      " [[-1.639186   -0.22640534]\n",
      "  [-0.22174832 -0.96726676]]]\n",
      "--------------------------------------------------\n",
      "[ 1.56256055  0.45500024  0.53710139  0.11719912 -1.639186   -0.22640534\n",
      " -0.22174832 -0.96726676]\n",
      "<ok>\n"
     ]
    }
   ],
   "source": [
    "# TASK:  Flatten the array a into a 1d array called f (hint: numpy has a function named flatten)\n",
    "\n",
    "a = np.random.randn(2,2,2)\n",
    "print(a)\n",
    "\n",
    "# -- CODE --\n",
    "# f = ?\n",
    "f = a.flatten()\n",
    "\n",
    "print(\"-\"*50)\n",
    "print(f)\n",
    "assert f.ndim == 1\n",
    "print(\"<ok>\")"
   ]
  },
  {
   "cell_type": "markdown",
   "metadata": {
    "pycharm": {
     "name": "#%% md\n"
    }
   },
   "source": [
    "## Task 1 -- Plot functions and scatter plots using Plotly \n",
    "\n",
    "Change the code to perform the two following tasks:\n",
    "\n",
    "(See Plotly: https://plotly.com/python/plotly-express/ for more info.)\n",
    "\n",
    "**Line Plot)**\n",
    "\n",
    "Plot the function f(x) = -0.69x^2 + 1.3x + 0.42 over the interval [0, 2.5], with 0.01 increments in x.\n",
    "\n",
    "**Scatter Plot)**  \n",
    "\n",
    "Plot the first 25 Fibbonachi numbers using a scatter plot.\n",
    "(The example shows the first 5).\n",
    "\n",
    "\n"
   ]
  },
  {
   "cell_type": "code",
   "execution_count": 4,
   "metadata": {
    "pycharm": {
     "name": "#%%\n"
    }
   },
   "outputs": [
    {
     "name": "stdout",
     "output_type": "stream",
     "text": [
      "Requirement already satisfied: plotly in /home/olavao/anaconda3/envs/IKT110/lib/python3.8/site-packages (5.10.0)\r\n",
      "Requirement already satisfied: tenacity>=6.2.0 in /home/olavao/anaconda3/envs/IKT110/lib/python3.8/site-packages (from plotly) (8.0.1)\r\n",
      "Requirement already satisfied: jupyterlab>=3 in /home/olavao/anaconda3/envs/IKT110/lib/python3.8/site-packages (3.4.7)\r\n",
      "Requirement already satisfied: ipywidgets>=7.6 in /home/olavao/anaconda3/envs/IKT110/lib/python3.8/site-packages (8.0.2)\r\n",
      "Requirement already satisfied: tornado>=6.1.0 in /home/olavao/anaconda3/envs/IKT110/lib/python3.8/site-packages (from jupyterlab>=3) (6.1)\r\n",
      "Requirement already satisfied: nbclassic in /home/olavao/anaconda3/envs/IKT110/lib/python3.8/site-packages (from jupyterlab>=3) (0.4.3)\r\n",
      "Requirement already satisfied: jupyter-core in /home/olavao/anaconda3/envs/IKT110/lib/python3.8/site-packages (from jupyterlab>=3) (4.11.1)\r\n",
      "Requirement already satisfied: jupyter-server~=1.16 in /home/olavao/anaconda3/envs/IKT110/lib/python3.8/site-packages (from jupyterlab>=3) (1.18.1)\r\n",
      "Requirement already satisfied: packaging in /home/olavao/anaconda3/envs/IKT110/lib/python3.8/site-packages (from jupyterlab>=3) (21.3)\r\n",
      "Requirement already satisfied: jinja2>=2.1 in /home/olavao/anaconda3/envs/IKT110/lib/python3.8/site-packages (from jupyterlab>=3) (3.0.3)\r\n",
      "Requirement already satisfied: notebook<7 in /home/olavao/anaconda3/envs/IKT110/lib/python3.8/site-packages (from jupyterlab>=3) (6.4.12)\r\n",
      "Requirement already satisfied: ipython in /home/olavao/anaconda3/envs/IKT110/lib/python3.8/site-packages (from jupyterlab>=3) (8.5.0)\r\n",
      "Requirement already satisfied: tomli in /home/olavao/anaconda3/envs/IKT110/lib/python3.8/site-packages (from jupyterlab>=3) (2.0.1)\r\n",
      "Requirement already satisfied: jupyterlab-server~=2.10 in /home/olavao/anaconda3/envs/IKT110/lib/python3.8/site-packages (from jupyterlab>=3) (2.15.1)\r\n",
      "Requirement already satisfied: traitlets>=4.3.1 in /home/olavao/anaconda3/envs/IKT110/lib/python3.8/site-packages (from ipywidgets>=7.6) (5.4.0)\r\n",
      "Requirement already satisfied: widgetsnbextension~=4.0 in /home/olavao/anaconda3/envs/IKT110/lib/python3.8/site-packages (from ipywidgets>=7.6) (4.0.3)\r\n",
      "Requirement already satisfied: jupyterlab-widgets~=3.0 in /home/olavao/anaconda3/envs/IKT110/lib/python3.8/site-packages (from ipywidgets>=7.6) (3.0.3)\r\n",
      "Requirement already satisfied: ipykernel>=4.5.1 in /home/olavao/anaconda3/envs/IKT110/lib/python3.8/site-packages (from ipywidgets>=7.6) (5.5.5)\r\n",
      "Requirement already satisfied: jupyter-client in /home/olavao/anaconda3/envs/IKT110/lib/python3.8/site-packages (from ipykernel>=4.5.1->ipywidgets>=7.6) (7.0.6)\r\n",
      "Requirement already satisfied: backcall in /home/olavao/anaconda3/envs/IKT110/lib/python3.8/site-packages (from ipython->jupyterlab>=3) (0.2.0)\r\n",
      "Requirement already satisfied: pygments>=2.4.0 in /home/olavao/anaconda3/envs/IKT110/lib/python3.8/site-packages (from ipython->jupyterlab>=3) (2.13.0)\r\n",
      "Requirement already satisfied: prompt-toolkit<3.1.0,>3.0.1 in /home/olavao/anaconda3/envs/IKT110/lib/python3.8/site-packages (from ipython->jupyterlab>=3) (3.0.31)\r\n",
      "Requirement already satisfied: pickleshare in /home/olavao/anaconda3/envs/IKT110/lib/python3.8/site-packages (from ipython->jupyterlab>=3) (0.7.5)\r\n",
      "Requirement already satisfied: stack-data in /home/olavao/anaconda3/envs/IKT110/lib/python3.8/site-packages (from ipython->jupyterlab>=3) (0.5.0)\r\n",
      "Requirement already satisfied: pexpect>4.3 in /home/olavao/anaconda3/envs/IKT110/lib/python3.8/site-packages (from ipython->jupyterlab>=3) (4.8.0)\r\n",
      "Requirement already satisfied: matplotlib-inline in /home/olavao/anaconda3/envs/IKT110/lib/python3.8/site-packages (from ipython->jupyterlab>=3) (0.1.6)\r\n",
      "Requirement already satisfied: decorator in /home/olavao/anaconda3/envs/IKT110/lib/python3.8/site-packages (from ipython->jupyterlab>=3) (5.1.1)\r\n",
      "Requirement already satisfied: jedi>=0.16 in /home/olavao/anaconda3/envs/IKT110/lib/python3.8/site-packages (from ipython->jupyterlab>=3) (0.18.1)\r\n",
      "Requirement already satisfied: MarkupSafe>=2.0 in /home/olavao/anaconda3/envs/IKT110/lib/python3.8/site-packages (from jinja2>=2.1->jupyterlab>=3) (2.1.1)\r\n",
      "Requirement already satisfied: pyzmq>=17 in /home/olavao/anaconda3/envs/IKT110/lib/python3.8/site-packages (from jupyter-server~=1.16->jupyterlab>=3) (19.0.2)\r\n",
      "Requirement already satisfied: Send2Trash in /home/olavao/anaconda3/envs/IKT110/lib/python3.8/site-packages (from jupyter-server~=1.16->jupyterlab>=3) (1.8.0)\r\n",
      "Requirement already satisfied: anyio<4,>=3.1.0 in /home/olavao/anaconda3/envs/IKT110/lib/python3.8/site-packages (from jupyter-server~=1.16->jupyterlab>=3) (3.6.1)\r\n",
      "Requirement already satisfied: nbconvert>=6.4.4 in /home/olavao/anaconda3/envs/IKT110/lib/python3.8/site-packages (from jupyter-server~=1.16->jupyterlab>=3) (7.0.0)\r\n",
      "Requirement already satisfied: terminado>=0.8.3 in /home/olavao/anaconda3/envs/IKT110/lib/python3.8/site-packages (from jupyter-server~=1.16->jupyterlab>=3) (0.15.0)\r\n",
      "Requirement already satisfied: nbformat>=5.2.0 in /home/olavao/anaconda3/envs/IKT110/lib/python3.8/site-packages (from jupyter-server~=1.16->jupyterlab>=3) (5.5.0)\r\n",
      "Requirement already satisfied: argon2-cffi in /home/olavao/anaconda3/envs/IKT110/lib/python3.8/site-packages (from jupyter-server~=1.16->jupyterlab>=3) (21.3.0)\r\n",
      "Requirement already satisfied: websocket-client in /home/olavao/anaconda3/envs/IKT110/lib/python3.8/site-packages (from jupyter-server~=1.16->jupyterlab>=3) (1.4.1)\r\n",
      "Requirement already satisfied: prometheus-client in /home/olavao/anaconda3/envs/IKT110/lib/python3.8/site-packages (from jupyter-server~=1.16->jupyterlab>=3) (0.14.1)\r\n",
      "Requirement already satisfied: importlib-metadata>=3.6 in /home/olavao/anaconda3/envs/IKT110/lib/python3.8/site-packages (from jupyterlab-server~=2.10->jupyterlab>=3) (4.11.3)\r\n",
      "Requirement already satisfied: jsonschema>=3.0.1 in /home/olavao/anaconda3/envs/IKT110/lib/python3.8/site-packages (from jupyterlab-server~=2.10->jupyterlab>=3) (4.16.0)\r\n",
      "Requirement already satisfied: babel in /home/olavao/anaconda3/envs/IKT110/lib/python3.8/site-packages (from jupyterlab-server~=2.10->jupyterlab>=3) (2.10.3)\r\n",
      "Requirement already satisfied: requests in /home/olavao/anaconda3/envs/IKT110/lib/python3.8/site-packages (from jupyterlab-server~=2.10->jupyterlab>=3) (2.28.1)\r\n",
      "Requirement already satisfied: json5 in /home/olavao/anaconda3/envs/IKT110/lib/python3.8/site-packages (from jupyterlab-server~=2.10->jupyterlab>=3) (0.9.10)\r\n",
      "Requirement already satisfied: ipython-genutils in /home/olavao/anaconda3/envs/IKT110/lib/python3.8/site-packages (from notebook<7->jupyterlab>=3) (0.2.0)\r\n",
      "Requirement already satisfied: nest-asyncio>=1.5 in /home/olavao/anaconda3/envs/IKT110/lib/python3.8/site-packages (from notebook<7->jupyterlab>=3) (1.5.5)\r\n",
      "Requirement already satisfied: notebook-shim>=0.1.0 in /home/olavao/anaconda3/envs/IKT110/lib/python3.8/site-packages (from nbclassic->jupyterlab>=3) (0.1.0)\r\n",
      "Requirement already satisfied: pyparsing!=3.0.5,>=2.0.2 in /home/olavao/anaconda3/envs/IKT110/lib/python3.8/site-packages (from packaging->jupyterlab>=3) (3.0.9)\r\n",
      "Requirement already satisfied: sniffio>=1.1 in /home/olavao/anaconda3/envs/IKT110/lib/python3.8/site-packages (from anyio<4,>=3.1.0->jupyter-server~=1.16->jupyterlab>=3) (1.3.0)\r\n",
      "Requirement already satisfied: idna>=2.8 in /home/olavao/anaconda3/envs/IKT110/lib/python3.8/site-packages (from anyio<4,>=3.1.0->jupyter-server~=1.16->jupyterlab>=3) (3.4)\r\n",
      "Requirement already satisfied: zipp>=0.5 in /home/olavao/anaconda3/envs/IKT110/lib/python3.8/site-packages (from importlib-metadata>=3.6->jupyterlab-server~=2.10->jupyterlab>=3) (3.8.0)\r\n",
      "Requirement already satisfied: parso<0.9.0,>=0.8.0 in /home/olavao/anaconda3/envs/IKT110/lib/python3.8/site-packages (from jedi>=0.16->ipython->jupyterlab>=3) (0.8.3)\r\n",
      "Requirement already satisfied: attrs>=17.4.0 in /home/olavao/anaconda3/envs/IKT110/lib/python3.8/site-packages (from jsonschema>=3.0.1->jupyterlab-server~=2.10->jupyterlab>=3) (22.1.0)\r\n",
      "Requirement already satisfied: importlib-resources>=1.4.0 in /home/olavao/anaconda3/envs/IKT110/lib/python3.8/site-packages (from jsonschema>=3.0.1->jupyterlab-server~=2.10->jupyterlab>=3) (5.9.0)\r\n",
      "Requirement already satisfied: pkgutil-resolve-name>=1.3.10 in /home/olavao/anaconda3/envs/IKT110/lib/python3.8/site-packages (from jsonschema>=3.0.1->jupyterlab-server~=2.10->jupyterlab>=3) (1.3.10)\r\n",
      "Requirement already satisfied: pyrsistent!=0.17.0,!=0.17.1,!=0.17.2,>=0.14.0 in /home/olavao/anaconda3/envs/IKT110/lib/python3.8/site-packages (from jsonschema>=3.0.1->jupyterlab-server~=2.10->jupyterlab>=3) (0.18.1)\r\n",
      "Requirement already satisfied: entrypoints in /home/olavao/anaconda3/envs/IKT110/lib/python3.8/site-packages (from jupyter-client->ipykernel>=4.5.1->ipywidgets>=7.6) (0.4)\r\n",
      "Requirement already satisfied: python-dateutil>=2.1 in /home/olavao/anaconda3/envs/IKT110/lib/python3.8/site-packages (from jupyter-client->ipykernel>=4.5.1->ipywidgets>=7.6) (2.8.2)\r\n",
      "Requirement already satisfied: defusedxml in /home/olavao/anaconda3/envs/IKT110/lib/python3.8/site-packages (from nbconvert>=6.4.4->jupyter-server~=1.16->jupyterlab>=3) (0.7.1)\r\n",
      "Requirement already satisfied: beautifulsoup4 in /home/olavao/anaconda3/envs/IKT110/lib/python3.8/site-packages (from nbconvert>=6.4.4->jupyter-server~=1.16->jupyterlab>=3) (4.11.1)\r\n",
      "Requirement already satisfied: lxml in /home/olavao/anaconda3/envs/IKT110/lib/python3.8/site-packages (from nbconvert>=6.4.4->jupyter-server~=1.16->jupyterlab>=3) (4.9.1)\r\n",
      "Requirement already satisfied: tinycss2 in /home/olavao/anaconda3/envs/IKT110/lib/python3.8/site-packages (from nbconvert>=6.4.4->jupyter-server~=1.16->jupyterlab>=3) (1.1.1)\r\n",
      "Requirement already satisfied: jupyterlab-pygments in /home/olavao/anaconda3/envs/IKT110/lib/python3.8/site-packages (from nbconvert>=6.4.4->jupyter-server~=1.16->jupyterlab>=3) (0.2.2)\r\n",
      "Requirement already satisfied: nbclient>=0.5.0 in /home/olavao/anaconda3/envs/IKT110/lib/python3.8/site-packages (from nbconvert>=6.4.4->jupyter-server~=1.16->jupyterlab>=3) (0.6.8)\r\n",
      "Requirement already satisfied: pandocfilters>=1.4.1 in /home/olavao/anaconda3/envs/IKT110/lib/python3.8/site-packages (from nbconvert>=6.4.4->jupyter-server~=1.16->jupyterlab>=3) (1.5.0)\r\n",
      "Requirement already satisfied: mistune<3,>=2.0.3 in /home/olavao/anaconda3/envs/IKT110/lib/python3.8/site-packages (from nbconvert>=6.4.4->jupyter-server~=1.16->jupyterlab>=3) (2.0.4)\r\n",
      "Requirement already satisfied: bleach in /home/olavao/anaconda3/envs/IKT110/lib/python3.8/site-packages (from nbconvert>=6.4.4->jupyter-server~=1.16->jupyterlab>=3) (5.0.1)\r\n",
      "Requirement already satisfied: fastjsonschema in /home/olavao/anaconda3/envs/IKT110/lib/python3.8/site-packages (from nbformat>=5.2.0->jupyter-server~=1.16->jupyterlab>=3) (2.16.1)\r\n",
      "Requirement already satisfied: ptyprocess>=0.5 in /home/olavao/anaconda3/envs/IKT110/lib/python3.8/site-packages (from pexpect>4.3->ipython->jupyterlab>=3) (0.7.0)\r\n",
      "Requirement already satisfied: wcwidth in /home/olavao/anaconda3/envs/IKT110/lib/python3.8/site-packages (from prompt-toolkit<3.1.0,>3.0.1->ipython->jupyterlab>=3) (0.2.5)\r\n",
      "Requirement already satisfied: argon2-cffi-bindings in /home/olavao/anaconda3/envs/IKT110/lib/python3.8/site-packages (from argon2-cffi->jupyter-server~=1.16->jupyterlab>=3) (21.2.0)\r\n",
      "Requirement already satisfied: pytz>=2015.7 in /home/olavao/anaconda3/envs/IKT110/lib/python3.8/site-packages (from babel->jupyterlab-server~=2.10->jupyterlab>=3) (2022.1)\r\n",
      "Requirement already satisfied: charset-normalizer<3,>=2 in /home/olavao/anaconda3/envs/IKT110/lib/python3.8/site-packages (from requests->jupyterlab-server~=2.10->jupyterlab>=3) (2.1.1)\r\n",
      "Requirement already satisfied: urllib3<1.27,>=1.21.1 in /home/olavao/anaconda3/envs/IKT110/lib/python3.8/site-packages (from requests->jupyterlab-server~=2.10->jupyterlab>=3) (1.26.12)\r\n",
      "Requirement already satisfied: certifi>=2017.4.17 in /home/olavao/anaconda3/envs/IKT110/lib/python3.8/site-packages (from requests->jupyterlab-server~=2.10->jupyterlab>=3) (2022.9.14)\r\n",
      "Requirement already satisfied: executing in /home/olavao/anaconda3/envs/IKT110/lib/python3.8/site-packages (from stack-data->ipython->jupyterlab>=3) (1.0.0)\r\n",
      "Requirement already satisfied: pure-eval in /home/olavao/anaconda3/envs/IKT110/lib/python3.8/site-packages (from stack-data->ipython->jupyterlab>=3) (0.2.2)\r\n",
      "Requirement already satisfied: asttokens in /home/olavao/anaconda3/envs/IKT110/lib/python3.8/site-packages (from stack-data->ipython->jupyterlab>=3) (2.0.8)\r\n",
      "Requirement already satisfied: six>=1.5 in /home/olavao/anaconda3/envs/IKT110/lib/python3.8/site-packages (from python-dateutil>=2.1->jupyter-client->ipykernel>=4.5.1->ipywidgets>=7.6) (1.16.0)\r\n",
      "Requirement already satisfied: cffi>=1.0.1 in /home/olavao/anaconda3/envs/IKT110/lib/python3.8/site-packages (from argon2-cffi-bindings->argon2-cffi->jupyter-server~=1.16->jupyterlab>=3) (1.15.1)\r\n",
      "Requirement already satisfied: soupsieve>1.2 in /home/olavao/anaconda3/envs/IKT110/lib/python3.8/site-packages (from beautifulsoup4->nbconvert>=6.4.4->jupyter-server~=1.16->jupyterlab>=3) (2.3.2.post1)\r\n",
      "Requirement already satisfied: webencodings in /home/olavao/anaconda3/envs/IKT110/lib/python3.8/site-packages (from bleach->nbconvert>=6.4.4->jupyter-server~=1.16->jupyterlab>=3) (0.5.1)\r\n",
      "Requirement already satisfied: pycparser in /home/olavao/anaconda3/envs/IKT110/lib/python3.8/site-packages (from cffi>=1.0.1->argon2-cffi-bindings->argon2-cffi->jupyter-server~=1.16->jupyterlab>=3) (2.21)\r\n",
      "Collecting numba\r\n",
      "  Downloading numba-0.56.2-cp38-cp38-manylinux2014_x86_64.manylinux_2_17_x86_64.whl (3.5 MB)\r\n",
      "\u001B[2K     \u001B[90m━━━━━━━━━━━━━━━━━━━━━━━━━━━━━━━━━━━━━━━━\u001B[0m \u001B[32m3.5/3.5 MB\u001B[0m \u001B[31m12.6 MB/s\u001B[0m eta \u001B[36m0:00:00\u001B[0ma \u001B[36m0:00:01\u001B[0m\r\n",
      "\u001B[?25hRequirement already satisfied: numpy<1.24,>=1.18 in /home/olavao/anaconda3/envs/IKT110/lib/python3.8/site-packages (from numba) (1.23.1)\r\n",
      "Requirement already satisfied: importlib-metadata in /home/olavao/anaconda3/envs/IKT110/lib/python3.8/site-packages (from numba) (4.11.3)\r\n",
      "Collecting llvmlite<0.40,>=0.39.0dev0\r\n",
      "  Downloading llvmlite-0.39.1-cp38-cp38-manylinux_2_17_x86_64.manylinux2014_x86_64.whl (34.6 MB)\r\n",
      "\u001B[2K     \u001B[90m━━━━━━━━━━━━━━━━━━━━━━━━━━━━━━━━━━━━━━━━\u001B[0m \u001B[32m34.6/34.6 MB\u001B[0m \u001B[31m11.1 MB/s\u001B[0m eta \u001B[36m0:00:00\u001B[0m00:01\u001B[0m00:01\u001B[0m\r\n",
      "\u001B[?25hCollecting setuptools<60\r\n",
      "  Downloading setuptools-59.8.0-py3-none-any.whl (952 kB)\r\n",
      "\u001B[2K     \u001B[90m━━━━━━━━━━━━━━━━━━━━━━━━━━━━━━━━━━━━━━\u001B[0m \u001B[32m952.8/952.8 kB\u001B[0m \u001B[31m11.8 MB/s\u001B[0m eta \u001B[36m0:00:00\u001B[0m00:01\u001B[0m00:01\u001B[0m\r\n",
      "\u001B[?25hRequirement already satisfied: zipp>=0.5 in /home/olavao/anaconda3/envs/IKT110/lib/python3.8/site-packages (from importlib-metadata->numba) (3.8.0)\r\n",
      "Installing collected packages: setuptools, llvmlite, numba\r\n",
      "  Attempting uninstall: setuptools\r\n",
      "    Found existing installation: setuptools 63.4.1\r\n",
      "    Uninstalling setuptools-63.4.1:\r\n",
      "      Successfully uninstalled setuptools-63.4.1\r\n",
      "Successfully installed llvmlite-0.39.1 numba-0.56.2 setuptools-59.8.0\r\n",
      "You may have to restart jupyter to see graphs in the notebook.\n"
     ]
    }
   ],
   "source": [
    "# installs plotly\n",
    "!pip install plotly\n",
    "!pip install \"jupyterlab>=3\" \"ipywidgets>=7.6\"\n",
    "!pip install numba\n",
    "\n",
    "print(\"You may have to restart jupyter to see graphs in the notebook.\")"
   ]
  },
  {
   "cell_type": "code",
   "execution_count": 11,
   "metadata": {
    "pycharm": {
     "name": "#%%\n"
    }
   },
   "outputs": [
    {
     "data": {
      "application/vnd.plotly.v1+json": {
       "data": [
        {
         "hovertemplate": "x=%{x}<br>y=%{y}<extra></extra>",
         "legendgroup": "",
         "line": {
          "color": "#636efa",
          "dash": "solid"
         },
         "marker": {
          "symbol": "circle"
         },
         "mode": "lines",
         "name": "",
         "orientation": "v",
         "showlegend": false,
         "x": [
          0.0,
          0.01,
          0.02,
          0.03,
          0.04,
          0.05,
          0.06,
          0.07,
          0.08,
          0.09,
          0.1,
          0.11,
          0.12,
          0.13,
          0.14,
          0.15,
          0.16,
          0.17,
          0.18,
          0.19,
          0.2,
          0.21,
          0.22,
          0.23,
          0.24,
          0.25,
          0.26,
          0.27,
          0.28,
          0.29,
          0.3,
          0.31,
          0.32,
          0.33,
          0.34,
          0.35000000000000003,
          0.36,
          0.37,
          0.38,
          0.39,
          0.4,
          0.41000000000000003,
          0.42,
          0.43,
          0.44,
          0.45,
          0.46,
          0.47000000000000003,
          0.48,
          0.49,
          0.5,
          0.51,
          0.52,
          0.53,
          0.54,
          0.55,
          0.56,
          0.5700000000000001,
          0.58,
          0.59,
          0.6,
          0.61,
          0.62,
          0.63,
          0.64,
          0.65,
          0.66,
          0.67,
          0.68,
          0.6900000000000001,
          0.7000000000000001,
          0.71,
          0.72,
          0.73,
          0.74,
          0.75,
          0.76,
          0.77,
          0.78,
          0.79,
          0.8,
          0.81,
          0.8200000000000001,
          0.8300000000000001,
          0.84,
          0.85,
          0.86,
          0.87,
          0.88,
          0.89,
          0.9,
          0.91,
          0.92,
          0.93,
          0.9400000000000001,
          0.9500000000000001,
          0.96,
          0.97,
          0.98,
          0.99,
          1.0,
          1.01,
          1.02,
          1.03,
          1.04,
          1.05,
          1.06,
          1.07,
          1.08,
          1.09,
          1.1,
          1.11,
          1.12,
          1.1300000000000001,
          1.1400000000000001,
          1.1500000000000001,
          1.16,
          1.17,
          1.18,
          1.19,
          1.2,
          1.21,
          1.22,
          1.23,
          1.24,
          1.25,
          1.26,
          1.27,
          1.28,
          1.29,
          1.3,
          1.31,
          1.32,
          1.33,
          1.34,
          1.35,
          1.36,
          1.37,
          1.3800000000000001,
          1.3900000000000001,
          1.4000000000000001,
          1.41,
          1.42,
          1.43,
          1.44,
          1.45,
          1.46,
          1.47,
          1.48,
          1.49,
          1.5,
          1.51,
          1.52,
          1.53,
          1.54,
          1.55,
          1.56,
          1.57,
          1.58,
          1.59,
          1.6,
          1.61,
          1.62,
          1.6300000000000001,
          1.6400000000000001,
          1.6500000000000001,
          1.6600000000000001,
          1.67,
          1.68,
          1.69,
          1.7,
          1.71,
          1.72,
          1.73,
          1.74,
          1.75,
          1.76,
          1.77,
          1.78,
          1.79,
          1.8,
          1.81,
          1.82,
          1.83,
          1.84,
          1.85,
          1.86,
          1.87,
          1.8800000000000001,
          1.8900000000000001,
          1.9000000000000001,
          1.9100000000000001,
          1.92,
          1.93,
          1.94,
          1.95,
          1.96,
          1.97,
          1.98,
          1.99,
          2.0,
          2.0100000000000002,
          2.02,
          2.0300000000000002,
          2.04,
          2.05,
          2.06,
          2.07,
          2.08,
          2.09,
          2.1,
          2.11,
          2.12,
          2.13,
          2.14,
          2.15,
          2.16,
          2.17,
          2.18,
          2.19,
          2.2,
          2.21,
          2.22,
          2.23,
          2.24,
          2.25,
          2.2600000000000002,
          2.27,
          2.2800000000000002,
          2.29,
          2.3000000000000003,
          2.31,
          2.32,
          2.33,
          2.34,
          2.35,
          2.36,
          2.37,
          2.38,
          2.39,
          2.4,
          2.41,
          2.42,
          2.43,
          2.44,
          2.45,
          2.46,
          2.47,
          2.48,
          2.49
         ],
         "xaxis": "x",
         "y": [
          0.42,
          0.432931,
          0.445724,
          0.458379,
          0.470896,
          0.483275,
          0.49551599999999996,
          0.507619,
          0.519584,
          0.531411,
          0.5431,
          0.554651,
          0.566064,
          0.577339,
          0.588476,
          0.599475,
          0.610336,
          0.621059,
          0.631644,
          0.642091,
          0.6524,
          0.662571,
          0.672604,
          0.682499,
          0.692256,
          0.701875,
          0.711356,
          0.720699,
          0.7299040000000001,
          0.738971,
          0.7479,
          0.756691,
          0.765344,
          0.7738590000000001,
          0.782236,
          0.790475,
          0.798576,
          0.8065389999999999,
          0.8143640000000001,
          0.822051,
          0.8296,
          0.837011,
          0.844284,
          0.8514190000000001,
          0.8584160000000001,
          0.865275,
          0.871996,
          0.878579,
          0.885024,
          0.8913310000000001,
          0.8975,
          0.9035310000000001,
          0.909424,
          0.915179,
          0.920796,
          0.926275,
          0.931616,
          0.9368190000000001,
          0.9418839999999999,
          0.9468110000000001,
          0.9516,
          0.956251,
          0.960764,
          0.965139,
          0.969376,
          0.9734750000000001,
          0.977436,
          0.9812590000000001,
          0.984944,
          0.988491,
          0.9919,
          0.995171,
          0.9983039999999999,
          1.001299,
          1.004156,
          1.0068750000000002,
          1.0094560000000001,
          1.011899,
          1.0142039999999999,
          1.0163710000000001,
          1.0184,
          1.020291,
          1.022044,
          1.023659,
          1.025136,
          1.026475,
          1.0276760000000003,
          1.028739,
          1.0296640000000001,
          1.030451,
          1.0311000000000001,
          1.031611,
          1.0319840000000002,
          1.032219,
          1.032316,
          1.032275,
          1.0320960000000001,
          1.031779,
          1.0313240000000001,
          1.030731,
          1.03,
          1.0291310000000002,
          1.028124,
          1.0269790000000003,
          1.025696,
          1.0242750000000003,
          1.022716,
          1.0210190000000003,
          1.019184,
          1.0172110000000003,
          1.0151000000000001,
          1.0128510000000002,
          1.010464,
          1.0079390000000001,
          1.005276,
          1.0024750000000002,
          0.9995360000000002,
          0.9964590000000002,
          0.9932440000000002,
          0.9898910000000001,
          0.9864000000000002,
          0.9827710000000001,
          0.9790040000000002,
          0.9750989999999999,
          0.9710560000000001,
          0.9668749999999999,
          0.962556,
          0.958099,
          0.9535040000000001,
          0.948771,
          0.9439,
          0.9388909999999999,
          0.9337440000000001,
          0.9284589999999999,
          0.923036,
          0.917475,
          0.9117759999999999,
          0.905939,
          0.899964,
          0.893851,
          0.8876,
          0.8812110000000002,
          0.874684,
          0.8680190000000003,
          0.861216,
          0.8542750000000001,
          0.8471960000000001,
          0.8399790000000003,
          0.832624,
          0.8251310000000001,
          0.8175000000000003,
          0.8097310000000002,
          0.8018240000000003,
          0.7937790000000002,
          0.7855960000000004,
          0.7772749999999999,
          0.7688159999999999,
          0.7602190000000004,
          0.751484,
          0.7426110000000001,
          0.7335999999999998,
          0.7244510000000002,
          0.7151640000000001,
          0.7057390000000001,
          0.6961759999999999,
          0.6864750000000002,
          0.6766360000000002,
          0.6666589999999999,
          0.6565440000000005,
          0.6462910000000004,
          0.6359000000000004,
          0.6253710000000003,
          0.6147040000000006,
          0.6038990000000002,
          0.592956,
          0.5818750000000001,
          0.5706560000000005,
          0.5592990000000002,
          0.5478040000000002,
          0.536171,
          0.5244000000000004,
          0.5124910000000003,
          0.5004439999999999,
          0.48825899999999983,
          0.4759360000000004,
          0.46347500000000036,
          0.4508760000000001,
          0.43813899999999967,
          0.4252639999999999,
          0.4122510000000004,
          0.3991000000000003,
          0.38581099999999996,
          0.3723840000000003,
          0.35881900000000005,
          0.34511600000000003,
          0.3312750000000007,
          0.3172960000000003,
          0.30317900000000014,
          0.28892400000000024,
          0.27453100000000014,
          0.2600000000000003,
          0.24533100000000024,
          0.23052400000000045,
          0.21557900000000002,
          0.20049600000000029,
          0.18527500000000036,
          0.16991600000000068,
          0.15441900000000036,
          0.13878399999999985,
          0.12301100000000093,
          0.10710000000000047,
          0.09105100000000027,
          0.07486399999999988,
          0.05853900000000106,
          0.042076000000000724,
          0.025475000000000636,
          0.008736000000000355,
          -0.008140999999999676,
          -0.025155999999999457,
          -0.042308999999999874,
          -0.05960000000000004,
          -0.07702899999999951,
          -0.09459599999999962,
          -0.11230099999999993,
          -0.13014399999999998,
          -0.14812499999999934,
          -0.16624400000000022,
          -0.18450099999999953,
          -0.20289600000000035,
          -0.2214289999999996,
          -0.24009999999999992,
          -0.25890899999999956,
          -0.2778559999999994,
          -0.29694099999999984,
          -0.31616399999999917,
          -0.335525,
          -0.3550239999999993,
          -0.37466099999999963,
          -0.39443599999999973,
          -0.4143489999999996,
          -0.4343999999999996,
          -0.45458899999999985,
          -0.4749159999999994,
          -0.49538099999999957,
          -0.5159839999999991,
          -0.5367250000000006,
          -0.557604,
          -0.578621,
          -0.5997759999999994,
          -0.6210689999999999
         ],
         "yaxis": "y",
         "type": "scatter"
        }
       ],
       "layout": {
        "template": {
         "data": {
          "bar": [
           {
            "error_x": {
             "color": "#f2f5fa"
            },
            "error_y": {
             "color": "#f2f5fa"
            },
            "marker": {
             "line": {
              "color": "rgb(17,17,17)",
              "width": 0.5
             },
             "pattern": {
              "fillmode": "overlay",
              "size": 10,
              "solidity": 0.2
             }
            },
            "type": "bar"
           }
          ],
          "barpolar": [
           {
            "marker": {
             "line": {
              "color": "rgb(17,17,17)",
              "width": 0.5
             },
             "pattern": {
              "fillmode": "overlay",
              "size": 10,
              "solidity": 0.2
             }
            },
            "type": "barpolar"
           }
          ],
          "carpet": [
           {
            "aaxis": {
             "endlinecolor": "#A2B1C6",
             "gridcolor": "#506784",
             "linecolor": "#506784",
             "minorgridcolor": "#506784",
             "startlinecolor": "#A2B1C6"
            },
            "baxis": {
             "endlinecolor": "#A2B1C6",
             "gridcolor": "#506784",
             "linecolor": "#506784",
             "minorgridcolor": "#506784",
             "startlinecolor": "#A2B1C6"
            },
            "type": "carpet"
           }
          ],
          "choropleth": [
           {
            "colorbar": {
             "outlinewidth": 0,
             "ticks": ""
            },
            "type": "choropleth"
           }
          ],
          "contour": [
           {
            "colorbar": {
             "outlinewidth": 0,
             "ticks": ""
            },
            "colorscale": [
             [
              0.0,
              "#0d0887"
             ],
             [
              0.1111111111111111,
              "#46039f"
             ],
             [
              0.2222222222222222,
              "#7201a8"
             ],
             [
              0.3333333333333333,
              "#9c179e"
             ],
             [
              0.4444444444444444,
              "#bd3786"
             ],
             [
              0.5555555555555556,
              "#d8576b"
             ],
             [
              0.6666666666666666,
              "#ed7953"
             ],
             [
              0.7777777777777778,
              "#fb9f3a"
             ],
             [
              0.8888888888888888,
              "#fdca26"
             ],
             [
              1.0,
              "#f0f921"
             ]
            ],
            "type": "contour"
           }
          ],
          "contourcarpet": [
           {
            "colorbar": {
             "outlinewidth": 0,
             "ticks": ""
            },
            "type": "contourcarpet"
           }
          ],
          "heatmap": [
           {
            "colorbar": {
             "outlinewidth": 0,
             "ticks": ""
            },
            "colorscale": [
             [
              0.0,
              "#0d0887"
             ],
             [
              0.1111111111111111,
              "#46039f"
             ],
             [
              0.2222222222222222,
              "#7201a8"
             ],
             [
              0.3333333333333333,
              "#9c179e"
             ],
             [
              0.4444444444444444,
              "#bd3786"
             ],
             [
              0.5555555555555556,
              "#d8576b"
             ],
             [
              0.6666666666666666,
              "#ed7953"
             ],
             [
              0.7777777777777778,
              "#fb9f3a"
             ],
             [
              0.8888888888888888,
              "#fdca26"
             ],
             [
              1.0,
              "#f0f921"
             ]
            ],
            "type": "heatmap"
           }
          ],
          "heatmapgl": [
           {
            "colorbar": {
             "outlinewidth": 0,
             "ticks": ""
            },
            "colorscale": [
             [
              0.0,
              "#0d0887"
             ],
             [
              0.1111111111111111,
              "#46039f"
             ],
             [
              0.2222222222222222,
              "#7201a8"
             ],
             [
              0.3333333333333333,
              "#9c179e"
             ],
             [
              0.4444444444444444,
              "#bd3786"
             ],
             [
              0.5555555555555556,
              "#d8576b"
             ],
             [
              0.6666666666666666,
              "#ed7953"
             ],
             [
              0.7777777777777778,
              "#fb9f3a"
             ],
             [
              0.8888888888888888,
              "#fdca26"
             ],
             [
              1.0,
              "#f0f921"
             ]
            ],
            "type": "heatmapgl"
           }
          ],
          "histogram": [
           {
            "marker": {
             "pattern": {
              "fillmode": "overlay",
              "size": 10,
              "solidity": 0.2
             }
            },
            "type": "histogram"
           }
          ],
          "histogram2d": [
           {
            "colorbar": {
             "outlinewidth": 0,
             "ticks": ""
            },
            "colorscale": [
             [
              0.0,
              "#0d0887"
             ],
             [
              0.1111111111111111,
              "#46039f"
             ],
             [
              0.2222222222222222,
              "#7201a8"
             ],
             [
              0.3333333333333333,
              "#9c179e"
             ],
             [
              0.4444444444444444,
              "#bd3786"
             ],
             [
              0.5555555555555556,
              "#d8576b"
             ],
             [
              0.6666666666666666,
              "#ed7953"
             ],
             [
              0.7777777777777778,
              "#fb9f3a"
             ],
             [
              0.8888888888888888,
              "#fdca26"
             ],
             [
              1.0,
              "#f0f921"
             ]
            ],
            "type": "histogram2d"
           }
          ],
          "histogram2dcontour": [
           {
            "colorbar": {
             "outlinewidth": 0,
             "ticks": ""
            },
            "colorscale": [
             [
              0.0,
              "#0d0887"
             ],
             [
              0.1111111111111111,
              "#46039f"
             ],
             [
              0.2222222222222222,
              "#7201a8"
             ],
             [
              0.3333333333333333,
              "#9c179e"
             ],
             [
              0.4444444444444444,
              "#bd3786"
             ],
             [
              0.5555555555555556,
              "#d8576b"
             ],
             [
              0.6666666666666666,
              "#ed7953"
             ],
             [
              0.7777777777777778,
              "#fb9f3a"
             ],
             [
              0.8888888888888888,
              "#fdca26"
             ],
             [
              1.0,
              "#f0f921"
             ]
            ],
            "type": "histogram2dcontour"
           }
          ],
          "mesh3d": [
           {
            "colorbar": {
             "outlinewidth": 0,
             "ticks": ""
            },
            "type": "mesh3d"
           }
          ],
          "parcoords": [
           {
            "line": {
             "colorbar": {
              "outlinewidth": 0,
              "ticks": ""
             }
            },
            "type": "parcoords"
           }
          ],
          "pie": [
           {
            "automargin": true,
            "type": "pie"
           }
          ],
          "scatter": [
           {
            "marker": {
             "line": {
              "color": "#283442"
             }
            },
            "type": "scatter"
           }
          ],
          "scatter3d": [
           {
            "line": {
             "colorbar": {
              "outlinewidth": 0,
              "ticks": ""
             }
            },
            "marker": {
             "colorbar": {
              "outlinewidth": 0,
              "ticks": ""
             }
            },
            "type": "scatter3d"
           }
          ],
          "scattercarpet": [
           {
            "marker": {
             "colorbar": {
              "outlinewidth": 0,
              "ticks": ""
             }
            },
            "type": "scattercarpet"
           }
          ],
          "scattergeo": [
           {
            "marker": {
             "colorbar": {
              "outlinewidth": 0,
              "ticks": ""
             }
            },
            "type": "scattergeo"
           }
          ],
          "scattergl": [
           {
            "marker": {
             "line": {
              "color": "#283442"
             }
            },
            "type": "scattergl"
           }
          ],
          "scattermapbox": [
           {
            "marker": {
             "colorbar": {
              "outlinewidth": 0,
              "ticks": ""
             }
            },
            "type": "scattermapbox"
           }
          ],
          "scatterpolar": [
           {
            "marker": {
             "colorbar": {
              "outlinewidth": 0,
              "ticks": ""
             }
            },
            "type": "scatterpolar"
           }
          ],
          "scatterpolargl": [
           {
            "marker": {
             "colorbar": {
              "outlinewidth": 0,
              "ticks": ""
             }
            },
            "type": "scatterpolargl"
           }
          ],
          "scatterternary": [
           {
            "marker": {
             "colorbar": {
              "outlinewidth": 0,
              "ticks": ""
             }
            },
            "type": "scatterternary"
           }
          ],
          "surface": [
           {
            "colorbar": {
             "outlinewidth": 0,
             "ticks": ""
            },
            "colorscale": [
             [
              0.0,
              "#0d0887"
             ],
             [
              0.1111111111111111,
              "#46039f"
             ],
             [
              0.2222222222222222,
              "#7201a8"
             ],
             [
              0.3333333333333333,
              "#9c179e"
             ],
             [
              0.4444444444444444,
              "#bd3786"
             ],
             [
              0.5555555555555556,
              "#d8576b"
             ],
             [
              0.6666666666666666,
              "#ed7953"
             ],
             [
              0.7777777777777778,
              "#fb9f3a"
             ],
             [
              0.8888888888888888,
              "#fdca26"
             ],
             [
              1.0,
              "#f0f921"
             ]
            ],
            "type": "surface"
           }
          ],
          "table": [
           {
            "cells": {
             "fill": {
              "color": "#506784"
             },
             "line": {
              "color": "rgb(17,17,17)"
             }
            },
            "header": {
             "fill": {
              "color": "#2a3f5f"
             },
             "line": {
              "color": "rgb(17,17,17)"
             }
            },
            "type": "table"
           }
          ]
         },
         "layout": {
          "annotationdefaults": {
           "arrowcolor": "#f2f5fa",
           "arrowhead": 0,
           "arrowwidth": 1
          },
          "autotypenumbers": "strict",
          "coloraxis": {
           "colorbar": {
            "outlinewidth": 0,
            "ticks": ""
           }
          },
          "colorscale": {
           "diverging": [
            [
             0,
             "#8e0152"
            ],
            [
             0.1,
             "#c51b7d"
            ],
            [
             0.2,
             "#de77ae"
            ],
            [
             0.3,
             "#f1b6da"
            ],
            [
             0.4,
             "#fde0ef"
            ],
            [
             0.5,
             "#f7f7f7"
            ],
            [
             0.6,
             "#e6f5d0"
            ],
            [
             0.7,
             "#b8e186"
            ],
            [
             0.8,
             "#7fbc41"
            ],
            [
             0.9,
             "#4d9221"
            ],
            [
             1,
             "#276419"
            ]
           ],
           "sequential": [
            [
             0.0,
             "#0d0887"
            ],
            [
             0.1111111111111111,
             "#46039f"
            ],
            [
             0.2222222222222222,
             "#7201a8"
            ],
            [
             0.3333333333333333,
             "#9c179e"
            ],
            [
             0.4444444444444444,
             "#bd3786"
            ],
            [
             0.5555555555555556,
             "#d8576b"
            ],
            [
             0.6666666666666666,
             "#ed7953"
            ],
            [
             0.7777777777777778,
             "#fb9f3a"
            ],
            [
             0.8888888888888888,
             "#fdca26"
            ],
            [
             1.0,
             "#f0f921"
            ]
           ],
           "sequentialminus": [
            [
             0.0,
             "#0d0887"
            ],
            [
             0.1111111111111111,
             "#46039f"
            ],
            [
             0.2222222222222222,
             "#7201a8"
            ],
            [
             0.3333333333333333,
             "#9c179e"
            ],
            [
             0.4444444444444444,
             "#bd3786"
            ],
            [
             0.5555555555555556,
             "#d8576b"
            ],
            [
             0.6666666666666666,
             "#ed7953"
            ],
            [
             0.7777777777777778,
             "#fb9f3a"
            ],
            [
             0.8888888888888888,
             "#fdca26"
            ],
            [
             1.0,
             "#f0f921"
            ]
           ]
          },
          "colorway": [
           "#636efa",
           "#EF553B",
           "#00cc96",
           "#ab63fa",
           "#FFA15A",
           "#19d3f3",
           "#FF6692",
           "#B6E880",
           "#FF97FF",
           "#FECB52"
          ],
          "font": {
           "color": "#f2f5fa"
          },
          "geo": {
           "bgcolor": "rgb(17,17,17)",
           "lakecolor": "rgb(17,17,17)",
           "landcolor": "rgb(17,17,17)",
           "showlakes": true,
           "showland": true,
           "subunitcolor": "#506784"
          },
          "hoverlabel": {
           "align": "left"
          },
          "hovermode": "closest",
          "mapbox": {
           "style": "dark"
          },
          "paper_bgcolor": "rgb(17,17,17)",
          "plot_bgcolor": "rgb(17,17,17)",
          "polar": {
           "angularaxis": {
            "gridcolor": "#506784",
            "linecolor": "#506784",
            "ticks": ""
           },
           "bgcolor": "rgb(17,17,17)",
           "radialaxis": {
            "gridcolor": "#506784",
            "linecolor": "#506784",
            "ticks": ""
           }
          },
          "scene": {
           "xaxis": {
            "backgroundcolor": "rgb(17,17,17)",
            "gridcolor": "#506784",
            "gridwidth": 2,
            "linecolor": "#506784",
            "showbackground": true,
            "ticks": "",
            "zerolinecolor": "#C8D4E3"
           },
           "yaxis": {
            "backgroundcolor": "rgb(17,17,17)",
            "gridcolor": "#506784",
            "gridwidth": 2,
            "linecolor": "#506784",
            "showbackground": true,
            "ticks": "",
            "zerolinecolor": "#C8D4E3"
           },
           "zaxis": {
            "backgroundcolor": "rgb(17,17,17)",
            "gridcolor": "#506784",
            "gridwidth": 2,
            "linecolor": "#506784",
            "showbackground": true,
            "ticks": "",
            "zerolinecolor": "#C8D4E3"
           }
          },
          "shapedefaults": {
           "line": {
            "color": "#f2f5fa"
           }
          },
          "sliderdefaults": {
           "bgcolor": "#C8D4E3",
           "bordercolor": "rgb(17,17,17)",
           "borderwidth": 1,
           "tickwidth": 0
          },
          "ternary": {
           "aaxis": {
            "gridcolor": "#506784",
            "linecolor": "#506784",
            "ticks": ""
           },
           "baxis": {
            "gridcolor": "#506784",
            "linecolor": "#506784",
            "ticks": ""
           },
           "bgcolor": "rgb(17,17,17)",
           "caxis": {
            "gridcolor": "#506784",
            "linecolor": "#506784",
            "ticks": ""
           }
          },
          "title": {
           "x": 0.05
          },
          "updatemenudefaults": {
           "bgcolor": "#506784",
           "borderwidth": 0
          },
          "xaxis": {
           "automargin": true,
           "gridcolor": "#283442",
           "linecolor": "#506784",
           "ticks": "",
           "title": {
            "standoff": 15
           },
           "zerolinecolor": "#283442",
           "zerolinewidth": 2
          },
          "yaxis": {
           "automargin": true,
           "gridcolor": "#283442",
           "linecolor": "#506784",
           "ticks": "",
           "title": {
            "standoff": 15
           },
           "zerolinecolor": "#283442",
           "zerolinewidth": 2
          }
         }
        },
        "xaxis": {
         "anchor": "y",
         "domain": [
          0.0,
          1.0
         ],
         "title": {
          "text": "x"
         },
         "range": [
          0,
          8
         ]
        },
        "yaxis": {
         "anchor": "x",
         "domain": [
          0.0,
          1.0
         ],
         "title": {
          "text": "y"
         },
         "range": [
          0,
          4
         ]
        },
        "legend": {
         "tracegroupgap": 0
        },
        "title": {
         "text": "Line Plot"
        }
       },
       "config": {
        "plotlyServerURL": "https://plot.ly"
       }
      },
      "text/html": "<div>                            <div id=\"fb0775cf-64ad-4186-803b-9b813dc359b3\" class=\"plotly-graph-div\" style=\"height:525px; width:100%;\"></div>            <script type=\"text/javascript\">                require([\"plotly\"], function(Plotly) {                    window.PLOTLYENV=window.PLOTLYENV || {};                                    if (document.getElementById(\"fb0775cf-64ad-4186-803b-9b813dc359b3\")) {                    Plotly.newPlot(                        \"fb0775cf-64ad-4186-803b-9b813dc359b3\",                        [{\"hovertemplate\":\"x=%{x}<br>y=%{y}<extra></extra>\",\"legendgroup\":\"\",\"line\":{\"color\":\"#636efa\",\"dash\":\"solid\"},\"marker\":{\"symbol\":\"circle\"},\"mode\":\"lines\",\"name\":\"\",\"orientation\":\"v\",\"showlegend\":false,\"x\":[0.0,0.01,0.02,0.03,0.04,0.05,0.06,0.07,0.08,0.09,0.1,0.11,0.12,0.13,0.14,0.15,0.16,0.17,0.18,0.19,0.2,0.21,0.22,0.23,0.24,0.25,0.26,0.27,0.28,0.29,0.3,0.31,0.32,0.33,0.34,0.35000000000000003,0.36,0.37,0.38,0.39,0.4,0.41000000000000003,0.42,0.43,0.44,0.45,0.46,0.47000000000000003,0.48,0.49,0.5,0.51,0.52,0.53,0.54,0.55,0.56,0.5700000000000001,0.58,0.59,0.6,0.61,0.62,0.63,0.64,0.65,0.66,0.67,0.68,0.6900000000000001,0.7000000000000001,0.71,0.72,0.73,0.74,0.75,0.76,0.77,0.78,0.79,0.8,0.81,0.8200000000000001,0.8300000000000001,0.84,0.85,0.86,0.87,0.88,0.89,0.9,0.91,0.92,0.93,0.9400000000000001,0.9500000000000001,0.96,0.97,0.98,0.99,1.0,1.01,1.02,1.03,1.04,1.05,1.06,1.07,1.08,1.09,1.1,1.11,1.12,1.1300000000000001,1.1400000000000001,1.1500000000000001,1.16,1.17,1.18,1.19,1.2,1.21,1.22,1.23,1.24,1.25,1.26,1.27,1.28,1.29,1.3,1.31,1.32,1.33,1.34,1.35,1.36,1.37,1.3800000000000001,1.3900000000000001,1.4000000000000001,1.41,1.42,1.43,1.44,1.45,1.46,1.47,1.48,1.49,1.5,1.51,1.52,1.53,1.54,1.55,1.56,1.57,1.58,1.59,1.6,1.61,1.62,1.6300000000000001,1.6400000000000001,1.6500000000000001,1.6600000000000001,1.67,1.68,1.69,1.7,1.71,1.72,1.73,1.74,1.75,1.76,1.77,1.78,1.79,1.8,1.81,1.82,1.83,1.84,1.85,1.86,1.87,1.8800000000000001,1.8900000000000001,1.9000000000000001,1.9100000000000001,1.92,1.93,1.94,1.95,1.96,1.97,1.98,1.99,2.0,2.0100000000000002,2.02,2.0300000000000002,2.04,2.05,2.06,2.07,2.08,2.09,2.1,2.11,2.12,2.13,2.14,2.15,2.16,2.17,2.18,2.19,2.2,2.21,2.22,2.23,2.24,2.25,2.2600000000000002,2.27,2.2800000000000002,2.29,2.3000000000000003,2.31,2.32,2.33,2.34,2.35,2.36,2.37,2.38,2.39,2.4,2.41,2.42,2.43,2.44,2.45,2.46,2.47,2.48,2.49],\"xaxis\":\"x\",\"y\":[0.42,0.432931,0.445724,0.458379,0.470896,0.483275,0.49551599999999996,0.507619,0.519584,0.531411,0.5431,0.554651,0.566064,0.577339,0.588476,0.599475,0.610336,0.621059,0.631644,0.642091,0.6524,0.662571,0.672604,0.682499,0.692256,0.701875,0.711356,0.720699,0.7299040000000001,0.738971,0.7479,0.756691,0.765344,0.7738590000000001,0.782236,0.790475,0.798576,0.8065389999999999,0.8143640000000001,0.822051,0.8296,0.837011,0.844284,0.8514190000000001,0.8584160000000001,0.865275,0.871996,0.878579,0.885024,0.8913310000000001,0.8975,0.9035310000000001,0.909424,0.915179,0.920796,0.926275,0.931616,0.9368190000000001,0.9418839999999999,0.9468110000000001,0.9516,0.956251,0.960764,0.965139,0.969376,0.9734750000000001,0.977436,0.9812590000000001,0.984944,0.988491,0.9919,0.995171,0.9983039999999999,1.001299,1.004156,1.0068750000000002,1.0094560000000001,1.011899,1.0142039999999999,1.0163710000000001,1.0184,1.020291,1.022044,1.023659,1.025136,1.026475,1.0276760000000003,1.028739,1.0296640000000001,1.030451,1.0311000000000001,1.031611,1.0319840000000002,1.032219,1.032316,1.032275,1.0320960000000001,1.031779,1.0313240000000001,1.030731,1.03,1.0291310000000002,1.028124,1.0269790000000003,1.025696,1.0242750000000003,1.022716,1.0210190000000003,1.019184,1.0172110000000003,1.0151000000000001,1.0128510000000002,1.010464,1.0079390000000001,1.005276,1.0024750000000002,0.9995360000000002,0.9964590000000002,0.9932440000000002,0.9898910000000001,0.9864000000000002,0.9827710000000001,0.9790040000000002,0.9750989999999999,0.9710560000000001,0.9668749999999999,0.962556,0.958099,0.9535040000000001,0.948771,0.9439,0.9388909999999999,0.9337440000000001,0.9284589999999999,0.923036,0.917475,0.9117759999999999,0.905939,0.899964,0.893851,0.8876,0.8812110000000002,0.874684,0.8680190000000003,0.861216,0.8542750000000001,0.8471960000000001,0.8399790000000003,0.832624,0.8251310000000001,0.8175000000000003,0.8097310000000002,0.8018240000000003,0.7937790000000002,0.7855960000000004,0.7772749999999999,0.7688159999999999,0.7602190000000004,0.751484,0.7426110000000001,0.7335999999999998,0.7244510000000002,0.7151640000000001,0.7057390000000001,0.6961759999999999,0.6864750000000002,0.6766360000000002,0.6666589999999999,0.6565440000000005,0.6462910000000004,0.6359000000000004,0.6253710000000003,0.6147040000000006,0.6038990000000002,0.592956,0.5818750000000001,0.5706560000000005,0.5592990000000002,0.5478040000000002,0.536171,0.5244000000000004,0.5124910000000003,0.5004439999999999,0.48825899999999983,0.4759360000000004,0.46347500000000036,0.4508760000000001,0.43813899999999967,0.4252639999999999,0.4122510000000004,0.3991000000000003,0.38581099999999996,0.3723840000000003,0.35881900000000005,0.34511600000000003,0.3312750000000007,0.3172960000000003,0.30317900000000014,0.28892400000000024,0.27453100000000014,0.2600000000000003,0.24533100000000024,0.23052400000000045,0.21557900000000002,0.20049600000000029,0.18527500000000036,0.16991600000000068,0.15441900000000036,0.13878399999999985,0.12301100000000093,0.10710000000000047,0.09105100000000027,0.07486399999999988,0.05853900000000106,0.042076000000000724,0.025475000000000636,0.008736000000000355,-0.008140999999999676,-0.025155999999999457,-0.042308999999999874,-0.05960000000000004,-0.07702899999999951,-0.09459599999999962,-0.11230099999999993,-0.13014399999999998,-0.14812499999999934,-0.16624400000000022,-0.18450099999999953,-0.20289600000000035,-0.2214289999999996,-0.24009999999999992,-0.25890899999999956,-0.2778559999999994,-0.29694099999999984,-0.31616399999999917,-0.335525,-0.3550239999999993,-0.37466099999999963,-0.39443599999999973,-0.4143489999999996,-0.4343999999999996,-0.45458899999999985,-0.4749159999999994,-0.49538099999999957,-0.5159839999999991,-0.5367250000000006,-0.557604,-0.578621,-0.5997759999999994,-0.6210689999999999],\"yaxis\":\"y\",\"type\":\"scatter\"}],                        {\"template\":{\"data\":{\"bar\":[{\"error_x\":{\"color\":\"#f2f5fa\"},\"error_y\":{\"color\":\"#f2f5fa\"},\"marker\":{\"line\":{\"color\":\"rgb(17,17,17)\",\"width\":0.5},\"pattern\":{\"fillmode\":\"overlay\",\"size\":10,\"solidity\":0.2}},\"type\":\"bar\"}],\"barpolar\":[{\"marker\":{\"line\":{\"color\":\"rgb(17,17,17)\",\"width\":0.5},\"pattern\":{\"fillmode\":\"overlay\",\"size\":10,\"solidity\":0.2}},\"type\":\"barpolar\"}],\"carpet\":[{\"aaxis\":{\"endlinecolor\":\"#A2B1C6\",\"gridcolor\":\"#506784\",\"linecolor\":\"#506784\",\"minorgridcolor\":\"#506784\",\"startlinecolor\":\"#A2B1C6\"},\"baxis\":{\"endlinecolor\":\"#A2B1C6\",\"gridcolor\":\"#506784\",\"linecolor\":\"#506784\",\"minorgridcolor\":\"#506784\",\"startlinecolor\":\"#A2B1C6\"},\"type\":\"carpet\"}],\"choropleth\":[{\"colorbar\":{\"outlinewidth\":0,\"ticks\":\"\"},\"type\":\"choropleth\"}],\"contour\":[{\"colorbar\":{\"outlinewidth\":0,\"ticks\":\"\"},\"colorscale\":[[0.0,\"#0d0887\"],[0.1111111111111111,\"#46039f\"],[0.2222222222222222,\"#7201a8\"],[0.3333333333333333,\"#9c179e\"],[0.4444444444444444,\"#bd3786\"],[0.5555555555555556,\"#d8576b\"],[0.6666666666666666,\"#ed7953\"],[0.7777777777777778,\"#fb9f3a\"],[0.8888888888888888,\"#fdca26\"],[1.0,\"#f0f921\"]],\"type\":\"contour\"}],\"contourcarpet\":[{\"colorbar\":{\"outlinewidth\":0,\"ticks\":\"\"},\"type\":\"contourcarpet\"}],\"heatmap\":[{\"colorbar\":{\"outlinewidth\":0,\"ticks\":\"\"},\"colorscale\":[[0.0,\"#0d0887\"],[0.1111111111111111,\"#46039f\"],[0.2222222222222222,\"#7201a8\"],[0.3333333333333333,\"#9c179e\"],[0.4444444444444444,\"#bd3786\"],[0.5555555555555556,\"#d8576b\"],[0.6666666666666666,\"#ed7953\"],[0.7777777777777778,\"#fb9f3a\"],[0.8888888888888888,\"#fdca26\"],[1.0,\"#f0f921\"]],\"type\":\"heatmap\"}],\"heatmapgl\":[{\"colorbar\":{\"outlinewidth\":0,\"ticks\":\"\"},\"colorscale\":[[0.0,\"#0d0887\"],[0.1111111111111111,\"#46039f\"],[0.2222222222222222,\"#7201a8\"],[0.3333333333333333,\"#9c179e\"],[0.4444444444444444,\"#bd3786\"],[0.5555555555555556,\"#d8576b\"],[0.6666666666666666,\"#ed7953\"],[0.7777777777777778,\"#fb9f3a\"],[0.8888888888888888,\"#fdca26\"],[1.0,\"#f0f921\"]],\"type\":\"heatmapgl\"}],\"histogram\":[{\"marker\":{\"pattern\":{\"fillmode\":\"overlay\",\"size\":10,\"solidity\":0.2}},\"type\":\"histogram\"}],\"histogram2d\":[{\"colorbar\":{\"outlinewidth\":0,\"ticks\":\"\"},\"colorscale\":[[0.0,\"#0d0887\"],[0.1111111111111111,\"#46039f\"],[0.2222222222222222,\"#7201a8\"],[0.3333333333333333,\"#9c179e\"],[0.4444444444444444,\"#bd3786\"],[0.5555555555555556,\"#d8576b\"],[0.6666666666666666,\"#ed7953\"],[0.7777777777777778,\"#fb9f3a\"],[0.8888888888888888,\"#fdca26\"],[1.0,\"#f0f921\"]],\"type\":\"histogram2d\"}],\"histogram2dcontour\":[{\"colorbar\":{\"outlinewidth\":0,\"ticks\":\"\"},\"colorscale\":[[0.0,\"#0d0887\"],[0.1111111111111111,\"#46039f\"],[0.2222222222222222,\"#7201a8\"],[0.3333333333333333,\"#9c179e\"],[0.4444444444444444,\"#bd3786\"],[0.5555555555555556,\"#d8576b\"],[0.6666666666666666,\"#ed7953\"],[0.7777777777777778,\"#fb9f3a\"],[0.8888888888888888,\"#fdca26\"],[1.0,\"#f0f921\"]],\"type\":\"histogram2dcontour\"}],\"mesh3d\":[{\"colorbar\":{\"outlinewidth\":0,\"ticks\":\"\"},\"type\":\"mesh3d\"}],\"parcoords\":[{\"line\":{\"colorbar\":{\"outlinewidth\":0,\"ticks\":\"\"}},\"type\":\"parcoords\"}],\"pie\":[{\"automargin\":true,\"type\":\"pie\"}],\"scatter\":[{\"marker\":{\"line\":{\"color\":\"#283442\"}},\"type\":\"scatter\"}],\"scatter3d\":[{\"line\":{\"colorbar\":{\"outlinewidth\":0,\"ticks\":\"\"}},\"marker\":{\"colorbar\":{\"outlinewidth\":0,\"ticks\":\"\"}},\"type\":\"scatter3d\"}],\"scattercarpet\":[{\"marker\":{\"colorbar\":{\"outlinewidth\":0,\"ticks\":\"\"}},\"type\":\"scattercarpet\"}],\"scattergeo\":[{\"marker\":{\"colorbar\":{\"outlinewidth\":0,\"ticks\":\"\"}},\"type\":\"scattergeo\"}],\"scattergl\":[{\"marker\":{\"line\":{\"color\":\"#283442\"}},\"type\":\"scattergl\"}],\"scattermapbox\":[{\"marker\":{\"colorbar\":{\"outlinewidth\":0,\"ticks\":\"\"}},\"type\":\"scattermapbox\"}],\"scatterpolar\":[{\"marker\":{\"colorbar\":{\"outlinewidth\":0,\"ticks\":\"\"}},\"type\":\"scatterpolar\"}],\"scatterpolargl\":[{\"marker\":{\"colorbar\":{\"outlinewidth\":0,\"ticks\":\"\"}},\"type\":\"scatterpolargl\"}],\"scatterternary\":[{\"marker\":{\"colorbar\":{\"outlinewidth\":0,\"ticks\":\"\"}},\"type\":\"scatterternary\"}],\"surface\":[{\"colorbar\":{\"outlinewidth\":0,\"ticks\":\"\"},\"colorscale\":[[0.0,\"#0d0887\"],[0.1111111111111111,\"#46039f\"],[0.2222222222222222,\"#7201a8\"],[0.3333333333333333,\"#9c179e\"],[0.4444444444444444,\"#bd3786\"],[0.5555555555555556,\"#d8576b\"],[0.6666666666666666,\"#ed7953\"],[0.7777777777777778,\"#fb9f3a\"],[0.8888888888888888,\"#fdca26\"],[1.0,\"#f0f921\"]],\"type\":\"surface\"}],\"table\":[{\"cells\":{\"fill\":{\"color\":\"#506784\"},\"line\":{\"color\":\"rgb(17,17,17)\"}},\"header\":{\"fill\":{\"color\":\"#2a3f5f\"},\"line\":{\"color\":\"rgb(17,17,17)\"}},\"type\":\"table\"}]},\"layout\":{\"annotationdefaults\":{\"arrowcolor\":\"#f2f5fa\",\"arrowhead\":0,\"arrowwidth\":1},\"autotypenumbers\":\"strict\",\"coloraxis\":{\"colorbar\":{\"outlinewidth\":0,\"ticks\":\"\"}},\"colorscale\":{\"diverging\":[[0,\"#8e0152\"],[0.1,\"#c51b7d\"],[0.2,\"#de77ae\"],[0.3,\"#f1b6da\"],[0.4,\"#fde0ef\"],[0.5,\"#f7f7f7\"],[0.6,\"#e6f5d0\"],[0.7,\"#b8e186\"],[0.8,\"#7fbc41\"],[0.9,\"#4d9221\"],[1,\"#276419\"]],\"sequential\":[[0.0,\"#0d0887\"],[0.1111111111111111,\"#46039f\"],[0.2222222222222222,\"#7201a8\"],[0.3333333333333333,\"#9c179e\"],[0.4444444444444444,\"#bd3786\"],[0.5555555555555556,\"#d8576b\"],[0.6666666666666666,\"#ed7953\"],[0.7777777777777778,\"#fb9f3a\"],[0.8888888888888888,\"#fdca26\"],[1.0,\"#f0f921\"]],\"sequentialminus\":[[0.0,\"#0d0887\"],[0.1111111111111111,\"#46039f\"],[0.2222222222222222,\"#7201a8\"],[0.3333333333333333,\"#9c179e\"],[0.4444444444444444,\"#bd3786\"],[0.5555555555555556,\"#d8576b\"],[0.6666666666666666,\"#ed7953\"],[0.7777777777777778,\"#fb9f3a\"],[0.8888888888888888,\"#fdca26\"],[1.0,\"#f0f921\"]]},\"colorway\":[\"#636efa\",\"#EF553B\",\"#00cc96\",\"#ab63fa\",\"#FFA15A\",\"#19d3f3\",\"#FF6692\",\"#B6E880\",\"#FF97FF\",\"#FECB52\"],\"font\":{\"color\":\"#f2f5fa\"},\"geo\":{\"bgcolor\":\"rgb(17,17,17)\",\"lakecolor\":\"rgb(17,17,17)\",\"landcolor\":\"rgb(17,17,17)\",\"showlakes\":true,\"showland\":true,\"subunitcolor\":\"#506784\"},\"hoverlabel\":{\"align\":\"left\"},\"hovermode\":\"closest\",\"mapbox\":{\"style\":\"dark\"},\"paper_bgcolor\":\"rgb(17,17,17)\",\"plot_bgcolor\":\"rgb(17,17,17)\",\"polar\":{\"angularaxis\":{\"gridcolor\":\"#506784\",\"linecolor\":\"#506784\",\"ticks\":\"\"},\"bgcolor\":\"rgb(17,17,17)\",\"radialaxis\":{\"gridcolor\":\"#506784\",\"linecolor\":\"#506784\",\"ticks\":\"\"}},\"scene\":{\"xaxis\":{\"backgroundcolor\":\"rgb(17,17,17)\",\"gridcolor\":\"#506784\",\"gridwidth\":2,\"linecolor\":\"#506784\",\"showbackground\":true,\"ticks\":\"\",\"zerolinecolor\":\"#C8D4E3\"},\"yaxis\":{\"backgroundcolor\":\"rgb(17,17,17)\",\"gridcolor\":\"#506784\",\"gridwidth\":2,\"linecolor\":\"#506784\",\"showbackground\":true,\"ticks\":\"\",\"zerolinecolor\":\"#C8D4E3\"},\"zaxis\":{\"backgroundcolor\":\"rgb(17,17,17)\",\"gridcolor\":\"#506784\",\"gridwidth\":2,\"linecolor\":\"#506784\",\"showbackground\":true,\"ticks\":\"\",\"zerolinecolor\":\"#C8D4E3\"}},\"shapedefaults\":{\"line\":{\"color\":\"#f2f5fa\"}},\"sliderdefaults\":{\"bgcolor\":\"#C8D4E3\",\"bordercolor\":\"rgb(17,17,17)\",\"borderwidth\":1,\"tickwidth\":0},\"ternary\":{\"aaxis\":{\"gridcolor\":\"#506784\",\"linecolor\":\"#506784\",\"ticks\":\"\"},\"baxis\":{\"gridcolor\":\"#506784\",\"linecolor\":\"#506784\",\"ticks\":\"\"},\"bgcolor\":\"rgb(17,17,17)\",\"caxis\":{\"gridcolor\":\"#506784\",\"linecolor\":\"#506784\",\"ticks\":\"\"}},\"title\":{\"x\":0.05},\"updatemenudefaults\":{\"bgcolor\":\"#506784\",\"borderwidth\":0},\"xaxis\":{\"automargin\":true,\"gridcolor\":\"#283442\",\"linecolor\":\"#506784\",\"ticks\":\"\",\"title\":{\"standoff\":15},\"zerolinecolor\":\"#283442\",\"zerolinewidth\":2},\"yaxis\":{\"automargin\":true,\"gridcolor\":\"#283442\",\"linecolor\":\"#506784\",\"ticks\":\"\",\"title\":{\"standoff\":15},\"zerolinecolor\":\"#283442\",\"zerolinewidth\":2}}},\"xaxis\":{\"anchor\":\"y\",\"domain\":[0.0,1.0],\"title\":{\"text\":\"x\"},\"range\":[0,8]},\"yaxis\":{\"anchor\":\"x\",\"domain\":[0.0,1.0],\"title\":{\"text\":\"y\"},\"range\":[0,4]},\"legend\":{\"tracegroupgap\":0},\"title\":{\"text\":\"Line Plot\"}},                        {\"responsive\": true}                    ).then(function(){\n                            \nvar gd = document.getElementById('fb0775cf-64ad-4186-803b-9b813dc359b3');\nvar x = new MutationObserver(function (mutations, observer) {{\n        var display = window.getComputedStyle(gd).display;\n        if (!display || display === 'none') {{\n            console.log([gd, 'removed!']);\n            Plotly.purge(gd);\n            observer.disconnect();\n        }}\n}});\n\n// Listen for the removal of the full notebook cells\nvar notebookContainer = gd.closest('#notebook-container');\nif (notebookContainer) {{\n    x.observe(notebookContainer, {childList: true});\n}}\n\n// Listen for the clearing of the current output cell\nvar outputEl = gd.closest('.output');\nif (outputEl) {{\n    x.observe(outputEl, {childList: true});\n}}\n\n                        })                };                });            </script>        </div>"
     },
     "metadata": {},
     "output_type": "display_data"
    }
   ],
   "source": [
    "import numpy as np\n",
    "import plotly.express as px\n",
    "\n",
    "\n",
    "# Change this code into the correct Line Plot\n",
    "\n",
    "x = np.arange(0, 2.5, 0.01)\n",
    "y = -0.69*x**2 + 1.3*x + 0.42\n",
    "\n",
    "\n",
    "fig = px.line(x=x, y=y, title=\"Line Plot\")\n",
    "fig.update_layout(xaxis_range=[0,8], yaxis_range=[0,4])\n",
    "fig.show()"
   ]
  },
  {
   "cell_type": "code",
   "execution_count": 26,
   "metadata": {
    "pycharm": {
     "name": "#%%\n"
    }
   },
   "outputs": [
    {
     "name": "stdout",
     "output_type": "stream",
     "text": [
      "[    0     1     1     2     3     5     8    13    21    34    55    89\n",
      "   144   233   377   610   987  1597  2584  4181  6765 10946 17711 28657\n",
      " 46368 75025]\n"
     ]
    },
    {
     "data": {
      "application/vnd.plotly.v1+json": {
       "data": [
        {
         "hovertemplate": "x=%{x}<br>y=%{y}<extra></extra>",
         "legendgroup": "",
         "marker": {
          "color": "#636efa",
          "symbol": "circle"
         },
         "mode": "markers",
         "name": "",
         "orientation": "v",
         "showlegend": false,
         "x": [
          0,
          1,
          2,
          3,
          4,
          5,
          6,
          7,
          8,
          9,
          10,
          11,
          12,
          13,
          14,
          15,
          16,
          17,
          18,
          19,
          20,
          21,
          22,
          23,
          24,
          25
         ],
         "xaxis": "x",
         "y": [
          0,
          1,
          1,
          2,
          3,
          5,
          8,
          13,
          21,
          34,
          55,
          89,
          144,
          233,
          377,
          610,
          987,
          1597,
          2584,
          4181,
          6765,
          10946,
          17711,
          28657,
          46368,
          75025
         ],
         "yaxis": "y",
         "type": "scatter"
        }
       ],
       "layout": {
        "template": {
         "data": {
          "bar": [
           {
            "error_x": {
             "color": "#f2f5fa"
            },
            "error_y": {
             "color": "#f2f5fa"
            },
            "marker": {
             "line": {
              "color": "rgb(17,17,17)",
              "width": 0.5
             },
             "pattern": {
              "fillmode": "overlay",
              "size": 10,
              "solidity": 0.2
             }
            },
            "type": "bar"
           }
          ],
          "barpolar": [
           {
            "marker": {
             "line": {
              "color": "rgb(17,17,17)",
              "width": 0.5
             },
             "pattern": {
              "fillmode": "overlay",
              "size": 10,
              "solidity": 0.2
             }
            },
            "type": "barpolar"
           }
          ],
          "carpet": [
           {
            "aaxis": {
             "endlinecolor": "#A2B1C6",
             "gridcolor": "#506784",
             "linecolor": "#506784",
             "minorgridcolor": "#506784",
             "startlinecolor": "#A2B1C6"
            },
            "baxis": {
             "endlinecolor": "#A2B1C6",
             "gridcolor": "#506784",
             "linecolor": "#506784",
             "minorgridcolor": "#506784",
             "startlinecolor": "#A2B1C6"
            },
            "type": "carpet"
           }
          ],
          "choropleth": [
           {
            "colorbar": {
             "outlinewidth": 0,
             "ticks": ""
            },
            "type": "choropleth"
           }
          ],
          "contour": [
           {
            "colorbar": {
             "outlinewidth": 0,
             "ticks": ""
            },
            "colorscale": [
             [
              0.0,
              "#0d0887"
             ],
             [
              0.1111111111111111,
              "#46039f"
             ],
             [
              0.2222222222222222,
              "#7201a8"
             ],
             [
              0.3333333333333333,
              "#9c179e"
             ],
             [
              0.4444444444444444,
              "#bd3786"
             ],
             [
              0.5555555555555556,
              "#d8576b"
             ],
             [
              0.6666666666666666,
              "#ed7953"
             ],
             [
              0.7777777777777778,
              "#fb9f3a"
             ],
             [
              0.8888888888888888,
              "#fdca26"
             ],
             [
              1.0,
              "#f0f921"
             ]
            ],
            "type": "contour"
           }
          ],
          "contourcarpet": [
           {
            "colorbar": {
             "outlinewidth": 0,
             "ticks": ""
            },
            "type": "contourcarpet"
           }
          ],
          "heatmap": [
           {
            "colorbar": {
             "outlinewidth": 0,
             "ticks": ""
            },
            "colorscale": [
             [
              0.0,
              "#0d0887"
             ],
             [
              0.1111111111111111,
              "#46039f"
             ],
             [
              0.2222222222222222,
              "#7201a8"
             ],
             [
              0.3333333333333333,
              "#9c179e"
             ],
             [
              0.4444444444444444,
              "#bd3786"
             ],
             [
              0.5555555555555556,
              "#d8576b"
             ],
             [
              0.6666666666666666,
              "#ed7953"
             ],
             [
              0.7777777777777778,
              "#fb9f3a"
             ],
             [
              0.8888888888888888,
              "#fdca26"
             ],
             [
              1.0,
              "#f0f921"
             ]
            ],
            "type": "heatmap"
           }
          ],
          "heatmapgl": [
           {
            "colorbar": {
             "outlinewidth": 0,
             "ticks": ""
            },
            "colorscale": [
             [
              0.0,
              "#0d0887"
             ],
             [
              0.1111111111111111,
              "#46039f"
             ],
             [
              0.2222222222222222,
              "#7201a8"
             ],
             [
              0.3333333333333333,
              "#9c179e"
             ],
             [
              0.4444444444444444,
              "#bd3786"
             ],
             [
              0.5555555555555556,
              "#d8576b"
             ],
             [
              0.6666666666666666,
              "#ed7953"
             ],
             [
              0.7777777777777778,
              "#fb9f3a"
             ],
             [
              0.8888888888888888,
              "#fdca26"
             ],
             [
              1.0,
              "#f0f921"
             ]
            ],
            "type": "heatmapgl"
           }
          ],
          "histogram": [
           {
            "marker": {
             "pattern": {
              "fillmode": "overlay",
              "size": 10,
              "solidity": 0.2
             }
            },
            "type": "histogram"
           }
          ],
          "histogram2d": [
           {
            "colorbar": {
             "outlinewidth": 0,
             "ticks": ""
            },
            "colorscale": [
             [
              0.0,
              "#0d0887"
             ],
             [
              0.1111111111111111,
              "#46039f"
             ],
             [
              0.2222222222222222,
              "#7201a8"
             ],
             [
              0.3333333333333333,
              "#9c179e"
             ],
             [
              0.4444444444444444,
              "#bd3786"
             ],
             [
              0.5555555555555556,
              "#d8576b"
             ],
             [
              0.6666666666666666,
              "#ed7953"
             ],
             [
              0.7777777777777778,
              "#fb9f3a"
             ],
             [
              0.8888888888888888,
              "#fdca26"
             ],
             [
              1.0,
              "#f0f921"
             ]
            ],
            "type": "histogram2d"
           }
          ],
          "histogram2dcontour": [
           {
            "colorbar": {
             "outlinewidth": 0,
             "ticks": ""
            },
            "colorscale": [
             [
              0.0,
              "#0d0887"
             ],
             [
              0.1111111111111111,
              "#46039f"
             ],
             [
              0.2222222222222222,
              "#7201a8"
             ],
             [
              0.3333333333333333,
              "#9c179e"
             ],
             [
              0.4444444444444444,
              "#bd3786"
             ],
             [
              0.5555555555555556,
              "#d8576b"
             ],
             [
              0.6666666666666666,
              "#ed7953"
             ],
             [
              0.7777777777777778,
              "#fb9f3a"
             ],
             [
              0.8888888888888888,
              "#fdca26"
             ],
             [
              1.0,
              "#f0f921"
             ]
            ],
            "type": "histogram2dcontour"
           }
          ],
          "mesh3d": [
           {
            "colorbar": {
             "outlinewidth": 0,
             "ticks": ""
            },
            "type": "mesh3d"
           }
          ],
          "parcoords": [
           {
            "line": {
             "colorbar": {
              "outlinewidth": 0,
              "ticks": ""
             }
            },
            "type": "parcoords"
           }
          ],
          "pie": [
           {
            "automargin": true,
            "type": "pie"
           }
          ],
          "scatter": [
           {
            "marker": {
             "line": {
              "color": "#283442"
             }
            },
            "type": "scatter"
           }
          ],
          "scatter3d": [
           {
            "line": {
             "colorbar": {
              "outlinewidth": 0,
              "ticks": ""
             }
            },
            "marker": {
             "colorbar": {
              "outlinewidth": 0,
              "ticks": ""
             }
            },
            "type": "scatter3d"
           }
          ],
          "scattercarpet": [
           {
            "marker": {
             "colorbar": {
              "outlinewidth": 0,
              "ticks": ""
             }
            },
            "type": "scattercarpet"
           }
          ],
          "scattergeo": [
           {
            "marker": {
             "colorbar": {
              "outlinewidth": 0,
              "ticks": ""
             }
            },
            "type": "scattergeo"
           }
          ],
          "scattergl": [
           {
            "marker": {
             "line": {
              "color": "#283442"
             }
            },
            "type": "scattergl"
           }
          ],
          "scattermapbox": [
           {
            "marker": {
             "colorbar": {
              "outlinewidth": 0,
              "ticks": ""
             }
            },
            "type": "scattermapbox"
           }
          ],
          "scatterpolar": [
           {
            "marker": {
             "colorbar": {
              "outlinewidth": 0,
              "ticks": ""
             }
            },
            "type": "scatterpolar"
           }
          ],
          "scatterpolargl": [
           {
            "marker": {
             "colorbar": {
              "outlinewidth": 0,
              "ticks": ""
             }
            },
            "type": "scatterpolargl"
           }
          ],
          "scatterternary": [
           {
            "marker": {
             "colorbar": {
              "outlinewidth": 0,
              "ticks": ""
             }
            },
            "type": "scatterternary"
           }
          ],
          "surface": [
           {
            "colorbar": {
             "outlinewidth": 0,
             "ticks": ""
            },
            "colorscale": [
             [
              0.0,
              "#0d0887"
             ],
             [
              0.1111111111111111,
              "#46039f"
             ],
             [
              0.2222222222222222,
              "#7201a8"
             ],
             [
              0.3333333333333333,
              "#9c179e"
             ],
             [
              0.4444444444444444,
              "#bd3786"
             ],
             [
              0.5555555555555556,
              "#d8576b"
             ],
             [
              0.6666666666666666,
              "#ed7953"
             ],
             [
              0.7777777777777778,
              "#fb9f3a"
             ],
             [
              0.8888888888888888,
              "#fdca26"
             ],
             [
              1.0,
              "#f0f921"
             ]
            ],
            "type": "surface"
           }
          ],
          "table": [
           {
            "cells": {
             "fill": {
              "color": "#506784"
             },
             "line": {
              "color": "rgb(17,17,17)"
             }
            },
            "header": {
             "fill": {
              "color": "#2a3f5f"
             },
             "line": {
              "color": "rgb(17,17,17)"
             }
            },
            "type": "table"
           }
          ]
         },
         "layout": {
          "annotationdefaults": {
           "arrowcolor": "#f2f5fa",
           "arrowhead": 0,
           "arrowwidth": 1
          },
          "autotypenumbers": "strict",
          "coloraxis": {
           "colorbar": {
            "outlinewidth": 0,
            "ticks": ""
           }
          },
          "colorscale": {
           "diverging": [
            [
             0,
             "#8e0152"
            ],
            [
             0.1,
             "#c51b7d"
            ],
            [
             0.2,
             "#de77ae"
            ],
            [
             0.3,
             "#f1b6da"
            ],
            [
             0.4,
             "#fde0ef"
            ],
            [
             0.5,
             "#f7f7f7"
            ],
            [
             0.6,
             "#e6f5d0"
            ],
            [
             0.7,
             "#b8e186"
            ],
            [
             0.8,
             "#7fbc41"
            ],
            [
             0.9,
             "#4d9221"
            ],
            [
             1,
             "#276419"
            ]
           ],
           "sequential": [
            [
             0.0,
             "#0d0887"
            ],
            [
             0.1111111111111111,
             "#46039f"
            ],
            [
             0.2222222222222222,
             "#7201a8"
            ],
            [
             0.3333333333333333,
             "#9c179e"
            ],
            [
             0.4444444444444444,
             "#bd3786"
            ],
            [
             0.5555555555555556,
             "#d8576b"
            ],
            [
             0.6666666666666666,
             "#ed7953"
            ],
            [
             0.7777777777777778,
             "#fb9f3a"
            ],
            [
             0.8888888888888888,
             "#fdca26"
            ],
            [
             1.0,
             "#f0f921"
            ]
           ],
           "sequentialminus": [
            [
             0.0,
             "#0d0887"
            ],
            [
             0.1111111111111111,
             "#46039f"
            ],
            [
             0.2222222222222222,
             "#7201a8"
            ],
            [
             0.3333333333333333,
             "#9c179e"
            ],
            [
             0.4444444444444444,
             "#bd3786"
            ],
            [
             0.5555555555555556,
             "#d8576b"
            ],
            [
             0.6666666666666666,
             "#ed7953"
            ],
            [
             0.7777777777777778,
             "#fb9f3a"
            ],
            [
             0.8888888888888888,
             "#fdca26"
            ],
            [
             1.0,
             "#f0f921"
            ]
           ]
          },
          "colorway": [
           "#636efa",
           "#EF553B",
           "#00cc96",
           "#ab63fa",
           "#FFA15A",
           "#19d3f3",
           "#FF6692",
           "#B6E880",
           "#FF97FF",
           "#FECB52"
          ],
          "font": {
           "color": "#f2f5fa"
          },
          "geo": {
           "bgcolor": "rgb(17,17,17)",
           "lakecolor": "rgb(17,17,17)",
           "landcolor": "rgb(17,17,17)",
           "showlakes": true,
           "showland": true,
           "subunitcolor": "#506784"
          },
          "hoverlabel": {
           "align": "left"
          },
          "hovermode": "closest",
          "mapbox": {
           "style": "dark"
          },
          "paper_bgcolor": "rgb(17,17,17)",
          "plot_bgcolor": "rgb(17,17,17)",
          "polar": {
           "angularaxis": {
            "gridcolor": "#506784",
            "linecolor": "#506784",
            "ticks": ""
           },
           "bgcolor": "rgb(17,17,17)",
           "radialaxis": {
            "gridcolor": "#506784",
            "linecolor": "#506784",
            "ticks": ""
           }
          },
          "scene": {
           "xaxis": {
            "backgroundcolor": "rgb(17,17,17)",
            "gridcolor": "#506784",
            "gridwidth": 2,
            "linecolor": "#506784",
            "showbackground": true,
            "ticks": "",
            "zerolinecolor": "#C8D4E3"
           },
           "yaxis": {
            "backgroundcolor": "rgb(17,17,17)",
            "gridcolor": "#506784",
            "gridwidth": 2,
            "linecolor": "#506784",
            "showbackground": true,
            "ticks": "",
            "zerolinecolor": "#C8D4E3"
           },
           "zaxis": {
            "backgroundcolor": "rgb(17,17,17)",
            "gridcolor": "#506784",
            "gridwidth": 2,
            "linecolor": "#506784",
            "showbackground": true,
            "ticks": "",
            "zerolinecolor": "#C8D4E3"
           }
          },
          "shapedefaults": {
           "line": {
            "color": "#f2f5fa"
           }
          },
          "sliderdefaults": {
           "bgcolor": "#C8D4E3",
           "bordercolor": "rgb(17,17,17)",
           "borderwidth": 1,
           "tickwidth": 0
          },
          "ternary": {
           "aaxis": {
            "gridcolor": "#506784",
            "linecolor": "#506784",
            "ticks": ""
           },
           "baxis": {
            "gridcolor": "#506784",
            "linecolor": "#506784",
            "ticks": ""
           },
           "bgcolor": "rgb(17,17,17)",
           "caxis": {
            "gridcolor": "#506784",
            "linecolor": "#506784",
            "ticks": ""
           }
          },
          "title": {
           "x": 0.05
          },
          "updatemenudefaults": {
           "bgcolor": "#506784",
           "borderwidth": 0
          },
          "xaxis": {
           "automargin": true,
           "gridcolor": "#283442",
           "linecolor": "#506784",
           "ticks": "",
           "title": {
            "standoff": 15
           },
           "zerolinecolor": "#283442",
           "zerolinewidth": 2
          },
          "yaxis": {
           "automargin": true,
           "gridcolor": "#283442",
           "linecolor": "#506784",
           "ticks": "",
           "title": {
            "standoff": 15
           },
           "zerolinecolor": "#283442",
           "zerolinewidth": 2
          }
         }
        },
        "xaxis": {
         "anchor": "y",
         "domain": [
          0.0,
          1.0
         ],
         "title": {
          "text": "x"
         },
         "range": [
          0,
          25
         ]
        },
        "yaxis": {
         "anchor": "x",
         "domain": [
          0.0,
          1.0
         ],
         "title": {
          "text": "y"
         },
         "range": [
          0,
          5000
         ]
        },
        "legend": {
         "tracegroupgap": 0
        },
        "title": {
         "text": "Fibbonachi Scatter Plot"
        }
       },
       "config": {
        "plotlyServerURL": "https://plot.ly"
       }
      },
      "text/html": "<div>                            <div id=\"ca676a92-8e7b-4d63-b96d-da241182c6d8\" class=\"plotly-graph-div\" style=\"height:525px; width:100%;\"></div>            <script type=\"text/javascript\">                require([\"plotly\"], function(Plotly) {                    window.PLOTLYENV=window.PLOTLYENV || {};                                    if (document.getElementById(\"ca676a92-8e7b-4d63-b96d-da241182c6d8\")) {                    Plotly.newPlot(                        \"ca676a92-8e7b-4d63-b96d-da241182c6d8\",                        [{\"hovertemplate\":\"x=%{x}<br>y=%{y}<extra></extra>\",\"legendgroup\":\"\",\"marker\":{\"color\":\"#636efa\",\"symbol\":\"circle\"},\"mode\":\"markers\",\"name\":\"\",\"orientation\":\"v\",\"showlegend\":false,\"x\":[0,1,2,3,4,5,6,7,8,9,10,11,12,13,14,15,16,17,18,19,20,21,22,23,24,25],\"xaxis\":\"x\",\"y\":[0,1,1,2,3,5,8,13,21,34,55,89,144,233,377,610,987,1597,2584,4181,6765,10946,17711,28657,46368,75025],\"yaxis\":\"y\",\"type\":\"scatter\"}],                        {\"template\":{\"data\":{\"bar\":[{\"error_x\":{\"color\":\"#f2f5fa\"},\"error_y\":{\"color\":\"#f2f5fa\"},\"marker\":{\"line\":{\"color\":\"rgb(17,17,17)\",\"width\":0.5},\"pattern\":{\"fillmode\":\"overlay\",\"size\":10,\"solidity\":0.2}},\"type\":\"bar\"}],\"barpolar\":[{\"marker\":{\"line\":{\"color\":\"rgb(17,17,17)\",\"width\":0.5},\"pattern\":{\"fillmode\":\"overlay\",\"size\":10,\"solidity\":0.2}},\"type\":\"barpolar\"}],\"carpet\":[{\"aaxis\":{\"endlinecolor\":\"#A2B1C6\",\"gridcolor\":\"#506784\",\"linecolor\":\"#506784\",\"minorgridcolor\":\"#506784\",\"startlinecolor\":\"#A2B1C6\"},\"baxis\":{\"endlinecolor\":\"#A2B1C6\",\"gridcolor\":\"#506784\",\"linecolor\":\"#506784\",\"minorgridcolor\":\"#506784\",\"startlinecolor\":\"#A2B1C6\"},\"type\":\"carpet\"}],\"choropleth\":[{\"colorbar\":{\"outlinewidth\":0,\"ticks\":\"\"},\"type\":\"choropleth\"}],\"contour\":[{\"colorbar\":{\"outlinewidth\":0,\"ticks\":\"\"},\"colorscale\":[[0.0,\"#0d0887\"],[0.1111111111111111,\"#46039f\"],[0.2222222222222222,\"#7201a8\"],[0.3333333333333333,\"#9c179e\"],[0.4444444444444444,\"#bd3786\"],[0.5555555555555556,\"#d8576b\"],[0.6666666666666666,\"#ed7953\"],[0.7777777777777778,\"#fb9f3a\"],[0.8888888888888888,\"#fdca26\"],[1.0,\"#f0f921\"]],\"type\":\"contour\"}],\"contourcarpet\":[{\"colorbar\":{\"outlinewidth\":0,\"ticks\":\"\"},\"type\":\"contourcarpet\"}],\"heatmap\":[{\"colorbar\":{\"outlinewidth\":0,\"ticks\":\"\"},\"colorscale\":[[0.0,\"#0d0887\"],[0.1111111111111111,\"#46039f\"],[0.2222222222222222,\"#7201a8\"],[0.3333333333333333,\"#9c179e\"],[0.4444444444444444,\"#bd3786\"],[0.5555555555555556,\"#d8576b\"],[0.6666666666666666,\"#ed7953\"],[0.7777777777777778,\"#fb9f3a\"],[0.8888888888888888,\"#fdca26\"],[1.0,\"#f0f921\"]],\"type\":\"heatmap\"}],\"heatmapgl\":[{\"colorbar\":{\"outlinewidth\":0,\"ticks\":\"\"},\"colorscale\":[[0.0,\"#0d0887\"],[0.1111111111111111,\"#46039f\"],[0.2222222222222222,\"#7201a8\"],[0.3333333333333333,\"#9c179e\"],[0.4444444444444444,\"#bd3786\"],[0.5555555555555556,\"#d8576b\"],[0.6666666666666666,\"#ed7953\"],[0.7777777777777778,\"#fb9f3a\"],[0.8888888888888888,\"#fdca26\"],[1.0,\"#f0f921\"]],\"type\":\"heatmapgl\"}],\"histogram\":[{\"marker\":{\"pattern\":{\"fillmode\":\"overlay\",\"size\":10,\"solidity\":0.2}},\"type\":\"histogram\"}],\"histogram2d\":[{\"colorbar\":{\"outlinewidth\":0,\"ticks\":\"\"},\"colorscale\":[[0.0,\"#0d0887\"],[0.1111111111111111,\"#46039f\"],[0.2222222222222222,\"#7201a8\"],[0.3333333333333333,\"#9c179e\"],[0.4444444444444444,\"#bd3786\"],[0.5555555555555556,\"#d8576b\"],[0.6666666666666666,\"#ed7953\"],[0.7777777777777778,\"#fb9f3a\"],[0.8888888888888888,\"#fdca26\"],[1.0,\"#f0f921\"]],\"type\":\"histogram2d\"}],\"histogram2dcontour\":[{\"colorbar\":{\"outlinewidth\":0,\"ticks\":\"\"},\"colorscale\":[[0.0,\"#0d0887\"],[0.1111111111111111,\"#46039f\"],[0.2222222222222222,\"#7201a8\"],[0.3333333333333333,\"#9c179e\"],[0.4444444444444444,\"#bd3786\"],[0.5555555555555556,\"#d8576b\"],[0.6666666666666666,\"#ed7953\"],[0.7777777777777778,\"#fb9f3a\"],[0.8888888888888888,\"#fdca26\"],[1.0,\"#f0f921\"]],\"type\":\"histogram2dcontour\"}],\"mesh3d\":[{\"colorbar\":{\"outlinewidth\":0,\"ticks\":\"\"},\"type\":\"mesh3d\"}],\"parcoords\":[{\"line\":{\"colorbar\":{\"outlinewidth\":0,\"ticks\":\"\"}},\"type\":\"parcoords\"}],\"pie\":[{\"automargin\":true,\"type\":\"pie\"}],\"scatter\":[{\"marker\":{\"line\":{\"color\":\"#283442\"}},\"type\":\"scatter\"}],\"scatter3d\":[{\"line\":{\"colorbar\":{\"outlinewidth\":0,\"ticks\":\"\"}},\"marker\":{\"colorbar\":{\"outlinewidth\":0,\"ticks\":\"\"}},\"type\":\"scatter3d\"}],\"scattercarpet\":[{\"marker\":{\"colorbar\":{\"outlinewidth\":0,\"ticks\":\"\"}},\"type\":\"scattercarpet\"}],\"scattergeo\":[{\"marker\":{\"colorbar\":{\"outlinewidth\":0,\"ticks\":\"\"}},\"type\":\"scattergeo\"}],\"scattergl\":[{\"marker\":{\"line\":{\"color\":\"#283442\"}},\"type\":\"scattergl\"}],\"scattermapbox\":[{\"marker\":{\"colorbar\":{\"outlinewidth\":0,\"ticks\":\"\"}},\"type\":\"scattermapbox\"}],\"scatterpolar\":[{\"marker\":{\"colorbar\":{\"outlinewidth\":0,\"ticks\":\"\"}},\"type\":\"scatterpolar\"}],\"scatterpolargl\":[{\"marker\":{\"colorbar\":{\"outlinewidth\":0,\"ticks\":\"\"}},\"type\":\"scatterpolargl\"}],\"scatterternary\":[{\"marker\":{\"colorbar\":{\"outlinewidth\":0,\"ticks\":\"\"}},\"type\":\"scatterternary\"}],\"surface\":[{\"colorbar\":{\"outlinewidth\":0,\"ticks\":\"\"},\"colorscale\":[[0.0,\"#0d0887\"],[0.1111111111111111,\"#46039f\"],[0.2222222222222222,\"#7201a8\"],[0.3333333333333333,\"#9c179e\"],[0.4444444444444444,\"#bd3786\"],[0.5555555555555556,\"#d8576b\"],[0.6666666666666666,\"#ed7953\"],[0.7777777777777778,\"#fb9f3a\"],[0.8888888888888888,\"#fdca26\"],[1.0,\"#f0f921\"]],\"type\":\"surface\"}],\"table\":[{\"cells\":{\"fill\":{\"color\":\"#506784\"},\"line\":{\"color\":\"rgb(17,17,17)\"}},\"header\":{\"fill\":{\"color\":\"#2a3f5f\"},\"line\":{\"color\":\"rgb(17,17,17)\"}},\"type\":\"table\"}]},\"layout\":{\"annotationdefaults\":{\"arrowcolor\":\"#f2f5fa\",\"arrowhead\":0,\"arrowwidth\":1},\"autotypenumbers\":\"strict\",\"coloraxis\":{\"colorbar\":{\"outlinewidth\":0,\"ticks\":\"\"}},\"colorscale\":{\"diverging\":[[0,\"#8e0152\"],[0.1,\"#c51b7d\"],[0.2,\"#de77ae\"],[0.3,\"#f1b6da\"],[0.4,\"#fde0ef\"],[0.5,\"#f7f7f7\"],[0.6,\"#e6f5d0\"],[0.7,\"#b8e186\"],[0.8,\"#7fbc41\"],[0.9,\"#4d9221\"],[1,\"#276419\"]],\"sequential\":[[0.0,\"#0d0887\"],[0.1111111111111111,\"#46039f\"],[0.2222222222222222,\"#7201a8\"],[0.3333333333333333,\"#9c179e\"],[0.4444444444444444,\"#bd3786\"],[0.5555555555555556,\"#d8576b\"],[0.6666666666666666,\"#ed7953\"],[0.7777777777777778,\"#fb9f3a\"],[0.8888888888888888,\"#fdca26\"],[1.0,\"#f0f921\"]],\"sequentialminus\":[[0.0,\"#0d0887\"],[0.1111111111111111,\"#46039f\"],[0.2222222222222222,\"#7201a8\"],[0.3333333333333333,\"#9c179e\"],[0.4444444444444444,\"#bd3786\"],[0.5555555555555556,\"#d8576b\"],[0.6666666666666666,\"#ed7953\"],[0.7777777777777778,\"#fb9f3a\"],[0.8888888888888888,\"#fdca26\"],[1.0,\"#f0f921\"]]},\"colorway\":[\"#636efa\",\"#EF553B\",\"#00cc96\",\"#ab63fa\",\"#FFA15A\",\"#19d3f3\",\"#FF6692\",\"#B6E880\",\"#FF97FF\",\"#FECB52\"],\"font\":{\"color\":\"#f2f5fa\"},\"geo\":{\"bgcolor\":\"rgb(17,17,17)\",\"lakecolor\":\"rgb(17,17,17)\",\"landcolor\":\"rgb(17,17,17)\",\"showlakes\":true,\"showland\":true,\"subunitcolor\":\"#506784\"},\"hoverlabel\":{\"align\":\"left\"},\"hovermode\":\"closest\",\"mapbox\":{\"style\":\"dark\"},\"paper_bgcolor\":\"rgb(17,17,17)\",\"plot_bgcolor\":\"rgb(17,17,17)\",\"polar\":{\"angularaxis\":{\"gridcolor\":\"#506784\",\"linecolor\":\"#506784\",\"ticks\":\"\"},\"bgcolor\":\"rgb(17,17,17)\",\"radialaxis\":{\"gridcolor\":\"#506784\",\"linecolor\":\"#506784\",\"ticks\":\"\"}},\"scene\":{\"xaxis\":{\"backgroundcolor\":\"rgb(17,17,17)\",\"gridcolor\":\"#506784\",\"gridwidth\":2,\"linecolor\":\"#506784\",\"showbackground\":true,\"ticks\":\"\",\"zerolinecolor\":\"#C8D4E3\"},\"yaxis\":{\"backgroundcolor\":\"rgb(17,17,17)\",\"gridcolor\":\"#506784\",\"gridwidth\":2,\"linecolor\":\"#506784\",\"showbackground\":true,\"ticks\":\"\",\"zerolinecolor\":\"#C8D4E3\"},\"zaxis\":{\"backgroundcolor\":\"rgb(17,17,17)\",\"gridcolor\":\"#506784\",\"gridwidth\":2,\"linecolor\":\"#506784\",\"showbackground\":true,\"ticks\":\"\",\"zerolinecolor\":\"#C8D4E3\"}},\"shapedefaults\":{\"line\":{\"color\":\"#f2f5fa\"}},\"sliderdefaults\":{\"bgcolor\":\"#C8D4E3\",\"bordercolor\":\"rgb(17,17,17)\",\"borderwidth\":1,\"tickwidth\":0},\"ternary\":{\"aaxis\":{\"gridcolor\":\"#506784\",\"linecolor\":\"#506784\",\"ticks\":\"\"},\"baxis\":{\"gridcolor\":\"#506784\",\"linecolor\":\"#506784\",\"ticks\":\"\"},\"bgcolor\":\"rgb(17,17,17)\",\"caxis\":{\"gridcolor\":\"#506784\",\"linecolor\":\"#506784\",\"ticks\":\"\"}},\"title\":{\"x\":0.05},\"updatemenudefaults\":{\"bgcolor\":\"#506784\",\"borderwidth\":0},\"xaxis\":{\"automargin\":true,\"gridcolor\":\"#283442\",\"linecolor\":\"#506784\",\"ticks\":\"\",\"title\":{\"standoff\":15},\"zerolinecolor\":\"#283442\",\"zerolinewidth\":2},\"yaxis\":{\"automargin\":true,\"gridcolor\":\"#283442\",\"linecolor\":\"#506784\",\"ticks\":\"\",\"title\":{\"standoff\":15},\"zerolinecolor\":\"#283442\",\"zerolinewidth\":2}}},\"xaxis\":{\"anchor\":\"y\",\"domain\":[0.0,1.0],\"title\":{\"text\":\"x\"},\"range\":[0,25]},\"yaxis\":{\"anchor\":\"x\",\"domain\":[0.0,1.0],\"title\":{\"text\":\"y\"},\"range\":[0,5000]},\"legend\":{\"tracegroupgap\":0},\"title\":{\"text\":\"Fibbonachi Scatter Plot\"}},                        {\"responsive\": true}                    ).then(function(){\n                            \nvar gd = document.getElementById('ca676a92-8e7b-4d63-b96d-da241182c6d8');\nvar x = new MutationObserver(function (mutations, observer) {{\n        var display = window.getComputedStyle(gd).display;\n        if (!display || display === 'none') {{\n            console.log([gd, 'removed!']);\n            Plotly.purge(gd);\n            observer.disconnect();\n        }}\n}});\n\n// Listen for the removal of the full notebook cells\nvar notebookContainer = gd.closest('#notebook-container');\nif (notebookContainer) {{\n    x.observe(notebookContainer, {childList: true});\n}}\n\n// Listen for the clearing of the current output cell\nvar outputEl = gd.closest('.output');\nif (outputEl) {{\n    x.observe(outputEl, {childList: true});\n}}\n\n                        })                };                });            </script>        </div>"
     },
     "metadata": {},
     "output_type": "display_data"
    }
   ],
   "source": [
    "# Change this code into the correct Scatter Plot (please take care of the axis)\n",
    "x = np.arange(0, 26)\n",
    "y = np.arange(0, 26)\n",
    "\n",
    "for i in range(2, 26):\n",
    "    y[i] = y[i-1] + y[i-2]\n",
    "print(y)\n",
    "\n",
    "fig = px.scatter(x=x, y=y, title=\"Fibbonachi Scatter Plot\")\n",
    "fig.update_layout(xaxis_range=[0, 25], yaxis_range=[0,5000])\n",
    "fig.show()"
   ]
  },
  {
   "cell_type": "markdown",
   "metadata": {
    "pycharm": {
     "name": "#%% md\n"
    }
   },
   "source": [
    "# Task 2 -- Numpy and curve fitting\n",
    "\n",
    "Fill in the function get_2polynomal_from_3_points(). You are required to use the  \n",
    "function: np.linalg.solve() for the actual computation, i.e. the task is mainly   \n",
    "about shaping the input so it fits the np.linalg.solve() function. Note: dont use polyfit().\n",
    "\n",
    "The function should return a 1d numpy array, with shape = (3,) in the format a, b,c.  \n",
    "Such that ax^2 + bx + c = y, goes through the points p0, p1, p2\n",
    "\n",
    "HINT: How should a matrix equation be formed, so solving it gives us the coefficients for a polynomial?\n",
    "\n",
    "Limitations:\n",
    "* There should be NO loops or ifs! (for/while/if). \n",
    "* Numpy functions that might come handy: reshape, hstack, flatten, ones\n",
    "\n"
   ]
  },
  {
   "cell_type": "code",
   "execution_count": 10,
   "metadata": {
    "pycharm": {
     "name": "#%%\n"
    }
   },
   "outputs": [
    {
     "name": "stdout",
     "output_type": "stream",
     "text": [
      "Polynomial: -0.690280x^2 + 1.30x + 0.42\n",
      "Correct polynomial found.\n"
     ]
    }
   ],
   "source": [
    "import numpy as np\n",
    "\n",
    "def get_2polynomal_from_3_points(p0: np.array, p1: np.array, p2: np.array) -> np.array:\n",
    "    # -- CODE --\n",
    "    x = np.array([p0[0], p1[0], p2[0]])\n",
    "    y = np.array([p0[1], p1[1], p2[1]])\n",
    "    x = np.vstack([x**2, x, np.ones(len(x))]).T\n",
    "    return np.linalg.solve(x, y)\n",
    "    \n",
    "\n",
    "point0 = np.array([0.147, 0.596])\n",
    "point1 = np.array([0.7, 0.992])\n",
    "point2 = np.array([2.06, 0.17])\n",
    "\n",
    "polynomial_coefficients = get_2polynomal_from_3_points(point0, point1, point2)\n",
    "assert(polynomial_coefficients.shape[0] == 3 and polynomial_coefficients.ndim == 1)\n",
    "\n",
    "print(\"Polynomial: {:2f}x^2 + {:.2f}x + {:.2f}\".format(*polynomial_coefficients))\n",
    "\n",
    "\n",
    "if not np.isclose(polynomial_coefficients[0], -0.69, atol=0.01):\n",
    "    print(\"x^2 coeff is wrong (a), should be close to -0.69\")\n",
    "    \n",
    "if not np.isclose(polynomial_coefficients[1], 1.3, atol=0.01):\n",
    "    print(\"x coeff is wrong (b), should be close to 1.3\")\n",
    "    \n",
    "if not np.isclose(polynomial_coefficients[2], 0.42, atol=0.01):\n",
    "    print(\"Constant factor (c) is wrong, should be close to 0.42\")\n",
    "    \n",
    "if np.isclose(polynomial_coefficients, [-0.69, 1.3, 0.42], atol=0.01).all():\n",
    "    print(\"Correct polynomial found.\")"
   ]
  },
  {
   "cell_type": "markdown",
   "metadata": {
    "pycharm": {
     "name": "#%% md\n"
    }
   },
   "source": [
    "# Task 3 -- Simple random search\n",
    "\n",
    "Find the triplet $a,b,c \\in \\{x \\;|\\; x \\in \\mathbb{Z} \\mbox{ and } 450 > x > 0 \\}$ \n",
    "\n",
    "Using a random search in the parameter space. Such that the following relations is satisfied: \n",
    "\n",
    "### a\n",
    "$a = \\begin{cases} c+11, & \\mbox{if } b\\mbox{ is even} \\\\ 2c-129, & \\mbox{if } b\\mbox{ is odd} \\end{cases}$\n",
    "\n",
    "### b\n",
    "$b = (a \\times c) \\mod 2377$\n",
    "\n",
    "### c\n",
    "$c = \\left( \\sum\\limits_{k=0}^{a-1} b - 7k \\right) + 142$\n",
    "\n",
    "**Also how many guesses were needed?**\n",
    "\n",
    "Note that in math notation $\\sum\\limits_{k=1}^{5}k = 1+2+3+4+5$ \n",
    "\n",
    "Hint (to check if you got the right answer): The product $abc$ should be 255450 $\\pm$ 20 \n"
   ]
  },
  {
   "cell_type": "code",
   "execution_count": 1,
   "outputs": [
    {
     "name": "stdout",
     "output_type": "stream",
     "text": [
      "Iterations: 0, A: 31, B: 103, C: 80\n"
     ]
    }
   ],
   "source": [
    "import numba\n",
    "import time\n",
    "import random\n",
    "\n",
    "@numba.njit()\n",
    "def answer():\n",
    "    index: int = 0\n",
    "    for a in range(1, 450):\n",
    "        for b in range(1, 450):\n",
    "            for c in range(1, 450):\n",
    "                if not b == (a * c) % 2377: continue\n",
    "                if not check_third_criteria(a, b) == c: continue\n",
    "\n",
    "                if (b % 2) == 0 and a == (c + 11):\n",
    "                    return index, a, b, c\n",
    "                elif a == (2 * c - 129):\n",
    "                    return index, a, b, c\n",
    "\n",
    "                index += 1\n",
    "\n",
    "@numba.njit()\n",
    "def answer_random():\n",
    "    index = 0\n",
    "    while True:\n",
    "        a = random.randint(1, 450)\n",
    "        b = random.randint(1, 450)\n",
    "        c = random.randint(1, 450)\n",
    "\n",
    "        if b == (a * c) % 2377:\n",
    "            if check_third_criteria(a, b) == c:\n",
    "                if (b % 2) == 0 and a == (c + 11):\n",
    "                    return index, a, b, c\n",
    "                elif a == (2 * c - 129):\n",
    "                    return index, a, b, c\n",
    "\n",
    "        index += 1\n",
    "\n",
    "\n",
    "@numba.njit()\n",
    "def check_third_criteria(a, b) -> int:\n",
    "    result: int = 0\n",
    "    for k in range(0, a):\n",
    "        result += (b - 7 * k)\n",
    "    return result + 142\n",
    "\n",
    "\n",
    "@numba.njit()\n",
    "def is_valid(a, b, c):\n",
    "    product: int = a * b * c\n",
    "    if (255450 - 20) <= product <= (255450 + 20):\n",
    "        return True\n",
    "    return False\n",
    "\n",
    "\n",
    "def main():\n",
    "    i, a, b, c = answer()\n",
    "    if is_valid(a, b, c):\n",
    "        print(f'Iterations: {i}, A: {a}, B: {b}, C: {c}')\n",
    "\n",
    "if __name__ == '__main__':\n",
    "    main()\n"
   ],
   "metadata": {
    "collapsed": false,
    "pycharm": {
     "name": "#%%\n"
    }
   }
  },
  {
   "cell_type": "code",
   "execution_count": null,
   "outputs": [],
   "source": [],
   "metadata": {
    "collapsed": false,
    "pycharm": {
     "name": "#%%\n"
    }
   }
  },
  {
   "cell_type": "markdown",
   "metadata": {
    "pycharm": {
     "name": "#%% md\n"
    }
   },
   "source": [
    "# Task 4 -- Revisit the Fortuna Algorithm\n",
    "\n",
    "Below is a implementation of Fortuna that uses fits linear function $f_{\\theta} = a x + b$ where $\\theta = \\{a,b\\}$ to a function $g(x)$.  \n",
    "However, as is evidently from the graph, $g(x)$ is not a linear function.  \n",
    "\n",
    "1) Change the code to instead use $f_{\\theta}(x) = \\sum\\limits_{k=1}^{3} \\Psi_k \\sin(\\gamma_k (x + \\omega_k)) $.  \n",
    "  Such that $|\\theta| = 9$, where each parameter $c$ in $\\theta$ is in $[-4. 4]$.  \n",
    "That is, $f_{\\theta}(x)$ is a sum of three sin terms. **Do not change the range of the sample\\_theta function.**\n",
    "\n",
    "3) However, it seems Fortuna (on average) struggles to find the optimal parameters $\\theta$.  \n",
    "Therefore you will have to innovate and change the Fortuna algorithm so that it faster finds \"better solutions\".\n",
    "What changes did you make and **why** did you make them, and how did you measure how efficient these changes were?  \n",
    "A excellent solution here will have an expected best loss of less than 5 using 100000 guesses. (take the average over 100 runs).\n",
    "**But ANY improvment is sufficient to pass!**  \n",
    "\n",
    "\n",
    "4) [**Optional**] Develop a multiprocces implemention of the Fortuna algorithm using python's multiprocessing library (https://docs.python.org/3/library/multiprocessing.html).  \n",
    "How are the speed ups? Are Fortuna really suited to parallel execution?\n",
    "\n",
    "\n"
   ]
  },
  {
   "cell_type": "code",
   "execution_count": 3,
   "metadata": {
    "pycharm": {
     "name": "#%%\n"
    }
   },
   "outputs": [
    {
     "name": "stderr",
     "output_type": "stream",
     "text": [
      "100%|██████████| 10/10 [00:15<00:00,  1.50s/it]"
     ]
    },
    {
     "name": "stdout",
     "output_type": "stream",
     "text": [
      "2.8648966112056775\n",
      "0\n",
      "best loss: 22.157873091660598\n",
      "theta: [-1.14e-322 -9.39e-323  2.03e-322  1.68e-322 -2.96e-323 -4.94e-323\n",
      " -7.41e-323  1.73e-322 -2.47e-322]\n"
     ]
    },
    {
     "name": "stderr",
     "output_type": "stream",
     "text": [
      "\n"
     ]
    },
    {
     "data": {
      "application/vnd.plotly.v1+json": {
       "data": [
        {
         "hovertemplate": "x=%{x}<br>y=%{y}<extra></extra>",
         "legendgroup": "",
         "line": {
          "color": "#636efa",
          "dash": "solid"
         },
         "marker": {
          "symbol": "circle"
         },
         "mode": "lines",
         "name": "",
         "orientation": "v",
         "showlegend": false,
         "x": [
          1.0,
          1.1,
          1.2,
          1.3,
          1.4,
          1.5,
          1.6,
          1.7,
          1.8,
          1.9,
          2.0,
          2.1,
          2.2,
          2.3,
          2.4,
          2.5,
          2.6,
          2.7,
          2.8,
          2.9,
          3.0,
          3.1,
          3.2,
          3.3,
          3.4,
          3.5,
          3.6,
          3.7,
          3.8,
          3.9,
          4.0,
          4.1,
          4.2,
          4.3,
          4.4,
          4.5,
          4.6,
          4.7,
          4.8,
          4.9,
          5.0,
          5.1,
          5.2,
          5.3,
          5.4,
          5.5,
          5.6,
          5.7,
          5.8,
          5.9,
          6.0,
          6.1,
          6.2,
          6.3,
          6.4,
          6.5,
          6.6,
          6.7,
          6.8,
          6.9,
          7.0,
          7.1,
          7.2,
          7.3,
          7.4
         ],
         "xaxis": "x",
         "y": [
          4.03,
          4.19,
          4.26,
          4.25,
          4.17,
          4.03,
          3.85,
          3.63,
          3.4,
          3.16,
          2.93,
          2.72,
          2.53,
          2.39,
          2.28,
          2.21,
          2.18,
          2.19,
          2.22,
          2.27,
          2.33,
          2.39,
          2.44,
          2.45,
          2.43,
          2.36,
          2.22,
          2.02,
          1.75,
          1.41,
          1.0,
          0.52,
          -0.01,
          -0.6,
          -1.22,
          -1.86,
          -2.5,
          -3.13,
          -3.72,
          -4.27,
          -4.75,
          -5.15,
          -5.45,
          -5.65,
          -5.74,
          -5.7,
          -5.55,
          -5.29,
          -4.92,
          -4.44,
          -3.89,
          -3.26,
          -2.58,
          -1.86,
          -1.12,
          -0.39,
          0.32,
          0.98,
          1.6,
          2.14,
          2.61,
          2.99,
          3.28,
          3.47,
          3.57
         ],
         "yaxis": "y",
         "type": "scatter"
        },
        {
         "mode": "lines",
         "name": "y_hat",
         "x": [
          1.0,
          1.1,
          1.2,
          1.3,
          1.4,
          1.5,
          1.6,
          1.7,
          1.8,
          1.9,
          2.0,
          2.1,
          2.2,
          2.3,
          2.4,
          2.5,
          2.6,
          2.7,
          2.8,
          2.9,
          3.0,
          3.1,
          3.2,
          3.3,
          3.4,
          3.5,
          3.6,
          3.7,
          3.8,
          3.9,
          4.0,
          4.1,
          4.2,
          4.3,
          4.4,
          4.5,
          4.6,
          4.7,
          4.8,
          4.9,
          5.0,
          5.1,
          5.2,
          5.3,
          5.4,
          5.5,
          5.6,
          5.7,
          5.8,
          5.9,
          6.0,
          6.1,
          6.2,
          6.3,
          6.4,
          6.5,
          6.6,
          6.7,
          6.8,
          6.9,
          7.0,
          7.1,
          7.2,
          7.3,
          7.4
         ],
         "y": [
          0.0,
          0.0,
          0.0,
          0.0,
          0.0,
          0.0,
          0.0,
          0.0,
          0.0,
          0.0,
          0.0,
          0.0,
          0.0,
          0.0,
          0.0,
          0.0,
          0.0,
          0.0,
          0.0,
          0.0,
          0.0,
          0.0,
          0.0,
          0.0,
          0.0,
          0.0,
          0.0,
          0.0,
          0.0,
          0.0,
          0.0,
          0.0,
          0.0,
          0.0,
          0.0,
          0.0,
          0.0,
          0.0,
          0.0,
          0.0,
          0.0,
          0.0,
          0.0,
          0.0,
          0.0,
          0.0,
          0.0,
          0.0,
          0.0,
          0.0,
          0.0,
          0.0,
          0.0,
          0.0,
          0.0,
          0.0,
          0.0,
          0.0,
          0.0,
          0.0,
          0.0,
          0.0,
          0.0,
          0.0,
          0.0
         ],
         "type": "scatter"
        }
       ],
       "layout": {
        "template": {
         "data": {
          "bar": [
           {
            "error_x": {
             "color": "#f2f5fa"
            },
            "error_y": {
             "color": "#f2f5fa"
            },
            "marker": {
             "line": {
              "color": "rgb(17,17,17)",
              "width": 0.5
             },
             "pattern": {
              "fillmode": "overlay",
              "size": 10,
              "solidity": 0.2
             }
            },
            "type": "bar"
           }
          ],
          "barpolar": [
           {
            "marker": {
             "line": {
              "color": "rgb(17,17,17)",
              "width": 0.5
             },
             "pattern": {
              "fillmode": "overlay",
              "size": 10,
              "solidity": 0.2
             }
            },
            "type": "barpolar"
           }
          ],
          "carpet": [
           {
            "aaxis": {
             "endlinecolor": "#A2B1C6",
             "gridcolor": "#506784",
             "linecolor": "#506784",
             "minorgridcolor": "#506784",
             "startlinecolor": "#A2B1C6"
            },
            "baxis": {
             "endlinecolor": "#A2B1C6",
             "gridcolor": "#506784",
             "linecolor": "#506784",
             "minorgridcolor": "#506784",
             "startlinecolor": "#A2B1C6"
            },
            "type": "carpet"
           }
          ],
          "choropleth": [
           {
            "colorbar": {
             "outlinewidth": 0,
             "ticks": ""
            },
            "type": "choropleth"
           }
          ],
          "contour": [
           {
            "colorbar": {
             "outlinewidth": 0,
             "ticks": ""
            },
            "colorscale": [
             [
              0.0,
              "#0d0887"
             ],
             [
              0.1111111111111111,
              "#46039f"
             ],
             [
              0.2222222222222222,
              "#7201a8"
             ],
             [
              0.3333333333333333,
              "#9c179e"
             ],
             [
              0.4444444444444444,
              "#bd3786"
             ],
             [
              0.5555555555555556,
              "#d8576b"
             ],
             [
              0.6666666666666666,
              "#ed7953"
             ],
             [
              0.7777777777777778,
              "#fb9f3a"
             ],
             [
              0.8888888888888888,
              "#fdca26"
             ],
             [
              1.0,
              "#f0f921"
             ]
            ],
            "type": "contour"
           }
          ],
          "contourcarpet": [
           {
            "colorbar": {
             "outlinewidth": 0,
             "ticks": ""
            },
            "type": "contourcarpet"
           }
          ],
          "heatmap": [
           {
            "colorbar": {
             "outlinewidth": 0,
             "ticks": ""
            },
            "colorscale": [
             [
              0.0,
              "#0d0887"
             ],
             [
              0.1111111111111111,
              "#46039f"
             ],
             [
              0.2222222222222222,
              "#7201a8"
             ],
             [
              0.3333333333333333,
              "#9c179e"
             ],
             [
              0.4444444444444444,
              "#bd3786"
             ],
             [
              0.5555555555555556,
              "#d8576b"
             ],
             [
              0.6666666666666666,
              "#ed7953"
             ],
             [
              0.7777777777777778,
              "#fb9f3a"
             ],
             [
              0.8888888888888888,
              "#fdca26"
             ],
             [
              1.0,
              "#f0f921"
             ]
            ],
            "type": "heatmap"
           }
          ],
          "heatmapgl": [
           {
            "colorbar": {
             "outlinewidth": 0,
             "ticks": ""
            },
            "colorscale": [
             [
              0.0,
              "#0d0887"
             ],
             [
              0.1111111111111111,
              "#46039f"
             ],
             [
              0.2222222222222222,
              "#7201a8"
             ],
             [
              0.3333333333333333,
              "#9c179e"
             ],
             [
              0.4444444444444444,
              "#bd3786"
             ],
             [
              0.5555555555555556,
              "#d8576b"
             ],
             [
              0.6666666666666666,
              "#ed7953"
             ],
             [
              0.7777777777777778,
              "#fb9f3a"
             ],
             [
              0.8888888888888888,
              "#fdca26"
             ],
             [
              1.0,
              "#f0f921"
             ]
            ],
            "type": "heatmapgl"
           }
          ],
          "histogram": [
           {
            "marker": {
             "pattern": {
              "fillmode": "overlay",
              "size": 10,
              "solidity": 0.2
             }
            },
            "type": "histogram"
           }
          ],
          "histogram2d": [
           {
            "colorbar": {
             "outlinewidth": 0,
             "ticks": ""
            },
            "colorscale": [
             [
              0.0,
              "#0d0887"
             ],
             [
              0.1111111111111111,
              "#46039f"
             ],
             [
              0.2222222222222222,
              "#7201a8"
             ],
             [
              0.3333333333333333,
              "#9c179e"
             ],
             [
              0.4444444444444444,
              "#bd3786"
             ],
             [
              0.5555555555555556,
              "#d8576b"
             ],
             [
              0.6666666666666666,
              "#ed7953"
             ],
             [
              0.7777777777777778,
              "#fb9f3a"
             ],
             [
              0.8888888888888888,
              "#fdca26"
             ],
             [
              1.0,
              "#f0f921"
             ]
            ],
            "type": "histogram2d"
           }
          ],
          "histogram2dcontour": [
           {
            "colorbar": {
             "outlinewidth": 0,
             "ticks": ""
            },
            "colorscale": [
             [
              0.0,
              "#0d0887"
             ],
             [
              0.1111111111111111,
              "#46039f"
             ],
             [
              0.2222222222222222,
              "#7201a8"
             ],
             [
              0.3333333333333333,
              "#9c179e"
             ],
             [
              0.4444444444444444,
              "#bd3786"
             ],
             [
              0.5555555555555556,
              "#d8576b"
             ],
             [
              0.6666666666666666,
              "#ed7953"
             ],
             [
              0.7777777777777778,
              "#fb9f3a"
             ],
             [
              0.8888888888888888,
              "#fdca26"
             ],
             [
              1.0,
              "#f0f921"
             ]
            ],
            "type": "histogram2dcontour"
           }
          ],
          "mesh3d": [
           {
            "colorbar": {
             "outlinewidth": 0,
             "ticks": ""
            },
            "type": "mesh3d"
           }
          ],
          "parcoords": [
           {
            "line": {
             "colorbar": {
              "outlinewidth": 0,
              "ticks": ""
             }
            },
            "type": "parcoords"
           }
          ],
          "pie": [
           {
            "automargin": true,
            "type": "pie"
           }
          ],
          "scatter": [
           {
            "marker": {
             "line": {
              "color": "#283442"
             }
            },
            "type": "scatter"
           }
          ],
          "scatter3d": [
           {
            "line": {
             "colorbar": {
              "outlinewidth": 0,
              "ticks": ""
             }
            },
            "marker": {
             "colorbar": {
              "outlinewidth": 0,
              "ticks": ""
             }
            },
            "type": "scatter3d"
           }
          ],
          "scattercarpet": [
           {
            "marker": {
             "colorbar": {
              "outlinewidth": 0,
              "ticks": ""
             }
            },
            "type": "scattercarpet"
           }
          ],
          "scattergeo": [
           {
            "marker": {
             "colorbar": {
              "outlinewidth": 0,
              "ticks": ""
             }
            },
            "type": "scattergeo"
           }
          ],
          "scattergl": [
           {
            "marker": {
             "line": {
              "color": "#283442"
             }
            },
            "type": "scattergl"
           }
          ],
          "scattermapbox": [
           {
            "marker": {
             "colorbar": {
              "outlinewidth": 0,
              "ticks": ""
             }
            },
            "type": "scattermapbox"
           }
          ],
          "scatterpolar": [
           {
            "marker": {
             "colorbar": {
              "outlinewidth": 0,
              "ticks": ""
             }
            },
            "type": "scatterpolar"
           }
          ],
          "scatterpolargl": [
           {
            "marker": {
             "colorbar": {
              "outlinewidth": 0,
              "ticks": ""
             }
            },
            "type": "scatterpolargl"
           }
          ],
          "scatterternary": [
           {
            "marker": {
             "colorbar": {
              "outlinewidth": 0,
              "ticks": ""
             }
            },
            "type": "scatterternary"
           }
          ],
          "surface": [
           {
            "colorbar": {
             "outlinewidth": 0,
             "ticks": ""
            },
            "colorscale": [
             [
              0.0,
              "#0d0887"
             ],
             [
              0.1111111111111111,
              "#46039f"
             ],
             [
              0.2222222222222222,
              "#7201a8"
             ],
             [
              0.3333333333333333,
              "#9c179e"
             ],
             [
              0.4444444444444444,
              "#bd3786"
             ],
             [
              0.5555555555555556,
              "#d8576b"
             ],
             [
              0.6666666666666666,
              "#ed7953"
             ],
             [
              0.7777777777777778,
              "#fb9f3a"
             ],
             [
              0.8888888888888888,
              "#fdca26"
             ],
             [
              1.0,
              "#f0f921"
             ]
            ],
            "type": "surface"
           }
          ],
          "table": [
           {
            "cells": {
             "fill": {
              "color": "#506784"
             },
             "line": {
              "color": "rgb(17,17,17)"
             }
            },
            "header": {
             "fill": {
              "color": "#2a3f5f"
             },
             "line": {
              "color": "rgb(17,17,17)"
             }
            },
            "type": "table"
           }
          ]
         },
         "layout": {
          "annotationdefaults": {
           "arrowcolor": "#f2f5fa",
           "arrowhead": 0,
           "arrowwidth": 1
          },
          "autotypenumbers": "strict",
          "coloraxis": {
           "colorbar": {
            "outlinewidth": 0,
            "ticks": ""
           }
          },
          "colorscale": {
           "diverging": [
            [
             0,
             "#8e0152"
            ],
            [
             0.1,
             "#c51b7d"
            ],
            [
             0.2,
             "#de77ae"
            ],
            [
             0.3,
             "#f1b6da"
            ],
            [
             0.4,
             "#fde0ef"
            ],
            [
             0.5,
             "#f7f7f7"
            ],
            [
             0.6,
             "#e6f5d0"
            ],
            [
             0.7,
             "#b8e186"
            ],
            [
             0.8,
             "#7fbc41"
            ],
            [
             0.9,
             "#4d9221"
            ],
            [
             1,
             "#276419"
            ]
           ],
           "sequential": [
            [
             0.0,
             "#0d0887"
            ],
            [
             0.1111111111111111,
             "#46039f"
            ],
            [
             0.2222222222222222,
             "#7201a8"
            ],
            [
             0.3333333333333333,
             "#9c179e"
            ],
            [
             0.4444444444444444,
             "#bd3786"
            ],
            [
             0.5555555555555556,
             "#d8576b"
            ],
            [
             0.6666666666666666,
             "#ed7953"
            ],
            [
             0.7777777777777778,
             "#fb9f3a"
            ],
            [
             0.8888888888888888,
             "#fdca26"
            ],
            [
             1.0,
             "#f0f921"
            ]
           ],
           "sequentialminus": [
            [
             0.0,
             "#0d0887"
            ],
            [
             0.1111111111111111,
             "#46039f"
            ],
            [
             0.2222222222222222,
             "#7201a8"
            ],
            [
             0.3333333333333333,
             "#9c179e"
            ],
            [
             0.4444444444444444,
             "#bd3786"
            ],
            [
             0.5555555555555556,
             "#d8576b"
            ],
            [
             0.6666666666666666,
             "#ed7953"
            ],
            [
             0.7777777777777778,
             "#fb9f3a"
            ],
            [
             0.8888888888888888,
             "#fdca26"
            ],
            [
             1.0,
             "#f0f921"
            ]
           ]
          },
          "colorway": [
           "#636efa",
           "#EF553B",
           "#00cc96",
           "#ab63fa",
           "#FFA15A",
           "#19d3f3",
           "#FF6692",
           "#B6E880",
           "#FF97FF",
           "#FECB52"
          ],
          "font": {
           "color": "#f2f5fa"
          },
          "geo": {
           "bgcolor": "rgb(17,17,17)",
           "lakecolor": "rgb(17,17,17)",
           "landcolor": "rgb(17,17,17)",
           "showlakes": true,
           "showland": true,
           "subunitcolor": "#506784"
          },
          "hoverlabel": {
           "align": "left"
          },
          "hovermode": "closest",
          "mapbox": {
           "style": "dark"
          },
          "paper_bgcolor": "rgb(17,17,17)",
          "plot_bgcolor": "rgb(17,17,17)",
          "polar": {
           "angularaxis": {
            "gridcolor": "#506784",
            "linecolor": "#506784",
            "ticks": ""
           },
           "bgcolor": "rgb(17,17,17)",
           "radialaxis": {
            "gridcolor": "#506784",
            "linecolor": "#506784",
            "ticks": ""
           }
          },
          "scene": {
           "xaxis": {
            "backgroundcolor": "rgb(17,17,17)",
            "gridcolor": "#506784",
            "gridwidth": 2,
            "linecolor": "#506784",
            "showbackground": true,
            "ticks": "",
            "zerolinecolor": "#C8D4E3"
           },
           "yaxis": {
            "backgroundcolor": "rgb(17,17,17)",
            "gridcolor": "#506784",
            "gridwidth": 2,
            "linecolor": "#506784",
            "showbackground": true,
            "ticks": "",
            "zerolinecolor": "#C8D4E3"
           },
           "zaxis": {
            "backgroundcolor": "rgb(17,17,17)",
            "gridcolor": "#506784",
            "gridwidth": 2,
            "linecolor": "#506784",
            "showbackground": true,
            "ticks": "",
            "zerolinecolor": "#C8D4E3"
           }
          },
          "shapedefaults": {
           "line": {
            "color": "#f2f5fa"
           }
          },
          "sliderdefaults": {
           "bgcolor": "#C8D4E3",
           "bordercolor": "rgb(17,17,17)",
           "borderwidth": 1,
           "tickwidth": 0
          },
          "ternary": {
           "aaxis": {
            "gridcolor": "#506784",
            "linecolor": "#506784",
            "ticks": ""
           },
           "baxis": {
            "gridcolor": "#506784",
            "linecolor": "#506784",
            "ticks": ""
           },
           "bgcolor": "rgb(17,17,17)",
           "caxis": {
            "gridcolor": "#506784",
            "linecolor": "#506784",
            "ticks": ""
           }
          },
          "title": {
           "x": 0.05
          },
          "updatemenudefaults": {
           "bgcolor": "#506784",
           "borderwidth": 0
          },
          "xaxis": {
           "automargin": true,
           "gridcolor": "#283442",
           "linecolor": "#506784",
           "ticks": "",
           "title": {
            "standoff": 15
           },
           "zerolinecolor": "#283442",
           "zerolinewidth": 2
          },
          "yaxis": {
           "automargin": true,
           "gridcolor": "#283442",
           "linecolor": "#506784",
           "ticks": "",
           "title": {
            "standoff": 15
           },
           "zerolinecolor": "#283442",
           "zerolinewidth": 2
          }
         }
        },
        "xaxis": {
         "anchor": "y",
         "domain": [
          0.0,
          1.0
         ],
         "title": {
          "text": "x"
         },
         "range": [
          1.0,
          7.4
         ]
        },
        "yaxis": {
         "anchor": "x",
         "domain": [
          0.0,
          1.0
         ],
         "title": {
          "text": "y"
         },
         "range": [
          -10,
          10
         ]
        },
        "legend": {
         "tracegroupgap": 0
        },
        "title": {
         "text": "Line Plot"
        }
       },
       "config": {
        "plotlyServerURL": "https://plot.ly"
       }
      },
      "text/html": "<div>                            <div id=\"10f39ebe-f42c-4eef-9d01-38b4b6378ff4\" class=\"plotly-graph-div\" style=\"height:525px; width:100%;\"></div>            <script type=\"text/javascript\">                require([\"plotly\"], function(Plotly) {                    window.PLOTLYENV=window.PLOTLYENV || {};                                    if (document.getElementById(\"10f39ebe-f42c-4eef-9d01-38b4b6378ff4\")) {                    Plotly.newPlot(                        \"10f39ebe-f42c-4eef-9d01-38b4b6378ff4\",                        [{\"hovertemplate\":\"x=%{x}<br>y=%{y}<extra></extra>\",\"legendgroup\":\"\",\"line\":{\"color\":\"#636efa\",\"dash\":\"solid\"},\"marker\":{\"symbol\":\"circle\"},\"mode\":\"lines\",\"name\":\"\",\"orientation\":\"v\",\"showlegend\":false,\"x\":[1.0,1.1,1.2,1.3,1.4,1.5,1.6,1.7,1.8,1.9,2.0,2.1,2.2,2.3,2.4,2.5,2.6,2.7,2.8,2.9,3.0,3.1,3.2,3.3,3.4,3.5,3.6,3.7,3.8,3.9,4.0,4.1,4.2,4.3,4.4,4.5,4.6,4.7,4.8,4.9,5.0,5.1,5.2,5.3,5.4,5.5,5.6,5.7,5.8,5.9,6.0,6.1,6.2,6.3,6.4,6.5,6.6,6.7,6.8,6.9,7.0,7.1,7.2,7.3,7.4],\"xaxis\":\"x\",\"y\":[4.03,4.19,4.26,4.25,4.17,4.03,3.85,3.63,3.4,3.16,2.93,2.72,2.53,2.39,2.28,2.21,2.18,2.19,2.22,2.27,2.33,2.39,2.44,2.45,2.43,2.36,2.22,2.02,1.75,1.41,1.0,0.52,-0.01,-0.6,-1.22,-1.86,-2.5,-3.13,-3.72,-4.27,-4.75,-5.15,-5.45,-5.65,-5.74,-5.7,-5.55,-5.29,-4.92,-4.44,-3.89,-3.26,-2.58,-1.86,-1.12,-0.39,0.32,0.98,1.6,2.14,2.61,2.99,3.28,3.47,3.57],\"yaxis\":\"y\",\"type\":\"scatter\"},{\"mode\":\"lines\",\"name\":\"y_hat\",\"x\":[1.0,1.1,1.2,1.3,1.4,1.5,1.6,1.7,1.8,1.9,2.0,2.1,2.2,2.3,2.4,2.5,2.6,2.7,2.8,2.9,3.0,3.1,3.2,3.3,3.4,3.5,3.6,3.7,3.8,3.9,4.0,4.1,4.2,4.3,4.4,4.5,4.6,4.7,4.8,4.9,5.0,5.1,5.2,5.3,5.4,5.5,5.6,5.7,5.8,5.9,6.0,6.1,6.2,6.3,6.4,6.5,6.6,6.7,6.8,6.9,7.0,7.1,7.2,7.3,7.4],\"y\":[0.0,0.0,0.0,0.0,0.0,0.0,0.0,0.0,0.0,0.0,0.0,0.0,0.0,0.0,0.0,0.0,0.0,0.0,0.0,0.0,0.0,0.0,0.0,0.0,0.0,0.0,0.0,0.0,0.0,0.0,0.0,0.0,0.0,0.0,0.0,0.0,0.0,0.0,0.0,0.0,0.0,0.0,0.0,0.0,0.0,0.0,0.0,0.0,0.0,0.0,0.0,0.0,0.0,0.0,0.0,0.0,0.0,0.0,0.0,0.0,0.0,0.0,0.0,0.0,0.0],\"type\":\"scatter\"}],                        {\"template\":{\"data\":{\"bar\":[{\"error_x\":{\"color\":\"#f2f5fa\"},\"error_y\":{\"color\":\"#f2f5fa\"},\"marker\":{\"line\":{\"color\":\"rgb(17,17,17)\",\"width\":0.5},\"pattern\":{\"fillmode\":\"overlay\",\"size\":10,\"solidity\":0.2}},\"type\":\"bar\"}],\"barpolar\":[{\"marker\":{\"line\":{\"color\":\"rgb(17,17,17)\",\"width\":0.5},\"pattern\":{\"fillmode\":\"overlay\",\"size\":10,\"solidity\":0.2}},\"type\":\"barpolar\"}],\"carpet\":[{\"aaxis\":{\"endlinecolor\":\"#A2B1C6\",\"gridcolor\":\"#506784\",\"linecolor\":\"#506784\",\"minorgridcolor\":\"#506784\",\"startlinecolor\":\"#A2B1C6\"},\"baxis\":{\"endlinecolor\":\"#A2B1C6\",\"gridcolor\":\"#506784\",\"linecolor\":\"#506784\",\"minorgridcolor\":\"#506784\",\"startlinecolor\":\"#A2B1C6\"},\"type\":\"carpet\"}],\"choropleth\":[{\"colorbar\":{\"outlinewidth\":0,\"ticks\":\"\"},\"type\":\"choropleth\"}],\"contour\":[{\"colorbar\":{\"outlinewidth\":0,\"ticks\":\"\"},\"colorscale\":[[0.0,\"#0d0887\"],[0.1111111111111111,\"#46039f\"],[0.2222222222222222,\"#7201a8\"],[0.3333333333333333,\"#9c179e\"],[0.4444444444444444,\"#bd3786\"],[0.5555555555555556,\"#d8576b\"],[0.6666666666666666,\"#ed7953\"],[0.7777777777777778,\"#fb9f3a\"],[0.8888888888888888,\"#fdca26\"],[1.0,\"#f0f921\"]],\"type\":\"contour\"}],\"contourcarpet\":[{\"colorbar\":{\"outlinewidth\":0,\"ticks\":\"\"},\"type\":\"contourcarpet\"}],\"heatmap\":[{\"colorbar\":{\"outlinewidth\":0,\"ticks\":\"\"},\"colorscale\":[[0.0,\"#0d0887\"],[0.1111111111111111,\"#46039f\"],[0.2222222222222222,\"#7201a8\"],[0.3333333333333333,\"#9c179e\"],[0.4444444444444444,\"#bd3786\"],[0.5555555555555556,\"#d8576b\"],[0.6666666666666666,\"#ed7953\"],[0.7777777777777778,\"#fb9f3a\"],[0.8888888888888888,\"#fdca26\"],[1.0,\"#f0f921\"]],\"type\":\"heatmap\"}],\"heatmapgl\":[{\"colorbar\":{\"outlinewidth\":0,\"ticks\":\"\"},\"colorscale\":[[0.0,\"#0d0887\"],[0.1111111111111111,\"#46039f\"],[0.2222222222222222,\"#7201a8\"],[0.3333333333333333,\"#9c179e\"],[0.4444444444444444,\"#bd3786\"],[0.5555555555555556,\"#d8576b\"],[0.6666666666666666,\"#ed7953\"],[0.7777777777777778,\"#fb9f3a\"],[0.8888888888888888,\"#fdca26\"],[1.0,\"#f0f921\"]],\"type\":\"heatmapgl\"}],\"histogram\":[{\"marker\":{\"pattern\":{\"fillmode\":\"overlay\",\"size\":10,\"solidity\":0.2}},\"type\":\"histogram\"}],\"histogram2d\":[{\"colorbar\":{\"outlinewidth\":0,\"ticks\":\"\"},\"colorscale\":[[0.0,\"#0d0887\"],[0.1111111111111111,\"#46039f\"],[0.2222222222222222,\"#7201a8\"],[0.3333333333333333,\"#9c179e\"],[0.4444444444444444,\"#bd3786\"],[0.5555555555555556,\"#d8576b\"],[0.6666666666666666,\"#ed7953\"],[0.7777777777777778,\"#fb9f3a\"],[0.8888888888888888,\"#fdca26\"],[1.0,\"#f0f921\"]],\"type\":\"histogram2d\"}],\"histogram2dcontour\":[{\"colorbar\":{\"outlinewidth\":0,\"ticks\":\"\"},\"colorscale\":[[0.0,\"#0d0887\"],[0.1111111111111111,\"#46039f\"],[0.2222222222222222,\"#7201a8\"],[0.3333333333333333,\"#9c179e\"],[0.4444444444444444,\"#bd3786\"],[0.5555555555555556,\"#d8576b\"],[0.6666666666666666,\"#ed7953\"],[0.7777777777777778,\"#fb9f3a\"],[0.8888888888888888,\"#fdca26\"],[1.0,\"#f0f921\"]],\"type\":\"histogram2dcontour\"}],\"mesh3d\":[{\"colorbar\":{\"outlinewidth\":0,\"ticks\":\"\"},\"type\":\"mesh3d\"}],\"parcoords\":[{\"line\":{\"colorbar\":{\"outlinewidth\":0,\"ticks\":\"\"}},\"type\":\"parcoords\"}],\"pie\":[{\"automargin\":true,\"type\":\"pie\"}],\"scatter\":[{\"marker\":{\"line\":{\"color\":\"#283442\"}},\"type\":\"scatter\"}],\"scatter3d\":[{\"line\":{\"colorbar\":{\"outlinewidth\":0,\"ticks\":\"\"}},\"marker\":{\"colorbar\":{\"outlinewidth\":0,\"ticks\":\"\"}},\"type\":\"scatter3d\"}],\"scattercarpet\":[{\"marker\":{\"colorbar\":{\"outlinewidth\":0,\"ticks\":\"\"}},\"type\":\"scattercarpet\"}],\"scattergeo\":[{\"marker\":{\"colorbar\":{\"outlinewidth\":0,\"ticks\":\"\"}},\"type\":\"scattergeo\"}],\"scattergl\":[{\"marker\":{\"line\":{\"color\":\"#283442\"}},\"type\":\"scattergl\"}],\"scattermapbox\":[{\"marker\":{\"colorbar\":{\"outlinewidth\":0,\"ticks\":\"\"}},\"type\":\"scattermapbox\"}],\"scatterpolar\":[{\"marker\":{\"colorbar\":{\"outlinewidth\":0,\"ticks\":\"\"}},\"type\":\"scatterpolar\"}],\"scatterpolargl\":[{\"marker\":{\"colorbar\":{\"outlinewidth\":0,\"ticks\":\"\"}},\"type\":\"scatterpolargl\"}],\"scatterternary\":[{\"marker\":{\"colorbar\":{\"outlinewidth\":0,\"ticks\":\"\"}},\"type\":\"scatterternary\"}],\"surface\":[{\"colorbar\":{\"outlinewidth\":0,\"ticks\":\"\"},\"colorscale\":[[0.0,\"#0d0887\"],[0.1111111111111111,\"#46039f\"],[0.2222222222222222,\"#7201a8\"],[0.3333333333333333,\"#9c179e\"],[0.4444444444444444,\"#bd3786\"],[0.5555555555555556,\"#d8576b\"],[0.6666666666666666,\"#ed7953\"],[0.7777777777777778,\"#fb9f3a\"],[0.8888888888888888,\"#fdca26\"],[1.0,\"#f0f921\"]],\"type\":\"surface\"}],\"table\":[{\"cells\":{\"fill\":{\"color\":\"#506784\"},\"line\":{\"color\":\"rgb(17,17,17)\"}},\"header\":{\"fill\":{\"color\":\"#2a3f5f\"},\"line\":{\"color\":\"rgb(17,17,17)\"}},\"type\":\"table\"}]},\"layout\":{\"annotationdefaults\":{\"arrowcolor\":\"#f2f5fa\",\"arrowhead\":0,\"arrowwidth\":1},\"autotypenumbers\":\"strict\",\"coloraxis\":{\"colorbar\":{\"outlinewidth\":0,\"ticks\":\"\"}},\"colorscale\":{\"diverging\":[[0,\"#8e0152\"],[0.1,\"#c51b7d\"],[0.2,\"#de77ae\"],[0.3,\"#f1b6da\"],[0.4,\"#fde0ef\"],[0.5,\"#f7f7f7\"],[0.6,\"#e6f5d0\"],[0.7,\"#b8e186\"],[0.8,\"#7fbc41\"],[0.9,\"#4d9221\"],[1,\"#276419\"]],\"sequential\":[[0.0,\"#0d0887\"],[0.1111111111111111,\"#46039f\"],[0.2222222222222222,\"#7201a8\"],[0.3333333333333333,\"#9c179e\"],[0.4444444444444444,\"#bd3786\"],[0.5555555555555556,\"#d8576b\"],[0.6666666666666666,\"#ed7953\"],[0.7777777777777778,\"#fb9f3a\"],[0.8888888888888888,\"#fdca26\"],[1.0,\"#f0f921\"]],\"sequentialminus\":[[0.0,\"#0d0887\"],[0.1111111111111111,\"#46039f\"],[0.2222222222222222,\"#7201a8\"],[0.3333333333333333,\"#9c179e\"],[0.4444444444444444,\"#bd3786\"],[0.5555555555555556,\"#d8576b\"],[0.6666666666666666,\"#ed7953\"],[0.7777777777777778,\"#fb9f3a\"],[0.8888888888888888,\"#fdca26\"],[1.0,\"#f0f921\"]]},\"colorway\":[\"#636efa\",\"#EF553B\",\"#00cc96\",\"#ab63fa\",\"#FFA15A\",\"#19d3f3\",\"#FF6692\",\"#B6E880\",\"#FF97FF\",\"#FECB52\"],\"font\":{\"color\":\"#f2f5fa\"},\"geo\":{\"bgcolor\":\"rgb(17,17,17)\",\"lakecolor\":\"rgb(17,17,17)\",\"landcolor\":\"rgb(17,17,17)\",\"showlakes\":true,\"showland\":true,\"subunitcolor\":\"#506784\"},\"hoverlabel\":{\"align\":\"left\"},\"hovermode\":\"closest\",\"mapbox\":{\"style\":\"dark\"},\"paper_bgcolor\":\"rgb(17,17,17)\",\"plot_bgcolor\":\"rgb(17,17,17)\",\"polar\":{\"angularaxis\":{\"gridcolor\":\"#506784\",\"linecolor\":\"#506784\",\"ticks\":\"\"},\"bgcolor\":\"rgb(17,17,17)\",\"radialaxis\":{\"gridcolor\":\"#506784\",\"linecolor\":\"#506784\",\"ticks\":\"\"}},\"scene\":{\"xaxis\":{\"backgroundcolor\":\"rgb(17,17,17)\",\"gridcolor\":\"#506784\",\"gridwidth\":2,\"linecolor\":\"#506784\",\"showbackground\":true,\"ticks\":\"\",\"zerolinecolor\":\"#C8D4E3\"},\"yaxis\":{\"backgroundcolor\":\"rgb(17,17,17)\",\"gridcolor\":\"#506784\",\"gridwidth\":2,\"linecolor\":\"#506784\",\"showbackground\":true,\"ticks\":\"\",\"zerolinecolor\":\"#C8D4E3\"},\"zaxis\":{\"backgroundcolor\":\"rgb(17,17,17)\",\"gridcolor\":\"#506784\",\"gridwidth\":2,\"linecolor\":\"#506784\",\"showbackground\":true,\"ticks\":\"\",\"zerolinecolor\":\"#C8D4E3\"}},\"shapedefaults\":{\"line\":{\"color\":\"#f2f5fa\"}},\"sliderdefaults\":{\"bgcolor\":\"#C8D4E3\",\"bordercolor\":\"rgb(17,17,17)\",\"borderwidth\":1,\"tickwidth\":0},\"ternary\":{\"aaxis\":{\"gridcolor\":\"#506784\",\"linecolor\":\"#506784\",\"ticks\":\"\"},\"baxis\":{\"gridcolor\":\"#506784\",\"linecolor\":\"#506784\",\"ticks\":\"\"},\"bgcolor\":\"rgb(17,17,17)\",\"caxis\":{\"gridcolor\":\"#506784\",\"linecolor\":\"#506784\",\"ticks\":\"\"}},\"title\":{\"x\":0.05},\"updatemenudefaults\":{\"bgcolor\":\"#506784\",\"borderwidth\":0},\"xaxis\":{\"automargin\":true,\"gridcolor\":\"#283442\",\"linecolor\":\"#506784\",\"ticks\":\"\",\"title\":{\"standoff\":15},\"zerolinecolor\":\"#283442\",\"zerolinewidth\":2},\"yaxis\":{\"automargin\":true,\"gridcolor\":\"#283442\",\"linecolor\":\"#506784\",\"ticks\":\"\",\"title\":{\"standoff\":15},\"zerolinecolor\":\"#283442\",\"zerolinewidth\":2}}},\"xaxis\":{\"anchor\":\"y\",\"domain\":[0.0,1.0],\"title\":{\"text\":\"x\"},\"range\":[1.0,7.4]},\"yaxis\":{\"anchor\":\"x\",\"domain\":[0.0,1.0],\"title\":{\"text\":\"y\"},\"range\":[-10,10]},\"legend\":{\"tracegroupgap\":0},\"title\":{\"text\":\"Line Plot\"}},                        {\"responsive\": true}                    ).then(function(){\n                            \nvar gd = document.getElementById('10f39ebe-f42c-4eef-9d01-38b4b6378ff4');\nvar x = new MutationObserver(function (mutations, observer) {{\n        var display = window.getComputedStyle(gd).display;\n        if (!display || display === 'none') {{\n            console.log([gd, 'removed!']);\n            Plotly.purge(gd);\n            observer.disconnect();\n        }}\n}});\n\n// Listen for the removal of the full notebook cells\nvar notebookContainer = gd.closest('#notebook-container');\nif (notebookContainer) {{\n    x.observe(notebookContainer, {childList: true});\n}}\n\n// Listen for the clearing of the current output cell\nvar outputEl = gd.closest('.output');\nif (outputEl) {{\n    x.observe(outputEl, {childList: true});\n}}\n\n                        })                };                });            </script>        </div>"
     },
     "metadata": {},
     "output_type": "display_data"
    },
    {
     "name": "stdout",
     "output_type": "stream",
     "text": [
      "CPU times: total: 15.2 s\n",
      "Wall time: 15.2 s\n"
     ]
    }
   ],
   "source": [
    "%%time\n",
    "# the magic %%time has to be the first line in the cell, and reports the total exec time of the cell.\n",
    "\n",
    "import random\n",
    "import numpy as np\n",
    "import plotly.express as px\n",
    "import tqdm\n",
    "import numba\n",
    "\n",
    "@numba.jit(nopython=True)\n",
    "def predict(x, theta):\n",
    "    # change to sum of 3 sin() terms. \n",
    "    # use np.sin() and not math.sin().\n",
    "\n",
    "    y = np.ones_like(x)\n",
    "\n",
    "    for i, x_k in enumerate(x):\n",
    "        acc: float = 0\n",
    "        for k in range(0, 9, 3):\n",
    "            acc += theta[k]*np.sin(theta[k+1]*(x_k + theta[k+2]))\n",
    "        y[i] = acc\n",
    "    return y\n",
    "\n",
    "@numba.jit(nopython=True)\n",
    "def sample_theta(size_of_theta):\n",
    "    # Do NOT CHANGE.\n",
    "    theta = np.random.uniform(-4, 4, size=size_of_theta)\n",
    "    return theta\n",
    "\n",
    "@numba.jit(nopython=True)\n",
    "def get_loss(y_hat, ys):\n",
    "    # No change needed.\n",
    "    loss = ((y_hat - ys)**2).sum()\n",
    "    return loss\n",
    "\n",
    "\n",
    "xs = np.array([1.0, 1.1, 1.2, 1.3, 1.4, 1.5, 1.6, 1.7, 1.8, 1.9, 2.0, 2.1, 2.2, 2.3, 2.4, 2.5, 2.6, 2.7, 2.8, 2.9, 3.0, 3.1, 3.2, 3.3, 3.4, 3.5, 3.6, 3.7, 3.8, 3.9, 4.0, 4.1, 4.2, 4.3, 4.4, 4.5, 4.6, 4.7, 4.8, 4.9, 5.0, 5.1, 5.2, 5.3, 5.4, 5.5, 5.6, 5.7, 5.8, 5.9, 6.0, 6.1, 6.2, 6.3, 6.4, 6.5, 6.6, 6.7, 6.8, 6.9, 7.0, 7.1, 7.2, 7.3, 7.4])\n",
    "ys = np.array([4.03, 4.19, 4.26, 4.25, 4.17, 4.03, 3.85, 3.63, 3.40, 3.16, 2.93, 2.72, 2.53, 2.39, 2.28, 2.21, 2.18, 2.19, 2.22, 2.27, 2.33, 2.39, 2.44, 2.45, 2.43, 2.36, 2.22, 2.02, 1.75, 1.41, 1.00, 0.52, -0.01, -0.60, -1.22, -1.86, -2.50, -3.13, -3.72, -4.27, -4.75, -5.15, -5.45, -5.65, -5.74, -5.70, -5.55, -5.29, -4.92, -4.44, -3.89, -3.26, -2.58, -1.86, -1.12, -0.39, 0.32, 0.98, 1.60, 2.14, 2.61, 2.99, 3.28, 3.47, 3.57])\n",
    "\n",
    "# change to the size of theta ( 9 )\n",
    "n_params = 9\n",
    "\n",
    "best_loss = float('inf')\n",
    "best_theta = sample_theta(n_params)\n",
    "\n",
    "thetas = list()\n",
    "\n",
    "loss_list = list()\n",
    "for _ in tqdm.tqdm(range(10)):\n",
    "\n",
    "    for _ in range(100000):\n",
    "        curr_theta = sample_theta(n_params)\n",
    "\n",
    "        y_hat = predict(xs, curr_theta)\n",
    "        curr_loss = get_loss(y_hat, ys)\n",
    "\n",
    "        if best_loss > curr_loss:\n",
    "            best_loss = curr_loss\n",
    "            best_theta = curr_theta\n",
    "\n",
    "        curr_theta = best_theta\n",
    "        for i in range(len(best_theta)):\n",
    "            curr_theta[i] *= random.choice([0.9, 1, 1.1])\n",
    "        y_hat = predict(y_hat, ys)\n",
    "\n",
    "        curr_loss = get_loss(y_hat, ys)\n",
    "\n",
    "        if best_loss > curr_loss:\n",
    "            best_loss = curr_loss\n",
    "            best_theta = curr_theta\n",
    "\n",
    "    loss_list.append(best_loss)\n",
    "\n",
    "print(np.sum(loss_list) / 10)\n",
    "\"\"\"\n",
    "for permutation in itertools.permutations(thetas):\n",
    "    for theta in permutation:\n",
    "        y_hat = predict(xs, theta)\n",
    "        curr_loss = get_loss(y_hat, ys)\n",
    "\n",
    "        if best_loss > curr_loss:\n",
    "            print(\"yes\")\n",
    "\"\"\"\n",
    "print(len(thetas))\n",
    "print(\"best loss:\", best_loss)\n",
    "print(\"theta:\", best_theta)\n",
    "\n",
    "    \n",
    "fig = px.line(x=xs, y=ys, title=\"Line Plot\")\n",
    "fig.add_scatter(x=xs, y=predict(xs, best_theta), mode='lines', name=\"y_hat\")\n",
    "fig.update_layout(xaxis_range=[xs.min(),xs.max()], yaxis_range=[-10,10])\n",
    "fig.show()\n",
    "\n",
    "\n"
   ]
  },
  {
   "cell_type": "markdown",
   "metadata": {
    "pycharm": {
     "name": "#%% md\n"
    }
   },
   "source": [
    "        # Task 5 -- Best Route App\n",
    "# Task 5 -- Best Route App\n",
    "\n",
    "A company called Knut Knut Transport AS is using one of the 4 routes for delivery (see Pitch\\_knutknut\\_transport.pdf for more info).\n",
    "* A -> C -> D  \n",
    "* A -> C -> E  \n",
    "* B -> C -> D  \n",
    "* B -> C -> E  \n",
    "\n",
    "They have discovered that they can transport the goods faster by picking the right route given \n",
    "only the depature time of the transport.\n",
    "\n",
    "In the file \"traffic.jsonl\" on Canvas is the collected data up to the current point in time.\n",
    "So far, they have just selected a route at random, now they want to implement a simple web-api\n",
    "that can help the drivers select the best route. \n",
    "\n",
    "* Using the data found in traffic.jsonl, create a ML model that given an time (hour:min) can select the fastest route to travel. **Be sure to document in a google doc/word/notebook/... how YOU created your ML model.** The ML model should be trained using the Fortuna algorithm.\n",
    "\n",
    "* Download the knut\\_knut\\_app.py found on canvas an implement the function: get\\_the\\_best\\_route\\_as\\_a\\_text\\_informatic(dep\\_hour, dep\\_min) such that the web application works and gives a good estimated time.\n",
    "\n",
    "* The CEO (Knut) want you to estimate how much time they can save from using this new app.\n",
    "* Prepare a VERY short presentation (pdf) on the gains and tech behind the app (random subsample will present for the class)\n",
    "\n",
    "\n",
    "Some hints:\n",
    "* Look closely at the data using both numerical analysis and visual (plotting). \n",
    "* Use the python library datetime to handle time calculations. \n",
    "* Make sure the features are scaled in a way that make sense.\n",
    "* Once you have a model working, use the python library pickle to save/load the model."
   ]
  },
  {
   "cell_type": "code",
   "execution_count": null,
   "outputs": [
    {
     "ename": "TypingError",
     "evalue": "Failed in nopython mode pipeline (step: nopython frontend)\n\u001B[1m\u001B[1mUnknown attribute 'choice' of type Module(<module 'random' from 'C:\\\\Users\\\\OlavA\\\\anaconda3\\\\lib\\\\random.py'>)\n\u001B[1m\nFile \"..\\..\\..\\..\\..\\..\\AppData\\Local\\Temp\\ipykernel_17664\\3529546279.py\", line 9:\u001B[0m\n\u001B[1m<source missing, REPL/exec in use?>\u001B[0m\n\u001B[0m\n\u001B[0m\u001B[1mDuring: typing of get attribute at C:\\Users\\OlavA\\AppData\\Local\\Temp\\ipykernel_17664\\3529546279.py (9)\u001B[0m\n\u001B[1m\nFile \"..\\..\\..\\..\\..\\..\\AppData\\Local\\Temp\\ipykernel_17664\\3529546279.py\", line 9:\u001B[0m\n\u001B[1m<source missing, REPL/exec in use?>\u001B[0m\n",
     "output_type": "error",
     "traceback": [
      "\u001B[1;31m---------------------------------------------------------------------------\u001B[0m",
      "\u001B[1;31mTypingError\u001B[0m                               Traceback (most recent call last)",
      "Input \u001B[1;32mIn [127]\u001B[0m, in \u001B[0;36m<cell line: 12>\u001B[1;34m()\u001B[0m\n\u001B[0;32m      8\u001B[0m     \u001B[38;5;28;01mfor\u001B[39;00m i \u001B[38;5;129;01min\u001B[39;00m np\u001B[38;5;241m.\u001B[39marange(\u001B[38;5;241m0\u001B[39m, \u001B[38;5;241m100\u001B[39m, \u001B[38;5;241m1\u001B[39m):\n\u001B[0;32m      9\u001B[0m         \u001B[38;5;28mprint\u001B[39m(random\u001B[38;5;241m.\u001B[39mchoice())\n\u001B[1;32m---> 12\u001B[0m \u001B[43mmain\u001B[49m\u001B[43m(\u001B[49m\u001B[43m)\u001B[49m\n",
      "File \u001B[1;32m~\\anaconda3\\lib\\site-packages\\numba\\core\\dispatcher.py:468\u001B[0m, in \u001B[0;36m_DispatcherBase._compile_for_args\u001B[1;34m(self, *args, **kws)\u001B[0m\n\u001B[0;32m    464\u001B[0m         msg \u001B[38;5;241m=\u001B[39m (\u001B[38;5;124mf\u001B[39m\u001B[38;5;124m\"\u001B[39m\u001B[38;5;132;01m{\u001B[39;00m\u001B[38;5;28mstr\u001B[39m(e)\u001B[38;5;241m.\u001B[39mrstrip()\u001B[38;5;132;01m}\u001B[39;00m\u001B[38;5;124m \u001B[39m\u001B[38;5;130;01m\\n\u001B[39;00m\u001B[38;5;130;01m\\n\u001B[39;00m\u001B[38;5;124mThis error may have been caused \u001B[39m\u001B[38;5;124m\"\u001B[39m\n\u001B[0;32m    465\u001B[0m                \u001B[38;5;124mf\u001B[39m\u001B[38;5;124m\"\u001B[39m\u001B[38;5;124mby the following argument(s):\u001B[39m\u001B[38;5;130;01m\\n\u001B[39;00m\u001B[38;5;132;01m{\u001B[39;00margs_str\u001B[38;5;132;01m}\u001B[39;00m\u001B[38;5;130;01m\\n\u001B[39;00m\u001B[38;5;124m\"\u001B[39m)\n\u001B[0;32m    466\u001B[0m         e\u001B[38;5;241m.\u001B[39mpatch_message(msg)\n\u001B[1;32m--> 468\u001B[0m     \u001B[43merror_rewrite\u001B[49m\u001B[43m(\u001B[49m\u001B[43me\u001B[49m\u001B[43m,\u001B[49m\u001B[43m \u001B[49m\u001B[38;5;124;43m'\u001B[39;49m\u001B[38;5;124;43mtyping\u001B[39;49m\u001B[38;5;124;43m'\u001B[39;49m\u001B[43m)\u001B[49m\n\u001B[0;32m    469\u001B[0m \u001B[38;5;28;01mexcept\u001B[39;00m errors\u001B[38;5;241m.\u001B[39mUnsupportedError \u001B[38;5;28;01mas\u001B[39;00m e:\n\u001B[0;32m    470\u001B[0m     \u001B[38;5;66;03m# Something unsupported is present in the user code, add help info\u001B[39;00m\n\u001B[0;32m    471\u001B[0m     error_rewrite(e, \u001B[38;5;124m'\u001B[39m\u001B[38;5;124munsupported_error\u001B[39m\u001B[38;5;124m'\u001B[39m)\n",
      "File \u001B[1;32m~\\anaconda3\\lib\\site-packages\\numba\\core\\dispatcher.py:409\u001B[0m, in \u001B[0;36m_DispatcherBase._compile_for_args.<locals>.error_rewrite\u001B[1;34m(e, issue_type)\u001B[0m\n\u001B[0;32m    407\u001B[0m     \u001B[38;5;28;01mraise\u001B[39;00m e\n\u001B[0;32m    408\u001B[0m \u001B[38;5;28;01melse\u001B[39;00m:\n\u001B[1;32m--> 409\u001B[0m     \u001B[38;5;28;01mraise\u001B[39;00m e\u001B[38;5;241m.\u001B[39mwith_traceback(\u001B[38;5;28;01mNone\u001B[39;00m)\n",
      "\u001B[1;31mTypingError\u001B[0m: Failed in nopython mode pipeline (step: nopython frontend)\n\u001B[1m\u001B[1mUnknown attribute 'choice' of type Module(<module 'random' from 'C:\\\\Users\\\\OlavA\\\\anaconda3\\\\lib\\\\random.py'>)\n\u001B[1m\nFile \"..\\..\\..\\..\\..\\..\\AppData\\Local\\Temp\\ipykernel_17664\\3529546279.py\", line 9:\u001B[0m\n\u001B[1m<source missing, REPL/exec in use?>\u001B[0m\n\u001B[0m\n\u001B[0m\u001B[1mDuring: typing of get attribute at C:\\Users\\OlavA\\AppData\\Local\\Temp\\ipykernel_17664\\3529546279.py (9)\u001B[0m\n\u001B[1m\nFile \"..\\..\\..\\..\\..\\..\\AppData\\Local\\Temp\\ipykernel_17664\\3529546279.py\", line 9:\u001B[0m\n\u001B[1m<source missing, REPL/exec in use?>\u001B[0m\n"
     ]
    }
   ],
   "source": [
    "import numpy as np\n",
    "import numba\n",
    "\n",
    "import random\n",
    "\n",
    "@numba.njit()\n",
    "def main():\n",
    "    for i in np.arange(0, 100, 1):\n",
    "        pass\n",
    "\n",
    "\n",
    "main()"
   ],
   "metadata": {
    "collapsed": false,
    "pycharm": {
     "name": "#%%\n"
    }
   }
  }
 ],
 "metadata": {
  "kernelspec": {
   "display_name": "Python 3",
   "language": "python",
   "name": "python3"
  },
  "language_info": {
   "codemirror_mode": {
    "name": "ipython",
    "version": 3
   },
   "file_extension": ".py",
   "mimetype": "text/x-python",
   "name": "python",
   "nbconvert_exporter": "python",
   "pygments_lexer": "ipython3",
   "version": "3.8.5"
  },
  "vscode": {
   "interpreter": {
    "hash": "916dbcbb3f70747c44a77c7bcd40155683ae19c65e1c03b4aa3499c5328201f1"
   }
  }
 },
 "nbformat": 4,
 "nbformat_minor": 4
}