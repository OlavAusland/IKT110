{
 "cells": [
  {
   "cell_type": "markdown",
   "source": [
    "### Handin 2\n",
    "\n",
    "# Info\n",
    "\n",
    "Everything should be completed and approved in person. Groups are fine, as 1 random person will have to present on behalf of the group.\n",
    "\n",
    "\n",
    "The objectives for this handin is:\n",
    "* Investigate loss curves\n",
    "* Linear Regression\n",
    "* Feature Encoding \n",
    "* Simple Interface with Dash\n",
    "* Speeding up with Numba"
   ],
   "metadata": {
    "collapsed": false,
    "pycharm": {
     "name": "#%% md\n"
    }
   }
  },
  {
   "cell_type": "markdown",
   "source": [
    "\n",
    "# Task 1\n",
    "\n",
    "Prove that there exist an $\\alpha \\in R$ such that $y$ becomes 2.  (Taken from a math exam at BI Nydalen)\n",
    "\n",
    "1) $\\alpha x + y = 4$   \n",
    "2) $-x + 3y = 2$  \n"
   ],
   "metadata": {
    "collapsed": false,
    "pycharm": {
     "name": "#%% md\n"
    }
   }
  },
  {
   "cell_type": "code",
   "execution_count": 7,
   "outputs": [
    {
     "name": "stdout",
     "output_type": "stream",
     "text": [
      "0.5\n"
     ]
    }
   ],
   "source": [
    "import numpy as np\n",
    "y = 2\n",
    "\n",
    "for a in np.arange(0, 10, 0.5):\n",
    "    for x in np.arange(0, 10, 0.5):\n",
    "        if(a * x + y) == 4:\n",
    "            if(-x + 3*y) == 2:\n",
    "                print(a)\n",
    "                break"
   ],
   "metadata": {
    "collapsed": false,
    "pycharm": {
     "name": "#%%\n"
    }
   }
  },
  {
   "cell_type": "markdown",
   "source": [
    "# Task 2 -- Investigating the loss curve\n",
    "\n",
    "\n",
    "We are going to investigate how an algorithm navigates the L2 loss curve, first using Fortuna then using GD.\n",
    "\n",
    "To this end we will use our very simple model $f_\\theta(x) = \\theta$ to model the training data given below.\n",
    "\n",
    "\n",
    "### Task 2a\n",
    "Visualize the model $f_\\theta(x), \\theta=0.34$ alongside the training data in the plot below.\n"
   ],
   "metadata": {
    "collapsed": false,
    "pycharm": {
     "name": "#%% md\n"
    }
   }
  },
  {
   "cell_type": "code",
   "execution_count": 8,
   "outputs": [
    {
     "data": {
      "application/vnd.plotly.v1+json": {
       "data": [
        {
         "hovertemplate": "x=%{x}<br>y=%{y}<extra></extra>",
         "legendgroup": "",
         "line": {
          "color": "#636efa",
          "dash": "solid"
         },
         "marker": {
          "symbol": "circle"
         },
         "mode": "lines",
         "name": "",
         "orientation": "v",
         "showlegend": false,
         "x": [
          0,
          1
         ],
         "xaxis": "x",
         "y": [
          0.34,
          0.34
         ],
         "yaxis": "y",
         "type": "scatter"
        },
        {
         "hovertemplate": "x=%{x}<br>y=%{y}<extra></extra>",
         "legendgroup": "",
         "marker": {
          "color": "#636efa",
          "symbol": "circle"
         },
         "mode": "markers",
         "name": "",
         "orientation": "v",
         "showlegend": false,
         "x": [
          0.0,
          0.025,
          0.05,
          0.07500000000000001,
          0.1,
          0.125,
          0.15000000000000002,
          0.17500000000000002,
          0.2,
          0.225,
          0.25,
          0.275,
          0.30000000000000004,
          0.325,
          0.35000000000000003,
          0.375,
          0.4,
          0.42500000000000004,
          0.45,
          0.47500000000000003,
          0.5,
          0.525,
          0.55,
          0.5750000000000001,
          0.6000000000000001,
          0.625,
          0.65,
          0.675,
          0.7000000000000001,
          0.7250000000000001,
          0.75,
          0.775,
          0.8,
          0.8250000000000001,
          0.8500000000000001,
          0.875,
          0.9,
          0.925,
          0.9500000000000001,
          0.9750000000000001
         ],
         "xaxis": "x",
         "y": [
          0.6249241423382981,
          0.41685598574916105,
          0.5730902003665783,
          0.2812473046312477,
          0.6915638900170404,
          0.9762634965489556,
          0.24886567865145973,
          0.5248176898788901,
          0.45990239779423275,
          0.2530220655259276,
          0.7098261242799043,
          0.5263768207083793,
          0.27619945156256187,
          0.7351725655420893,
          0.5274605669536134,
          0.2612058391657902,
          0.5443899187414383,
          0.24789078666785724,
          0.631135232535033,
          0.685580153289808,
          0.8562674089365604,
          1.0726948994576921,
          0.48264318910082354,
          0.9575035308277081,
          0.32072055231413393,
          0.5015245126037325,
          1.1729514883100005,
          0.8240809344267906,
          0.8863161178251219,
          0.6465286695721276,
          0.7178979284795742,
          0.7838696804975246,
          0.8511844303752052,
          0.7768448408515402,
          0.938309840390389,
          1.065948649662467,
          0.8797854887723804,
          0.8637893876983114,
          0.8006680246919293,
          1.288430261574879
         ],
         "yaxis": "y",
         "type": "scatter"
        }
       ],
       "layout": {
        "template": {
         "data": {
          "histogram2dcontour": [
           {
            "type": "histogram2dcontour",
            "colorbar": {
             "outlinewidth": 0,
             "ticks": ""
            },
            "colorscale": [
             [
              0.0,
              "#0d0887"
             ],
             [
              0.1111111111111111,
              "#46039f"
             ],
             [
              0.2222222222222222,
              "#7201a8"
             ],
             [
              0.3333333333333333,
              "#9c179e"
             ],
             [
              0.4444444444444444,
              "#bd3786"
             ],
             [
              0.5555555555555556,
              "#d8576b"
             ],
             [
              0.6666666666666666,
              "#ed7953"
             ],
             [
              0.7777777777777778,
              "#fb9f3a"
             ],
             [
              0.8888888888888888,
              "#fdca26"
             ],
             [
              1.0,
              "#f0f921"
             ]
            ]
           }
          ],
          "choropleth": [
           {
            "type": "choropleth",
            "colorbar": {
             "outlinewidth": 0,
             "ticks": ""
            }
           }
          ],
          "histogram2d": [
           {
            "type": "histogram2d",
            "colorbar": {
             "outlinewidth": 0,
             "ticks": ""
            },
            "colorscale": [
             [
              0.0,
              "#0d0887"
             ],
             [
              0.1111111111111111,
              "#46039f"
             ],
             [
              0.2222222222222222,
              "#7201a8"
             ],
             [
              0.3333333333333333,
              "#9c179e"
             ],
             [
              0.4444444444444444,
              "#bd3786"
             ],
             [
              0.5555555555555556,
              "#d8576b"
             ],
             [
              0.6666666666666666,
              "#ed7953"
             ],
             [
              0.7777777777777778,
              "#fb9f3a"
             ],
             [
              0.8888888888888888,
              "#fdca26"
             ],
             [
              1.0,
              "#f0f921"
             ]
            ]
           }
          ],
          "heatmap": [
           {
            "type": "heatmap",
            "colorbar": {
             "outlinewidth": 0,
             "ticks": ""
            },
            "colorscale": [
             [
              0.0,
              "#0d0887"
             ],
             [
              0.1111111111111111,
              "#46039f"
             ],
             [
              0.2222222222222222,
              "#7201a8"
             ],
             [
              0.3333333333333333,
              "#9c179e"
             ],
             [
              0.4444444444444444,
              "#bd3786"
             ],
             [
              0.5555555555555556,
              "#d8576b"
             ],
             [
              0.6666666666666666,
              "#ed7953"
             ],
             [
              0.7777777777777778,
              "#fb9f3a"
             ],
             [
              0.8888888888888888,
              "#fdca26"
             ],
             [
              1.0,
              "#f0f921"
             ]
            ]
           }
          ],
          "heatmapgl": [
           {
            "type": "heatmapgl",
            "colorbar": {
             "outlinewidth": 0,
             "ticks": ""
            },
            "colorscale": [
             [
              0.0,
              "#0d0887"
             ],
             [
              0.1111111111111111,
              "#46039f"
             ],
             [
              0.2222222222222222,
              "#7201a8"
             ],
             [
              0.3333333333333333,
              "#9c179e"
             ],
             [
              0.4444444444444444,
              "#bd3786"
             ],
             [
              0.5555555555555556,
              "#d8576b"
             ],
             [
              0.6666666666666666,
              "#ed7953"
             ],
             [
              0.7777777777777778,
              "#fb9f3a"
             ],
             [
              0.8888888888888888,
              "#fdca26"
             ],
             [
              1.0,
              "#f0f921"
             ]
            ]
           }
          ],
          "contourcarpet": [
           {
            "type": "contourcarpet",
            "colorbar": {
             "outlinewidth": 0,
             "ticks": ""
            }
           }
          ],
          "contour": [
           {
            "type": "contour",
            "colorbar": {
             "outlinewidth": 0,
             "ticks": ""
            },
            "colorscale": [
             [
              0.0,
              "#0d0887"
             ],
             [
              0.1111111111111111,
              "#46039f"
             ],
             [
              0.2222222222222222,
              "#7201a8"
             ],
             [
              0.3333333333333333,
              "#9c179e"
             ],
             [
              0.4444444444444444,
              "#bd3786"
             ],
             [
              0.5555555555555556,
              "#d8576b"
             ],
             [
              0.6666666666666666,
              "#ed7953"
             ],
             [
              0.7777777777777778,
              "#fb9f3a"
             ],
             [
              0.8888888888888888,
              "#fdca26"
             ],
             [
              1.0,
              "#f0f921"
             ]
            ]
           }
          ],
          "surface": [
           {
            "type": "surface",
            "colorbar": {
             "outlinewidth": 0,
             "ticks": ""
            },
            "colorscale": [
             [
              0.0,
              "#0d0887"
             ],
             [
              0.1111111111111111,
              "#46039f"
             ],
             [
              0.2222222222222222,
              "#7201a8"
             ],
             [
              0.3333333333333333,
              "#9c179e"
             ],
             [
              0.4444444444444444,
              "#bd3786"
             ],
             [
              0.5555555555555556,
              "#d8576b"
             ],
             [
              0.6666666666666666,
              "#ed7953"
             ],
             [
              0.7777777777777778,
              "#fb9f3a"
             ],
             [
              0.8888888888888888,
              "#fdca26"
             ],
             [
              1.0,
              "#f0f921"
             ]
            ]
           }
          ],
          "mesh3d": [
           {
            "type": "mesh3d",
            "colorbar": {
             "outlinewidth": 0,
             "ticks": ""
            }
           }
          ],
          "scatter": [
           {
            "marker": {
             "line": {
              "color": "#283442"
             }
            },
            "type": "scatter"
           }
          ],
          "parcoords": [
           {
            "type": "parcoords",
            "line": {
             "colorbar": {
              "outlinewidth": 0,
              "ticks": ""
             }
            }
           }
          ],
          "scatterpolargl": [
           {
            "type": "scatterpolargl",
            "marker": {
             "colorbar": {
              "outlinewidth": 0,
              "ticks": ""
             }
            }
           }
          ],
          "bar": [
           {
            "error_x": {
             "color": "#f2f5fa"
            },
            "error_y": {
             "color": "#f2f5fa"
            },
            "marker": {
             "line": {
              "color": "rgb(17,17,17)",
              "width": 0.5
             },
             "pattern": {
              "fillmode": "overlay",
              "size": 10,
              "solidity": 0.2
             }
            },
            "type": "bar"
           }
          ],
          "scattergeo": [
           {
            "type": "scattergeo",
            "marker": {
             "colorbar": {
              "outlinewidth": 0,
              "ticks": ""
             }
            }
           }
          ],
          "scatterpolar": [
           {
            "type": "scatterpolar",
            "marker": {
             "colorbar": {
              "outlinewidth": 0,
              "ticks": ""
             }
            }
           }
          ],
          "histogram": [
           {
            "marker": {
             "pattern": {
              "fillmode": "overlay",
              "size": 10,
              "solidity": 0.2
             }
            },
            "type": "histogram"
           }
          ],
          "scattergl": [
           {
            "marker": {
             "line": {
              "color": "#283442"
             }
            },
            "type": "scattergl"
           }
          ],
          "scatter3d": [
           {
            "type": "scatter3d",
            "line": {
             "colorbar": {
              "outlinewidth": 0,
              "ticks": ""
             }
            },
            "marker": {
             "colorbar": {
              "outlinewidth": 0,
              "ticks": ""
             }
            }
           }
          ],
          "scattermapbox": [
           {
            "type": "scattermapbox",
            "marker": {
             "colorbar": {
              "outlinewidth": 0,
              "ticks": ""
             }
            }
           }
          ],
          "scatterternary": [
           {
            "type": "scatterternary",
            "marker": {
             "colorbar": {
              "outlinewidth": 0,
              "ticks": ""
             }
            }
           }
          ],
          "scattercarpet": [
           {
            "type": "scattercarpet",
            "marker": {
             "colorbar": {
              "outlinewidth": 0,
              "ticks": ""
             }
            }
           }
          ],
          "carpet": [
           {
            "aaxis": {
             "endlinecolor": "#A2B1C6",
             "gridcolor": "#506784",
             "linecolor": "#506784",
             "minorgridcolor": "#506784",
             "startlinecolor": "#A2B1C6"
            },
            "baxis": {
             "endlinecolor": "#A2B1C6",
             "gridcolor": "#506784",
             "linecolor": "#506784",
             "minorgridcolor": "#506784",
             "startlinecolor": "#A2B1C6"
            },
            "type": "carpet"
           }
          ],
          "table": [
           {
            "cells": {
             "fill": {
              "color": "#506784"
             },
             "line": {
              "color": "rgb(17,17,17)"
             }
            },
            "header": {
             "fill": {
              "color": "#2a3f5f"
             },
             "line": {
              "color": "rgb(17,17,17)"
             }
            },
            "type": "table"
           }
          ],
          "barpolar": [
           {
            "marker": {
             "line": {
              "color": "rgb(17,17,17)",
              "width": 0.5
             },
             "pattern": {
              "fillmode": "overlay",
              "size": 10,
              "solidity": 0.2
             }
            },
            "type": "barpolar"
           }
          ],
          "pie": [
           {
            "automargin": true,
            "type": "pie"
           }
          ]
         },
         "layout": {
          "autotypenumbers": "strict",
          "colorway": [
           "#636efa",
           "#EF553B",
           "#00cc96",
           "#ab63fa",
           "#FFA15A",
           "#19d3f3",
           "#FF6692",
           "#B6E880",
           "#FF97FF",
           "#FECB52"
          ],
          "font": {
           "color": "#f2f5fa"
          },
          "hovermode": "closest",
          "hoverlabel": {
           "align": "left"
          },
          "paper_bgcolor": "rgb(17,17,17)",
          "plot_bgcolor": "rgb(17,17,17)",
          "polar": {
           "bgcolor": "rgb(17,17,17)",
           "angularaxis": {
            "gridcolor": "#506784",
            "linecolor": "#506784",
            "ticks": ""
           },
           "radialaxis": {
            "gridcolor": "#506784",
            "linecolor": "#506784",
            "ticks": ""
           }
          },
          "ternary": {
           "bgcolor": "rgb(17,17,17)",
           "aaxis": {
            "gridcolor": "#506784",
            "linecolor": "#506784",
            "ticks": ""
           },
           "baxis": {
            "gridcolor": "#506784",
            "linecolor": "#506784",
            "ticks": ""
           },
           "caxis": {
            "gridcolor": "#506784",
            "linecolor": "#506784",
            "ticks": ""
           }
          },
          "coloraxis": {
           "colorbar": {
            "outlinewidth": 0,
            "ticks": ""
           }
          },
          "colorscale": {
           "sequential": [
            [
             0.0,
             "#0d0887"
            ],
            [
             0.1111111111111111,
             "#46039f"
            ],
            [
             0.2222222222222222,
             "#7201a8"
            ],
            [
             0.3333333333333333,
             "#9c179e"
            ],
            [
             0.4444444444444444,
             "#bd3786"
            ],
            [
             0.5555555555555556,
             "#d8576b"
            ],
            [
             0.6666666666666666,
             "#ed7953"
            ],
            [
             0.7777777777777778,
             "#fb9f3a"
            ],
            [
             0.8888888888888888,
             "#fdca26"
            ],
            [
             1.0,
             "#f0f921"
            ]
           ],
           "sequentialminus": [
            [
             0.0,
             "#0d0887"
            ],
            [
             0.1111111111111111,
             "#46039f"
            ],
            [
             0.2222222222222222,
             "#7201a8"
            ],
            [
             0.3333333333333333,
             "#9c179e"
            ],
            [
             0.4444444444444444,
             "#bd3786"
            ],
            [
             0.5555555555555556,
             "#d8576b"
            ],
            [
             0.6666666666666666,
             "#ed7953"
            ],
            [
             0.7777777777777778,
             "#fb9f3a"
            ],
            [
             0.8888888888888888,
             "#fdca26"
            ],
            [
             1.0,
             "#f0f921"
            ]
           ],
           "diverging": [
            [
             0,
             "#8e0152"
            ],
            [
             0.1,
             "#c51b7d"
            ],
            [
             0.2,
             "#de77ae"
            ],
            [
             0.3,
             "#f1b6da"
            ],
            [
             0.4,
             "#fde0ef"
            ],
            [
             0.5,
             "#f7f7f7"
            ],
            [
             0.6,
             "#e6f5d0"
            ],
            [
             0.7,
             "#b8e186"
            ],
            [
             0.8,
             "#7fbc41"
            ],
            [
             0.9,
             "#4d9221"
            ],
            [
             1,
             "#276419"
            ]
           ]
          },
          "xaxis": {
           "gridcolor": "#283442",
           "linecolor": "#506784",
           "ticks": "",
           "title": {
            "standoff": 15
           },
           "zerolinecolor": "#283442",
           "automargin": true,
           "zerolinewidth": 2
          },
          "yaxis": {
           "gridcolor": "#283442",
           "linecolor": "#506784",
           "ticks": "",
           "title": {
            "standoff": 15
           },
           "zerolinecolor": "#283442",
           "automargin": true,
           "zerolinewidth": 2
          },
          "scene": {
           "xaxis": {
            "backgroundcolor": "rgb(17,17,17)",
            "gridcolor": "#506784",
            "linecolor": "#506784",
            "showbackground": true,
            "ticks": "",
            "zerolinecolor": "#C8D4E3",
            "gridwidth": 2
           },
           "yaxis": {
            "backgroundcolor": "rgb(17,17,17)",
            "gridcolor": "#506784",
            "linecolor": "#506784",
            "showbackground": true,
            "ticks": "",
            "zerolinecolor": "#C8D4E3",
            "gridwidth": 2
           },
           "zaxis": {
            "backgroundcolor": "rgb(17,17,17)",
            "gridcolor": "#506784",
            "linecolor": "#506784",
            "showbackground": true,
            "ticks": "",
            "zerolinecolor": "#C8D4E3",
            "gridwidth": 2
           }
          },
          "shapedefaults": {
           "line": {
            "color": "#f2f5fa"
           }
          },
          "annotationdefaults": {
           "arrowcolor": "#f2f5fa",
           "arrowhead": 0,
           "arrowwidth": 1
          },
          "geo": {
           "bgcolor": "rgb(17,17,17)",
           "landcolor": "rgb(17,17,17)",
           "subunitcolor": "#506784",
           "showland": true,
           "showlakes": true,
           "lakecolor": "rgb(17,17,17)"
          },
          "title": {
           "x": 0.05
          },
          "updatemenudefaults": {
           "bgcolor": "#506784",
           "borderwidth": 0
          },
          "sliderdefaults": {
           "bgcolor": "#C8D4E3",
           "borderwidth": 1,
           "bordercolor": "rgb(17,17,17)",
           "tickwidth": 0
          },
          "mapbox": {
           "style": "dark"
          }
         }
        }
       },
       "config": {
        "plotlyServerURL": "https://plot.ly"
       }
      },
      "text/html": "<div>                            <div id=\"5ecebc77-aa32-4d0c-811a-994cb278dc18\" class=\"plotly-graph-div\" style=\"height:525px; width:100%;\"></div>            <script type=\"text/javascript\">                require([\"plotly\"], function(Plotly) {                    window.PLOTLYENV=window.PLOTLYENV || {};                                    if (document.getElementById(\"5ecebc77-aa32-4d0c-811a-994cb278dc18\")) {                    Plotly.newPlot(                        \"5ecebc77-aa32-4d0c-811a-994cb278dc18\",                        [{\"hovertemplate\":\"x=%{x}<br>y=%{y}<extra></extra>\",\"legendgroup\":\"\",\"line\":{\"color\":\"#636efa\",\"dash\":\"solid\"},\"marker\":{\"symbol\":\"circle\"},\"mode\":\"lines\",\"name\":\"\",\"orientation\":\"v\",\"showlegend\":false,\"x\":[0,1],\"xaxis\":\"x\",\"y\":[0.34,0.34],\"yaxis\":\"y\",\"type\":\"scatter\"},{\"hovertemplate\":\"x=%{x}<br>y=%{y}<extra></extra>\",\"legendgroup\":\"\",\"marker\":{\"color\":\"#636efa\",\"symbol\":\"circle\"},\"mode\":\"markers\",\"name\":\"\",\"orientation\":\"v\",\"showlegend\":false,\"x\":[0.0,0.025,0.05,0.07500000000000001,0.1,0.125,0.15000000000000002,0.17500000000000002,0.2,0.225,0.25,0.275,0.30000000000000004,0.325,0.35000000000000003,0.375,0.4,0.42500000000000004,0.45,0.47500000000000003,0.5,0.525,0.55,0.5750000000000001,0.6000000000000001,0.625,0.65,0.675,0.7000000000000001,0.7250000000000001,0.75,0.775,0.8,0.8250000000000001,0.8500000000000001,0.875,0.9,0.925,0.9500000000000001,0.9750000000000001],\"xaxis\":\"x\",\"y\":[0.6249241423382981,0.41685598574916105,0.5730902003665783,0.2812473046312477,0.6915638900170404,0.9762634965489556,0.24886567865145973,0.5248176898788901,0.45990239779423275,0.2530220655259276,0.7098261242799043,0.5263768207083793,0.27619945156256187,0.7351725655420893,0.5274605669536134,0.2612058391657902,0.5443899187414383,0.24789078666785724,0.631135232535033,0.685580153289808,0.8562674089365604,1.0726948994576921,0.48264318910082354,0.9575035308277081,0.32072055231413393,0.5015245126037325,1.1729514883100005,0.8240809344267906,0.8863161178251219,0.6465286695721276,0.7178979284795742,0.7838696804975246,0.8511844303752052,0.7768448408515402,0.938309840390389,1.065948649662467,0.8797854887723804,0.8637893876983114,0.8006680246919293,1.288430261574879],\"yaxis\":\"y\",\"type\":\"scatter\"}],                        {\"template\":{\"data\":{\"histogram2dcontour\":[{\"type\":\"histogram2dcontour\",\"colorbar\":{\"outlinewidth\":0,\"ticks\":\"\"},\"colorscale\":[[0.0,\"#0d0887\"],[0.1111111111111111,\"#46039f\"],[0.2222222222222222,\"#7201a8\"],[0.3333333333333333,\"#9c179e\"],[0.4444444444444444,\"#bd3786\"],[0.5555555555555556,\"#d8576b\"],[0.6666666666666666,\"#ed7953\"],[0.7777777777777778,\"#fb9f3a\"],[0.8888888888888888,\"#fdca26\"],[1.0,\"#f0f921\"]]}],\"choropleth\":[{\"type\":\"choropleth\",\"colorbar\":{\"outlinewidth\":0,\"ticks\":\"\"}}],\"histogram2d\":[{\"type\":\"histogram2d\",\"colorbar\":{\"outlinewidth\":0,\"ticks\":\"\"},\"colorscale\":[[0.0,\"#0d0887\"],[0.1111111111111111,\"#46039f\"],[0.2222222222222222,\"#7201a8\"],[0.3333333333333333,\"#9c179e\"],[0.4444444444444444,\"#bd3786\"],[0.5555555555555556,\"#d8576b\"],[0.6666666666666666,\"#ed7953\"],[0.7777777777777778,\"#fb9f3a\"],[0.8888888888888888,\"#fdca26\"],[1.0,\"#f0f921\"]]}],\"heatmap\":[{\"type\":\"heatmap\",\"colorbar\":{\"outlinewidth\":0,\"ticks\":\"\"},\"colorscale\":[[0.0,\"#0d0887\"],[0.1111111111111111,\"#46039f\"],[0.2222222222222222,\"#7201a8\"],[0.3333333333333333,\"#9c179e\"],[0.4444444444444444,\"#bd3786\"],[0.5555555555555556,\"#d8576b\"],[0.6666666666666666,\"#ed7953\"],[0.7777777777777778,\"#fb9f3a\"],[0.8888888888888888,\"#fdca26\"],[1.0,\"#f0f921\"]]}],\"heatmapgl\":[{\"type\":\"heatmapgl\",\"colorbar\":{\"outlinewidth\":0,\"ticks\":\"\"},\"colorscale\":[[0.0,\"#0d0887\"],[0.1111111111111111,\"#46039f\"],[0.2222222222222222,\"#7201a8\"],[0.3333333333333333,\"#9c179e\"],[0.4444444444444444,\"#bd3786\"],[0.5555555555555556,\"#d8576b\"],[0.6666666666666666,\"#ed7953\"],[0.7777777777777778,\"#fb9f3a\"],[0.8888888888888888,\"#fdca26\"],[1.0,\"#f0f921\"]]}],\"contourcarpet\":[{\"type\":\"contourcarpet\",\"colorbar\":{\"outlinewidth\":0,\"ticks\":\"\"}}],\"contour\":[{\"type\":\"contour\",\"colorbar\":{\"outlinewidth\":0,\"ticks\":\"\"},\"colorscale\":[[0.0,\"#0d0887\"],[0.1111111111111111,\"#46039f\"],[0.2222222222222222,\"#7201a8\"],[0.3333333333333333,\"#9c179e\"],[0.4444444444444444,\"#bd3786\"],[0.5555555555555556,\"#d8576b\"],[0.6666666666666666,\"#ed7953\"],[0.7777777777777778,\"#fb9f3a\"],[0.8888888888888888,\"#fdca26\"],[1.0,\"#f0f921\"]]}],\"surface\":[{\"type\":\"surface\",\"colorbar\":{\"outlinewidth\":0,\"ticks\":\"\"},\"colorscale\":[[0.0,\"#0d0887\"],[0.1111111111111111,\"#46039f\"],[0.2222222222222222,\"#7201a8\"],[0.3333333333333333,\"#9c179e\"],[0.4444444444444444,\"#bd3786\"],[0.5555555555555556,\"#d8576b\"],[0.6666666666666666,\"#ed7953\"],[0.7777777777777778,\"#fb9f3a\"],[0.8888888888888888,\"#fdca26\"],[1.0,\"#f0f921\"]]}],\"mesh3d\":[{\"type\":\"mesh3d\",\"colorbar\":{\"outlinewidth\":0,\"ticks\":\"\"}}],\"scatter\":[{\"marker\":{\"line\":{\"color\":\"#283442\"}},\"type\":\"scatter\"}],\"parcoords\":[{\"type\":\"parcoords\",\"line\":{\"colorbar\":{\"outlinewidth\":0,\"ticks\":\"\"}}}],\"scatterpolargl\":[{\"type\":\"scatterpolargl\",\"marker\":{\"colorbar\":{\"outlinewidth\":0,\"ticks\":\"\"}}}],\"bar\":[{\"error_x\":{\"color\":\"#f2f5fa\"},\"error_y\":{\"color\":\"#f2f5fa\"},\"marker\":{\"line\":{\"color\":\"rgb(17,17,17)\",\"width\":0.5},\"pattern\":{\"fillmode\":\"overlay\",\"size\":10,\"solidity\":0.2}},\"type\":\"bar\"}],\"scattergeo\":[{\"type\":\"scattergeo\",\"marker\":{\"colorbar\":{\"outlinewidth\":0,\"ticks\":\"\"}}}],\"scatterpolar\":[{\"type\":\"scatterpolar\",\"marker\":{\"colorbar\":{\"outlinewidth\":0,\"ticks\":\"\"}}}],\"histogram\":[{\"marker\":{\"pattern\":{\"fillmode\":\"overlay\",\"size\":10,\"solidity\":0.2}},\"type\":\"histogram\"}],\"scattergl\":[{\"marker\":{\"line\":{\"color\":\"#283442\"}},\"type\":\"scattergl\"}],\"scatter3d\":[{\"type\":\"scatter3d\",\"line\":{\"colorbar\":{\"outlinewidth\":0,\"ticks\":\"\"}},\"marker\":{\"colorbar\":{\"outlinewidth\":0,\"ticks\":\"\"}}}],\"scattermapbox\":[{\"type\":\"scattermapbox\",\"marker\":{\"colorbar\":{\"outlinewidth\":0,\"ticks\":\"\"}}}],\"scatterternary\":[{\"type\":\"scatterternary\",\"marker\":{\"colorbar\":{\"outlinewidth\":0,\"ticks\":\"\"}}}],\"scattercarpet\":[{\"type\":\"scattercarpet\",\"marker\":{\"colorbar\":{\"outlinewidth\":0,\"ticks\":\"\"}}}],\"carpet\":[{\"aaxis\":{\"endlinecolor\":\"#A2B1C6\",\"gridcolor\":\"#506784\",\"linecolor\":\"#506784\",\"minorgridcolor\":\"#506784\",\"startlinecolor\":\"#A2B1C6\"},\"baxis\":{\"endlinecolor\":\"#A2B1C6\",\"gridcolor\":\"#506784\",\"linecolor\":\"#506784\",\"minorgridcolor\":\"#506784\",\"startlinecolor\":\"#A2B1C6\"},\"type\":\"carpet\"}],\"table\":[{\"cells\":{\"fill\":{\"color\":\"#506784\"},\"line\":{\"color\":\"rgb(17,17,17)\"}},\"header\":{\"fill\":{\"color\":\"#2a3f5f\"},\"line\":{\"color\":\"rgb(17,17,17)\"}},\"type\":\"table\"}],\"barpolar\":[{\"marker\":{\"line\":{\"color\":\"rgb(17,17,17)\",\"width\":0.5},\"pattern\":{\"fillmode\":\"overlay\",\"size\":10,\"solidity\":0.2}},\"type\":\"barpolar\"}],\"pie\":[{\"automargin\":true,\"type\":\"pie\"}]},\"layout\":{\"autotypenumbers\":\"strict\",\"colorway\":[\"#636efa\",\"#EF553B\",\"#00cc96\",\"#ab63fa\",\"#FFA15A\",\"#19d3f3\",\"#FF6692\",\"#B6E880\",\"#FF97FF\",\"#FECB52\"],\"font\":{\"color\":\"#f2f5fa\"},\"hovermode\":\"closest\",\"hoverlabel\":{\"align\":\"left\"},\"paper_bgcolor\":\"rgb(17,17,17)\",\"plot_bgcolor\":\"rgb(17,17,17)\",\"polar\":{\"bgcolor\":\"rgb(17,17,17)\",\"angularaxis\":{\"gridcolor\":\"#506784\",\"linecolor\":\"#506784\",\"ticks\":\"\"},\"radialaxis\":{\"gridcolor\":\"#506784\",\"linecolor\":\"#506784\",\"ticks\":\"\"}},\"ternary\":{\"bgcolor\":\"rgb(17,17,17)\",\"aaxis\":{\"gridcolor\":\"#506784\",\"linecolor\":\"#506784\",\"ticks\":\"\"},\"baxis\":{\"gridcolor\":\"#506784\",\"linecolor\":\"#506784\",\"ticks\":\"\"},\"caxis\":{\"gridcolor\":\"#506784\",\"linecolor\":\"#506784\",\"ticks\":\"\"}},\"coloraxis\":{\"colorbar\":{\"outlinewidth\":0,\"ticks\":\"\"}},\"colorscale\":{\"sequential\":[[0.0,\"#0d0887\"],[0.1111111111111111,\"#46039f\"],[0.2222222222222222,\"#7201a8\"],[0.3333333333333333,\"#9c179e\"],[0.4444444444444444,\"#bd3786\"],[0.5555555555555556,\"#d8576b\"],[0.6666666666666666,\"#ed7953\"],[0.7777777777777778,\"#fb9f3a\"],[0.8888888888888888,\"#fdca26\"],[1.0,\"#f0f921\"]],\"sequentialminus\":[[0.0,\"#0d0887\"],[0.1111111111111111,\"#46039f\"],[0.2222222222222222,\"#7201a8\"],[0.3333333333333333,\"#9c179e\"],[0.4444444444444444,\"#bd3786\"],[0.5555555555555556,\"#d8576b\"],[0.6666666666666666,\"#ed7953\"],[0.7777777777777778,\"#fb9f3a\"],[0.8888888888888888,\"#fdca26\"],[1.0,\"#f0f921\"]],\"diverging\":[[0,\"#8e0152\"],[0.1,\"#c51b7d\"],[0.2,\"#de77ae\"],[0.3,\"#f1b6da\"],[0.4,\"#fde0ef\"],[0.5,\"#f7f7f7\"],[0.6,\"#e6f5d0\"],[0.7,\"#b8e186\"],[0.8,\"#7fbc41\"],[0.9,\"#4d9221\"],[1,\"#276419\"]]},\"xaxis\":{\"gridcolor\":\"#283442\",\"linecolor\":\"#506784\",\"ticks\":\"\",\"title\":{\"standoff\":15},\"zerolinecolor\":\"#283442\",\"automargin\":true,\"zerolinewidth\":2},\"yaxis\":{\"gridcolor\":\"#283442\",\"linecolor\":\"#506784\",\"ticks\":\"\",\"title\":{\"standoff\":15},\"zerolinecolor\":\"#283442\",\"automargin\":true,\"zerolinewidth\":2},\"scene\":{\"xaxis\":{\"backgroundcolor\":\"rgb(17,17,17)\",\"gridcolor\":\"#506784\",\"linecolor\":\"#506784\",\"showbackground\":true,\"ticks\":\"\",\"zerolinecolor\":\"#C8D4E3\",\"gridwidth\":2},\"yaxis\":{\"backgroundcolor\":\"rgb(17,17,17)\",\"gridcolor\":\"#506784\",\"linecolor\":\"#506784\",\"showbackground\":true,\"ticks\":\"\",\"zerolinecolor\":\"#C8D4E3\",\"gridwidth\":2},\"zaxis\":{\"backgroundcolor\":\"rgb(17,17,17)\",\"gridcolor\":\"#506784\",\"linecolor\":\"#506784\",\"showbackground\":true,\"ticks\":\"\",\"zerolinecolor\":\"#C8D4E3\",\"gridwidth\":2}},\"shapedefaults\":{\"line\":{\"color\":\"#f2f5fa\"}},\"annotationdefaults\":{\"arrowcolor\":\"#f2f5fa\",\"arrowhead\":0,\"arrowwidth\":1},\"geo\":{\"bgcolor\":\"rgb(17,17,17)\",\"landcolor\":\"rgb(17,17,17)\",\"subunitcolor\":\"#506784\",\"showland\":true,\"showlakes\":true,\"lakecolor\":\"rgb(17,17,17)\"},\"title\":{\"x\":0.05},\"updatemenudefaults\":{\"bgcolor\":\"#506784\",\"borderwidth\":0},\"sliderdefaults\":{\"bgcolor\":\"#C8D4E3\",\"borderwidth\":1,\"bordercolor\":\"rgb(17,17,17)\",\"tickwidth\":0},\"mapbox\":{\"style\":\"dark\"}}}},                        {\"responsive\": true}                    ).then(function(){\n                            \nvar gd = document.getElementById('5ecebc77-aa32-4d0c-811a-994cb278dc18');\nvar x = new MutationObserver(function (mutations, observer) {{\n        var display = window.getComputedStyle(gd).display;\n        if (!display || display === 'none') {{\n            console.log([gd, 'removed!']);\n            Plotly.purge(gd);\n            observer.disconnect();\n        }}\n}});\n\n// Listen for the removal of the full notebook cells\nvar notebookContainer = gd.closest('#notebook-container');\nif (notebookContainer) {{\n    x.observe(notebookContainer, {childList: true});\n}}\n\n// Listen for the clearing of the current output cell\nvar outputEl = gd.closest('.output');\nif (outputEl) {{\n    x.observe(outputEl, {childList: true});\n}}\n\n                        })                };                });            </script>        </div>"
     },
     "metadata": {},
     "output_type": "display_data"
    }
   ],
   "source": [
    "import numpy as np\n",
    "import plotly.express as px\n",
    "import plotly.graph_objects as go\n",
    "\n",
    "\n",
    "x_train = np.arange(0.0, 1.0, 0.025)\n",
    "y_train = 0.4 + x_train * 0.55 + np.random.randn(x_train.shape[0])*0.2\n",
    "\n",
    "\n",
    "figure = go.Figure(data=px.line(x=[0,1], y=[0.34, 0.34]).data + px.scatter(x=x_train, y=y_train, title=\"train dataset\").data)\n",
    "figure.show()"
   ],
   "metadata": {
    "collapsed": false,
    "pycharm": {
     "name": "#%%\n"
    }
   }
  },
  {
   "cell_type": "markdown",
   "source": [
    "### Task 2b\n",
    "\n",
    "Create a plot that shows the loss curve for $\\theta$ in the range [0, 1], using the Mean Squared Error loss function.  \n",
    "That is, $L(x, y) = \\frac{1}{m} \\sum [ f_\\theta(x_k) - y_k)^2 ]$. Where $m$ is the number of data points in the training set. Remember: $f_{\\theta}(x) = \\theta$.\n",
    "\n",
    "\n",
    "Using the plot find the value of $\\theta$ that minimize the loss.\n"
   ],
   "metadata": {
    "collapsed": false,
    "pycharm": {
     "name": "#%% md\n"
    }
   }
  },
  {
   "cell_type": "code",
   "execution_count": 9,
   "outputs": [
    {
     "name": "stdout",
     "output_type": "stream",
     "text": [
      "Best loss: 0.04709877607910298, with theta: 0.65\n"
     ]
    },
    {
     "data": {
      "application/vnd.plotly.v1+json": {
       "data": [
        {
         "hovertemplate": "x=%{x}<br>y=%{y}<extra></extra>",
         "legendgroup": "",
         "line": {
          "color": "#636efa",
          "dash": "solid"
         },
         "marker": {
          "symbol": "circle"
         },
         "mode": "lines",
         "name": "",
         "orientation": "v",
         "showlegend": false,
         "x": [
          0.0,
          0.025,
          0.05,
          0.07500000000000001,
          0.1,
          0.125,
          0.15000000000000002,
          0.17500000000000002,
          0.2,
          0.225,
          0.25,
          0.275,
          0.30000000000000004,
          0.325,
          0.35000000000000003,
          0.375,
          0.4,
          0.42500000000000004,
          0.45,
          0.47500000000000003,
          0.5,
          0.525,
          0.55,
          0.5750000000000001,
          0.6000000000000001,
          0.625,
          0.65,
          0.675,
          0.7000000000000001,
          0.7250000000000001,
          0.75,
          0.775,
          0.8,
          0.8250000000000001,
          0.8500000000000001,
          0.875,
          0.9,
          0.925,
          0.9500000000000001,
          0.9750000000000001
         ],
         "xaxis": "x",
         "y": [
          0.4633014733717232,
          0.43166867732200703,
          0.40128588127229076,
          0.37215308522257473,
          0.34427028917285857,
          0.3176374931231424,
          0.2922546970734262,
          0.26812190102371,
          0.2452391049739939,
          0.22360630892427774,
          0.20322351287456156,
          0.18409071682484537,
          0.16620792077512922,
          0.14957512472541307,
          0.1341923286756969,
          0.12005953262598075,
          0.10717673657626457,
          0.09554394052654841,
          0.08516114447683228,
          0.07602834842711609,
          0.06814555237739994,
          0.061512756327683785,
          0.05612996027796762,
          0.05199716422825146,
          0.049114368178535296,
          0.04748157212881914,
          0.04709877607910298,
          0.047965980029386825,
          0.05008318397967067,
          0.05345038792995452,
          0.058067591880238335,
          0.06393479583052218,
          0.07105199978080604,
          0.07941920373108989,
          0.08903640768137373,
          0.09990361163165754,
          0.1120208155819414,
          0.12538801953222525,
          0.1400052234825091,
          0.15587242743279295
         ],
         "yaxis": "y",
         "type": "scatter"
        },
        {
         "hovertemplate": "x=%{x}<br>y=%{y}<extra></extra>",
         "legendgroup": "",
         "marker": {
          "color": "#636efa",
          "symbol": "circle"
         },
         "mode": "markers",
         "name": "",
         "orientation": "v",
         "showlegend": false,
         "x": [
          0.0,
          0.025,
          0.05,
          0.07500000000000001,
          0.1,
          0.125,
          0.15000000000000002,
          0.17500000000000002,
          0.2,
          0.225,
          0.25,
          0.275,
          0.30000000000000004,
          0.325,
          0.35000000000000003,
          0.375,
          0.4,
          0.42500000000000004,
          0.45,
          0.47500000000000003,
          0.5,
          0.525,
          0.55,
          0.5750000000000001,
          0.6000000000000001,
          0.625,
          0.65,
          0.675,
          0.7000000000000001,
          0.7250000000000001,
          0.75,
          0.775,
          0.8,
          0.8250000000000001,
          0.8500000000000001,
          0.875,
          0.9,
          0.925,
          0.9500000000000001,
          0.9750000000000001
         ],
         "xaxis": "x",
         "y": [
          0.4678072861622744,
          0.4369473996772143,
          0.29552968027447013,
          0.5222889920101614,
          0.1768993715012152,
          0.535588270593385,
          0.5484051706285542,
          0.3327149334475079,
          0.2889316751312713,
          0.5764589138583043,
          0.8043753531749147,
          0.6997258615003871,
          0.5875865233631895,
          0.44733650813220927,
          0.894984071286461,
          0.5813585706744951,
          0.7454392024310864,
          0.7050857047680352,
          0.49646240550677534,
          0.6600785237442046,
          0.48959441712015705,
          0.7253505496124132,
          0.7761665889622562,
          0.6038946295275828,
          0.6538846896845014,
          0.6225257991009987,
          0.7819097059127839,
          0.5737186892916171,
          0.5334345612700973,
          0.5810489874364179,
          0.6679294789901093,
          0.7018808002278039,
          0.6856736273072446,
          1.2189959176527623,
          1.0782895331265254,
          0.571701341585733,
          1.0704232063135541,
          0.7314764831766104,
          0.8837038879140102,
          1.0506295276936333
         ],
         "yaxis": "y",
         "type": "scatter"
        }
       ],
       "layout": {
        "template": {
         "data": {
          "histogram2dcontour": [
           {
            "type": "histogram2dcontour",
            "colorbar": {
             "outlinewidth": 0,
             "ticks": ""
            },
            "colorscale": [
             [
              0.0,
              "#0d0887"
             ],
             [
              0.1111111111111111,
              "#46039f"
             ],
             [
              0.2222222222222222,
              "#7201a8"
             ],
             [
              0.3333333333333333,
              "#9c179e"
             ],
             [
              0.4444444444444444,
              "#bd3786"
             ],
             [
              0.5555555555555556,
              "#d8576b"
             ],
             [
              0.6666666666666666,
              "#ed7953"
             ],
             [
              0.7777777777777778,
              "#fb9f3a"
             ],
             [
              0.8888888888888888,
              "#fdca26"
             ],
             [
              1.0,
              "#f0f921"
             ]
            ]
           }
          ],
          "choropleth": [
           {
            "type": "choropleth",
            "colorbar": {
             "outlinewidth": 0,
             "ticks": ""
            }
           }
          ],
          "histogram2d": [
           {
            "type": "histogram2d",
            "colorbar": {
             "outlinewidth": 0,
             "ticks": ""
            },
            "colorscale": [
             [
              0.0,
              "#0d0887"
             ],
             [
              0.1111111111111111,
              "#46039f"
             ],
             [
              0.2222222222222222,
              "#7201a8"
             ],
             [
              0.3333333333333333,
              "#9c179e"
             ],
             [
              0.4444444444444444,
              "#bd3786"
             ],
             [
              0.5555555555555556,
              "#d8576b"
             ],
             [
              0.6666666666666666,
              "#ed7953"
             ],
             [
              0.7777777777777778,
              "#fb9f3a"
             ],
             [
              0.8888888888888888,
              "#fdca26"
             ],
             [
              1.0,
              "#f0f921"
             ]
            ]
           }
          ],
          "heatmap": [
           {
            "type": "heatmap",
            "colorbar": {
             "outlinewidth": 0,
             "ticks": ""
            },
            "colorscale": [
             [
              0.0,
              "#0d0887"
             ],
             [
              0.1111111111111111,
              "#46039f"
             ],
             [
              0.2222222222222222,
              "#7201a8"
             ],
             [
              0.3333333333333333,
              "#9c179e"
             ],
             [
              0.4444444444444444,
              "#bd3786"
             ],
             [
              0.5555555555555556,
              "#d8576b"
             ],
             [
              0.6666666666666666,
              "#ed7953"
             ],
             [
              0.7777777777777778,
              "#fb9f3a"
             ],
             [
              0.8888888888888888,
              "#fdca26"
             ],
             [
              1.0,
              "#f0f921"
             ]
            ]
           }
          ],
          "heatmapgl": [
           {
            "type": "heatmapgl",
            "colorbar": {
             "outlinewidth": 0,
             "ticks": ""
            },
            "colorscale": [
             [
              0.0,
              "#0d0887"
             ],
             [
              0.1111111111111111,
              "#46039f"
             ],
             [
              0.2222222222222222,
              "#7201a8"
             ],
             [
              0.3333333333333333,
              "#9c179e"
             ],
             [
              0.4444444444444444,
              "#bd3786"
             ],
             [
              0.5555555555555556,
              "#d8576b"
             ],
             [
              0.6666666666666666,
              "#ed7953"
             ],
             [
              0.7777777777777778,
              "#fb9f3a"
             ],
             [
              0.8888888888888888,
              "#fdca26"
             ],
             [
              1.0,
              "#f0f921"
             ]
            ]
           }
          ],
          "contourcarpet": [
           {
            "type": "contourcarpet",
            "colorbar": {
             "outlinewidth": 0,
             "ticks": ""
            }
           }
          ],
          "contour": [
           {
            "type": "contour",
            "colorbar": {
             "outlinewidth": 0,
             "ticks": ""
            },
            "colorscale": [
             [
              0.0,
              "#0d0887"
             ],
             [
              0.1111111111111111,
              "#46039f"
             ],
             [
              0.2222222222222222,
              "#7201a8"
             ],
             [
              0.3333333333333333,
              "#9c179e"
             ],
             [
              0.4444444444444444,
              "#bd3786"
             ],
             [
              0.5555555555555556,
              "#d8576b"
             ],
             [
              0.6666666666666666,
              "#ed7953"
             ],
             [
              0.7777777777777778,
              "#fb9f3a"
             ],
             [
              0.8888888888888888,
              "#fdca26"
             ],
             [
              1.0,
              "#f0f921"
             ]
            ]
           }
          ],
          "surface": [
           {
            "type": "surface",
            "colorbar": {
             "outlinewidth": 0,
             "ticks": ""
            },
            "colorscale": [
             [
              0.0,
              "#0d0887"
             ],
             [
              0.1111111111111111,
              "#46039f"
             ],
             [
              0.2222222222222222,
              "#7201a8"
             ],
             [
              0.3333333333333333,
              "#9c179e"
             ],
             [
              0.4444444444444444,
              "#bd3786"
             ],
             [
              0.5555555555555556,
              "#d8576b"
             ],
             [
              0.6666666666666666,
              "#ed7953"
             ],
             [
              0.7777777777777778,
              "#fb9f3a"
             ],
             [
              0.8888888888888888,
              "#fdca26"
             ],
             [
              1.0,
              "#f0f921"
             ]
            ]
           }
          ],
          "mesh3d": [
           {
            "type": "mesh3d",
            "colorbar": {
             "outlinewidth": 0,
             "ticks": ""
            }
           }
          ],
          "scatter": [
           {
            "marker": {
             "line": {
              "color": "#283442"
             }
            },
            "type": "scatter"
           }
          ],
          "parcoords": [
           {
            "type": "parcoords",
            "line": {
             "colorbar": {
              "outlinewidth": 0,
              "ticks": ""
             }
            }
           }
          ],
          "scatterpolargl": [
           {
            "type": "scatterpolargl",
            "marker": {
             "colorbar": {
              "outlinewidth": 0,
              "ticks": ""
             }
            }
           }
          ],
          "bar": [
           {
            "error_x": {
             "color": "#f2f5fa"
            },
            "error_y": {
             "color": "#f2f5fa"
            },
            "marker": {
             "line": {
              "color": "rgb(17,17,17)",
              "width": 0.5
             },
             "pattern": {
              "fillmode": "overlay",
              "size": 10,
              "solidity": 0.2
             }
            },
            "type": "bar"
           }
          ],
          "scattergeo": [
           {
            "type": "scattergeo",
            "marker": {
             "colorbar": {
              "outlinewidth": 0,
              "ticks": ""
             }
            }
           }
          ],
          "scatterpolar": [
           {
            "type": "scatterpolar",
            "marker": {
             "colorbar": {
              "outlinewidth": 0,
              "ticks": ""
             }
            }
           }
          ],
          "histogram": [
           {
            "marker": {
             "pattern": {
              "fillmode": "overlay",
              "size": 10,
              "solidity": 0.2
             }
            },
            "type": "histogram"
           }
          ],
          "scattergl": [
           {
            "marker": {
             "line": {
              "color": "#283442"
             }
            },
            "type": "scattergl"
           }
          ],
          "scatter3d": [
           {
            "type": "scatter3d",
            "line": {
             "colorbar": {
              "outlinewidth": 0,
              "ticks": ""
             }
            },
            "marker": {
             "colorbar": {
              "outlinewidth": 0,
              "ticks": ""
             }
            }
           }
          ],
          "scattermapbox": [
           {
            "type": "scattermapbox",
            "marker": {
             "colorbar": {
              "outlinewidth": 0,
              "ticks": ""
             }
            }
           }
          ],
          "scatterternary": [
           {
            "type": "scatterternary",
            "marker": {
             "colorbar": {
              "outlinewidth": 0,
              "ticks": ""
             }
            }
           }
          ],
          "scattercarpet": [
           {
            "type": "scattercarpet",
            "marker": {
             "colorbar": {
              "outlinewidth": 0,
              "ticks": ""
             }
            }
           }
          ],
          "carpet": [
           {
            "aaxis": {
             "endlinecolor": "#A2B1C6",
             "gridcolor": "#506784",
             "linecolor": "#506784",
             "minorgridcolor": "#506784",
             "startlinecolor": "#A2B1C6"
            },
            "baxis": {
             "endlinecolor": "#A2B1C6",
             "gridcolor": "#506784",
             "linecolor": "#506784",
             "minorgridcolor": "#506784",
             "startlinecolor": "#A2B1C6"
            },
            "type": "carpet"
           }
          ],
          "table": [
           {
            "cells": {
             "fill": {
              "color": "#506784"
             },
             "line": {
              "color": "rgb(17,17,17)"
             }
            },
            "header": {
             "fill": {
              "color": "#2a3f5f"
             },
             "line": {
              "color": "rgb(17,17,17)"
             }
            },
            "type": "table"
           }
          ],
          "barpolar": [
           {
            "marker": {
             "line": {
              "color": "rgb(17,17,17)",
              "width": 0.5
             },
             "pattern": {
              "fillmode": "overlay",
              "size": 10,
              "solidity": 0.2
             }
            },
            "type": "barpolar"
           }
          ],
          "pie": [
           {
            "automargin": true,
            "type": "pie"
           }
          ]
         },
         "layout": {
          "autotypenumbers": "strict",
          "colorway": [
           "#636efa",
           "#EF553B",
           "#00cc96",
           "#ab63fa",
           "#FFA15A",
           "#19d3f3",
           "#FF6692",
           "#B6E880",
           "#FF97FF",
           "#FECB52"
          ],
          "font": {
           "color": "#f2f5fa"
          },
          "hovermode": "closest",
          "hoverlabel": {
           "align": "left"
          },
          "paper_bgcolor": "rgb(17,17,17)",
          "plot_bgcolor": "rgb(17,17,17)",
          "polar": {
           "bgcolor": "rgb(17,17,17)",
           "angularaxis": {
            "gridcolor": "#506784",
            "linecolor": "#506784",
            "ticks": ""
           },
           "radialaxis": {
            "gridcolor": "#506784",
            "linecolor": "#506784",
            "ticks": ""
           }
          },
          "ternary": {
           "bgcolor": "rgb(17,17,17)",
           "aaxis": {
            "gridcolor": "#506784",
            "linecolor": "#506784",
            "ticks": ""
           },
           "baxis": {
            "gridcolor": "#506784",
            "linecolor": "#506784",
            "ticks": ""
           },
           "caxis": {
            "gridcolor": "#506784",
            "linecolor": "#506784",
            "ticks": ""
           }
          },
          "coloraxis": {
           "colorbar": {
            "outlinewidth": 0,
            "ticks": ""
           }
          },
          "colorscale": {
           "sequential": [
            [
             0.0,
             "#0d0887"
            ],
            [
             0.1111111111111111,
             "#46039f"
            ],
            [
             0.2222222222222222,
             "#7201a8"
            ],
            [
             0.3333333333333333,
             "#9c179e"
            ],
            [
             0.4444444444444444,
             "#bd3786"
            ],
            [
             0.5555555555555556,
             "#d8576b"
            ],
            [
             0.6666666666666666,
             "#ed7953"
            ],
            [
             0.7777777777777778,
             "#fb9f3a"
            ],
            [
             0.8888888888888888,
             "#fdca26"
            ],
            [
             1.0,
             "#f0f921"
            ]
           ],
           "sequentialminus": [
            [
             0.0,
             "#0d0887"
            ],
            [
             0.1111111111111111,
             "#46039f"
            ],
            [
             0.2222222222222222,
             "#7201a8"
            ],
            [
             0.3333333333333333,
             "#9c179e"
            ],
            [
             0.4444444444444444,
             "#bd3786"
            ],
            [
             0.5555555555555556,
             "#d8576b"
            ],
            [
             0.6666666666666666,
             "#ed7953"
            ],
            [
             0.7777777777777778,
             "#fb9f3a"
            ],
            [
             0.8888888888888888,
             "#fdca26"
            ],
            [
             1.0,
             "#f0f921"
            ]
           ],
           "diverging": [
            [
             0,
             "#8e0152"
            ],
            [
             0.1,
             "#c51b7d"
            ],
            [
             0.2,
             "#de77ae"
            ],
            [
             0.3,
             "#f1b6da"
            ],
            [
             0.4,
             "#fde0ef"
            ],
            [
             0.5,
             "#f7f7f7"
            ],
            [
             0.6,
             "#e6f5d0"
            ],
            [
             0.7,
             "#b8e186"
            ],
            [
             0.8,
             "#7fbc41"
            ],
            [
             0.9,
             "#4d9221"
            ],
            [
             1,
             "#276419"
            ]
           ]
          },
          "xaxis": {
           "gridcolor": "#283442",
           "linecolor": "#506784",
           "ticks": "",
           "title": {
            "standoff": 15
           },
           "zerolinecolor": "#283442",
           "automargin": true,
           "zerolinewidth": 2
          },
          "yaxis": {
           "gridcolor": "#283442",
           "linecolor": "#506784",
           "ticks": "",
           "title": {
            "standoff": 15
           },
           "zerolinecolor": "#283442",
           "automargin": true,
           "zerolinewidth": 2
          },
          "scene": {
           "xaxis": {
            "backgroundcolor": "rgb(17,17,17)",
            "gridcolor": "#506784",
            "linecolor": "#506784",
            "showbackground": true,
            "ticks": "",
            "zerolinecolor": "#C8D4E3",
            "gridwidth": 2
           },
           "yaxis": {
            "backgroundcolor": "rgb(17,17,17)",
            "gridcolor": "#506784",
            "linecolor": "#506784",
            "showbackground": true,
            "ticks": "",
            "zerolinecolor": "#C8D4E3",
            "gridwidth": 2
           },
           "zaxis": {
            "backgroundcolor": "rgb(17,17,17)",
            "gridcolor": "#506784",
            "linecolor": "#506784",
            "showbackground": true,
            "ticks": "",
            "zerolinecolor": "#C8D4E3",
            "gridwidth": 2
           }
          },
          "shapedefaults": {
           "line": {
            "color": "#f2f5fa"
           }
          },
          "annotationdefaults": {
           "arrowcolor": "#f2f5fa",
           "arrowhead": 0,
           "arrowwidth": 1
          },
          "geo": {
           "bgcolor": "rgb(17,17,17)",
           "landcolor": "rgb(17,17,17)",
           "subunitcolor": "#506784",
           "showland": true,
           "showlakes": true,
           "lakecolor": "rgb(17,17,17)"
          },
          "title": {
           "x": 0.05
          },
          "updatemenudefaults": {
           "bgcolor": "#506784",
           "borderwidth": 0
          },
          "sliderdefaults": {
           "bgcolor": "#C8D4E3",
           "borderwidth": 1,
           "bordercolor": "rgb(17,17,17)",
           "tickwidth": 0
          },
          "mapbox": {
           "style": "dark"
          }
         }
        }
       },
       "config": {
        "plotlyServerURL": "https://plot.ly"
       }
      },
      "text/html": "<div>                            <div id=\"02d66df2-0611-4cc7-8c17-89012c5f5e84\" class=\"plotly-graph-div\" style=\"height:525px; width:100%;\"></div>            <script type=\"text/javascript\">                require([\"plotly\"], function(Plotly) {                    window.PLOTLYENV=window.PLOTLYENV || {};                                    if (document.getElementById(\"02d66df2-0611-4cc7-8c17-89012c5f5e84\")) {                    Plotly.newPlot(                        \"02d66df2-0611-4cc7-8c17-89012c5f5e84\",                        [{\"hovertemplate\":\"x=%{x}<br>y=%{y}<extra></extra>\",\"legendgroup\":\"\",\"line\":{\"color\":\"#636efa\",\"dash\":\"solid\"},\"marker\":{\"symbol\":\"circle\"},\"mode\":\"lines\",\"name\":\"\",\"orientation\":\"v\",\"showlegend\":false,\"x\":[0.0,0.025,0.05,0.07500000000000001,0.1,0.125,0.15000000000000002,0.17500000000000002,0.2,0.225,0.25,0.275,0.30000000000000004,0.325,0.35000000000000003,0.375,0.4,0.42500000000000004,0.45,0.47500000000000003,0.5,0.525,0.55,0.5750000000000001,0.6000000000000001,0.625,0.65,0.675,0.7000000000000001,0.7250000000000001,0.75,0.775,0.8,0.8250000000000001,0.8500000000000001,0.875,0.9,0.925,0.9500000000000001,0.9750000000000001],\"xaxis\":\"x\",\"y\":[0.4633014733717232,0.43166867732200703,0.40128588127229076,0.37215308522257473,0.34427028917285857,0.3176374931231424,0.2922546970734262,0.26812190102371,0.2452391049739939,0.22360630892427774,0.20322351287456156,0.18409071682484537,0.16620792077512922,0.14957512472541307,0.1341923286756969,0.12005953262598075,0.10717673657626457,0.09554394052654841,0.08516114447683228,0.07602834842711609,0.06814555237739994,0.061512756327683785,0.05612996027796762,0.05199716422825146,0.049114368178535296,0.04748157212881914,0.04709877607910298,0.047965980029386825,0.05008318397967067,0.05345038792995452,0.058067591880238335,0.06393479583052218,0.07105199978080604,0.07941920373108989,0.08903640768137373,0.09990361163165754,0.1120208155819414,0.12538801953222525,0.1400052234825091,0.15587242743279295],\"yaxis\":\"y\",\"type\":\"scatter\"},{\"hovertemplate\":\"x=%{x}<br>y=%{y}<extra></extra>\",\"legendgroup\":\"\",\"marker\":{\"color\":\"#636efa\",\"symbol\":\"circle\"},\"mode\":\"markers\",\"name\":\"\",\"orientation\":\"v\",\"showlegend\":false,\"x\":[0.0,0.025,0.05,0.07500000000000001,0.1,0.125,0.15000000000000002,0.17500000000000002,0.2,0.225,0.25,0.275,0.30000000000000004,0.325,0.35000000000000003,0.375,0.4,0.42500000000000004,0.45,0.47500000000000003,0.5,0.525,0.55,0.5750000000000001,0.6000000000000001,0.625,0.65,0.675,0.7000000000000001,0.7250000000000001,0.75,0.775,0.8,0.8250000000000001,0.8500000000000001,0.875,0.9,0.925,0.9500000000000001,0.9750000000000001],\"xaxis\":\"x\",\"y\":[0.4678072861622744,0.4369473996772143,0.29552968027447013,0.5222889920101614,0.1768993715012152,0.535588270593385,0.5484051706285542,0.3327149334475079,0.2889316751312713,0.5764589138583043,0.8043753531749147,0.6997258615003871,0.5875865233631895,0.44733650813220927,0.894984071286461,0.5813585706744951,0.7454392024310864,0.7050857047680352,0.49646240550677534,0.6600785237442046,0.48959441712015705,0.7253505496124132,0.7761665889622562,0.6038946295275828,0.6538846896845014,0.6225257991009987,0.7819097059127839,0.5737186892916171,0.5334345612700973,0.5810489874364179,0.6679294789901093,0.7018808002278039,0.6856736273072446,1.2189959176527623,1.0782895331265254,0.571701341585733,1.0704232063135541,0.7314764831766104,0.8837038879140102,1.0506295276936333],\"yaxis\":\"y\",\"type\":\"scatter\"}],                        {\"template\":{\"data\":{\"histogram2dcontour\":[{\"type\":\"histogram2dcontour\",\"colorbar\":{\"outlinewidth\":0,\"ticks\":\"\"},\"colorscale\":[[0.0,\"#0d0887\"],[0.1111111111111111,\"#46039f\"],[0.2222222222222222,\"#7201a8\"],[0.3333333333333333,\"#9c179e\"],[0.4444444444444444,\"#bd3786\"],[0.5555555555555556,\"#d8576b\"],[0.6666666666666666,\"#ed7953\"],[0.7777777777777778,\"#fb9f3a\"],[0.8888888888888888,\"#fdca26\"],[1.0,\"#f0f921\"]]}],\"choropleth\":[{\"type\":\"choropleth\",\"colorbar\":{\"outlinewidth\":0,\"ticks\":\"\"}}],\"histogram2d\":[{\"type\":\"histogram2d\",\"colorbar\":{\"outlinewidth\":0,\"ticks\":\"\"},\"colorscale\":[[0.0,\"#0d0887\"],[0.1111111111111111,\"#46039f\"],[0.2222222222222222,\"#7201a8\"],[0.3333333333333333,\"#9c179e\"],[0.4444444444444444,\"#bd3786\"],[0.5555555555555556,\"#d8576b\"],[0.6666666666666666,\"#ed7953\"],[0.7777777777777778,\"#fb9f3a\"],[0.8888888888888888,\"#fdca26\"],[1.0,\"#f0f921\"]]}],\"heatmap\":[{\"type\":\"heatmap\",\"colorbar\":{\"outlinewidth\":0,\"ticks\":\"\"},\"colorscale\":[[0.0,\"#0d0887\"],[0.1111111111111111,\"#46039f\"],[0.2222222222222222,\"#7201a8\"],[0.3333333333333333,\"#9c179e\"],[0.4444444444444444,\"#bd3786\"],[0.5555555555555556,\"#d8576b\"],[0.6666666666666666,\"#ed7953\"],[0.7777777777777778,\"#fb9f3a\"],[0.8888888888888888,\"#fdca26\"],[1.0,\"#f0f921\"]]}],\"heatmapgl\":[{\"type\":\"heatmapgl\",\"colorbar\":{\"outlinewidth\":0,\"ticks\":\"\"},\"colorscale\":[[0.0,\"#0d0887\"],[0.1111111111111111,\"#46039f\"],[0.2222222222222222,\"#7201a8\"],[0.3333333333333333,\"#9c179e\"],[0.4444444444444444,\"#bd3786\"],[0.5555555555555556,\"#d8576b\"],[0.6666666666666666,\"#ed7953\"],[0.7777777777777778,\"#fb9f3a\"],[0.8888888888888888,\"#fdca26\"],[1.0,\"#f0f921\"]]}],\"contourcarpet\":[{\"type\":\"contourcarpet\",\"colorbar\":{\"outlinewidth\":0,\"ticks\":\"\"}}],\"contour\":[{\"type\":\"contour\",\"colorbar\":{\"outlinewidth\":0,\"ticks\":\"\"},\"colorscale\":[[0.0,\"#0d0887\"],[0.1111111111111111,\"#46039f\"],[0.2222222222222222,\"#7201a8\"],[0.3333333333333333,\"#9c179e\"],[0.4444444444444444,\"#bd3786\"],[0.5555555555555556,\"#d8576b\"],[0.6666666666666666,\"#ed7953\"],[0.7777777777777778,\"#fb9f3a\"],[0.8888888888888888,\"#fdca26\"],[1.0,\"#f0f921\"]]}],\"surface\":[{\"type\":\"surface\",\"colorbar\":{\"outlinewidth\":0,\"ticks\":\"\"},\"colorscale\":[[0.0,\"#0d0887\"],[0.1111111111111111,\"#46039f\"],[0.2222222222222222,\"#7201a8\"],[0.3333333333333333,\"#9c179e\"],[0.4444444444444444,\"#bd3786\"],[0.5555555555555556,\"#d8576b\"],[0.6666666666666666,\"#ed7953\"],[0.7777777777777778,\"#fb9f3a\"],[0.8888888888888888,\"#fdca26\"],[1.0,\"#f0f921\"]]}],\"mesh3d\":[{\"type\":\"mesh3d\",\"colorbar\":{\"outlinewidth\":0,\"ticks\":\"\"}}],\"scatter\":[{\"marker\":{\"line\":{\"color\":\"#283442\"}},\"type\":\"scatter\"}],\"parcoords\":[{\"type\":\"parcoords\",\"line\":{\"colorbar\":{\"outlinewidth\":0,\"ticks\":\"\"}}}],\"scatterpolargl\":[{\"type\":\"scatterpolargl\",\"marker\":{\"colorbar\":{\"outlinewidth\":0,\"ticks\":\"\"}}}],\"bar\":[{\"error_x\":{\"color\":\"#f2f5fa\"},\"error_y\":{\"color\":\"#f2f5fa\"},\"marker\":{\"line\":{\"color\":\"rgb(17,17,17)\",\"width\":0.5},\"pattern\":{\"fillmode\":\"overlay\",\"size\":10,\"solidity\":0.2}},\"type\":\"bar\"}],\"scattergeo\":[{\"type\":\"scattergeo\",\"marker\":{\"colorbar\":{\"outlinewidth\":0,\"ticks\":\"\"}}}],\"scatterpolar\":[{\"type\":\"scatterpolar\",\"marker\":{\"colorbar\":{\"outlinewidth\":0,\"ticks\":\"\"}}}],\"histogram\":[{\"marker\":{\"pattern\":{\"fillmode\":\"overlay\",\"size\":10,\"solidity\":0.2}},\"type\":\"histogram\"}],\"scattergl\":[{\"marker\":{\"line\":{\"color\":\"#283442\"}},\"type\":\"scattergl\"}],\"scatter3d\":[{\"type\":\"scatter3d\",\"line\":{\"colorbar\":{\"outlinewidth\":0,\"ticks\":\"\"}},\"marker\":{\"colorbar\":{\"outlinewidth\":0,\"ticks\":\"\"}}}],\"scattermapbox\":[{\"type\":\"scattermapbox\",\"marker\":{\"colorbar\":{\"outlinewidth\":0,\"ticks\":\"\"}}}],\"scatterternary\":[{\"type\":\"scatterternary\",\"marker\":{\"colorbar\":{\"outlinewidth\":0,\"ticks\":\"\"}}}],\"scattercarpet\":[{\"type\":\"scattercarpet\",\"marker\":{\"colorbar\":{\"outlinewidth\":0,\"ticks\":\"\"}}}],\"carpet\":[{\"aaxis\":{\"endlinecolor\":\"#A2B1C6\",\"gridcolor\":\"#506784\",\"linecolor\":\"#506784\",\"minorgridcolor\":\"#506784\",\"startlinecolor\":\"#A2B1C6\"},\"baxis\":{\"endlinecolor\":\"#A2B1C6\",\"gridcolor\":\"#506784\",\"linecolor\":\"#506784\",\"minorgridcolor\":\"#506784\",\"startlinecolor\":\"#A2B1C6\"},\"type\":\"carpet\"}],\"table\":[{\"cells\":{\"fill\":{\"color\":\"#506784\"},\"line\":{\"color\":\"rgb(17,17,17)\"}},\"header\":{\"fill\":{\"color\":\"#2a3f5f\"},\"line\":{\"color\":\"rgb(17,17,17)\"}},\"type\":\"table\"}],\"barpolar\":[{\"marker\":{\"line\":{\"color\":\"rgb(17,17,17)\",\"width\":0.5},\"pattern\":{\"fillmode\":\"overlay\",\"size\":10,\"solidity\":0.2}},\"type\":\"barpolar\"}],\"pie\":[{\"automargin\":true,\"type\":\"pie\"}]},\"layout\":{\"autotypenumbers\":\"strict\",\"colorway\":[\"#636efa\",\"#EF553B\",\"#00cc96\",\"#ab63fa\",\"#FFA15A\",\"#19d3f3\",\"#FF6692\",\"#B6E880\",\"#FF97FF\",\"#FECB52\"],\"font\":{\"color\":\"#f2f5fa\"},\"hovermode\":\"closest\",\"hoverlabel\":{\"align\":\"left\"},\"paper_bgcolor\":\"rgb(17,17,17)\",\"plot_bgcolor\":\"rgb(17,17,17)\",\"polar\":{\"bgcolor\":\"rgb(17,17,17)\",\"angularaxis\":{\"gridcolor\":\"#506784\",\"linecolor\":\"#506784\",\"ticks\":\"\"},\"radialaxis\":{\"gridcolor\":\"#506784\",\"linecolor\":\"#506784\",\"ticks\":\"\"}},\"ternary\":{\"bgcolor\":\"rgb(17,17,17)\",\"aaxis\":{\"gridcolor\":\"#506784\",\"linecolor\":\"#506784\",\"ticks\":\"\"},\"baxis\":{\"gridcolor\":\"#506784\",\"linecolor\":\"#506784\",\"ticks\":\"\"},\"caxis\":{\"gridcolor\":\"#506784\",\"linecolor\":\"#506784\",\"ticks\":\"\"}},\"coloraxis\":{\"colorbar\":{\"outlinewidth\":0,\"ticks\":\"\"}},\"colorscale\":{\"sequential\":[[0.0,\"#0d0887\"],[0.1111111111111111,\"#46039f\"],[0.2222222222222222,\"#7201a8\"],[0.3333333333333333,\"#9c179e\"],[0.4444444444444444,\"#bd3786\"],[0.5555555555555556,\"#d8576b\"],[0.6666666666666666,\"#ed7953\"],[0.7777777777777778,\"#fb9f3a\"],[0.8888888888888888,\"#fdca26\"],[1.0,\"#f0f921\"]],\"sequentialminus\":[[0.0,\"#0d0887\"],[0.1111111111111111,\"#46039f\"],[0.2222222222222222,\"#7201a8\"],[0.3333333333333333,\"#9c179e\"],[0.4444444444444444,\"#bd3786\"],[0.5555555555555556,\"#d8576b\"],[0.6666666666666666,\"#ed7953\"],[0.7777777777777778,\"#fb9f3a\"],[0.8888888888888888,\"#fdca26\"],[1.0,\"#f0f921\"]],\"diverging\":[[0,\"#8e0152\"],[0.1,\"#c51b7d\"],[0.2,\"#de77ae\"],[0.3,\"#f1b6da\"],[0.4,\"#fde0ef\"],[0.5,\"#f7f7f7\"],[0.6,\"#e6f5d0\"],[0.7,\"#b8e186\"],[0.8,\"#7fbc41\"],[0.9,\"#4d9221\"],[1,\"#276419\"]]},\"xaxis\":{\"gridcolor\":\"#283442\",\"linecolor\":\"#506784\",\"ticks\":\"\",\"title\":{\"standoff\":15},\"zerolinecolor\":\"#283442\",\"automargin\":true,\"zerolinewidth\":2},\"yaxis\":{\"gridcolor\":\"#283442\",\"linecolor\":\"#506784\",\"ticks\":\"\",\"title\":{\"standoff\":15},\"zerolinecolor\":\"#283442\",\"automargin\":true,\"zerolinewidth\":2},\"scene\":{\"xaxis\":{\"backgroundcolor\":\"rgb(17,17,17)\",\"gridcolor\":\"#506784\",\"linecolor\":\"#506784\",\"showbackground\":true,\"ticks\":\"\",\"zerolinecolor\":\"#C8D4E3\",\"gridwidth\":2},\"yaxis\":{\"backgroundcolor\":\"rgb(17,17,17)\",\"gridcolor\":\"#506784\",\"linecolor\":\"#506784\",\"showbackground\":true,\"ticks\":\"\",\"zerolinecolor\":\"#C8D4E3\",\"gridwidth\":2},\"zaxis\":{\"backgroundcolor\":\"rgb(17,17,17)\",\"gridcolor\":\"#506784\",\"linecolor\":\"#506784\",\"showbackground\":true,\"ticks\":\"\",\"zerolinecolor\":\"#C8D4E3\",\"gridwidth\":2}},\"shapedefaults\":{\"line\":{\"color\":\"#f2f5fa\"}},\"annotationdefaults\":{\"arrowcolor\":\"#f2f5fa\",\"arrowhead\":0,\"arrowwidth\":1},\"geo\":{\"bgcolor\":\"rgb(17,17,17)\",\"landcolor\":\"rgb(17,17,17)\",\"subunitcolor\":\"#506784\",\"showland\":true,\"showlakes\":true,\"lakecolor\":\"rgb(17,17,17)\"},\"title\":{\"x\":0.05},\"updatemenudefaults\":{\"bgcolor\":\"#506784\",\"borderwidth\":0},\"sliderdefaults\":{\"bgcolor\":\"#C8D4E3\",\"borderwidth\":1,\"bordercolor\":\"rgb(17,17,17)\",\"tickwidth\":0},\"mapbox\":{\"style\":\"dark\"}}}},                        {\"responsive\": true}                    ).then(function(){\n                            \nvar gd = document.getElementById('02d66df2-0611-4cc7-8c17-89012c5f5e84');\nvar x = new MutationObserver(function (mutations, observer) {{\n        var display = window.getComputedStyle(gd).display;\n        if (!display || display === 'none') {{\n            console.log([gd, 'removed!']);\n            Plotly.purge(gd);\n            observer.disconnect();\n        }}\n}});\n\n// Listen for the removal of the full notebook cells\nvar notebookContainer = gd.closest('#notebook-container');\nif (notebookContainer) {{\n    x.observe(notebookContainer, {childList: true});\n}}\n\n// Listen for the clearing of the current output cell\nvar outputEl = gd.closest('.output');\nif (outputEl) {{\n    x.observe(outputEl, {childList: true});\n}}\n\n                        })                };                });            </script>        </div>"
     },
     "metadata": {},
     "output_type": "display_data"
    }
   ],
   "source": [
    "# -- CODE -- for Task 2b goes here.\n",
    "import plotly.express as px\n",
    "import plotly.graph_objects as go\n",
    "\n",
    "\n",
    "x_train = np.arange(0.0, 1, 0.025)\n",
    "y_train = 0.4 + x_train * 0.55 + np.random.randn(x_train.shape[0])*0.2\n",
    "\n",
    "def get_loss(theta, ys):\n",
    "    return (1 / len(ys)) * ((np.ones_like(ys)*theta - ys)**2).sum()\n",
    "\n",
    "\n",
    "best_loss = np.inf\n",
    "best_theta = 0\n",
    "\n",
    "loss_curve = np.array([])\n",
    "\n",
    "for theta in np.arange(0, 1, 0.025):\n",
    "    loss = get_loss(theta, y_train)\n",
    "\n",
    "    loss_curve = np.append(loss_curve, loss)\n",
    "    if loss < best_loss:\n",
    "        best_theta = theta\n",
    "        best_loss = loss\n",
    "\n",
    "print(f'Best loss: {best_loss}, with theta: {best_theta}')\n",
    "\n",
    "\n",
    "scatter = px.scatter(x=x_train, y=y_train)\n",
    "low = px.scatter(x=[best_theta], y=[best_loss])\n",
    "\n",
    "figure = go.Figure(data=px.line(x=x_train, y=loss_curve).data + scatter.data)\n",
    "figure.show()\n"
   ],
   "metadata": {
    "collapsed": false,
    "pycharm": {
     "name": "#%%\n"
    }
   }
  },
  {
   "cell_type": "markdown",
   "source": [
    " ### Task 2c\n",
    "Redo Task 2b, however, this time we want the model to be $f_\\theta(x) = ax + b$ with $a,b \\in \\theta$.\n",
    "1) Set $b = 0.1$ and plot the loss curve over $a \\in [-1, 1]$.\n",
    "2) Set $b = 2.0$ and plot the loss curve over $a \\in [-1, 1]$.  \n",
    "Before you run the code, try to envision how the loss curves would look like.  \n",
    "How did the actual loss curves look like?\n",
    "\n"
   ],
   "metadata": {
    "collapsed": false,
    "pycharm": {
     "name": "#%% md\n"
    }
   }
  },
  {
   "cell_type": "code",
   "execution_count": 21,
   "outputs": [
    {
     "name": "stdout",
     "output_type": "stream",
     "text": [
      "Best loss: 0.43592420395835624, with theta: 0.15000000000000002\n"
     ]
    },
    {
     "data": {
      "application/vnd.plotly.v1+json": {
       "data": [
        {
         "hovertemplate": "x=%{x}<br>y=%{y}<extra></extra>",
         "legendgroup": "",
         "line": {
          "color": "#636efa",
          "dash": "solid"
         },
         "marker": {
          "symbol": "circle"
         },
         "mode": "lines",
         "name": "",
         "orientation": "v",
         "showlegend": false,
         "x": [
          0.0,
          0.025,
          0.05,
          0.07500000000000001,
          0.1,
          0.125,
          0.15000000000000002,
          0.17500000000000002,
          0.2,
          0.225,
          0.25,
          0.275,
          0.30000000000000004,
          0.325,
          0.35000000000000003,
          0.375,
          0.4,
          0.42500000000000004,
          0.45,
          0.47500000000000003,
          0.5,
          0.525,
          0.55,
          0.5750000000000001,
          0.6000000000000001,
          0.625,
          0.65,
          0.675,
          0.7000000000000001,
          0.7250000000000001,
          0.75,
          0.775,
          0.8,
          0.8250000000000001,
          0.8500000000000001,
          0.875,
          0.9,
          0.925,
          0.9500000000000001,
          0.9750000000000001
         ],
         "xaxis": "x",
         "y": [
          0.4553192156331706,
          0.44896171368736815,
          0.4438542117415658,
          0.43999670979576333,
          0.43738920784996105,
          0.4360317059041585,
          0.43592420395835624,
          0.4370667020125538,
          0.4394592000667514,
          0.443101698120949,
          0.44799419617514663,
          0.45413669422934416,
          0.46152919228354183,
          0.47017169033773937,
          0.48006418839193704,
          0.49120668644613463,
          0.5035991845003321,
          0.5172416825545298,
          0.5321341806087275,
          0.5482766786629251,
          0.5656691767171227,
          0.5843116747713203,
          0.6042041728255181,
          0.6253466708797156,
          0.6477391689339133,
          0.6713816669881107,
          0.6962741650423083,
          0.7224166630965061,
          0.7498091611507036,
          0.7784516592049013,
          0.8083441572590989,
          0.8394866553132965,
          0.8718791533674942,
          0.9055216514216916,
          0.9404141494758893,
          0.9765566475300869,
          1.0139491455842844,
          1.0525916436384821,
          1.0924841416926796,
          1.1336266397468773
         ],
         "yaxis": "y",
         "type": "scatter"
        },
        {
         "hovertemplate": "x=%{x}<br>y=%{y}<extra></extra>",
         "legendgroup": "",
         "marker": {
          "color": "#636efa",
          "symbol": "circle"
         },
         "mode": "markers",
         "name": "",
         "orientation": "v",
         "showlegend": false,
         "x": [
          0.0,
          0.025,
          0.05,
          0.07500000000000001,
          0.1,
          0.125,
          0.15000000000000002,
          0.17500000000000002,
          0.2,
          0.225,
          0.25,
          0.275,
          0.30000000000000004,
          0.325,
          0.35000000000000003,
          0.375,
          0.4,
          0.42500000000000004,
          0.45,
          0.47500000000000003,
          0.5,
          0.525,
          0.55,
          0.5750000000000001,
          0.6000000000000001,
          0.625,
          0.65,
          0.675,
          0.7000000000000001,
          0.7250000000000001,
          0.75,
          0.775,
          0.8,
          0.8250000000000001,
          0.8500000000000001,
          0.875,
          0.9,
          0.925,
          0.9500000000000001,
          0.9750000000000001
         ],
         "xaxis": "x",
         "y": [
          -0.7944029488831985,
          -1.0223885719898396,
          -0.08655839727370021,
          0.05713162813739298,
          -0.1445538446489748,
          -1.4291227120930552,
          0.6923264245780821,
          1.417019694726477,
          -0.16803455519792534,
          0.20155221278295343,
          0.06383174557686465,
          0.16167667831859234,
          0.14101289440098325,
          0.26878699785485616,
          0.34243188867055635,
          0.19187800561609314,
          -0.00918699644211507,
          0.15313326357641144,
          0.0797509182179082,
          0.10688351459859553,
          0.1000000000000005,
          0.04888505151917371,
          0.03656542014843231,
          0.23590836163612416,
          0.16228183709332883,
          0.05810485371629529,
          -0.18377098171796444,
          0.421188034392181,
          -0.3247723405072809,
          0.31249691268966545,
          0.30757189480268143,
          0.5261506205218526,
          -0.46941307079538297,
          0.5670117488766455,
          -0.6511289559274328,
          0.5378629102837362,
          2.331156628610157,
          1.6570672822854058,
          -0.9362709739409297,
          0.6259384824282679
         ],
         "yaxis": "y",
         "type": "scatter"
        }
       ],
       "layout": {
        "template": {
         "data": {
          "histogram2dcontour": [
           {
            "type": "histogram2dcontour",
            "colorbar": {
             "outlinewidth": 0,
             "ticks": ""
            },
            "colorscale": [
             [
              0.0,
              "#0d0887"
             ],
             [
              0.1111111111111111,
              "#46039f"
             ],
             [
              0.2222222222222222,
              "#7201a8"
             ],
             [
              0.3333333333333333,
              "#9c179e"
             ],
             [
              0.4444444444444444,
              "#bd3786"
             ],
             [
              0.5555555555555556,
              "#d8576b"
             ],
             [
              0.6666666666666666,
              "#ed7953"
             ],
             [
              0.7777777777777778,
              "#fb9f3a"
             ],
             [
              0.8888888888888888,
              "#fdca26"
             ],
             [
              1.0,
              "#f0f921"
             ]
            ]
           }
          ],
          "choropleth": [
           {
            "type": "choropleth",
            "colorbar": {
             "outlinewidth": 0,
             "ticks": ""
            }
           }
          ],
          "histogram2d": [
           {
            "type": "histogram2d",
            "colorbar": {
             "outlinewidth": 0,
             "ticks": ""
            },
            "colorscale": [
             [
              0.0,
              "#0d0887"
             ],
             [
              0.1111111111111111,
              "#46039f"
             ],
             [
              0.2222222222222222,
              "#7201a8"
             ],
             [
              0.3333333333333333,
              "#9c179e"
             ],
             [
              0.4444444444444444,
              "#bd3786"
             ],
             [
              0.5555555555555556,
              "#d8576b"
             ],
             [
              0.6666666666666666,
              "#ed7953"
             ],
             [
              0.7777777777777778,
              "#fb9f3a"
             ],
             [
              0.8888888888888888,
              "#fdca26"
             ],
             [
              1.0,
              "#f0f921"
             ]
            ]
           }
          ],
          "heatmap": [
           {
            "type": "heatmap",
            "colorbar": {
             "outlinewidth": 0,
             "ticks": ""
            },
            "colorscale": [
             [
              0.0,
              "#0d0887"
             ],
             [
              0.1111111111111111,
              "#46039f"
             ],
             [
              0.2222222222222222,
              "#7201a8"
             ],
             [
              0.3333333333333333,
              "#9c179e"
             ],
             [
              0.4444444444444444,
              "#bd3786"
             ],
             [
              0.5555555555555556,
              "#d8576b"
             ],
             [
              0.6666666666666666,
              "#ed7953"
             ],
             [
              0.7777777777777778,
              "#fb9f3a"
             ],
             [
              0.8888888888888888,
              "#fdca26"
             ],
             [
              1.0,
              "#f0f921"
             ]
            ]
           }
          ],
          "heatmapgl": [
           {
            "type": "heatmapgl",
            "colorbar": {
             "outlinewidth": 0,
             "ticks": ""
            },
            "colorscale": [
             [
              0.0,
              "#0d0887"
             ],
             [
              0.1111111111111111,
              "#46039f"
             ],
             [
              0.2222222222222222,
              "#7201a8"
             ],
             [
              0.3333333333333333,
              "#9c179e"
             ],
             [
              0.4444444444444444,
              "#bd3786"
             ],
             [
              0.5555555555555556,
              "#d8576b"
             ],
             [
              0.6666666666666666,
              "#ed7953"
             ],
             [
              0.7777777777777778,
              "#fb9f3a"
             ],
             [
              0.8888888888888888,
              "#fdca26"
             ],
             [
              1.0,
              "#f0f921"
             ]
            ]
           }
          ],
          "contourcarpet": [
           {
            "type": "contourcarpet",
            "colorbar": {
             "outlinewidth": 0,
             "ticks": ""
            }
           }
          ],
          "contour": [
           {
            "type": "contour",
            "colorbar": {
             "outlinewidth": 0,
             "ticks": ""
            },
            "colorscale": [
             [
              0.0,
              "#0d0887"
             ],
             [
              0.1111111111111111,
              "#46039f"
             ],
             [
              0.2222222222222222,
              "#7201a8"
             ],
             [
              0.3333333333333333,
              "#9c179e"
             ],
             [
              0.4444444444444444,
              "#bd3786"
             ],
             [
              0.5555555555555556,
              "#d8576b"
             ],
             [
              0.6666666666666666,
              "#ed7953"
             ],
             [
              0.7777777777777778,
              "#fb9f3a"
             ],
             [
              0.8888888888888888,
              "#fdca26"
             ],
             [
              1.0,
              "#f0f921"
             ]
            ]
           }
          ],
          "surface": [
           {
            "type": "surface",
            "colorbar": {
             "outlinewidth": 0,
             "ticks": ""
            },
            "colorscale": [
             [
              0.0,
              "#0d0887"
             ],
             [
              0.1111111111111111,
              "#46039f"
             ],
             [
              0.2222222222222222,
              "#7201a8"
             ],
             [
              0.3333333333333333,
              "#9c179e"
             ],
             [
              0.4444444444444444,
              "#bd3786"
             ],
             [
              0.5555555555555556,
              "#d8576b"
             ],
             [
              0.6666666666666666,
              "#ed7953"
             ],
             [
              0.7777777777777778,
              "#fb9f3a"
             ],
             [
              0.8888888888888888,
              "#fdca26"
             ],
             [
              1.0,
              "#f0f921"
             ]
            ]
           }
          ],
          "mesh3d": [
           {
            "type": "mesh3d",
            "colorbar": {
             "outlinewidth": 0,
             "ticks": ""
            }
           }
          ],
          "scatter": [
           {
            "marker": {
             "line": {
              "color": "#283442"
             }
            },
            "type": "scatter"
           }
          ],
          "parcoords": [
           {
            "type": "parcoords",
            "line": {
             "colorbar": {
              "outlinewidth": 0,
              "ticks": ""
             }
            }
           }
          ],
          "scatterpolargl": [
           {
            "type": "scatterpolargl",
            "marker": {
             "colorbar": {
              "outlinewidth": 0,
              "ticks": ""
             }
            }
           }
          ],
          "bar": [
           {
            "error_x": {
             "color": "#f2f5fa"
            },
            "error_y": {
             "color": "#f2f5fa"
            },
            "marker": {
             "line": {
              "color": "rgb(17,17,17)",
              "width": 0.5
             },
             "pattern": {
              "fillmode": "overlay",
              "size": 10,
              "solidity": 0.2
             }
            },
            "type": "bar"
           }
          ],
          "scattergeo": [
           {
            "type": "scattergeo",
            "marker": {
             "colorbar": {
              "outlinewidth": 0,
              "ticks": ""
             }
            }
           }
          ],
          "scatterpolar": [
           {
            "type": "scatterpolar",
            "marker": {
             "colorbar": {
              "outlinewidth": 0,
              "ticks": ""
             }
            }
           }
          ],
          "histogram": [
           {
            "marker": {
             "pattern": {
              "fillmode": "overlay",
              "size": 10,
              "solidity": 0.2
             }
            },
            "type": "histogram"
           }
          ],
          "scattergl": [
           {
            "marker": {
             "line": {
              "color": "#283442"
             }
            },
            "type": "scattergl"
           }
          ],
          "scatter3d": [
           {
            "type": "scatter3d",
            "line": {
             "colorbar": {
              "outlinewidth": 0,
              "ticks": ""
             }
            },
            "marker": {
             "colorbar": {
              "outlinewidth": 0,
              "ticks": ""
             }
            }
           }
          ],
          "scattermapbox": [
           {
            "type": "scattermapbox",
            "marker": {
             "colorbar": {
              "outlinewidth": 0,
              "ticks": ""
             }
            }
           }
          ],
          "scatterternary": [
           {
            "type": "scatterternary",
            "marker": {
             "colorbar": {
              "outlinewidth": 0,
              "ticks": ""
             }
            }
           }
          ],
          "scattercarpet": [
           {
            "type": "scattercarpet",
            "marker": {
             "colorbar": {
              "outlinewidth": 0,
              "ticks": ""
             }
            }
           }
          ],
          "carpet": [
           {
            "aaxis": {
             "endlinecolor": "#A2B1C6",
             "gridcolor": "#506784",
             "linecolor": "#506784",
             "minorgridcolor": "#506784",
             "startlinecolor": "#A2B1C6"
            },
            "baxis": {
             "endlinecolor": "#A2B1C6",
             "gridcolor": "#506784",
             "linecolor": "#506784",
             "minorgridcolor": "#506784",
             "startlinecolor": "#A2B1C6"
            },
            "type": "carpet"
           }
          ],
          "table": [
           {
            "cells": {
             "fill": {
              "color": "#506784"
             },
             "line": {
              "color": "rgb(17,17,17)"
             }
            },
            "header": {
             "fill": {
              "color": "#2a3f5f"
             },
             "line": {
              "color": "rgb(17,17,17)"
             }
            },
            "type": "table"
           }
          ],
          "barpolar": [
           {
            "marker": {
             "line": {
              "color": "rgb(17,17,17)",
              "width": 0.5
             },
             "pattern": {
              "fillmode": "overlay",
              "size": 10,
              "solidity": 0.2
             }
            },
            "type": "barpolar"
           }
          ],
          "pie": [
           {
            "automargin": true,
            "type": "pie"
           }
          ]
         },
         "layout": {
          "autotypenumbers": "strict",
          "colorway": [
           "#636efa",
           "#EF553B",
           "#00cc96",
           "#ab63fa",
           "#FFA15A",
           "#19d3f3",
           "#FF6692",
           "#B6E880",
           "#FF97FF",
           "#FECB52"
          ],
          "font": {
           "color": "#f2f5fa"
          },
          "hovermode": "closest",
          "hoverlabel": {
           "align": "left"
          },
          "paper_bgcolor": "rgb(17,17,17)",
          "plot_bgcolor": "rgb(17,17,17)",
          "polar": {
           "bgcolor": "rgb(17,17,17)",
           "angularaxis": {
            "gridcolor": "#506784",
            "linecolor": "#506784",
            "ticks": ""
           },
           "radialaxis": {
            "gridcolor": "#506784",
            "linecolor": "#506784",
            "ticks": ""
           }
          },
          "ternary": {
           "bgcolor": "rgb(17,17,17)",
           "aaxis": {
            "gridcolor": "#506784",
            "linecolor": "#506784",
            "ticks": ""
           },
           "baxis": {
            "gridcolor": "#506784",
            "linecolor": "#506784",
            "ticks": ""
           },
           "caxis": {
            "gridcolor": "#506784",
            "linecolor": "#506784",
            "ticks": ""
           }
          },
          "coloraxis": {
           "colorbar": {
            "outlinewidth": 0,
            "ticks": ""
           }
          },
          "colorscale": {
           "sequential": [
            [
             0.0,
             "#0d0887"
            ],
            [
             0.1111111111111111,
             "#46039f"
            ],
            [
             0.2222222222222222,
             "#7201a8"
            ],
            [
             0.3333333333333333,
             "#9c179e"
            ],
            [
             0.4444444444444444,
             "#bd3786"
            ],
            [
             0.5555555555555556,
             "#d8576b"
            ],
            [
             0.6666666666666666,
             "#ed7953"
            ],
            [
             0.7777777777777778,
             "#fb9f3a"
            ],
            [
             0.8888888888888888,
             "#fdca26"
            ],
            [
             1.0,
             "#f0f921"
            ]
           ],
           "sequentialminus": [
            [
             0.0,
             "#0d0887"
            ],
            [
             0.1111111111111111,
             "#46039f"
            ],
            [
             0.2222222222222222,
             "#7201a8"
            ],
            [
             0.3333333333333333,
             "#9c179e"
            ],
            [
             0.4444444444444444,
             "#bd3786"
            ],
            [
             0.5555555555555556,
             "#d8576b"
            ],
            [
             0.6666666666666666,
             "#ed7953"
            ],
            [
             0.7777777777777778,
             "#fb9f3a"
            ],
            [
             0.8888888888888888,
             "#fdca26"
            ],
            [
             1.0,
             "#f0f921"
            ]
           ],
           "diverging": [
            [
             0,
             "#8e0152"
            ],
            [
             0.1,
             "#c51b7d"
            ],
            [
             0.2,
             "#de77ae"
            ],
            [
             0.3,
             "#f1b6da"
            ],
            [
             0.4,
             "#fde0ef"
            ],
            [
             0.5,
             "#f7f7f7"
            ],
            [
             0.6,
             "#e6f5d0"
            ],
            [
             0.7,
             "#b8e186"
            ],
            [
             0.8,
             "#7fbc41"
            ],
            [
             0.9,
             "#4d9221"
            ],
            [
             1,
             "#276419"
            ]
           ]
          },
          "xaxis": {
           "gridcolor": "#283442",
           "linecolor": "#506784",
           "ticks": "",
           "title": {
            "standoff": 15
           },
           "zerolinecolor": "#283442",
           "automargin": true,
           "zerolinewidth": 2
          },
          "yaxis": {
           "gridcolor": "#283442",
           "linecolor": "#506784",
           "ticks": "",
           "title": {
            "standoff": 15
           },
           "zerolinecolor": "#283442",
           "automargin": true,
           "zerolinewidth": 2
          },
          "scene": {
           "xaxis": {
            "backgroundcolor": "rgb(17,17,17)",
            "gridcolor": "#506784",
            "linecolor": "#506784",
            "showbackground": true,
            "ticks": "",
            "zerolinecolor": "#C8D4E3",
            "gridwidth": 2
           },
           "yaxis": {
            "backgroundcolor": "rgb(17,17,17)",
            "gridcolor": "#506784",
            "linecolor": "#506784",
            "showbackground": true,
            "ticks": "",
            "zerolinecolor": "#C8D4E3",
            "gridwidth": 2
           },
           "zaxis": {
            "backgroundcolor": "rgb(17,17,17)",
            "gridcolor": "#506784",
            "linecolor": "#506784",
            "showbackground": true,
            "ticks": "",
            "zerolinecolor": "#C8D4E3",
            "gridwidth": 2
           }
          },
          "shapedefaults": {
           "line": {
            "color": "#f2f5fa"
           }
          },
          "annotationdefaults": {
           "arrowcolor": "#f2f5fa",
           "arrowhead": 0,
           "arrowwidth": 1
          },
          "geo": {
           "bgcolor": "rgb(17,17,17)",
           "landcolor": "rgb(17,17,17)",
           "subunitcolor": "#506784",
           "showland": true,
           "showlakes": true,
           "lakecolor": "rgb(17,17,17)"
          },
          "title": {
           "x": 0.05
          },
          "updatemenudefaults": {
           "bgcolor": "#506784",
           "borderwidth": 0
          },
          "sliderdefaults": {
           "bgcolor": "#C8D4E3",
           "borderwidth": 1,
           "bordercolor": "rgb(17,17,17)",
           "tickwidth": 0
          },
          "mapbox": {
           "style": "dark"
          }
         }
        }
       },
       "config": {
        "plotlyServerURL": "https://plot.ly"
       }
      },
      "text/html": "<div>                            <div id=\"610736df-b5fa-418c-bfff-40a7c43bdd0c\" class=\"plotly-graph-div\" style=\"height:525px; width:100%;\"></div>            <script type=\"text/javascript\">                require([\"plotly\"], function(Plotly) {                    window.PLOTLYENV=window.PLOTLYENV || {};                                    if (document.getElementById(\"610736df-b5fa-418c-bfff-40a7c43bdd0c\")) {                    Plotly.newPlot(                        \"610736df-b5fa-418c-bfff-40a7c43bdd0c\",                        [{\"hovertemplate\":\"x=%{x}<br>y=%{y}<extra></extra>\",\"legendgroup\":\"\",\"line\":{\"color\":\"#636efa\",\"dash\":\"solid\"},\"marker\":{\"symbol\":\"circle\"},\"mode\":\"lines\",\"name\":\"\",\"orientation\":\"v\",\"showlegend\":false,\"x\":[0.0,0.025,0.05,0.07500000000000001,0.1,0.125,0.15000000000000002,0.17500000000000002,0.2,0.225,0.25,0.275,0.30000000000000004,0.325,0.35000000000000003,0.375,0.4,0.42500000000000004,0.45,0.47500000000000003,0.5,0.525,0.55,0.5750000000000001,0.6000000000000001,0.625,0.65,0.675,0.7000000000000001,0.7250000000000001,0.75,0.775,0.8,0.8250000000000001,0.8500000000000001,0.875,0.9,0.925,0.9500000000000001,0.9750000000000001],\"xaxis\":\"x\",\"y\":[0.4553192156331706,0.44896171368736815,0.4438542117415658,0.43999670979576333,0.43738920784996105,0.4360317059041585,0.43592420395835624,0.4370667020125538,0.4394592000667514,0.443101698120949,0.44799419617514663,0.45413669422934416,0.46152919228354183,0.47017169033773937,0.48006418839193704,0.49120668644613463,0.5035991845003321,0.5172416825545298,0.5321341806087275,0.5482766786629251,0.5656691767171227,0.5843116747713203,0.6042041728255181,0.6253466708797156,0.6477391689339133,0.6713816669881107,0.6962741650423083,0.7224166630965061,0.7498091611507036,0.7784516592049013,0.8083441572590989,0.8394866553132965,0.8718791533674942,0.9055216514216916,0.9404141494758893,0.9765566475300869,1.0139491455842844,1.0525916436384821,1.0924841416926796,1.1336266397468773],\"yaxis\":\"y\",\"type\":\"scatter\"},{\"hovertemplate\":\"x=%{x}<br>y=%{y}<extra></extra>\",\"legendgroup\":\"\",\"marker\":{\"color\":\"#636efa\",\"symbol\":\"circle\"},\"mode\":\"markers\",\"name\":\"\",\"orientation\":\"v\",\"showlegend\":false,\"x\":[0.0,0.025,0.05,0.07500000000000001,0.1,0.125,0.15000000000000002,0.17500000000000002,0.2,0.225,0.25,0.275,0.30000000000000004,0.325,0.35000000000000003,0.375,0.4,0.42500000000000004,0.45,0.47500000000000003,0.5,0.525,0.55,0.5750000000000001,0.6000000000000001,0.625,0.65,0.675,0.7000000000000001,0.7250000000000001,0.75,0.775,0.8,0.8250000000000001,0.8500000000000001,0.875,0.9,0.925,0.9500000000000001,0.9750000000000001],\"xaxis\":\"x\",\"y\":[-0.7944029488831985,-1.0223885719898396,-0.08655839727370021,0.05713162813739298,-0.1445538446489748,-1.4291227120930552,0.6923264245780821,1.417019694726477,-0.16803455519792534,0.20155221278295343,0.06383174557686465,0.16167667831859234,0.14101289440098325,0.26878699785485616,0.34243188867055635,0.19187800561609314,-0.00918699644211507,0.15313326357641144,0.0797509182179082,0.10688351459859553,0.1000000000000005,0.04888505151917371,0.03656542014843231,0.23590836163612416,0.16228183709332883,0.05810485371629529,-0.18377098171796444,0.421188034392181,-0.3247723405072809,0.31249691268966545,0.30757189480268143,0.5261506205218526,-0.46941307079538297,0.5670117488766455,-0.6511289559274328,0.5378629102837362,2.331156628610157,1.6570672822854058,-0.9362709739409297,0.6259384824282679],\"yaxis\":\"y\",\"type\":\"scatter\"}],                        {\"template\":{\"data\":{\"histogram2dcontour\":[{\"type\":\"histogram2dcontour\",\"colorbar\":{\"outlinewidth\":0,\"ticks\":\"\"},\"colorscale\":[[0.0,\"#0d0887\"],[0.1111111111111111,\"#46039f\"],[0.2222222222222222,\"#7201a8\"],[0.3333333333333333,\"#9c179e\"],[0.4444444444444444,\"#bd3786\"],[0.5555555555555556,\"#d8576b\"],[0.6666666666666666,\"#ed7953\"],[0.7777777777777778,\"#fb9f3a\"],[0.8888888888888888,\"#fdca26\"],[1.0,\"#f0f921\"]]}],\"choropleth\":[{\"type\":\"choropleth\",\"colorbar\":{\"outlinewidth\":0,\"ticks\":\"\"}}],\"histogram2d\":[{\"type\":\"histogram2d\",\"colorbar\":{\"outlinewidth\":0,\"ticks\":\"\"},\"colorscale\":[[0.0,\"#0d0887\"],[0.1111111111111111,\"#46039f\"],[0.2222222222222222,\"#7201a8\"],[0.3333333333333333,\"#9c179e\"],[0.4444444444444444,\"#bd3786\"],[0.5555555555555556,\"#d8576b\"],[0.6666666666666666,\"#ed7953\"],[0.7777777777777778,\"#fb9f3a\"],[0.8888888888888888,\"#fdca26\"],[1.0,\"#f0f921\"]]}],\"heatmap\":[{\"type\":\"heatmap\",\"colorbar\":{\"outlinewidth\":0,\"ticks\":\"\"},\"colorscale\":[[0.0,\"#0d0887\"],[0.1111111111111111,\"#46039f\"],[0.2222222222222222,\"#7201a8\"],[0.3333333333333333,\"#9c179e\"],[0.4444444444444444,\"#bd3786\"],[0.5555555555555556,\"#d8576b\"],[0.6666666666666666,\"#ed7953\"],[0.7777777777777778,\"#fb9f3a\"],[0.8888888888888888,\"#fdca26\"],[1.0,\"#f0f921\"]]}],\"heatmapgl\":[{\"type\":\"heatmapgl\",\"colorbar\":{\"outlinewidth\":0,\"ticks\":\"\"},\"colorscale\":[[0.0,\"#0d0887\"],[0.1111111111111111,\"#46039f\"],[0.2222222222222222,\"#7201a8\"],[0.3333333333333333,\"#9c179e\"],[0.4444444444444444,\"#bd3786\"],[0.5555555555555556,\"#d8576b\"],[0.6666666666666666,\"#ed7953\"],[0.7777777777777778,\"#fb9f3a\"],[0.8888888888888888,\"#fdca26\"],[1.0,\"#f0f921\"]]}],\"contourcarpet\":[{\"type\":\"contourcarpet\",\"colorbar\":{\"outlinewidth\":0,\"ticks\":\"\"}}],\"contour\":[{\"type\":\"contour\",\"colorbar\":{\"outlinewidth\":0,\"ticks\":\"\"},\"colorscale\":[[0.0,\"#0d0887\"],[0.1111111111111111,\"#46039f\"],[0.2222222222222222,\"#7201a8\"],[0.3333333333333333,\"#9c179e\"],[0.4444444444444444,\"#bd3786\"],[0.5555555555555556,\"#d8576b\"],[0.6666666666666666,\"#ed7953\"],[0.7777777777777778,\"#fb9f3a\"],[0.8888888888888888,\"#fdca26\"],[1.0,\"#f0f921\"]]}],\"surface\":[{\"type\":\"surface\",\"colorbar\":{\"outlinewidth\":0,\"ticks\":\"\"},\"colorscale\":[[0.0,\"#0d0887\"],[0.1111111111111111,\"#46039f\"],[0.2222222222222222,\"#7201a8\"],[0.3333333333333333,\"#9c179e\"],[0.4444444444444444,\"#bd3786\"],[0.5555555555555556,\"#d8576b\"],[0.6666666666666666,\"#ed7953\"],[0.7777777777777778,\"#fb9f3a\"],[0.8888888888888888,\"#fdca26\"],[1.0,\"#f0f921\"]]}],\"mesh3d\":[{\"type\":\"mesh3d\",\"colorbar\":{\"outlinewidth\":0,\"ticks\":\"\"}}],\"scatter\":[{\"marker\":{\"line\":{\"color\":\"#283442\"}},\"type\":\"scatter\"}],\"parcoords\":[{\"type\":\"parcoords\",\"line\":{\"colorbar\":{\"outlinewidth\":0,\"ticks\":\"\"}}}],\"scatterpolargl\":[{\"type\":\"scatterpolargl\",\"marker\":{\"colorbar\":{\"outlinewidth\":0,\"ticks\":\"\"}}}],\"bar\":[{\"error_x\":{\"color\":\"#f2f5fa\"},\"error_y\":{\"color\":\"#f2f5fa\"},\"marker\":{\"line\":{\"color\":\"rgb(17,17,17)\",\"width\":0.5},\"pattern\":{\"fillmode\":\"overlay\",\"size\":10,\"solidity\":0.2}},\"type\":\"bar\"}],\"scattergeo\":[{\"type\":\"scattergeo\",\"marker\":{\"colorbar\":{\"outlinewidth\":0,\"ticks\":\"\"}}}],\"scatterpolar\":[{\"type\":\"scatterpolar\",\"marker\":{\"colorbar\":{\"outlinewidth\":0,\"ticks\":\"\"}}}],\"histogram\":[{\"marker\":{\"pattern\":{\"fillmode\":\"overlay\",\"size\":10,\"solidity\":0.2}},\"type\":\"histogram\"}],\"scattergl\":[{\"marker\":{\"line\":{\"color\":\"#283442\"}},\"type\":\"scattergl\"}],\"scatter3d\":[{\"type\":\"scatter3d\",\"line\":{\"colorbar\":{\"outlinewidth\":0,\"ticks\":\"\"}},\"marker\":{\"colorbar\":{\"outlinewidth\":0,\"ticks\":\"\"}}}],\"scattermapbox\":[{\"type\":\"scattermapbox\",\"marker\":{\"colorbar\":{\"outlinewidth\":0,\"ticks\":\"\"}}}],\"scatterternary\":[{\"type\":\"scatterternary\",\"marker\":{\"colorbar\":{\"outlinewidth\":0,\"ticks\":\"\"}}}],\"scattercarpet\":[{\"type\":\"scattercarpet\",\"marker\":{\"colorbar\":{\"outlinewidth\":0,\"ticks\":\"\"}}}],\"carpet\":[{\"aaxis\":{\"endlinecolor\":\"#A2B1C6\",\"gridcolor\":\"#506784\",\"linecolor\":\"#506784\",\"minorgridcolor\":\"#506784\",\"startlinecolor\":\"#A2B1C6\"},\"baxis\":{\"endlinecolor\":\"#A2B1C6\",\"gridcolor\":\"#506784\",\"linecolor\":\"#506784\",\"minorgridcolor\":\"#506784\",\"startlinecolor\":\"#A2B1C6\"},\"type\":\"carpet\"}],\"table\":[{\"cells\":{\"fill\":{\"color\":\"#506784\"},\"line\":{\"color\":\"rgb(17,17,17)\"}},\"header\":{\"fill\":{\"color\":\"#2a3f5f\"},\"line\":{\"color\":\"rgb(17,17,17)\"}},\"type\":\"table\"}],\"barpolar\":[{\"marker\":{\"line\":{\"color\":\"rgb(17,17,17)\",\"width\":0.5},\"pattern\":{\"fillmode\":\"overlay\",\"size\":10,\"solidity\":0.2}},\"type\":\"barpolar\"}],\"pie\":[{\"automargin\":true,\"type\":\"pie\"}]},\"layout\":{\"autotypenumbers\":\"strict\",\"colorway\":[\"#636efa\",\"#EF553B\",\"#00cc96\",\"#ab63fa\",\"#FFA15A\",\"#19d3f3\",\"#FF6692\",\"#B6E880\",\"#FF97FF\",\"#FECB52\"],\"font\":{\"color\":\"#f2f5fa\"},\"hovermode\":\"closest\",\"hoverlabel\":{\"align\":\"left\"},\"paper_bgcolor\":\"rgb(17,17,17)\",\"plot_bgcolor\":\"rgb(17,17,17)\",\"polar\":{\"bgcolor\":\"rgb(17,17,17)\",\"angularaxis\":{\"gridcolor\":\"#506784\",\"linecolor\":\"#506784\",\"ticks\":\"\"},\"radialaxis\":{\"gridcolor\":\"#506784\",\"linecolor\":\"#506784\",\"ticks\":\"\"}},\"ternary\":{\"bgcolor\":\"rgb(17,17,17)\",\"aaxis\":{\"gridcolor\":\"#506784\",\"linecolor\":\"#506784\",\"ticks\":\"\"},\"baxis\":{\"gridcolor\":\"#506784\",\"linecolor\":\"#506784\",\"ticks\":\"\"},\"caxis\":{\"gridcolor\":\"#506784\",\"linecolor\":\"#506784\",\"ticks\":\"\"}},\"coloraxis\":{\"colorbar\":{\"outlinewidth\":0,\"ticks\":\"\"}},\"colorscale\":{\"sequential\":[[0.0,\"#0d0887\"],[0.1111111111111111,\"#46039f\"],[0.2222222222222222,\"#7201a8\"],[0.3333333333333333,\"#9c179e\"],[0.4444444444444444,\"#bd3786\"],[0.5555555555555556,\"#d8576b\"],[0.6666666666666666,\"#ed7953\"],[0.7777777777777778,\"#fb9f3a\"],[0.8888888888888888,\"#fdca26\"],[1.0,\"#f0f921\"]],\"sequentialminus\":[[0.0,\"#0d0887\"],[0.1111111111111111,\"#46039f\"],[0.2222222222222222,\"#7201a8\"],[0.3333333333333333,\"#9c179e\"],[0.4444444444444444,\"#bd3786\"],[0.5555555555555556,\"#d8576b\"],[0.6666666666666666,\"#ed7953\"],[0.7777777777777778,\"#fb9f3a\"],[0.8888888888888888,\"#fdca26\"],[1.0,\"#f0f921\"]],\"diverging\":[[0,\"#8e0152\"],[0.1,\"#c51b7d\"],[0.2,\"#de77ae\"],[0.3,\"#f1b6da\"],[0.4,\"#fde0ef\"],[0.5,\"#f7f7f7\"],[0.6,\"#e6f5d0\"],[0.7,\"#b8e186\"],[0.8,\"#7fbc41\"],[0.9,\"#4d9221\"],[1,\"#276419\"]]},\"xaxis\":{\"gridcolor\":\"#283442\",\"linecolor\":\"#506784\",\"ticks\":\"\",\"title\":{\"standoff\":15},\"zerolinecolor\":\"#283442\",\"automargin\":true,\"zerolinewidth\":2},\"yaxis\":{\"gridcolor\":\"#283442\",\"linecolor\":\"#506784\",\"ticks\":\"\",\"title\":{\"standoff\":15},\"zerolinecolor\":\"#283442\",\"automargin\":true,\"zerolinewidth\":2},\"scene\":{\"xaxis\":{\"backgroundcolor\":\"rgb(17,17,17)\",\"gridcolor\":\"#506784\",\"linecolor\":\"#506784\",\"showbackground\":true,\"ticks\":\"\",\"zerolinecolor\":\"#C8D4E3\",\"gridwidth\":2},\"yaxis\":{\"backgroundcolor\":\"rgb(17,17,17)\",\"gridcolor\":\"#506784\",\"linecolor\":\"#506784\",\"showbackground\":true,\"ticks\":\"\",\"zerolinecolor\":\"#C8D4E3\",\"gridwidth\":2},\"zaxis\":{\"backgroundcolor\":\"rgb(17,17,17)\",\"gridcolor\":\"#506784\",\"linecolor\":\"#506784\",\"showbackground\":true,\"ticks\":\"\",\"zerolinecolor\":\"#C8D4E3\",\"gridwidth\":2}},\"shapedefaults\":{\"line\":{\"color\":\"#f2f5fa\"}},\"annotationdefaults\":{\"arrowcolor\":\"#f2f5fa\",\"arrowhead\":0,\"arrowwidth\":1},\"geo\":{\"bgcolor\":\"rgb(17,17,17)\",\"landcolor\":\"rgb(17,17,17)\",\"subunitcolor\":\"#506784\",\"showland\":true,\"showlakes\":true,\"lakecolor\":\"rgb(17,17,17)\"},\"title\":{\"x\":0.05},\"updatemenudefaults\":{\"bgcolor\":\"#506784\",\"borderwidth\":0},\"sliderdefaults\":{\"bgcolor\":\"#C8D4E3\",\"borderwidth\":1,\"bordercolor\":\"rgb(17,17,17)\",\"tickwidth\":0},\"mapbox\":{\"style\":\"dark\"}}}},                        {\"responsive\": true}                    ).then(function(){\n                            \nvar gd = document.getElementById('610736df-b5fa-418c-bfff-40a7c43bdd0c');\nvar x = new MutationObserver(function (mutations, observer) {{\n        var display = window.getComputedStyle(gd).display;\n        if (!display || display === 'none') {{\n            console.log([gd, 'removed!']);\n            Plotly.purge(gd);\n            observer.disconnect();\n        }}\n}});\n\n// Listen for the removal of the full notebook cells\nvar notebookContainer = gd.closest('#notebook-container');\nif (notebookContainer) {{\n    x.observe(notebookContainer, {childList: true});\n}}\n\n// Listen for the clearing of the current output cell\nvar outputEl = gd.closest('.output');\nif (outputEl) {{\n    x.observe(outputEl, {childList: true});\n}}\n\n                        })                };                });            </script>        </div>"
     },
     "metadata": {},
     "output_type": "display_data"
    }
   ],
   "source": [
    "# -- CODE -- for Task 2b goes here.\n",
    "import numpy as np\n",
    "import plotly.express as px\n",
    "import plotly.graph_objects as go\n",
    "\n",
    "a = np.arange(-1, 1, 0.05)\n",
    "\n",
    "x_train = np.arange(0.0, 1, 0.025)\n",
    "y_train = a * np.random.randn(x_train.shape[0]) + 0.1\n",
    "\n",
    "def get_loss(theta, ys):\n",
    "    return (1 / len(ys)) * ((np.ones_like(ys)*theta - ys)**2).sum()\n",
    "\n",
    "\n",
    "best_loss = np.inf\n",
    "best_theta = 0\n",
    "\n",
    "loss_curve = np.array([])\n",
    "\n",
    "for theta in np.arange(0, 1, 0.025):\n",
    "    loss = get_loss(theta, y_train)\n",
    "\n",
    "    loss_curve = np.append(loss_curve, loss)\n",
    "    if loss < best_loss:\n",
    "        best_theta = theta\n",
    "        best_loss = loss\n",
    "\n",
    "print(f'Best loss: {best_loss}, with theta: {best_theta}')\n",
    "\n",
    "\n",
    "scatter = px.scatter(x=x_train, y=y_train)\n",
    "low = px.scatter(x=[best_theta], y=[best_loss])\n",
    "\n",
    "figure = go.Figure(data=px.line(x=x_train, y=loss_curve).data + scatter.data)\n",
    "figure.show()\n"
   ],
   "metadata": {
    "collapsed": false,
    "pycharm": {
     "name": "#%%\n"
    }
   }
  },
  {
   "cell_type": "markdown",
   "source": [
    "# Task 3\n",
    "Train a  linear regression with a L2 loss on the training data using Gradient Descent. \n",
    "The code below should give a (non-vectorized) on how it is found.  \n",
    "\n",
    "The gradient is found as:  \n",
    "$ L = \\frac{1}{2}(\\hat{y} - y )^2 $  \n",
    "\n",
    "$ \\hat{y} = f_\\theta(x) = \\theta$  \n",
    "\n",
    "\n",
    "$ \\frac{\\partial L}{\\partial\\theta} = \\frac{\\partial L}{\\partial \\hat{y}} \\frac{\\partial \\hat{y}}{\\partial \\theta}$ (using the chain rule).\n",
    "\n",
    "With:  \n",
    "$\\frac{\\partial L}{\\partial \\hat{y}} = (\\hat{y} - y) \\times 1 = (\\hat{y} - y)$  \n",
    "\n",
    "$\\frac{\\partial \\hat{y}}{\\partial \\theta} = 1  $\n",
    "\n",
    "\n",
    "Gives us:  \n",
    "$\\frac{\\partial L}{\\partial\\theta} = (\\hat{y} - y)$\n",
    "\n",
    "\n",
    "### Questions:\n",
    "1) Find a set of hyperparameters that converge for $\\theta_{\\text{init}} = 5.5$.  How can we determine if the algorithm has converged?  \n",
    "2) Can you find a learning rate that the algorithm does not converge for?  \n",
    "3) What is the \"best\" learning rate for this particular dataset?  \n",
    "\n"
   ],
   "metadata": {
    "collapsed": false,
    "pycharm": {
     "name": "#%% md\n"
    }
   }
  },
  {
   "cell_type": "code",
   "execution_count": 11,
   "outputs": [
    {
     "name": "stdout",
     "output_type": "stream",
     "text": [
      "Running GD with initial theta: 5.50, learning rate: 0.44 over 40 datapoints for 10 steps\n",
      "[visit] theta: 5.50 => loss: 29.01\n",
      "[visit] theta: 3.14 => loss: 9.34\n",
      "[visit] theta: 1.83 => loss: 3.17\n",
      "[visit] theta: 1.09 => loss: 1.23\n",
      "[visit] theta: 0.67 => loss: 0.63\n",
      "[visit] theta: 0.44 => loss: 0.44\n",
      "[visit] theta: 0.31 => loss: 0.38\n",
      "[visit] theta: 0.24 => loss: 0.36\n",
      "[visit] theta: 0.20 => loss: 0.35\n",
      "[visit] theta: 0.18 => loss: 0.35\n"
     ]
    },
    {
     "data": {
      "application/vnd.plotly.v1+json": {
       "data": [
        {
         "hovertemplate": "x=%{x}<br>y=%{y}<extra></extra>",
         "legendgroup": "",
         "line": {
          "color": "#636efa",
          "dash": "solid"
         },
         "marker": {
          "symbol": "circle"
         },
         "mode": "lines",
         "name": "",
         "orientation": "v",
         "showlegend": false,
         "x": [
          -4.0,
          -3.99,
          -3.9800000000000004,
          -3.9700000000000006,
          -3.960000000000001,
          -3.950000000000001,
          -3.9400000000000013,
          -3.9300000000000015,
          -3.9200000000000017,
          -3.910000000000002,
          -3.900000000000002,
          -3.8900000000000023,
          -3.8800000000000026,
          -3.8700000000000028,
          -3.860000000000003,
          -3.850000000000003,
          -3.8400000000000034,
          -3.8300000000000036,
          -3.820000000000004,
          -3.810000000000004,
          -3.8000000000000043,
          -3.7900000000000045,
          -3.7800000000000047,
          -3.770000000000005,
          -3.760000000000005,
          -3.7500000000000053,
          -3.7400000000000055,
          -3.7300000000000058,
          -3.720000000000006,
          -3.710000000000006,
          -3.7000000000000064,
          -3.6900000000000066,
          -3.680000000000007,
          -3.670000000000007,
          -3.6600000000000072,
          -3.6500000000000075,
          -3.6400000000000077,
          -3.630000000000008,
          -3.620000000000008,
          -3.6100000000000083,
          -3.6000000000000085,
          -3.5900000000000087,
          -3.580000000000009,
          -3.570000000000009,
          -3.5600000000000094,
          -3.5500000000000096,
          -3.54000000000001,
          -3.53000000000001,
          -3.5200000000000102,
          -3.5100000000000104,
          -3.5000000000000107,
          -3.490000000000011,
          -3.480000000000011,
          -3.4700000000000113,
          -3.4600000000000115,
          -3.4500000000000117,
          -3.440000000000012,
          -3.430000000000012,
          -3.4200000000000124,
          -3.4100000000000126,
          -3.400000000000013,
          -3.390000000000013,
          -3.380000000000013,
          -3.3700000000000134,
          -3.3600000000000136,
          -3.350000000000014,
          -3.340000000000014,
          -3.3300000000000143,
          -3.3200000000000145,
          -3.3100000000000147,
          -3.300000000000015,
          -3.290000000000015,
          -3.2800000000000153,
          -3.2700000000000156,
          -3.2600000000000158,
          -3.250000000000016,
          -3.240000000000016,
          -3.2300000000000164,
          -3.2200000000000166,
          -3.210000000000017,
          -3.200000000000017,
          -3.1900000000000173,
          -3.1800000000000175,
          -3.1700000000000177,
          -3.160000000000018,
          -3.150000000000018,
          -3.1400000000000183,
          -3.1300000000000185,
          -3.1200000000000188,
          -3.110000000000019,
          -3.100000000000019,
          -3.0900000000000194,
          -3.0800000000000196,
          -3.07000000000002,
          -3.06000000000002,
          -3.0500000000000203,
          -3.0400000000000205,
          -3.0300000000000207,
          -3.020000000000021,
          -3.010000000000021,
          -3.0000000000000213,
          -2.9900000000000215,
          -2.9800000000000217,
          -2.970000000000022,
          -2.960000000000022,
          -2.9500000000000224,
          -2.9400000000000226,
          -2.930000000000023,
          -2.920000000000023,
          -2.9100000000000232,
          -2.9000000000000234,
          -2.8900000000000237,
          -2.880000000000024,
          -2.870000000000024,
          -2.8600000000000243,
          -2.8500000000000245,
          -2.8400000000000247,
          -2.830000000000025,
          -2.820000000000025,
          -2.8100000000000254,
          -2.8000000000000256,
          -2.790000000000026,
          -2.780000000000026,
          -2.770000000000026,
          -2.7600000000000264,
          -2.7500000000000266,
          -2.740000000000027,
          -2.730000000000027,
          -2.7200000000000273,
          -2.7100000000000275,
          -2.7000000000000277,
          -2.690000000000028,
          -2.680000000000028,
          -2.6700000000000284,
          -2.6600000000000286,
          -2.6500000000000288,
          -2.640000000000029,
          -2.630000000000029,
          -2.6200000000000294,
          -2.6100000000000296,
          -2.60000000000003,
          -2.59000000000003,
          -2.5800000000000303,
          -2.5700000000000305,
          -2.5600000000000307,
          -2.550000000000031,
          -2.540000000000031,
          -2.5300000000000313,
          -2.5200000000000315,
          -2.5100000000000318,
          -2.500000000000032,
          -2.490000000000032,
          -2.4800000000000324,
          -2.4700000000000326,
          -2.460000000000033,
          -2.450000000000033,
          -2.4400000000000333,
          -2.4300000000000335,
          -2.4200000000000337,
          -2.410000000000034,
          -2.400000000000034,
          -2.3900000000000343,
          -2.3800000000000345,
          -2.3700000000000347,
          -2.360000000000035,
          -2.350000000000035,
          -2.3400000000000354,
          -2.3300000000000356,
          -2.320000000000036,
          -2.310000000000036,
          -2.3000000000000362,
          -2.2900000000000365,
          -2.2800000000000367,
          -2.270000000000037,
          -2.260000000000037,
          -2.2500000000000373,
          -2.2400000000000375,
          -2.2300000000000377,
          -2.220000000000038,
          -2.210000000000038,
          -2.2000000000000384,
          -2.1900000000000386,
          -2.180000000000039,
          -2.170000000000039,
          -2.160000000000039,
          -2.1500000000000394,
          -2.1400000000000396,
          -2.13000000000004,
          -2.12000000000004,
          -2.1100000000000403,
          -2.1000000000000405,
          -2.0900000000000407,
          -2.080000000000041,
          -2.070000000000041,
          -2.0600000000000414,
          -2.0500000000000416,
          -2.040000000000042,
          -2.030000000000042,
          -2.020000000000042,
          -2.0100000000000424,
          -2.0000000000000426,
          -1.9900000000000428,
          -1.980000000000043,
          -1.9700000000000433,
          -1.9600000000000435,
          -1.9500000000000437,
          -1.940000000000044,
          -1.9300000000000441,
          -1.9200000000000443,
          -1.9100000000000446,
          -1.9000000000000448,
          -1.890000000000045,
          -1.8800000000000452,
          -1.8700000000000454,
          -1.8600000000000456,
          -1.8500000000000458,
          -1.840000000000046,
          -1.8300000000000463,
          -1.8200000000000465,
          -1.8100000000000467,
          -1.800000000000047,
          -1.790000000000047,
          -1.7800000000000473,
          -1.7700000000000475,
          -1.7600000000000477,
          -1.750000000000048,
          -1.7400000000000482,
          -1.7300000000000484,
          -1.7200000000000486,
          -1.7100000000000488,
          -1.700000000000049,
          -1.6900000000000492,
          -1.6800000000000495,
          -1.6700000000000497,
          -1.6600000000000499,
          -1.65000000000005,
          -1.6400000000000503,
          -1.6300000000000505,
          -1.6200000000000507,
          -1.610000000000051,
          -1.6000000000000512,
          -1.5900000000000514,
          -1.5800000000000516,
          -1.5700000000000518,
          -1.560000000000052,
          -1.5500000000000522,
          -1.5400000000000524,
          -1.5300000000000527,
          -1.5200000000000529,
          -1.510000000000053,
          -1.5000000000000533,
          -1.4900000000000535,
          -1.4800000000000537,
          -1.470000000000054,
          -1.4600000000000541,
          -1.4500000000000544,
          -1.4400000000000546,
          -1.4300000000000548,
          -1.420000000000055,
          -1.4100000000000552,
          -1.4000000000000554,
          -1.3900000000000556,
          -1.3800000000000558,
          -1.370000000000056,
          -1.3600000000000563,
          -1.3500000000000565,
          -1.3400000000000567,
          -1.330000000000057,
          -1.3200000000000571,
          -1.3100000000000573,
          -1.3000000000000576,
          -1.2900000000000578,
          -1.280000000000058,
          -1.2700000000000582,
          -1.2600000000000584,
          -1.2500000000000586,
          -1.2400000000000588,
          -1.230000000000059,
          -1.2200000000000593,
          -1.2100000000000595,
          -1.2000000000000597,
          -1.19000000000006,
          -1.1800000000000601,
          -1.1700000000000603,
          -1.1600000000000605,
          -1.1500000000000608,
          -1.140000000000061,
          -1.1300000000000612,
          -1.1200000000000614,
          -1.1100000000000616,
          -1.1000000000000618,
          -1.090000000000062,
          -1.0800000000000622,
          -1.0700000000000625,
          -1.0600000000000627,
          -1.0500000000000629,
          -1.040000000000063,
          -1.0300000000000633,
          -1.0200000000000635,
          -1.0100000000000637,
          -1.000000000000064,
          -0.9900000000000642,
          -0.9800000000000644,
          -0.9700000000000646,
          -0.9600000000000648,
          -0.950000000000065,
          -0.9400000000000652,
          -0.9300000000000654,
          -0.9200000000000657,
          -0.9100000000000659,
          -0.9000000000000661,
          -0.8900000000000663,
          -0.8800000000000665,
          -0.8700000000000667,
          -0.8600000000000669,
          -0.8500000000000671,
          -0.8400000000000674,
          -0.8300000000000676,
          -0.8200000000000678,
          -0.810000000000068,
          -0.8000000000000682,
          -0.7900000000000684,
          -0.7800000000000686,
          -0.7700000000000689,
          -0.7600000000000691,
          -0.7500000000000693,
          -0.7400000000000695,
          -0.7300000000000697,
          -0.7200000000000699,
          -0.7100000000000701,
          -0.7000000000000703,
          -0.6900000000000706,
          -0.6800000000000708,
          -0.670000000000071,
          -0.6600000000000712,
          -0.6500000000000714,
          -0.6400000000000716,
          -0.6300000000000718,
          -0.620000000000072,
          -0.6100000000000723,
          -0.6000000000000725,
          -0.5900000000000727,
          -0.5800000000000729,
          -0.5700000000000731,
          -0.5600000000000733,
          -0.5500000000000735,
          -0.5400000000000738,
          -0.530000000000074,
          -0.5200000000000742,
          -0.5100000000000744,
          -0.5000000000000746,
          -0.4900000000000748,
          -0.48000000000007503,
          -0.47000000000007525,
          -0.46000000000007546,
          -0.4500000000000757,
          -0.4400000000000759,
          -0.4300000000000761,
          -0.4200000000000763,
          -0.4100000000000765,
          -0.40000000000007674,
          -0.39000000000007695,
          -0.38000000000007716,
          -0.3700000000000774,
          -0.3600000000000776,
          -0.3500000000000778,
          -0.340000000000078,
          -0.33000000000007823,
          -0.32000000000007844,
          -0.31000000000007866,
          -0.30000000000007887,
          -0.2900000000000791,
          -0.2800000000000793,
          -0.2700000000000795,
          -0.2600000000000797,
          -0.25000000000007994,
          -0.24000000000008015,
          -0.23000000000008036,
          -0.22000000000008058,
          -0.2100000000000808,
          -0.200000000000081,
          -0.19000000000008122,
          -0.18000000000008143,
          -0.17000000000008164,
          -0.16000000000008185,
          -0.15000000000008207,
          -0.14000000000008228,
          -0.1300000000000825,
          -0.12000000000008271,
          -0.11000000000008292,
          -0.10000000000008313,
          -0.09000000000008335,
          -0.08000000000008356,
          -0.07000000000008377,
          -0.060000000000083986,
          -0.0500000000000842,
          -0.04000000000008441,
          -0.030000000000084626,
          -0.02000000000008484,
          -0.010000000000085052,
          -8.526512829121202E-14,
          0.009999999999914522,
          0.01999999999991431,
          0.029999999999914095,
          0.03999999999991388,
          0.04999999999991367,
          0.059999999999913456,
          0.06999999999991324,
          0.07999999999991303,
          0.08999999999991282,
          0.0999999999999126,
          0.10999999999991239,
          0.11999999999991218,
          0.12999999999991196,
          0.13999999999991175,
          0.14999999999991154,
          0.15999999999991132,
          0.1699999999999111,
          0.1799999999999109,
          0.18999999999991068,
          0.19999999999991047,
          0.20999999999991026,
          0.21999999999991005,
          0.22999999999990983,
          0.23999999999990962,
          0.2499999999999094,
          0.2599999999999092,
          0.269999999999909,
          0.27999999999990877,
          0.28999999999990855,
          0.29999999999990834,
          0.3099999999999081,
          0.3199999999999079,
          0.3299999999999077,
          0.3399999999999075,
          0.3499999999999073,
          0.35999999999990706,
          0.36999999999990685,
          0.37999999999990663,
          0.3899999999999064,
          0.3999999999999062,
          0.409999999999906,
          0.4199999999999058,
          0.42999999999990557,
          0.43999999999990536,
          0.44999999999990514,
          0.45999999999990493,
          0.4699999999999047,
          0.4799999999999045,
          0.4899999999999043,
          0.4999999999999041,
          0.5099999999999039,
          0.5199999999999037,
          0.5299999999999034,
          0.5399999999999032,
          0.549999999999903,
          0.5599999999999028,
          0.5699999999999026,
          0.5799999999999024,
          0.5899999999999022,
          0.599999999999902,
          0.6099999999999017,
          0.6199999999999015,
          0.6299999999999013,
          0.6399999999999011,
          0.6499999999999009,
          0.6599999999999007,
          0.6699999999999005,
          0.6799999999999002,
          0.6899999999999,
          0.6999999999998998,
          0.7099999999998996,
          0.7199999999998994,
          0.7299999999998992,
          0.739999999999899,
          0.7499999999998987,
          0.7599999999998985,
          0.7699999999998983,
          0.7799999999998981,
          0.7899999999998979,
          0.7999999999998977,
          0.8099999999998975,
          0.8199999999998973,
          0.829999999999897,
          0.8399999999998968,
          0.8499999999998966,
          0.8599999999998964,
          0.8699999999998962,
          0.879999999999896,
          0.8899999999998958,
          0.8999999999998956,
          0.9099999999998953,
          0.9199999999998951,
          0.9299999999998949,
          0.9399999999998947,
          0.9499999999998945,
          0.9599999999998943,
          0.9699999999998941,
          0.9799999999998938,
          0.9899999999998936,
          0.9999999999998934,
          1.0099999999998932,
          1.019999999999893,
          1.0299999999998928,
          1.0399999999998926,
          1.0499999999998924,
          1.0599999999998921,
          1.069999999999892,
          1.0799999999998917,
          1.0899999999998915,
          1.0999999999998913,
          1.109999999999891,
          1.1199999999998909,
          1.1299999999998906,
          1.1399999999998904,
          1.1499999999998902,
          1.15999999999989,
          1.1699999999998898,
          1.1799999999998896,
          1.1899999999998894,
          1.1999999999998892,
          1.209999999999889,
          1.2199999999998887,
          1.2299999999998885,
          1.2399999999998883,
          1.249999999999888,
          1.2599999999998879,
          1.2699999999998877,
          1.2799999999998875,
          1.2899999999998872,
          1.299999999999887,
          1.3099999999998868,
          1.3199999999998866,
          1.3299999999998864,
          1.3399999999998862,
          1.349999999999886,
          1.3599999999998857,
          1.3699999999998855,
          1.3799999999998853,
          1.389999999999885,
          1.399999999999885,
          1.4099999999998847,
          1.4199999999998845,
          1.4299999999998843,
          1.439999999999884,
          1.4499999999998838,
          1.4599999999998836,
          1.4699999999998834,
          1.4799999999998832,
          1.489999999999883,
          1.4999999999998828,
          1.5099999999998825,
          1.5199999999998823,
          1.5299999999998821,
          1.539999999999882,
          1.5499999999998817,
          1.5599999999998815,
          1.5699999999998813,
          1.579999999999881,
          1.5899999999998808,
          1.5999999999998806,
          1.6099999999998804,
          1.6199999999998802,
          1.62999999999988,
          1.6399999999998798,
          1.6499999999998796,
          1.6599999999998793,
          1.6699999999998791,
          1.679999999999879,
          1.6899999999998787,
          1.6999999999998785,
          1.7099999999998783,
          1.719999999999878,
          1.7299999999998779,
          1.7399999999998776,
          1.7499999999998774,
          1.7599999999998772,
          1.769999999999877,
          1.7799999999998768,
          1.7899999999998766,
          1.7999999999998764,
          1.8099999999998762,
          1.819999999999876,
          1.8299999999998757,
          1.8399999999998755,
          1.8499999999998753,
          1.859999999999875,
          1.8699999999998749,
          1.8799999999998747,
          1.8899999999998744,
          1.8999999999998742,
          1.909999999999874,
          1.9199999999998738,
          1.9299999999998736,
          1.9399999999998734,
          1.9499999999998732,
          1.959999999999873,
          1.9699999999998727,
          1.9799999999998725,
          1.9899999999998723,
          1.999999999999872,
          2.009999999999872,
          2.0199999999998717,
          2.0299999999998715,
          2.0399999999998712,
          2.049999999999871,
          2.059999999999871,
          2.0699999999998706,
          2.0799999999998704,
          2.08999999999987,
          2.09999999999987,
          2.1099999999998698,
          2.1199999999998695,
          2.1299999999998693,
          2.139999999999869,
          2.149999999999869,
          2.1599999999998687,
          2.1699999999998685,
          2.1799999999998683,
          2.189999999999868,
          2.199999999999868,
          2.2099999999998676,
          2.2199999999998674,
          2.229999999999867,
          2.239999999999867,
          2.2499999999998668,
          2.2599999999998666,
          2.2699999999998663,
          2.279999999999866,
          2.289999999999866,
          2.2999999999998657,
          2.3099999999998655,
          2.3199999999998653,
          2.329999999999865,
          2.339999999999865,
          2.3499999999998646,
          2.3599999999998644,
          2.369999999999864,
          2.379999999999864,
          2.389999999999864,
          2.3999999999998636,
          2.4099999999998634,
          2.419999999999863,
          2.429999999999863,
          2.4399999999998627,
          2.4499999999998625,
          2.4599999999998623,
          2.469999999999862,
          2.479999999999862,
          2.4899999999998617,
          2.4999999999998614,
          2.5099999999998612,
          2.519999999999861,
          2.529999999999861,
          2.5399999999998606,
          2.5499999999998604,
          2.55999999999986,
          2.56999999999986,
          2.5799999999998597,
          2.5899999999998595,
          2.5999999999998593,
          2.609999999999859,
          2.619999999999859,
          2.6299999999998587,
          2.6399999999998585,
          2.6499999999998582,
          2.659999999999858,
          2.669999999999858,
          2.6799999999998576,
          2.6899999999998574,
          2.699999999999857,
          2.709999999999857,
          2.7199999999998568,
          2.7299999999998565,
          2.7399999999998563,
          2.749999999999856,
          2.759999999999856,
          2.7699999999998557,
          2.7799999999998555,
          2.7899999999998553,
          2.799999999999855,
          2.809999999999855,
          2.8199999999998546,
          2.8299999999998544,
          2.839999999999854,
          2.849999999999854,
          2.8599999999998538,
          2.8699999999998536,
          2.8799999999998533,
          2.889999999999853,
          2.899999999999853,
          2.9099999999998527,
          2.9199999999998525,
          2.9299999999998523,
          2.939999999999852,
          2.949999999999852,
          2.9599999999998516,
          2.9699999999998514,
          2.979999999999851,
          2.989999999999851,
          2.999999999999851,
          3.0099999999998506,
          3.0199999999998504,
          3.02999999999985,
          3.03999999999985,
          3.0499999999998497,
          3.0599999999998495,
          3.0699999999998493,
          3.079999999999849,
          3.089999999999849,
          3.0999999999998487,
          3.1099999999998484,
          3.1199999999998482,
          3.129999999999848,
          3.139999999999848,
          3.1499999999998476,
          3.1599999999998474,
          3.169999999999847,
          3.179999999999847,
          3.1899999999998467,
          3.1999999999998465,
          3.2099999999998463,
          3.219999999999846,
          3.229999999999846,
          3.2399999999998457,
          3.2499999999998455,
          3.2599999999998452,
          3.269999999999845,
          3.279999999999845,
          3.2899999999998446,
          3.2999999999998444,
          3.309999999999844,
          3.319999999999844,
          3.3299999999998438,
          3.3399999999998435,
          3.3499999999998433,
          3.359999999999843,
          3.369999999999843,
          3.3799999999998427,
          3.3899999999998425,
          3.3999999999998423,
          3.409999999999842,
          3.419999999999842,
          3.4299999999998416,
          3.4399999999998414,
          3.449999999999841,
          3.459999999999841,
          3.4699999999998408,
          3.4799999999998406,
          3.4899999999998403,
          3.49999999999984,
          3.50999999999984,
          3.5199999999998397,
          3.5299999999998395,
          3.5399999999998393,
          3.549999999999839,
          3.559999999999839,
          3.5699999999998386,
          3.5799999999998384,
          3.589999999999838,
          3.599999999999838,
          3.609999999999838,
          3.6199999999998376,
          3.6299999999998374,
          3.639999999999837,
          3.649999999999837,
          3.6599999999998367,
          3.6699999999998365,
          3.6799999999998363,
          3.689999999999836,
          3.699999999999836,
          3.7099999999998357,
          3.7199999999998354,
          3.7299999999998352,
          3.739999999999835,
          3.749999999999835,
          3.7599999999998346,
          3.7699999999998344,
          3.779999999999834,
          3.789999999999834,
          3.7999999999998337,
          3.8099999999998335,
          3.8199999999998333,
          3.829999999999833,
          3.839999999999833,
          3.8499999999998327,
          3.8599999999998325,
          3.8699999999998322,
          3.879999999999832,
          3.889999999999832,
          3.8999999999998316,
          3.9099999999998314,
          3.919999999999831,
          3.929999999999831,
          3.9399999999998307,
          3.9499999999998305,
          3.9599999999998303,
          3.96999999999983,
          3.97999999999983,
          3.9899999999998297,
          3.9999999999998295,
          4.009999999999829,
          4.019999999999829,
          4.029999999999829,
          4.039999999999829,
          4.049999999999828,
          4.059999999999828,
          4.069999999999828,
          4.079999999999828,
          4.0899999999998276,
          4.099999999999827,
          4.109999999999827,
          4.119999999999827,
          4.129999999999827,
          4.1399999999998265,
          4.149999999999826,
          4.159999999999826,
          4.169999999999826,
          4.179999999999826,
          4.189999999999825,
          4.199999999999825,
          4.209999999999825,
          4.219999999999825,
          4.229999999999825,
          4.239999999999824,
          4.249999999999824,
          4.259999999999824,
          4.269999999999824,
          4.2799999999998235,
          4.289999999999823,
          4.299999999999823,
          4.309999999999823,
          4.319999999999823,
          4.329999999999822,
          4.339999999999822,
          4.349999999999822,
          4.359999999999822,
          4.369999999999822,
          4.379999999999821,
          4.389999999999821,
          4.399999999999821,
          4.409999999999821,
          4.4199999999998205,
          4.42999999999982,
          4.43999999999982,
          4.44999999999982,
          4.45999999999982,
          4.4699999999998195,
          4.479999999999819,
          4.489999999999819,
          4.499999999999819,
          4.509999999999819,
          4.519999999999818,
          4.529999999999818,
          4.539999999999818,
          4.549999999999818,
          4.5599999999998175,
          4.569999999999817,
          4.579999999999817,
          4.589999999999817,
          4.599999999999817,
          4.6099999999998165,
          4.619999999999816,
          4.629999999999816,
          4.639999999999816,
          4.649999999999816,
          4.659999999999815,
          4.669999999999815,
          4.679999999999815,
          4.689999999999815,
          4.6999999999998145,
          4.709999999999814,
          4.719999999999814,
          4.729999999999814,
          4.739999999999814,
          4.7499999999998135,
          4.759999999999813,
          4.769999999999813,
          4.779999999999813,
          4.789999999999813,
          4.799999999999812,
          4.809999999999812,
          4.819999999999812,
          4.829999999999812,
          4.839999999999812,
          4.849999999999811,
          4.859999999999811,
          4.869999999999811,
          4.879999999999811,
          4.8899999999998105,
          4.89999999999981,
          4.90999999999981,
          4.91999999999981,
          4.92999999999981,
          4.939999999999809,
          4.949999999999809,
          4.959999999999809,
          4.969999999999809,
          4.979999999999809,
          4.989999999999808,
          4.999999999999808,
          5.009999999999808,
          5.019999999999808,
          5.0299999999998075,
          5.039999999999807,
          5.049999999999807,
          5.059999999999807,
          5.069999999999807,
          5.0799999999998064,
          5.089999999999806,
          5.099999999999806,
          5.109999999999806,
          5.119999999999806,
          5.129999999999805,
          5.139999999999805,
          5.149999999999805,
          5.159999999999805,
          5.1699999999998045,
          5.179999999999804,
          5.189999999999804,
          5.199999999999804,
          5.209999999999804,
          5.2199999999998035,
          5.229999999999803,
          5.239999999999803,
          5.249999999999803,
          5.259999999999803,
          5.269999999999802,
          5.279999999999802,
          5.289999999999802,
          5.299999999999802,
          5.3099999999998015,
          5.319999999999801,
          5.329999999999801,
          5.339999999999801,
          5.349999999999801,
          5.3599999999998005,
          5.3699999999998,
          5.3799999999998,
          5.3899999999998,
          5.3999999999998,
          5.409999999999799,
          5.419999999999799,
          5.429999999999799,
          5.439999999999799,
          5.449999999999799,
          5.459999999999798,
          5.469999999999798,
          5.479999999999798,
          5.489999999999798,
          5.4999999999997975,
          5.509999999999797,
          5.519999999999797,
          5.529999999999797,
          5.539999999999797,
          5.549999999999796,
          5.559999999999796,
          5.569999999999796,
          5.579999999999796,
          5.589999999999796,
          5.599999999999795,
          5.609999999999795,
          5.619999999999795,
          5.629999999999795,
          5.6399999999997945,
          5.649999999999794,
          5.659999999999794,
          5.669999999999794,
          5.679999999999794,
          5.6899999999997934,
          5.699999999999793,
          5.709999999999793,
          5.719999999999793,
          5.729999999999793,
          5.739999999999792,
          5.749999999999792,
          5.759999999999792,
          5.769999999999792,
          5.7799999999997915,
          5.789999999999791,
          5.799999999999791,
          5.809999999999791,
          5.819999999999791,
          5.8299999999997905,
          5.83999999999979,
          5.84999999999979,
          5.85999999999979,
          5.86999999999979,
          5.879999999999789,
          5.889999999999789,
          5.899999999999789,
          5.909999999999789,
          5.9199999999997885,
          5.929999999999788,
          5.939999999999788,
          5.949999999999788,
          5.959999999999788,
          5.9699999999997875,
          5.979999999999787,
          5.989999999999787
         ],
         "xaxis": "x",
         "y": [
          17.545603029514332,
          17.46276890544194,
          17.38013478136954,
          17.29770065729715,
          17.215466533224753,
          17.133432409152356,
          17.05159828507996,
          16.969964161007564,
          16.888530036935173,
          16.807295912862777,
          16.726261788790385,
          16.645427664717992,
          16.564793540645592,
          16.4843594165732,
          16.4041252925008,
          16.324091168428406,
          16.244257044356015,
          16.16462292028362,
          16.08518879621122,
          16.005954672138824,
          15.926920548066434,
          15.848086423994038,
          15.769452299921648,
          15.691018175849248,
          15.61278405177685,
          15.534749927704459,
          15.456915803632063,
          15.379281679559673,
          15.301847555487276,
          15.224613431414877,
          15.147579307342488,
          15.070745183270091,
          14.994111059197692,
          14.9176769351253,
          14.841442811052906,
          14.76540868698051,
          14.689574562908112,
          14.613940438835721,
          14.538506314763325,
          14.463272190690926,
          14.388238066618536,
          14.313403942546142,
          14.238769818473742,
          14.16433569440135,
          14.090101570328954,
          14.01606744625656,
          13.942233322184165,
          13.868599198111767,
          13.795165074039375,
          13.721930949966978,
          13.648896825894585,
          13.576062701822186,
          13.503428577749792,
          13.4309944536774,
          13.358760329605001,
          13.286726205532608,
          13.214892081460212,
          13.143257957387817,
          13.07182383331542,
          13.000589709243025,
          12.929555585170633,
          12.858721461098238,
          12.78808733702584,
          12.717653212953447,
          12.647419088881046,
          12.577384964808655,
          12.50755084073626,
          12.437916716663866,
          12.368482592591468,
          12.299248468519075,
          12.230214344446676,
          12.161380220374284,
          12.092746096301886,
          12.024311972229489,
          11.956077848157095,
          11.8880437240847,
          11.820209600012307,
          11.752575475939912,
          11.685141351867518,
          11.617907227795119,
          11.550873103722726,
          11.484038979650325,
          11.417404855577935,
          11.350970731505539,
          11.284736607433143,
          11.218702483360747,
          11.152868359288352,
          11.087234235215956,
          11.021800111143564,
          10.956565987071162,
          10.891531862998772,
          10.826697738926375,
          10.762063614853979,
          10.697629490781583,
          10.633395366709188,
          10.569361242636791,
          10.505527118564396,
          10.441892994492001,
          10.378458870419609,
          10.315224746347209,
          10.252190622274817,
          10.18935649820242,
          10.126722374130022,
          10.064288250057626,
          10.002054125985232,
          9.940020001912838,
          9.878185877840444,
          9.816551753768042,
          9.75511762969565,
          9.693883505623257,
          9.632849381550859,
          9.572015257478464,
          9.511381133406063,
          9.450947009333673,
          9.390712885261276,
          9.33067876118888,
          9.270844637116484,
          9.211210513044088,
          9.15177638897169,
          9.092542264899297,
          9.033508140826902,
          8.974674016754504,
          8.91603989268211,
          8.85760576860971,
          8.799371644537315,
          8.741337520464917,
          8.683503396392524,
          8.62586927232013,
          8.568435148247733,
          8.511201024175339,
          8.454166900102939,
          8.397332776030545,
          8.340698651958153,
          8.284264527885751,
          8.228030403813358,
          8.171996279740963,
          8.11616215566857,
          8.06052803159617,
          8.005093907523776,
          7.9498597834513784,
          7.894825659378985,
          7.839991535306586,
          7.785357411234193,
          7.730923287161795,
          7.676689163089402,
          7.622655039017002,
          7.5688209149446095,
          7.515186790872212,
          7.461752666799816,
          7.408518542727419,
          7.355484418655024,
          7.302650294582627,
          7.250016170510234,
          7.1975820464378355,
          7.14534792236544,
          7.093313798293042,
          7.041479674220646,
          6.989845550148251,
          6.938411426075854,
          6.88717730200346,
          6.836143177931062,
          6.785309053858667,
          6.7346749297862685,
          6.684240805713874,
          6.634006681641479,
          6.583972557569082,
          6.534138433496686,
          6.48450430942429,
          6.435070185351893,
          6.385836061279497,
          6.336801937207101,
          6.2879678131347045,
          6.239333689062309,
          6.190899564989913,
          6.142665440917517,
          6.09463131684512,
          6.046797192772724,
          5.999163068700328,
          5.95172894462793,
          5.904494820555536,
          5.857460696483139,
          5.810626572410741,
          5.763992448338346,
          5.7175583242659505,
          5.671324200193553,
          5.625290076121158,
          5.579455952048761,
          5.5338218279763645,
          5.488387703903966,
          5.443153579831571,
          5.398119455759175,
          5.35328533168678,
          5.308651207614383,
          5.264217083541988,
          5.21998295946959,
          5.175948835397191,
          5.132114711324798,
          5.088480587252401,
          5.045046463180004,
          5.001812339107608,
          4.958778215035212,
          4.915944090962816,
          4.873309966890418,
          4.830875842818023,
          4.7886417187456285,
          4.746607594673231,
          4.704773470600832,
          4.663139346528437,
          4.621705222456039,
          4.5804710983836445,
          4.539436974311246,
          4.498602850238852,
          4.457968726166454,
          4.417534602094056,
          4.377300478021661,
          4.337266353949266,
          4.297432229876867,
          4.25779810580447,
          4.2183639817320735,
          4.179129857659677,
          4.140095733587283,
          4.101261609514885,
          4.062627485442487,
          4.0241933613700915,
          3.985959237297694,
          3.947925113225297,
          3.9100909891529008,
          3.8724568650805034,
          3.8350227410081077,
          3.797788616935712,
          3.7607544928633145,
          3.7239203687909175,
          3.6872862447185204,
          3.6508521206461237,
          3.6146179965737275,
          3.5785838725013326,
          3.542749748428934,
          3.507115624356538,
          3.4716815002841415,
          3.4364473762117442,
          3.401413252139347,
          3.3665791280669497,
          3.331945003994553,
          3.2975108799221564,
          3.2632767558497604,
          3.2292426317773626,
          3.1954085077049657,
          3.1617743836325714,
          3.128340259560173,
          3.095106135487776,
          3.0620720114153785,
          3.029237887342983,
          2.9966037632705858,
          2.964169639198188,
          2.9319355151257906,
          2.899901391053395,
          2.8680672669809977,
          2.8364331429086005,
          2.8049990188362033,
          2.7737648947638065,
          2.74273077069141,
          2.711896646619013,
          2.681262522546615,
          2.6508283984742187,
          2.620594274401822,
          2.5905601503294258,
          2.560726026257028,
          2.5310919021846314,
          2.5016577781122336,
          2.4724236540398374,
          2.44338952996744,
          2.414555405895043,
          2.385921281822644,
          2.357487157750249,
          2.329253033677852,
          2.301218909605454,
          2.273384785533058,
          2.24575066146066,
          2.2183165373882625,
          2.1910824133158653,
          2.1640482892434685,
          2.137214165171072,
          2.1105800410986744,
          2.0841459170262775,
          2.05791179295388,
          2.031877668881483,
          2.006043544809086,
          1.9804094207366885,
          1.9549752966642917,
          1.9297411725918938,
          1.9047070485194966,
          1.8798729244470997,
          1.8552388003747027,
          1.8308046763023054,
          1.806570552229908,
          1.7825364281575111,
          1.7587023040851135,
          1.7350681800127166,
          1.7116340559403196,
          1.688399931867922,
          1.6653658077955247,
          1.6425316837231274,
          1.6198975596507297,
          1.5974634355783324,
          1.575229311505935,
          1.553195187433538,
          1.5313610633611405,
          1.5097269392887431,
          1.488292815216346,
          1.4670586911439485,
          1.446024567071551,
          1.425190442999154,
          1.4045563189267565,
          1.3841221948543585,
          1.3638880707819614,
          1.3438539467095638,
          1.3240198226371664,
          1.304385698564769,
          1.2849515744923719,
          1.2657174504199735,
          1.2466833263475767,
          1.227849202275179,
          1.209215078202782,
          1.1907809541303842,
          1.1725468300579864,
          1.1545127059855893,
          1.1366785819131915,
          1.119044457840794,
          1.1016103337683967,
          1.084376209695999,
          1.0673420856236016,
          1.0505079615512039,
          1.0338738374788063,
          1.0174397134064088,
          1.001205589334011,
          0.9851714652616137,
          0.9693373411892161,
          0.9537032171168182,
          0.9382690930444205,
          0.9230349689720232,
          0.9080008448996253,
          0.8931667208272278,
          0.8785325967548301,
          0.8640984726824325,
          0.849864348610035,
          0.8358302245376372,
          0.8219961004652395,
          0.8083619763928418,
          0.7949278523204442,
          0.7816937282480463,
          0.7686596041756486,
          0.7558254801032507,
          0.7431913560308534,
          0.7307572319584554,
          0.7185231078860577,
          0.7064889838136598,
          0.694654859741262,
          0.6830207356688642,
          0.6715866115964665,
          0.6603524875240687,
          0.6493183634516708,
          0.6384842393792729,
          0.6278501153068752,
          0.6174159912344775,
          0.6071818671620794,
          0.5971477430896818,
          0.5873136190172836,
          0.5776794949448859,
          0.568245370872488,
          0.5590112468000901,
          0.5499771227276923,
          0.5411429986552945,
          0.5325088745828965,
          0.5240747505104987,
          0.5158406264381006,
          0.5078065023657026,
          0.49997237829330476,
          0.4923382542209068,
          0.48490413014850897,
          0.4776700060761109,
          0.47063588200371287,
          0.46380175793131473,
          0.4571676338589169,
          0.4507335097865188,
          0.4444993857141208,
          0.43846526164172284,
          0.43263113756932475,
          0.42699701349692687,
          0.4215628894245289,
          0.4163287653521306,
          0.4112946412797327,
          0.40646051720733467,
          0.4018263931349365,
          0.39739226906253844,
          0.3931581449901403,
          0.3891240209177421,
          0.38528989684534404,
          0.38165577277294593,
          0.37822164870054786,
          0.37498752462814966,
          0.3719534005557515,
          0.36911927648335335,
          0.36648515241095525,
          0.3640510283385569,
          0.3618169042661588,
          0.35978278019376075,
          0.3579486561213624,
          0.3563145320489642,
          0.3548804079765659,
          0.3536462839041677,
          0.3526121598317695,
          0.3517780357593713,
          0.35114391168697323,
          0.3507097876145748,
          0.3504756635421765,
          0.35044153946977824,
          0.35060741539737994,
          0.35097329132498156,
          0.35153916725258344,
          0.35230504318018496,
          0.3532709191077867,
          0.3544367950353885,
          0.35580267096298995,
          0.3573685468905918,
          0.35913442281819336,
          0.361100298745795,
          0.3632661746733966,
          0.3656320506009982,
          0.36819792652859984,
          0.3709638024562015,
          0.3739296783838032,
          0.3770955543114046,
          0.3804614302390062,
          0.3840273061666077,
          0.38779318209420943,
          0.39175905802181105,
          0.3959249339494123,
          0.40029080987701376,
          0.4048566858046154,
          0.409622561732217,
          0.41458843765981823,
          0.41975431358741994,
          0.4251201895150215,
          0.430686065442623,
          0.43645194137022436,
          0.44241781729782587,
          0.4485836932254273,
          0.45494956915302887,
          0.46151544508063,
          0.46828132100823155,
          0.4752471969358331,
          0.4824130728634345,
          0.4897789487910359,
          0.4973448247186373,
          0.5051107006462386,
          0.5130765765738402,
          0.5212424525014414,
          0.5296083284290427,
          0.5381742043566441,
          0.5469400802842455,
          0.5559059562118469,
          0.5650718321394481,
          0.5744377080670495,
          0.5840035839946507,
          0.5937694599222522,
          0.6037353358498535,
          0.6139012117774548,
          0.6242670877050558,
          0.6348329636326573,
          0.6455988395602587,
          0.6565647154878597,
          0.667730591415461,
          0.6790964673430622,
          0.6906623432706636,
          0.7024282191982648,
          0.7143940951258657,
          0.7265599710534671,
          0.7389258469810683,
          0.7514917229086696,
          0.7642575988362706,
          0.7772234747638718,
          0.7903893506914729,
          0.8037552266190741,
          0.8173211025466752,
          0.8310869784742764,
          0.8450528544018775,
          0.8592187303294784,
          0.8735846062570797,
          0.8881504821846811,
          0.902916358112282,
          0.9178822340398828,
          0.9330481099674838,
          0.9484139858950854,
          0.9639798618226865,
          0.9797457377502872,
          0.9957116136778883,
          1.0118774896054892,
          1.0282433655330905,
          1.0448092414606918,
          1.0615751173882924,
          1.0785409933158934,
          1.0957068692434946,
          1.1130727451710956,
          1.1306386210986963,
          1.1484044970262974,
          1.1663703729538983,
          1.1845362488814994,
          1.2029021248091003,
          1.2214680007367014,
          1.240233876664302,
          1.259199752591903,
          1.2783656285195035,
          1.2977315044471045,
          1.3172973803747055,
          1.3370632563023068,
          1.3570291322299073,
          1.3771950081575077,
          1.3975608840851088,
          1.41812676001271,
          1.4388926359403107,
          1.4598585118679117,
          1.4810243877955123,
          1.5023902637231135,
          1.5239561396507142,
          1.545722015578315,
          1.5676878915059158,
          1.589853767433516,
          1.6122196433611173,
          1.6347855192887177,
          1.6575513952163186,
          1.6805172711439191,
          1.70368314707152,
          1.7270490229991207,
          1.7506148989267214,
          1.7743807748543223,
          1.798346650781923,
          1.8225125267095232,
          1.8468784026371239,
          1.8714442785647247,
          1.8962101544923258,
          1.921176030419926,
          1.9463419063475271,
          1.9717077822751274,
          1.9972736582027284,
          2.023039534130329,
          2.0490054100579296,
          2.07517128598553,
          2.101537161913131,
          2.128103037840731,
          2.1548689137683317,
          2.181834789695932,
          2.2090006656235324,
          2.236366541551133,
          2.263932417478734,
          2.291698293406335,
          2.3196641693339353,
          2.347830045261536,
          2.376195921189136,
          2.404761797116736,
          2.433527673044337,
          2.4624935489719375,
          2.4916594248995376,
          2.5210253008271377,
          2.5505911767547396,
          2.5803570526823396,
          2.61032292860994,
          2.64048880453754,
          2.67085468046514,
          2.7014205563927414,
          2.7321864323203418,
          2.763152308247942,
          2.794318184175542,
          2.825684060103142,
          2.857249936030743,
          2.8890158119583433,
          2.9209816878859436,
          2.953147563813544,
          2.9855134397411436,
          3.018079315668745,
          3.0508451915963453,
          3.0838110675239463,
          3.1169769434515464,
          3.150342819379146,
          3.1839086953067466,
          3.2176745712343466,
          3.2516404471619467,
          3.2858063230895467,
          3.320172199017146,
          3.3547380749447475,
          3.389503950872348,
          3.4244698267999474,
          3.4596357027275486,
          3.495001578655148,
          3.53056745458275,
          3.56633333051035,
          3.6022992064379493,
          3.63846508236555,
          3.6748309582931498,
          3.7113968342207486,
          3.7481627101483506,
          3.78512858607595,
          3.82229446200355,
          3.8596603379311505,
          3.897226213858751,
          3.9349920897863493,
          3.972957965713951,
          4.011123841641552,
          4.04948971756915,
          4.088055593496751,
          4.1268214694243515,
          4.165787345351951,
          4.20495322127955,
          4.244319097207152,
          4.283884973134751,
          4.32365084906235,
          4.363616724989951,
          4.403782600917551,
          4.44414847684515,
          4.48471435277275,
          4.525480228700351,
          4.566446104627952,
          4.607611980555552,
          4.648977856483151,
          4.690543732410751,
          4.732309608338352,
          4.774275484265951,
          4.81644136019355,
          4.85880723612115,
          4.901373112048749,
          4.944138987976349,
          4.9871048639039515,
          5.0302707398315505,
          5.07363661575915,
          5.11720249168675,
          5.16096836761435,
          5.204934243541951,
          5.2491001194695475,
          5.293465995397148,
          5.338031871324749,
          5.382797747252349,
          5.427763623179949,
          5.472929499107546,
          5.518295375035149,
          5.563861250962748,
          5.609627126890347,
          5.655593002817948,
          5.701758878745547,
          5.748124754673147,
          5.794690630600746,
          5.841456506528347,
          5.888422382455945,
          5.935588258383548,
          5.9829541343111465,
          6.030520010238744,
          6.078285886166346,
          6.126251762093944,
          6.174417638021545,
          6.222783513949144,
          6.271349389876744,
          6.320115265804342,
          6.369081141731941,
          6.418247017659543,
          6.467612893587142,
          6.517178769514743,
          6.566944645442341,
          6.616910521369941,
          6.66707639729754,
          6.71744227322514,
          6.76800814915274,
          6.818774025080339,
          6.869739901007939,
          6.920905776935539,
          6.972271652863138,
          7.023837528790739,
          7.0756034047183345,
          7.127569280645938,
          7.1797351565735354,
          7.232101032501134,
          7.284666908428733,
          7.337432784356333,
          7.3903986602839336,
          7.443564536211531,
          7.496930412139132,
          7.550496288066734,
          7.604262163994332,
          7.658228039921933,
          7.712393915849529,
          7.7667597917771305,
          7.821325667704729,
          7.876091543632329,
          7.931057419559929,
          7.9862232954875285,
          8.041589171415128,
          8.097155047342728,
          8.152920923270324,
          8.208886799197924,
          8.265052675125526,
          8.321418551053124,
          8.377984426980722,
          8.434750302908324,
          8.491716178835924,
          8.54888205476352,
          8.606247930691119,
          8.66381380661872,
          8.721579682546317,
          8.779545558473918,
          8.837711434401516,
          8.896077310329115,
          8.954643186256716,
          9.013409062184314,
          9.072374938111915,
          9.131540814039514,
          9.190906689967111,
          9.25047256589471,
          9.310238441822309,
          9.37020431774991,
          9.430370193677508,
          9.490736069605108,
          9.55130194553271,
          9.612067821460306,
          9.673033697387906,
          9.734199573315506,
          9.795565449243103,
          9.857131325170702,
          9.9188972010983,
          9.980863077025901,
          10.043028952953502,
          10.1053948288811,
          10.167960704808696,
          10.230726580736295,
          10.293692456663901,
          10.356858332591496,
          10.420224208519096,
          10.483790084446692,
          10.547555960374293,
          10.611521836301895,
          10.675687712229491,
          10.74005358815709,
          10.804619464084691,
          10.869385340012288,
          10.934351215939888,
          10.999517091867485,
          11.064882967795084,
          11.130448843722684,
          11.19621471965028,
          11.262180595577885,
          11.32834647150548,
          11.394712347433076,
          11.461278223360678,
          11.528044099288277,
          11.595009975215877,
          11.662175851143477,
          11.729541727071075,
          11.797107602998674,
          11.864873478926272,
          11.932839354853872,
          12.00100523078147,
          12.069371106709067,
          12.137936982636665,
          12.206702858564269,
          12.275668734491862,
          12.344834610419461,
          12.41420048634706,
          12.483766362274663,
          12.553532238202258,
          12.623498114129857,
          12.693663990057454,
          12.764029865985055,
          12.834595741912654,
          12.905361617840251,
          12.976327493767851,
          13.04749336969545,
          13.118859245623048,
          13.190425121550646,
          13.262190997478243,
          13.334156873405846,
          13.406322749333446,
          13.478688625261043,
          13.551254501188643,
          13.624020377116235,
          13.696986253043837,
          13.770152128971432,
          13.843518004899034,
          13.91708388082663,
          13.990849756754235,
          14.064815632681832,
          14.138981508609424,
          14.213347384537034,
          14.28791326046463,
          14.362679136392225,
          14.437645012319825,
          14.51281088824742,
          14.588176764175017,
          14.663742640102617,
          14.739508516030218,
          14.815474391957812,
          14.891640267885412,
          14.968006143813014,
          15.044572019740613,
          15.12133789566821,
          15.198303771595803,
          15.275469647523408,
          15.352835523451006,
          15.4304013993786,
          15.508167275306203,
          15.586133151233796,
          15.664299027161395,
          15.742664903088993,
          15.821230779016592,
          15.8999966549442,
          15.978962530871794,
          16.058128406799387,
          16.13749428272699,
          16.217060158654583,
          16.29682603458219,
          16.376791910509784,
          16.45695778643738,
          16.53732366236498,
          16.61788953829258,
          16.69865541422018,
          16.77962129014778,
          16.860787166075372,
          16.942153042002975,
          17.023718917930566,
          17.10548479385816,
          17.187450669785765,
          17.269616545713365,
          17.351982421640955,
          17.434548297568558,
          17.51731417349616,
          17.600280049423763,
          17.683445925351354,
          17.76681180127895,
          17.850377677206552,
          17.934143553134145,
          18.018109429061752,
          18.102275304989345,
          18.186641180916943,
          18.271207056844545,
          18.355972932772136,
          18.440938808699745,
          18.526104684627335,
          18.61147056055494,
          18.69703643648253,
          18.782802312410134,
          18.868768188337725,
          18.954934064265327,
          19.04129994019293,
          19.127865816120522,
          19.214631692048123,
          19.301597567975723,
          19.388763443903322,
          19.476129319830918,
          19.563695195758513,
          19.651461071686107,
          19.73942694761371,
          19.82759282354131,
          19.915958699468902,
          20.00452457539651,
          20.0932904513241,
          20.1822563272517,
          20.271422203179302,
          20.360788079106893,
          20.450353955034497,
          20.54011983096209,
          20.630085706889684,
          20.720251582817287,
          20.810617458744886,
          20.90118333467249,
          20.991949210600076,
          21.08291508652767,
          21.17408096245527,
          21.26544683838288,
          21.357012714310464,
          21.448778590238064,
          21.540744466165666,
          21.63291034209327,
          21.725276218020863,
          21.81784209394846,
          21.910607969876065,
          22.003573845803654,
          22.096739721731254,
          22.19010559765885,
          22.283671473586445,
          22.37743734951404,
          22.47140322544164,
          22.565569101369242,
          22.65993497729684,
          22.75450085322444,
          22.849266729152035,
          22.944232605079627,
          23.039398481007233,
          23.134764356934824,
          23.230330232862425,
          23.326096108790022,
          23.422061984717622,
          23.51822786064522,
          23.614593736572818,
          23.711159612500413,
          23.807925488428012,
          23.90489136435561,
          24.002057240283207,
          24.099423116210808,
          24.196988992138408,
          24.294754868065997,
          24.392720743993596,
          24.49088661992119,
          24.589252495848793,
          24.68781837177638,
          24.78658424770399,
          24.885550123631585,
          24.984715999559178,
          25.084081875486785,
          25.183647751414377,
          25.28341362734198,
          25.383379503269573,
          25.48354537919717,
          25.583911255124764,
          25.684477131052358,
          25.78524300697996,
          25.886208882907557,
          25.987374758835152,
          26.088740634762747,
          26.190306510690355,
          26.292072386617946,
          26.394038262545546,
          26.496204138473143,
          26.598570014400742,
          26.701135890328334,
          26.80390176625594,
          26.906867642183535,
          27.010033518111122,
          27.11339939403872,
          27.216965269966323,
          27.320731145893927,
          27.424697021821515,
          27.52886289774912,
          27.633228773676723,
          27.737794649604307,
          27.8425605255319,
          27.94752640145951,
          28.0526922773871,
          28.158058153314705,
          28.263624029242287,
          28.36938990516989,
          28.475355781097484,
          28.581521657025093,
          28.687887532952693,
          28.79445340888028,
          28.901219284807876,
          29.00818516073547,
          29.115351036663082,
          29.22271691259067,
          29.330282788518268,
          29.438048664445866,
          29.546014540373466,
          29.654180416301063,
          29.76254629222866,
          29.87111216815625,
          29.979878044083854,
          30.088843920011442,
          30.19800979593905,
          30.30737567186664,
          30.416941547794238,
          30.52670742372184,
          30.636673299649438,
          30.74683917557703,
          30.85720505150463,
          30.967770927432213,
          31.07853680335982,
          31.189502679287422,
          31.30066855521502,
          31.412034431142608,
          31.523600307070204,
          31.635366182997807,
          31.747332058925394,
          31.859497934853003,
          31.971863810780594,
          32.08442968670819,
          32.197195562635805,
          32.310161438563384,
          32.42332731449099,
          32.53669319041859,
          32.65025906634618,
          32.76402494227378,
          32.87799081820136,
          32.99215669412898,
          33.10652257005657,
          33.22108844598417,
          33.335854321911754,
          33.450820197839356,
          33.56598607376695,
          33.681351949694545,
          33.79691782562214,
          33.91268370154974,
          34.02864957747734,
          34.144815453404945,
          34.26118132933253,
          34.377747205260135,
          34.49451308118772
         ],
         "yaxis": "y",
         "type": "scatter"
        },
        {
         "line": {
          "color": "firebrick",
          "dash": "dot",
          "width": 8
         },
         "name": "GD history",
         "x": [
          3.144550729592723,
          1.8254991381646477,
          1.0868302469649262,
          0.6731756678930819,
          0.44152910361284914,
          0.3118070276159188,
          0.23916266505763778,
          0.19848182202500042,
          0.17570054992672351,
          0.16294303755168843
         ],
         "y": [
          9.337502492280851,
          3.1687764074528006,
          1.234263907250725,
          0.6276007871873541,
          0.43735123273548104,
          0.3776889724593738,
          0.35897888763678626,
          0.3531114050364231,
          0.35127136249294916,
          0.35069432515131566
         ],
         "type": "scatter"
        }
       ],
       "layout": {
        "template": {
         "data": {
          "histogram2dcontour": [
           {
            "type": "histogram2dcontour",
            "colorbar": {
             "outlinewidth": 0,
             "ticks": ""
            },
            "colorscale": [
             [
              0.0,
              "#0d0887"
             ],
             [
              0.1111111111111111,
              "#46039f"
             ],
             [
              0.2222222222222222,
              "#7201a8"
             ],
             [
              0.3333333333333333,
              "#9c179e"
             ],
             [
              0.4444444444444444,
              "#bd3786"
             ],
             [
              0.5555555555555556,
              "#d8576b"
             ],
             [
              0.6666666666666666,
              "#ed7953"
             ],
             [
              0.7777777777777778,
              "#fb9f3a"
             ],
             [
              0.8888888888888888,
              "#fdca26"
             ],
             [
              1.0,
              "#f0f921"
             ]
            ]
           }
          ],
          "choropleth": [
           {
            "type": "choropleth",
            "colorbar": {
             "outlinewidth": 0,
             "ticks": ""
            }
           }
          ],
          "histogram2d": [
           {
            "type": "histogram2d",
            "colorbar": {
             "outlinewidth": 0,
             "ticks": ""
            },
            "colorscale": [
             [
              0.0,
              "#0d0887"
             ],
             [
              0.1111111111111111,
              "#46039f"
             ],
             [
              0.2222222222222222,
              "#7201a8"
             ],
             [
              0.3333333333333333,
              "#9c179e"
             ],
             [
              0.4444444444444444,
              "#bd3786"
             ],
             [
              0.5555555555555556,
              "#d8576b"
             ],
             [
              0.6666666666666666,
              "#ed7953"
             ],
             [
              0.7777777777777778,
              "#fb9f3a"
             ],
             [
              0.8888888888888888,
              "#fdca26"
             ],
             [
              1.0,
              "#f0f921"
             ]
            ]
           }
          ],
          "heatmap": [
           {
            "type": "heatmap",
            "colorbar": {
             "outlinewidth": 0,
             "ticks": ""
            },
            "colorscale": [
             [
              0.0,
              "#0d0887"
             ],
             [
              0.1111111111111111,
              "#46039f"
             ],
             [
              0.2222222222222222,
              "#7201a8"
             ],
             [
              0.3333333333333333,
              "#9c179e"
             ],
             [
              0.4444444444444444,
              "#bd3786"
             ],
             [
              0.5555555555555556,
              "#d8576b"
             ],
             [
              0.6666666666666666,
              "#ed7953"
             ],
             [
              0.7777777777777778,
              "#fb9f3a"
             ],
             [
              0.8888888888888888,
              "#fdca26"
             ],
             [
              1.0,
              "#f0f921"
             ]
            ]
           }
          ],
          "heatmapgl": [
           {
            "type": "heatmapgl",
            "colorbar": {
             "outlinewidth": 0,
             "ticks": ""
            },
            "colorscale": [
             [
              0.0,
              "#0d0887"
             ],
             [
              0.1111111111111111,
              "#46039f"
             ],
             [
              0.2222222222222222,
              "#7201a8"
             ],
             [
              0.3333333333333333,
              "#9c179e"
             ],
             [
              0.4444444444444444,
              "#bd3786"
             ],
             [
              0.5555555555555556,
              "#d8576b"
             ],
             [
              0.6666666666666666,
              "#ed7953"
             ],
             [
              0.7777777777777778,
              "#fb9f3a"
             ],
             [
              0.8888888888888888,
              "#fdca26"
             ],
             [
              1.0,
              "#f0f921"
             ]
            ]
           }
          ],
          "contourcarpet": [
           {
            "type": "contourcarpet",
            "colorbar": {
             "outlinewidth": 0,
             "ticks": ""
            }
           }
          ],
          "contour": [
           {
            "type": "contour",
            "colorbar": {
             "outlinewidth": 0,
             "ticks": ""
            },
            "colorscale": [
             [
              0.0,
              "#0d0887"
             ],
             [
              0.1111111111111111,
              "#46039f"
             ],
             [
              0.2222222222222222,
              "#7201a8"
             ],
             [
              0.3333333333333333,
              "#9c179e"
             ],
             [
              0.4444444444444444,
              "#bd3786"
             ],
             [
              0.5555555555555556,
              "#d8576b"
             ],
             [
              0.6666666666666666,
              "#ed7953"
             ],
             [
              0.7777777777777778,
              "#fb9f3a"
             ],
             [
              0.8888888888888888,
              "#fdca26"
             ],
             [
              1.0,
              "#f0f921"
             ]
            ]
           }
          ],
          "surface": [
           {
            "type": "surface",
            "colorbar": {
             "outlinewidth": 0,
             "ticks": ""
            },
            "colorscale": [
             [
              0.0,
              "#0d0887"
             ],
             [
              0.1111111111111111,
              "#46039f"
             ],
             [
              0.2222222222222222,
              "#7201a8"
             ],
             [
              0.3333333333333333,
              "#9c179e"
             ],
             [
              0.4444444444444444,
              "#bd3786"
             ],
             [
              0.5555555555555556,
              "#d8576b"
             ],
             [
              0.6666666666666666,
              "#ed7953"
             ],
             [
              0.7777777777777778,
              "#fb9f3a"
             ],
             [
              0.8888888888888888,
              "#fdca26"
             ],
             [
              1.0,
              "#f0f921"
             ]
            ]
           }
          ],
          "mesh3d": [
           {
            "type": "mesh3d",
            "colorbar": {
             "outlinewidth": 0,
             "ticks": ""
            }
           }
          ],
          "scatter": [
           {
            "marker": {
             "line": {
              "color": "#283442"
             }
            },
            "type": "scatter"
           }
          ],
          "parcoords": [
           {
            "type": "parcoords",
            "line": {
             "colorbar": {
              "outlinewidth": 0,
              "ticks": ""
             }
            }
           }
          ],
          "scatterpolargl": [
           {
            "type": "scatterpolargl",
            "marker": {
             "colorbar": {
              "outlinewidth": 0,
              "ticks": ""
             }
            }
           }
          ],
          "bar": [
           {
            "error_x": {
             "color": "#f2f5fa"
            },
            "error_y": {
             "color": "#f2f5fa"
            },
            "marker": {
             "line": {
              "color": "rgb(17,17,17)",
              "width": 0.5
             },
             "pattern": {
              "fillmode": "overlay",
              "size": 10,
              "solidity": 0.2
             }
            },
            "type": "bar"
           }
          ],
          "scattergeo": [
           {
            "type": "scattergeo",
            "marker": {
             "colorbar": {
              "outlinewidth": 0,
              "ticks": ""
             }
            }
           }
          ],
          "scatterpolar": [
           {
            "type": "scatterpolar",
            "marker": {
             "colorbar": {
              "outlinewidth": 0,
              "ticks": ""
             }
            }
           }
          ],
          "histogram": [
           {
            "marker": {
             "pattern": {
              "fillmode": "overlay",
              "size": 10,
              "solidity": 0.2
             }
            },
            "type": "histogram"
           }
          ],
          "scattergl": [
           {
            "marker": {
             "line": {
              "color": "#283442"
             }
            },
            "type": "scattergl"
           }
          ],
          "scatter3d": [
           {
            "type": "scatter3d",
            "line": {
             "colorbar": {
              "outlinewidth": 0,
              "ticks": ""
             }
            },
            "marker": {
             "colorbar": {
              "outlinewidth": 0,
              "ticks": ""
             }
            }
           }
          ],
          "scattermapbox": [
           {
            "type": "scattermapbox",
            "marker": {
             "colorbar": {
              "outlinewidth": 0,
              "ticks": ""
             }
            }
           }
          ],
          "scatterternary": [
           {
            "type": "scatterternary",
            "marker": {
             "colorbar": {
              "outlinewidth": 0,
              "ticks": ""
             }
            }
           }
          ],
          "scattercarpet": [
           {
            "type": "scattercarpet",
            "marker": {
             "colorbar": {
              "outlinewidth": 0,
              "ticks": ""
             }
            }
           }
          ],
          "carpet": [
           {
            "aaxis": {
             "endlinecolor": "#A2B1C6",
             "gridcolor": "#506784",
             "linecolor": "#506784",
             "minorgridcolor": "#506784",
             "startlinecolor": "#A2B1C6"
            },
            "baxis": {
             "endlinecolor": "#A2B1C6",
             "gridcolor": "#506784",
             "linecolor": "#506784",
             "minorgridcolor": "#506784",
             "startlinecolor": "#A2B1C6"
            },
            "type": "carpet"
           }
          ],
          "table": [
           {
            "cells": {
             "fill": {
              "color": "#506784"
             },
             "line": {
              "color": "rgb(17,17,17)"
             }
            },
            "header": {
             "fill": {
              "color": "#2a3f5f"
             },
             "line": {
              "color": "rgb(17,17,17)"
             }
            },
            "type": "table"
           }
          ],
          "barpolar": [
           {
            "marker": {
             "line": {
              "color": "rgb(17,17,17)",
              "width": 0.5
             },
             "pattern": {
              "fillmode": "overlay",
              "size": 10,
              "solidity": 0.2
             }
            },
            "type": "barpolar"
           }
          ],
          "pie": [
           {
            "automargin": true,
            "type": "pie"
           }
          ]
         },
         "layout": {
          "autotypenumbers": "strict",
          "colorway": [
           "#636efa",
           "#EF553B",
           "#00cc96",
           "#ab63fa",
           "#FFA15A",
           "#19d3f3",
           "#FF6692",
           "#B6E880",
           "#FF97FF",
           "#FECB52"
          ],
          "font": {
           "color": "#f2f5fa"
          },
          "hovermode": "closest",
          "hoverlabel": {
           "align": "left"
          },
          "paper_bgcolor": "rgb(17,17,17)",
          "plot_bgcolor": "rgb(17,17,17)",
          "polar": {
           "bgcolor": "rgb(17,17,17)",
           "angularaxis": {
            "gridcolor": "#506784",
            "linecolor": "#506784",
            "ticks": ""
           },
           "radialaxis": {
            "gridcolor": "#506784",
            "linecolor": "#506784",
            "ticks": ""
           }
          },
          "ternary": {
           "bgcolor": "rgb(17,17,17)",
           "aaxis": {
            "gridcolor": "#506784",
            "linecolor": "#506784",
            "ticks": ""
           },
           "baxis": {
            "gridcolor": "#506784",
            "linecolor": "#506784",
            "ticks": ""
           },
           "caxis": {
            "gridcolor": "#506784",
            "linecolor": "#506784",
            "ticks": ""
           }
          },
          "coloraxis": {
           "colorbar": {
            "outlinewidth": 0,
            "ticks": ""
           }
          },
          "colorscale": {
           "sequential": [
            [
             0.0,
             "#0d0887"
            ],
            [
             0.1111111111111111,
             "#46039f"
            ],
            [
             0.2222222222222222,
             "#7201a8"
            ],
            [
             0.3333333333333333,
             "#9c179e"
            ],
            [
             0.4444444444444444,
             "#bd3786"
            ],
            [
             0.5555555555555556,
             "#d8576b"
            ],
            [
             0.6666666666666666,
             "#ed7953"
            ],
            [
             0.7777777777777778,
             "#fb9f3a"
            ],
            [
             0.8888888888888888,
             "#fdca26"
            ],
            [
             1.0,
             "#f0f921"
            ]
           ],
           "sequentialminus": [
            [
             0.0,
             "#0d0887"
            ],
            [
             0.1111111111111111,
             "#46039f"
            ],
            [
             0.2222222222222222,
             "#7201a8"
            ],
            [
             0.3333333333333333,
             "#9c179e"
            ],
            [
             0.4444444444444444,
             "#bd3786"
            ],
            [
             0.5555555555555556,
             "#d8576b"
            ],
            [
             0.6666666666666666,
             "#ed7953"
            ],
            [
             0.7777777777777778,
             "#fb9f3a"
            ],
            [
             0.8888888888888888,
             "#fdca26"
            ],
            [
             1.0,
             "#f0f921"
            ]
           ],
           "diverging": [
            [
             0,
             "#8e0152"
            ],
            [
             0.1,
             "#c51b7d"
            ],
            [
             0.2,
             "#de77ae"
            ],
            [
             0.3,
             "#f1b6da"
            ],
            [
             0.4,
             "#fde0ef"
            ],
            [
             0.5,
             "#f7f7f7"
            ],
            [
             0.6,
             "#e6f5d0"
            ],
            [
             0.7,
             "#b8e186"
            ],
            [
             0.8,
             "#7fbc41"
            ],
            [
             0.9,
             "#4d9221"
            ],
            [
             1,
             "#276419"
            ]
           ]
          },
          "xaxis": {
           "gridcolor": "#283442",
           "linecolor": "#506784",
           "ticks": "",
           "title": {
            "standoff": 15
           },
           "zerolinecolor": "#283442",
           "automargin": true,
           "zerolinewidth": 2
          },
          "yaxis": {
           "gridcolor": "#283442",
           "linecolor": "#506784",
           "ticks": "",
           "title": {
            "standoff": 15
           },
           "zerolinecolor": "#283442",
           "automargin": true,
           "zerolinewidth": 2
          },
          "scene": {
           "xaxis": {
            "backgroundcolor": "rgb(17,17,17)",
            "gridcolor": "#506784",
            "linecolor": "#506784",
            "showbackground": true,
            "ticks": "",
            "zerolinecolor": "#C8D4E3",
            "gridwidth": 2
           },
           "yaxis": {
            "backgroundcolor": "rgb(17,17,17)",
            "gridcolor": "#506784",
            "linecolor": "#506784",
            "showbackground": true,
            "ticks": "",
            "zerolinecolor": "#C8D4E3",
            "gridwidth": 2
           },
           "zaxis": {
            "backgroundcolor": "rgb(17,17,17)",
            "gridcolor": "#506784",
            "linecolor": "#506784",
            "showbackground": true,
            "ticks": "",
            "zerolinecolor": "#C8D4E3",
            "gridwidth": 2
           }
          },
          "shapedefaults": {
           "line": {
            "color": "#f2f5fa"
           }
          },
          "annotationdefaults": {
           "arrowcolor": "#f2f5fa",
           "arrowhead": 0,
           "arrowwidth": 1
          },
          "geo": {
           "bgcolor": "rgb(17,17,17)",
           "landcolor": "rgb(17,17,17)",
           "subunitcolor": "#506784",
           "showland": true,
           "showlakes": true,
           "lakecolor": "rgb(17,17,17)"
          },
          "title": {
           "x": 0.05
          },
          "updatemenudefaults": {
           "bgcolor": "#506784",
           "borderwidth": 0
          },
          "sliderdefaults": {
           "bgcolor": "#C8D4E3",
           "borderwidth": 1,
           "bordercolor": "rgb(17,17,17)",
           "tickwidth": 0
          },
          "mapbox": {
           "style": "dark"
          }
         }
        },
        "xaxis": {
         "anchor": "y",
         "domain": [
          0.0,
          1.0
         ],
         "title": {
          "text": "x"
         }
        },
        "yaxis": {
         "anchor": "x",
         "domain": [
          0.0,
          1.0
         ],
         "title": {
          "text": "y"
         }
        },
        "legend": {
         "tracegroupgap": 0
        },
        "title": {
         "text": "GD History : Marks are iterations."
        }
       },
       "config": {
        "plotlyServerURL": "https://plot.ly"
       }
      },
      "text/html": "<div>                            <div id=\"29a5d3e3-9fcc-4a0e-9527-1cbbdca6f6de\" class=\"plotly-graph-div\" style=\"height:525px; width:100%;\"></div>            <script type=\"text/javascript\">                require([\"plotly\"], function(Plotly) {                    window.PLOTLYENV=window.PLOTLYENV || {};                                    if (document.getElementById(\"29a5d3e3-9fcc-4a0e-9527-1cbbdca6f6de\")) {                    Plotly.newPlot(                        \"29a5d3e3-9fcc-4a0e-9527-1cbbdca6f6de\",                        [{\"hovertemplate\":\"x=%{x}<br>y=%{y}<extra></extra>\",\"legendgroup\":\"\",\"line\":{\"color\":\"#636efa\",\"dash\":\"solid\"},\"marker\":{\"symbol\":\"circle\"},\"mode\":\"lines\",\"name\":\"\",\"orientation\":\"v\",\"showlegend\":false,\"x\":[-4.0,-3.99,-3.9800000000000004,-3.9700000000000006,-3.960000000000001,-3.950000000000001,-3.9400000000000013,-3.9300000000000015,-3.9200000000000017,-3.910000000000002,-3.900000000000002,-3.8900000000000023,-3.8800000000000026,-3.8700000000000028,-3.860000000000003,-3.850000000000003,-3.8400000000000034,-3.8300000000000036,-3.820000000000004,-3.810000000000004,-3.8000000000000043,-3.7900000000000045,-3.7800000000000047,-3.770000000000005,-3.760000000000005,-3.7500000000000053,-3.7400000000000055,-3.7300000000000058,-3.720000000000006,-3.710000000000006,-3.7000000000000064,-3.6900000000000066,-3.680000000000007,-3.670000000000007,-3.6600000000000072,-3.6500000000000075,-3.6400000000000077,-3.630000000000008,-3.620000000000008,-3.6100000000000083,-3.6000000000000085,-3.5900000000000087,-3.580000000000009,-3.570000000000009,-3.5600000000000094,-3.5500000000000096,-3.54000000000001,-3.53000000000001,-3.5200000000000102,-3.5100000000000104,-3.5000000000000107,-3.490000000000011,-3.480000000000011,-3.4700000000000113,-3.4600000000000115,-3.4500000000000117,-3.440000000000012,-3.430000000000012,-3.4200000000000124,-3.4100000000000126,-3.400000000000013,-3.390000000000013,-3.380000000000013,-3.3700000000000134,-3.3600000000000136,-3.350000000000014,-3.340000000000014,-3.3300000000000143,-3.3200000000000145,-3.3100000000000147,-3.300000000000015,-3.290000000000015,-3.2800000000000153,-3.2700000000000156,-3.2600000000000158,-3.250000000000016,-3.240000000000016,-3.2300000000000164,-3.2200000000000166,-3.210000000000017,-3.200000000000017,-3.1900000000000173,-3.1800000000000175,-3.1700000000000177,-3.160000000000018,-3.150000000000018,-3.1400000000000183,-3.1300000000000185,-3.1200000000000188,-3.110000000000019,-3.100000000000019,-3.0900000000000194,-3.0800000000000196,-3.07000000000002,-3.06000000000002,-3.0500000000000203,-3.0400000000000205,-3.0300000000000207,-3.020000000000021,-3.010000000000021,-3.0000000000000213,-2.9900000000000215,-2.9800000000000217,-2.970000000000022,-2.960000000000022,-2.9500000000000224,-2.9400000000000226,-2.930000000000023,-2.920000000000023,-2.9100000000000232,-2.9000000000000234,-2.8900000000000237,-2.880000000000024,-2.870000000000024,-2.8600000000000243,-2.8500000000000245,-2.8400000000000247,-2.830000000000025,-2.820000000000025,-2.8100000000000254,-2.8000000000000256,-2.790000000000026,-2.780000000000026,-2.770000000000026,-2.7600000000000264,-2.7500000000000266,-2.740000000000027,-2.730000000000027,-2.7200000000000273,-2.7100000000000275,-2.7000000000000277,-2.690000000000028,-2.680000000000028,-2.6700000000000284,-2.6600000000000286,-2.6500000000000288,-2.640000000000029,-2.630000000000029,-2.6200000000000294,-2.6100000000000296,-2.60000000000003,-2.59000000000003,-2.5800000000000303,-2.5700000000000305,-2.5600000000000307,-2.550000000000031,-2.540000000000031,-2.5300000000000313,-2.5200000000000315,-2.5100000000000318,-2.500000000000032,-2.490000000000032,-2.4800000000000324,-2.4700000000000326,-2.460000000000033,-2.450000000000033,-2.4400000000000333,-2.4300000000000335,-2.4200000000000337,-2.410000000000034,-2.400000000000034,-2.3900000000000343,-2.3800000000000345,-2.3700000000000347,-2.360000000000035,-2.350000000000035,-2.3400000000000354,-2.3300000000000356,-2.320000000000036,-2.310000000000036,-2.3000000000000362,-2.2900000000000365,-2.2800000000000367,-2.270000000000037,-2.260000000000037,-2.2500000000000373,-2.2400000000000375,-2.2300000000000377,-2.220000000000038,-2.210000000000038,-2.2000000000000384,-2.1900000000000386,-2.180000000000039,-2.170000000000039,-2.160000000000039,-2.1500000000000394,-2.1400000000000396,-2.13000000000004,-2.12000000000004,-2.1100000000000403,-2.1000000000000405,-2.0900000000000407,-2.080000000000041,-2.070000000000041,-2.0600000000000414,-2.0500000000000416,-2.040000000000042,-2.030000000000042,-2.020000000000042,-2.0100000000000424,-2.0000000000000426,-1.9900000000000428,-1.980000000000043,-1.9700000000000433,-1.9600000000000435,-1.9500000000000437,-1.940000000000044,-1.9300000000000441,-1.9200000000000443,-1.9100000000000446,-1.9000000000000448,-1.890000000000045,-1.8800000000000452,-1.8700000000000454,-1.8600000000000456,-1.8500000000000458,-1.840000000000046,-1.8300000000000463,-1.8200000000000465,-1.8100000000000467,-1.800000000000047,-1.790000000000047,-1.7800000000000473,-1.7700000000000475,-1.7600000000000477,-1.750000000000048,-1.7400000000000482,-1.7300000000000484,-1.7200000000000486,-1.7100000000000488,-1.700000000000049,-1.6900000000000492,-1.6800000000000495,-1.6700000000000497,-1.6600000000000499,-1.65000000000005,-1.6400000000000503,-1.6300000000000505,-1.6200000000000507,-1.610000000000051,-1.6000000000000512,-1.5900000000000514,-1.5800000000000516,-1.5700000000000518,-1.560000000000052,-1.5500000000000522,-1.5400000000000524,-1.5300000000000527,-1.5200000000000529,-1.510000000000053,-1.5000000000000533,-1.4900000000000535,-1.4800000000000537,-1.470000000000054,-1.4600000000000541,-1.4500000000000544,-1.4400000000000546,-1.4300000000000548,-1.420000000000055,-1.4100000000000552,-1.4000000000000554,-1.3900000000000556,-1.3800000000000558,-1.370000000000056,-1.3600000000000563,-1.3500000000000565,-1.3400000000000567,-1.330000000000057,-1.3200000000000571,-1.3100000000000573,-1.3000000000000576,-1.2900000000000578,-1.280000000000058,-1.2700000000000582,-1.2600000000000584,-1.2500000000000586,-1.2400000000000588,-1.230000000000059,-1.2200000000000593,-1.2100000000000595,-1.2000000000000597,-1.19000000000006,-1.1800000000000601,-1.1700000000000603,-1.1600000000000605,-1.1500000000000608,-1.140000000000061,-1.1300000000000612,-1.1200000000000614,-1.1100000000000616,-1.1000000000000618,-1.090000000000062,-1.0800000000000622,-1.0700000000000625,-1.0600000000000627,-1.0500000000000629,-1.040000000000063,-1.0300000000000633,-1.0200000000000635,-1.0100000000000637,-1.000000000000064,-0.9900000000000642,-0.9800000000000644,-0.9700000000000646,-0.9600000000000648,-0.950000000000065,-0.9400000000000652,-0.9300000000000654,-0.9200000000000657,-0.9100000000000659,-0.9000000000000661,-0.8900000000000663,-0.8800000000000665,-0.8700000000000667,-0.8600000000000669,-0.8500000000000671,-0.8400000000000674,-0.8300000000000676,-0.8200000000000678,-0.810000000000068,-0.8000000000000682,-0.7900000000000684,-0.7800000000000686,-0.7700000000000689,-0.7600000000000691,-0.7500000000000693,-0.7400000000000695,-0.7300000000000697,-0.7200000000000699,-0.7100000000000701,-0.7000000000000703,-0.6900000000000706,-0.6800000000000708,-0.670000000000071,-0.6600000000000712,-0.6500000000000714,-0.6400000000000716,-0.6300000000000718,-0.620000000000072,-0.6100000000000723,-0.6000000000000725,-0.5900000000000727,-0.5800000000000729,-0.5700000000000731,-0.5600000000000733,-0.5500000000000735,-0.5400000000000738,-0.530000000000074,-0.5200000000000742,-0.5100000000000744,-0.5000000000000746,-0.4900000000000748,-0.48000000000007503,-0.47000000000007525,-0.46000000000007546,-0.4500000000000757,-0.4400000000000759,-0.4300000000000761,-0.4200000000000763,-0.4100000000000765,-0.40000000000007674,-0.39000000000007695,-0.38000000000007716,-0.3700000000000774,-0.3600000000000776,-0.3500000000000778,-0.340000000000078,-0.33000000000007823,-0.32000000000007844,-0.31000000000007866,-0.30000000000007887,-0.2900000000000791,-0.2800000000000793,-0.2700000000000795,-0.2600000000000797,-0.25000000000007994,-0.24000000000008015,-0.23000000000008036,-0.22000000000008058,-0.2100000000000808,-0.200000000000081,-0.19000000000008122,-0.18000000000008143,-0.17000000000008164,-0.16000000000008185,-0.15000000000008207,-0.14000000000008228,-0.1300000000000825,-0.12000000000008271,-0.11000000000008292,-0.10000000000008313,-0.09000000000008335,-0.08000000000008356,-0.07000000000008377,-0.060000000000083986,-0.0500000000000842,-0.04000000000008441,-0.030000000000084626,-0.02000000000008484,-0.010000000000085052,-8.526512829121202e-14,0.009999999999914522,0.01999999999991431,0.029999999999914095,0.03999999999991388,0.04999999999991367,0.059999999999913456,0.06999999999991324,0.07999999999991303,0.08999999999991282,0.0999999999999126,0.10999999999991239,0.11999999999991218,0.12999999999991196,0.13999999999991175,0.14999999999991154,0.15999999999991132,0.1699999999999111,0.1799999999999109,0.18999999999991068,0.19999999999991047,0.20999999999991026,0.21999999999991005,0.22999999999990983,0.23999999999990962,0.2499999999999094,0.2599999999999092,0.269999999999909,0.27999999999990877,0.28999999999990855,0.29999999999990834,0.3099999999999081,0.3199999999999079,0.3299999999999077,0.3399999999999075,0.3499999999999073,0.35999999999990706,0.36999999999990685,0.37999999999990663,0.3899999999999064,0.3999999999999062,0.409999999999906,0.4199999999999058,0.42999999999990557,0.43999999999990536,0.44999999999990514,0.45999999999990493,0.4699999999999047,0.4799999999999045,0.4899999999999043,0.4999999999999041,0.5099999999999039,0.5199999999999037,0.5299999999999034,0.5399999999999032,0.549999999999903,0.5599999999999028,0.5699999999999026,0.5799999999999024,0.5899999999999022,0.599999999999902,0.6099999999999017,0.6199999999999015,0.6299999999999013,0.6399999999999011,0.6499999999999009,0.6599999999999007,0.6699999999999005,0.6799999999999002,0.6899999999999,0.6999999999998998,0.7099999999998996,0.7199999999998994,0.7299999999998992,0.739999999999899,0.7499999999998987,0.7599999999998985,0.7699999999998983,0.7799999999998981,0.7899999999998979,0.7999999999998977,0.8099999999998975,0.8199999999998973,0.829999999999897,0.8399999999998968,0.8499999999998966,0.8599999999998964,0.8699999999998962,0.879999999999896,0.8899999999998958,0.8999999999998956,0.9099999999998953,0.9199999999998951,0.9299999999998949,0.9399999999998947,0.9499999999998945,0.9599999999998943,0.9699999999998941,0.9799999999998938,0.9899999999998936,0.9999999999998934,1.0099999999998932,1.019999999999893,1.0299999999998928,1.0399999999998926,1.0499999999998924,1.0599999999998921,1.069999999999892,1.0799999999998917,1.0899999999998915,1.0999999999998913,1.109999999999891,1.1199999999998909,1.1299999999998906,1.1399999999998904,1.1499999999998902,1.15999999999989,1.1699999999998898,1.1799999999998896,1.1899999999998894,1.1999999999998892,1.209999999999889,1.2199999999998887,1.2299999999998885,1.2399999999998883,1.249999999999888,1.2599999999998879,1.2699999999998877,1.2799999999998875,1.2899999999998872,1.299999999999887,1.3099999999998868,1.3199999999998866,1.3299999999998864,1.3399999999998862,1.349999999999886,1.3599999999998857,1.3699999999998855,1.3799999999998853,1.389999999999885,1.399999999999885,1.4099999999998847,1.4199999999998845,1.4299999999998843,1.439999999999884,1.4499999999998838,1.4599999999998836,1.4699999999998834,1.4799999999998832,1.489999999999883,1.4999999999998828,1.5099999999998825,1.5199999999998823,1.5299999999998821,1.539999999999882,1.5499999999998817,1.5599999999998815,1.5699999999998813,1.579999999999881,1.5899999999998808,1.5999999999998806,1.6099999999998804,1.6199999999998802,1.62999999999988,1.6399999999998798,1.6499999999998796,1.6599999999998793,1.6699999999998791,1.679999999999879,1.6899999999998787,1.6999999999998785,1.7099999999998783,1.719999999999878,1.7299999999998779,1.7399999999998776,1.7499999999998774,1.7599999999998772,1.769999999999877,1.7799999999998768,1.7899999999998766,1.7999999999998764,1.8099999999998762,1.819999999999876,1.8299999999998757,1.8399999999998755,1.8499999999998753,1.859999999999875,1.8699999999998749,1.8799999999998747,1.8899999999998744,1.8999999999998742,1.909999999999874,1.9199999999998738,1.9299999999998736,1.9399999999998734,1.9499999999998732,1.959999999999873,1.9699999999998727,1.9799999999998725,1.9899999999998723,1.999999999999872,2.009999999999872,2.0199999999998717,2.0299999999998715,2.0399999999998712,2.049999999999871,2.059999999999871,2.0699999999998706,2.0799999999998704,2.08999999999987,2.09999999999987,2.1099999999998698,2.1199999999998695,2.1299999999998693,2.139999999999869,2.149999999999869,2.1599999999998687,2.1699999999998685,2.1799999999998683,2.189999999999868,2.199999999999868,2.2099999999998676,2.2199999999998674,2.229999999999867,2.239999999999867,2.2499999999998668,2.2599999999998666,2.2699999999998663,2.279999999999866,2.289999999999866,2.2999999999998657,2.3099999999998655,2.3199999999998653,2.329999999999865,2.339999999999865,2.3499999999998646,2.3599999999998644,2.369999999999864,2.379999999999864,2.389999999999864,2.3999999999998636,2.4099999999998634,2.419999999999863,2.429999999999863,2.4399999999998627,2.4499999999998625,2.4599999999998623,2.469999999999862,2.479999999999862,2.4899999999998617,2.4999999999998614,2.5099999999998612,2.519999999999861,2.529999999999861,2.5399999999998606,2.5499999999998604,2.55999999999986,2.56999999999986,2.5799999999998597,2.5899999999998595,2.5999999999998593,2.609999999999859,2.619999999999859,2.6299999999998587,2.6399999999998585,2.6499999999998582,2.659999999999858,2.669999999999858,2.6799999999998576,2.6899999999998574,2.699999999999857,2.709999999999857,2.7199999999998568,2.7299999999998565,2.7399999999998563,2.749999999999856,2.759999999999856,2.7699999999998557,2.7799999999998555,2.7899999999998553,2.799999999999855,2.809999999999855,2.8199999999998546,2.8299999999998544,2.839999999999854,2.849999999999854,2.8599999999998538,2.8699999999998536,2.8799999999998533,2.889999999999853,2.899999999999853,2.9099999999998527,2.9199999999998525,2.9299999999998523,2.939999999999852,2.949999999999852,2.9599999999998516,2.9699999999998514,2.979999999999851,2.989999999999851,2.999999999999851,3.0099999999998506,3.0199999999998504,3.02999999999985,3.03999999999985,3.0499999999998497,3.0599999999998495,3.0699999999998493,3.079999999999849,3.089999999999849,3.0999999999998487,3.1099999999998484,3.1199999999998482,3.129999999999848,3.139999999999848,3.1499999999998476,3.1599999999998474,3.169999999999847,3.179999999999847,3.1899999999998467,3.1999999999998465,3.2099999999998463,3.219999999999846,3.229999999999846,3.2399999999998457,3.2499999999998455,3.2599999999998452,3.269999999999845,3.279999999999845,3.2899999999998446,3.2999999999998444,3.309999999999844,3.319999999999844,3.3299999999998438,3.3399999999998435,3.3499999999998433,3.359999999999843,3.369999999999843,3.3799999999998427,3.3899999999998425,3.3999999999998423,3.409999999999842,3.419999999999842,3.4299999999998416,3.4399999999998414,3.449999999999841,3.459999999999841,3.4699999999998408,3.4799999999998406,3.4899999999998403,3.49999999999984,3.50999999999984,3.5199999999998397,3.5299999999998395,3.5399999999998393,3.549999999999839,3.559999999999839,3.5699999999998386,3.5799999999998384,3.589999999999838,3.599999999999838,3.609999999999838,3.6199999999998376,3.6299999999998374,3.639999999999837,3.649999999999837,3.6599999999998367,3.6699999999998365,3.6799999999998363,3.689999999999836,3.699999999999836,3.7099999999998357,3.7199999999998354,3.7299999999998352,3.739999999999835,3.749999999999835,3.7599999999998346,3.7699999999998344,3.779999999999834,3.789999999999834,3.7999999999998337,3.8099999999998335,3.8199999999998333,3.829999999999833,3.839999999999833,3.8499999999998327,3.8599999999998325,3.8699999999998322,3.879999999999832,3.889999999999832,3.8999999999998316,3.9099999999998314,3.919999999999831,3.929999999999831,3.9399999999998307,3.9499999999998305,3.9599999999998303,3.96999999999983,3.97999999999983,3.9899999999998297,3.9999999999998295,4.009999999999829,4.019999999999829,4.029999999999829,4.039999999999829,4.049999999999828,4.059999999999828,4.069999999999828,4.079999999999828,4.0899999999998276,4.099999999999827,4.109999999999827,4.119999999999827,4.129999999999827,4.1399999999998265,4.149999999999826,4.159999999999826,4.169999999999826,4.179999999999826,4.189999999999825,4.199999999999825,4.209999999999825,4.219999999999825,4.229999999999825,4.239999999999824,4.249999999999824,4.259999999999824,4.269999999999824,4.2799999999998235,4.289999999999823,4.299999999999823,4.309999999999823,4.319999999999823,4.329999999999822,4.339999999999822,4.349999999999822,4.359999999999822,4.369999999999822,4.379999999999821,4.389999999999821,4.399999999999821,4.409999999999821,4.4199999999998205,4.42999999999982,4.43999999999982,4.44999999999982,4.45999999999982,4.4699999999998195,4.479999999999819,4.489999999999819,4.499999999999819,4.509999999999819,4.519999999999818,4.529999999999818,4.539999999999818,4.549999999999818,4.5599999999998175,4.569999999999817,4.579999999999817,4.589999999999817,4.599999999999817,4.6099999999998165,4.619999999999816,4.629999999999816,4.639999999999816,4.649999999999816,4.659999999999815,4.669999999999815,4.679999999999815,4.689999999999815,4.6999999999998145,4.709999999999814,4.719999999999814,4.729999999999814,4.739999999999814,4.7499999999998135,4.759999999999813,4.769999999999813,4.779999999999813,4.789999999999813,4.799999999999812,4.809999999999812,4.819999999999812,4.829999999999812,4.839999999999812,4.849999999999811,4.859999999999811,4.869999999999811,4.879999999999811,4.8899999999998105,4.89999999999981,4.90999999999981,4.91999999999981,4.92999999999981,4.939999999999809,4.949999999999809,4.959999999999809,4.969999999999809,4.979999999999809,4.989999999999808,4.999999999999808,5.009999999999808,5.019999999999808,5.0299999999998075,5.039999999999807,5.049999999999807,5.059999999999807,5.069999999999807,5.0799999999998064,5.089999999999806,5.099999999999806,5.109999999999806,5.119999999999806,5.129999999999805,5.139999999999805,5.149999999999805,5.159999999999805,5.1699999999998045,5.179999999999804,5.189999999999804,5.199999999999804,5.209999999999804,5.2199999999998035,5.229999999999803,5.239999999999803,5.249999999999803,5.259999999999803,5.269999999999802,5.279999999999802,5.289999999999802,5.299999999999802,5.3099999999998015,5.319999999999801,5.329999999999801,5.339999999999801,5.349999999999801,5.3599999999998005,5.3699999999998,5.3799999999998,5.3899999999998,5.3999999999998,5.409999999999799,5.419999999999799,5.429999999999799,5.439999999999799,5.449999999999799,5.459999999999798,5.469999999999798,5.479999999999798,5.489999999999798,5.4999999999997975,5.509999999999797,5.519999999999797,5.529999999999797,5.539999999999797,5.549999999999796,5.559999999999796,5.569999999999796,5.579999999999796,5.589999999999796,5.599999999999795,5.609999999999795,5.619999999999795,5.629999999999795,5.6399999999997945,5.649999999999794,5.659999999999794,5.669999999999794,5.679999999999794,5.6899999999997934,5.699999999999793,5.709999999999793,5.719999999999793,5.729999999999793,5.739999999999792,5.749999999999792,5.759999999999792,5.769999999999792,5.7799999999997915,5.789999999999791,5.799999999999791,5.809999999999791,5.819999999999791,5.8299999999997905,5.83999999999979,5.84999999999979,5.85999999999979,5.86999999999979,5.879999999999789,5.889999999999789,5.899999999999789,5.909999999999789,5.9199999999997885,5.929999999999788,5.939999999999788,5.949999999999788,5.959999999999788,5.9699999999997875,5.979999999999787,5.989999999999787],\"xaxis\":\"x\",\"y\":[17.545603029514332,17.46276890544194,17.38013478136954,17.29770065729715,17.215466533224753,17.133432409152356,17.05159828507996,16.969964161007564,16.888530036935173,16.807295912862777,16.726261788790385,16.645427664717992,16.564793540645592,16.4843594165732,16.4041252925008,16.324091168428406,16.244257044356015,16.16462292028362,16.08518879621122,16.005954672138824,15.926920548066434,15.848086423994038,15.769452299921648,15.691018175849248,15.61278405177685,15.534749927704459,15.456915803632063,15.379281679559673,15.301847555487276,15.224613431414877,15.147579307342488,15.070745183270091,14.994111059197692,14.9176769351253,14.841442811052906,14.76540868698051,14.689574562908112,14.613940438835721,14.538506314763325,14.463272190690926,14.388238066618536,14.313403942546142,14.238769818473742,14.16433569440135,14.090101570328954,14.01606744625656,13.942233322184165,13.868599198111767,13.795165074039375,13.721930949966978,13.648896825894585,13.576062701822186,13.503428577749792,13.4309944536774,13.358760329605001,13.286726205532608,13.214892081460212,13.143257957387817,13.07182383331542,13.000589709243025,12.929555585170633,12.858721461098238,12.78808733702584,12.717653212953447,12.647419088881046,12.577384964808655,12.50755084073626,12.437916716663866,12.368482592591468,12.299248468519075,12.230214344446676,12.161380220374284,12.092746096301886,12.024311972229489,11.956077848157095,11.8880437240847,11.820209600012307,11.752575475939912,11.685141351867518,11.617907227795119,11.550873103722726,11.484038979650325,11.417404855577935,11.350970731505539,11.284736607433143,11.218702483360747,11.152868359288352,11.087234235215956,11.021800111143564,10.956565987071162,10.891531862998772,10.826697738926375,10.762063614853979,10.697629490781583,10.633395366709188,10.569361242636791,10.505527118564396,10.441892994492001,10.378458870419609,10.315224746347209,10.252190622274817,10.18935649820242,10.126722374130022,10.064288250057626,10.002054125985232,9.940020001912838,9.878185877840444,9.816551753768042,9.75511762969565,9.693883505623257,9.632849381550859,9.572015257478464,9.511381133406063,9.450947009333673,9.390712885261276,9.33067876118888,9.270844637116484,9.211210513044088,9.15177638897169,9.092542264899297,9.033508140826902,8.974674016754504,8.91603989268211,8.85760576860971,8.799371644537315,8.741337520464917,8.683503396392524,8.62586927232013,8.568435148247733,8.511201024175339,8.454166900102939,8.397332776030545,8.340698651958153,8.284264527885751,8.228030403813358,8.171996279740963,8.11616215566857,8.06052803159617,8.005093907523776,7.9498597834513784,7.894825659378985,7.839991535306586,7.785357411234193,7.730923287161795,7.676689163089402,7.622655039017002,7.5688209149446095,7.515186790872212,7.461752666799816,7.408518542727419,7.355484418655024,7.302650294582627,7.250016170510234,7.1975820464378355,7.14534792236544,7.093313798293042,7.041479674220646,6.989845550148251,6.938411426075854,6.88717730200346,6.836143177931062,6.785309053858667,6.7346749297862685,6.684240805713874,6.634006681641479,6.583972557569082,6.534138433496686,6.48450430942429,6.435070185351893,6.385836061279497,6.336801937207101,6.2879678131347045,6.239333689062309,6.190899564989913,6.142665440917517,6.09463131684512,6.046797192772724,5.999163068700328,5.95172894462793,5.904494820555536,5.857460696483139,5.810626572410741,5.763992448338346,5.7175583242659505,5.671324200193553,5.625290076121158,5.579455952048761,5.5338218279763645,5.488387703903966,5.443153579831571,5.398119455759175,5.35328533168678,5.308651207614383,5.264217083541988,5.21998295946959,5.175948835397191,5.132114711324798,5.088480587252401,5.045046463180004,5.001812339107608,4.958778215035212,4.915944090962816,4.873309966890418,4.830875842818023,4.7886417187456285,4.746607594673231,4.704773470600832,4.663139346528437,4.621705222456039,4.5804710983836445,4.539436974311246,4.498602850238852,4.457968726166454,4.417534602094056,4.377300478021661,4.337266353949266,4.297432229876867,4.25779810580447,4.2183639817320735,4.179129857659677,4.140095733587283,4.101261609514885,4.062627485442487,4.0241933613700915,3.985959237297694,3.947925113225297,3.9100909891529008,3.8724568650805034,3.8350227410081077,3.797788616935712,3.7607544928633145,3.7239203687909175,3.6872862447185204,3.6508521206461237,3.6146179965737275,3.5785838725013326,3.542749748428934,3.507115624356538,3.4716815002841415,3.4364473762117442,3.401413252139347,3.3665791280669497,3.331945003994553,3.2975108799221564,3.2632767558497604,3.2292426317773626,3.1954085077049657,3.1617743836325714,3.128340259560173,3.095106135487776,3.0620720114153785,3.029237887342983,2.9966037632705858,2.964169639198188,2.9319355151257906,2.899901391053395,2.8680672669809977,2.8364331429086005,2.8049990188362033,2.7737648947638065,2.74273077069141,2.711896646619013,2.681262522546615,2.6508283984742187,2.620594274401822,2.5905601503294258,2.560726026257028,2.5310919021846314,2.5016577781122336,2.4724236540398374,2.44338952996744,2.414555405895043,2.385921281822644,2.357487157750249,2.329253033677852,2.301218909605454,2.273384785533058,2.24575066146066,2.2183165373882625,2.1910824133158653,2.1640482892434685,2.137214165171072,2.1105800410986744,2.0841459170262775,2.05791179295388,2.031877668881483,2.006043544809086,1.9804094207366885,1.9549752966642917,1.9297411725918938,1.9047070485194966,1.8798729244470997,1.8552388003747027,1.8308046763023054,1.806570552229908,1.7825364281575111,1.7587023040851135,1.7350681800127166,1.7116340559403196,1.688399931867922,1.6653658077955247,1.6425316837231274,1.6198975596507297,1.5974634355783324,1.575229311505935,1.553195187433538,1.5313610633611405,1.5097269392887431,1.488292815216346,1.4670586911439485,1.446024567071551,1.425190442999154,1.4045563189267565,1.3841221948543585,1.3638880707819614,1.3438539467095638,1.3240198226371664,1.304385698564769,1.2849515744923719,1.2657174504199735,1.2466833263475767,1.227849202275179,1.209215078202782,1.1907809541303842,1.1725468300579864,1.1545127059855893,1.1366785819131915,1.119044457840794,1.1016103337683967,1.084376209695999,1.0673420856236016,1.0505079615512039,1.0338738374788063,1.0174397134064088,1.001205589334011,0.9851714652616137,0.9693373411892161,0.9537032171168182,0.9382690930444205,0.9230349689720232,0.9080008448996253,0.8931667208272278,0.8785325967548301,0.8640984726824325,0.849864348610035,0.8358302245376372,0.8219961004652395,0.8083619763928418,0.7949278523204442,0.7816937282480463,0.7686596041756486,0.7558254801032507,0.7431913560308534,0.7307572319584554,0.7185231078860577,0.7064889838136598,0.694654859741262,0.6830207356688642,0.6715866115964665,0.6603524875240687,0.6493183634516708,0.6384842393792729,0.6278501153068752,0.6174159912344775,0.6071818671620794,0.5971477430896818,0.5873136190172836,0.5776794949448859,0.568245370872488,0.5590112468000901,0.5499771227276923,0.5411429986552945,0.5325088745828965,0.5240747505104987,0.5158406264381006,0.5078065023657026,0.49997237829330476,0.4923382542209068,0.48490413014850897,0.4776700060761109,0.47063588200371287,0.46380175793131473,0.4571676338589169,0.4507335097865188,0.4444993857141208,0.43846526164172284,0.43263113756932475,0.42699701349692687,0.4215628894245289,0.4163287653521306,0.4112946412797327,0.40646051720733467,0.4018263931349365,0.39739226906253844,0.3931581449901403,0.3891240209177421,0.38528989684534404,0.38165577277294593,0.37822164870054786,0.37498752462814966,0.3719534005557515,0.36911927648335335,0.36648515241095525,0.3640510283385569,0.3618169042661588,0.35978278019376075,0.3579486561213624,0.3563145320489642,0.3548804079765659,0.3536462839041677,0.3526121598317695,0.3517780357593713,0.35114391168697323,0.3507097876145748,0.3504756635421765,0.35044153946977824,0.35060741539737994,0.35097329132498156,0.35153916725258344,0.35230504318018496,0.3532709191077867,0.3544367950353885,0.35580267096298995,0.3573685468905918,0.35913442281819336,0.361100298745795,0.3632661746733966,0.3656320506009982,0.36819792652859984,0.3709638024562015,0.3739296783838032,0.3770955543114046,0.3804614302390062,0.3840273061666077,0.38779318209420943,0.39175905802181105,0.3959249339494123,0.40029080987701376,0.4048566858046154,0.409622561732217,0.41458843765981823,0.41975431358741994,0.4251201895150215,0.430686065442623,0.43645194137022436,0.44241781729782587,0.4485836932254273,0.45494956915302887,0.46151544508063,0.46828132100823155,0.4752471969358331,0.4824130728634345,0.4897789487910359,0.4973448247186373,0.5051107006462386,0.5130765765738402,0.5212424525014414,0.5296083284290427,0.5381742043566441,0.5469400802842455,0.5559059562118469,0.5650718321394481,0.5744377080670495,0.5840035839946507,0.5937694599222522,0.6037353358498535,0.6139012117774548,0.6242670877050558,0.6348329636326573,0.6455988395602587,0.6565647154878597,0.667730591415461,0.6790964673430622,0.6906623432706636,0.7024282191982648,0.7143940951258657,0.7265599710534671,0.7389258469810683,0.7514917229086696,0.7642575988362706,0.7772234747638718,0.7903893506914729,0.8037552266190741,0.8173211025466752,0.8310869784742764,0.8450528544018775,0.8592187303294784,0.8735846062570797,0.8881504821846811,0.902916358112282,0.9178822340398828,0.9330481099674838,0.9484139858950854,0.9639798618226865,0.9797457377502872,0.9957116136778883,1.0118774896054892,1.0282433655330905,1.0448092414606918,1.0615751173882924,1.0785409933158934,1.0957068692434946,1.1130727451710956,1.1306386210986963,1.1484044970262974,1.1663703729538983,1.1845362488814994,1.2029021248091003,1.2214680007367014,1.240233876664302,1.259199752591903,1.2783656285195035,1.2977315044471045,1.3172973803747055,1.3370632563023068,1.3570291322299073,1.3771950081575077,1.3975608840851088,1.41812676001271,1.4388926359403107,1.4598585118679117,1.4810243877955123,1.5023902637231135,1.5239561396507142,1.545722015578315,1.5676878915059158,1.589853767433516,1.6122196433611173,1.6347855192887177,1.6575513952163186,1.6805172711439191,1.70368314707152,1.7270490229991207,1.7506148989267214,1.7743807748543223,1.798346650781923,1.8225125267095232,1.8468784026371239,1.8714442785647247,1.8962101544923258,1.921176030419926,1.9463419063475271,1.9717077822751274,1.9972736582027284,2.023039534130329,2.0490054100579296,2.07517128598553,2.101537161913131,2.128103037840731,2.1548689137683317,2.181834789695932,2.2090006656235324,2.236366541551133,2.263932417478734,2.291698293406335,2.3196641693339353,2.347830045261536,2.376195921189136,2.404761797116736,2.433527673044337,2.4624935489719375,2.4916594248995376,2.5210253008271377,2.5505911767547396,2.5803570526823396,2.61032292860994,2.64048880453754,2.67085468046514,2.7014205563927414,2.7321864323203418,2.763152308247942,2.794318184175542,2.825684060103142,2.857249936030743,2.8890158119583433,2.9209816878859436,2.953147563813544,2.9855134397411436,3.018079315668745,3.0508451915963453,3.0838110675239463,3.1169769434515464,3.150342819379146,3.1839086953067466,3.2176745712343466,3.2516404471619467,3.2858063230895467,3.320172199017146,3.3547380749447475,3.389503950872348,3.4244698267999474,3.4596357027275486,3.495001578655148,3.53056745458275,3.56633333051035,3.6022992064379493,3.63846508236555,3.6748309582931498,3.7113968342207486,3.7481627101483506,3.78512858607595,3.82229446200355,3.8596603379311505,3.897226213858751,3.9349920897863493,3.972957965713951,4.011123841641552,4.04948971756915,4.088055593496751,4.1268214694243515,4.165787345351951,4.20495322127955,4.244319097207152,4.283884973134751,4.32365084906235,4.363616724989951,4.403782600917551,4.44414847684515,4.48471435277275,4.525480228700351,4.566446104627952,4.607611980555552,4.648977856483151,4.690543732410751,4.732309608338352,4.774275484265951,4.81644136019355,4.85880723612115,4.901373112048749,4.944138987976349,4.9871048639039515,5.0302707398315505,5.07363661575915,5.11720249168675,5.16096836761435,5.204934243541951,5.2491001194695475,5.293465995397148,5.338031871324749,5.382797747252349,5.427763623179949,5.472929499107546,5.518295375035149,5.563861250962748,5.609627126890347,5.655593002817948,5.701758878745547,5.748124754673147,5.794690630600746,5.841456506528347,5.888422382455945,5.935588258383548,5.9829541343111465,6.030520010238744,6.078285886166346,6.126251762093944,6.174417638021545,6.222783513949144,6.271349389876744,6.320115265804342,6.369081141731941,6.418247017659543,6.467612893587142,6.517178769514743,6.566944645442341,6.616910521369941,6.66707639729754,6.71744227322514,6.76800814915274,6.818774025080339,6.869739901007939,6.920905776935539,6.972271652863138,7.023837528790739,7.0756034047183345,7.127569280645938,7.1797351565735354,7.232101032501134,7.284666908428733,7.337432784356333,7.3903986602839336,7.443564536211531,7.496930412139132,7.550496288066734,7.604262163994332,7.658228039921933,7.712393915849529,7.7667597917771305,7.821325667704729,7.876091543632329,7.931057419559929,7.9862232954875285,8.041589171415128,8.097155047342728,8.152920923270324,8.208886799197924,8.265052675125526,8.321418551053124,8.377984426980722,8.434750302908324,8.491716178835924,8.54888205476352,8.606247930691119,8.66381380661872,8.721579682546317,8.779545558473918,8.837711434401516,8.896077310329115,8.954643186256716,9.013409062184314,9.072374938111915,9.131540814039514,9.190906689967111,9.25047256589471,9.310238441822309,9.37020431774991,9.430370193677508,9.490736069605108,9.55130194553271,9.612067821460306,9.673033697387906,9.734199573315506,9.795565449243103,9.857131325170702,9.9188972010983,9.980863077025901,10.043028952953502,10.1053948288811,10.167960704808696,10.230726580736295,10.293692456663901,10.356858332591496,10.420224208519096,10.483790084446692,10.547555960374293,10.611521836301895,10.675687712229491,10.74005358815709,10.804619464084691,10.869385340012288,10.934351215939888,10.999517091867485,11.064882967795084,11.130448843722684,11.19621471965028,11.262180595577885,11.32834647150548,11.394712347433076,11.461278223360678,11.528044099288277,11.595009975215877,11.662175851143477,11.729541727071075,11.797107602998674,11.864873478926272,11.932839354853872,12.00100523078147,12.069371106709067,12.137936982636665,12.206702858564269,12.275668734491862,12.344834610419461,12.41420048634706,12.483766362274663,12.553532238202258,12.623498114129857,12.693663990057454,12.764029865985055,12.834595741912654,12.905361617840251,12.976327493767851,13.04749336969545,13.118859245623048,13.190425121550646,13.262190997478243,13.334156873405846,13.406322749333446,13.478688625261043,13.551254501188643,13.624020377116235,13.696986253043837,13.770152128971432,13.843518004899034,13.91708388082663,13.990849756754235,14.064815632681832,14.138981508609424,14.213347384537034,14.28791326046463,14.362679136392225,14.437645012319825,14.51281088824742,14.588176764175017,14.663742640102617,14.739508516030218,14.815474391957812,14.891640267885412,14.968006143813014,15.044572019740613,15.12133789566821,15.198303771595803,15.275469647523408,15.352835523451006,15.4304013993786,15.508167275306203,15.586133151233796,15.664299027161395,15.742664903088993,15.821230779016592,15.8999966549442,15.978962530871794,16.058128406799387,16.13749428272699,16.217060158654583,16.29682603458219,16.376791910509784,16.45695778643738,16.53732366236498,16.61788953829258,16.69865541422018,16.77962129014778,16.860787166075372,16.942153042002975,17.023718917930566,17.10548479385816,17.187450669785765,17.269616545713365,17.351982421640955,17.434548297568558,17.51731417349616,17.600280049423763,17.683445925351354,17.76681180127895,17.850377677206552,17.934143553134145,18.018109429061752,18.102275304989345,18.186641180916943,18.271207056844545,18.355972932772136,18.440938808699745,18.526104684627335,18.61147056055494,18.69703643648253,18.782802312410134,18.868768188337725,18.954934064265327,19.04129994019293,19.127865816120522,19.214631692048123,19.301597567975723,19.388763443903322,19.476129319830918,19.563695195758513,19.651461071686107,19.73942694761371,19.82759282354131,19.915958699468902,20.00452457539651,20.0932904513241,20.1822563272517,20.271422203179302,20.360788079106893,20.450353955034497,20.54011983096209,20.630085706889684,20.720251582817287,20.810617458744886,20.90118333467249,20.991949210600076,21.08291508652767,21.17408096245527,21.26544683838288,21.357012714310464,21.448778590238064,21.540744466165666,21.63291034209327,21.725276218020863,21.81784209394846,21.910607969876065,22.003573845803654,22.096739721731254,22.19010559765885,22.283671473586445,22.37743734951404,22.47140322544164,22.565569101369242,22.65993497729684,22.75450085322444,22.849266729152035,22.944232605079627,23.039398481007233,23.134764356934824,23.230330232862425,23.326096108790022,23.422061984717622,23.51822786064522,23.614593736572818,23.711159612500413,23.807925488428012,23.90489136435561,24.002057240283207,24.099423116210808,24.196988992138408,24.294754868065997,24.392720743993596,24.49088661992119,24.589252495848793,24.68781837177638,24.78658424770399,24.885550123631585,24.984715999559178,25.084081875486785,25.183647751414377,25.28341362734198,25.383379503269573,25.48354537919717,25.583911255124764,25.684477131052358,25.78524300697996,25.886208882907557,25.987374758835152,26.088740634762747,26.190306510690355,26.292072386617946,26.394038262545546,26.496204138473143,26.598570014400742,26.701135890328334,26.80390176625594,26.906867642183535,27.010033518111122,27.11339939403872,27.216965269966323,27.320731145893927,27.424697021821515,27.52886289774912,27.633228773676723,27.737794649604307,27.8425605255319,27.94752640145951,28.0526922773871,28.158058153314705,28.263624029242287,28.36938990516989,28.475355781097484,28.581521657025093,28.687887532952693,28.79445340888028,28.901219284807876,29.00818516073547,29.115351036663082,29.22271691259067,29.330282788518268,29.438048664445866,29.546014540373466,29.654180416301063,29.76254629222866,29.87111216815625,29.979878044083854,30.088843920011442,30.19800979593905,30.30737567186664,30.416941547794238,30.52670742372184,30.636673299649438,30.74683917557703,30.85720505150463,30.967770927432213,31.07853680335982,31.189502679287422,31.30066855521502,31.412034431142608,31.523600307070204,31.635366182997807,31.747332058925394,31.859497934853003,31.971863810780594,32.08442968670819,32.197195562635805,32.310161438563384,32.42332731449099,32.53669319041859,32.65025906634618,32.76402494227378,32.87799081820136,32.99215669412898,33.10652257005657,33.22108844598417,33.335854321911754,33.450820197839356,33.56598607376695,33.681351949694545,33.79691782562214,33.91268370154974,34.02864957747734,34.144815453404945,34.26118132933253,34.377747205260135,34.49451308118772],\"yaxis\":\"y\",\"type\":\"scatter\"},{\"line\":{\"color\":\"firebrick\",\"dash\":\"dot\",\"width\":8},\"name\":\"GD history\",\"x\":[3.144550729592723,1.8254991381646477,1.0868302469649262,0.6731756678930819,0.44152910361284914,0.3118070276159188,0.23916266505763778,0.19848182202500042,0.17570054992672351,0.16294303755168843],\"y\":[9.337502492280851,3.1687764074528006,1.234263907250725,0.6276007871873541,0.43735123273548104,0.3776889724593738,0.35897888763678626,0.3531114050364231,0.35127136249294916,0.35069432515131566],\"type\":\"scatter\"}],                        {\"template\":{\"data\":{\"histogram2dcontour\":[{\"type\":\"histogram2dcontour\",\"colorbar\":{\"outlinewidth\":0,\"ticks\":\"\"},\"colorscale\":[[0.0,\"#0d0887\"],[0.1111111111111111,\"#46039f\"],[0.2222222222222222,\"#7201a8\"],[0.3333333333333333,\"#9c179e\"],[0.4444444444444444,\"#bd3786\"],[0.5555555555555556,\"#d8576b\"],[0.6666666666666666,\"#ed7953\"],[0.7777777777777778,\"#fb9f3a\"],[0.8888888888888888,\"#fdca26\"],[1.0,\"#f0f921\"]]}],\"choropleth\":[{\"type\":\"choropleth\",\"colorbar\":{\"outlinewidth\":0,\"ticks\":\"\"}}],\"histogram2d\":[{\"type\":\"histogram2d\",\"colorbar\":{\"outlinewidth\":0,\"ticks\":\"\"},\"colorscale\":[[0.0,\"#0d0887\"],[0.1111111111111111,\"#46039f\"],[0.2222222222222222,\"#7201a8\"],[0.3333333333333333,\"#9c179e\"],[0.4444444444444444,\"#bd3786\"],[0.5555555555555556,\"#d8576b\"],[0.6666666666666666,\"#ed7953\"],[0.7777777777777778,\"#fb9f3a\"],[0.8888888888888888,\"#fdca26\"],[1.0,\"#f0f921\"]]}],\"heatmap\":[{\"type\":\"heatmap\",\"colorbar\":{\"outlinewidth\":0,\"ticks\":\"\"},\"colorscale\":[[0.0,\"#0d0887\"],[0.1111111111111111,\"#46039f\"],[0.2222222222222222,\"#7201a8\"],[0.3333333333333333,\"#9c179e\"],[0.4444444444444444,\"#bd3786\"],[0.5555555555555556,\"#d8576b\"],[0.6666666666666666,\"#ed7953\"],[0.7777777777777778,\"#fb9f3a\"],[0.8888888888888888,\"#fdca26\"],[1.0,\"#f0f921\"]]}],\"heatmapgl\":[{\"type\":\"heatmapgl\",\"colorbar\":{\"outlinewidth\":0,\"ticks\":\"\"},\"colorscale\":[[0.0,\"#0d0887\"],[0.1111111111111111,\"#46039f\"],[0.2222222222222222,\"#7201a8\"],[0.3333333333333333,\"#9c179e\"],[0.4444444444444444,\"#bd3786\"],[0.5555555555555556,\"#d8576b\"],[0.6666666666666666,\"#ed7953\"],[0.7777777777777778,\"#fb9f3a\"],[0.8888888888888888,\"#fdca26\"],[1.0,\"#f0f921\"]]}],\"contourcarpet\":[{\"type\":\"contourcarpet\",\"colorbar\":{\"outlinewidth\":0,\"ticks\":\"\"}}],\"contour\":[{\"type\":\"contour\",\"colorbar\":{\"outlinewidth\":0,\"ticks\":\"\"},\"colorscale\":[[0.0,\"#0d0887\"],[0.1111111111111111,\"#46039f\"],[0.2222222222222222,\"#7201a8\"],[0.3333333333333333,\"#9c179e\"],[0.4444444444444444,\"#bd3786\"],[0.5555555555555556,\"#d8576b\"],[0.6666666666666666,\"#ed7953\"],[0.7777777777777778,\"#fb9f3a\"],[0.8888888888888888,\"#fdca26\"],[1.0,\"#f0f921\"]]}],\"surface\":[{\"type\":\"surface\",\"colorbar\":{\"outlinewidth\":0,\"ticks\":\"\"},\"colorscale\":[[0.0,\"#0d0887\"],[0.1111111111111111,\"#46039f\"],[0.2222222222222222,\"#7201a8\"],[0.3333333333333333,\"#9c179e\"],[0.4444444444444444,\"#bd3786\"],[0.5555555555555556,\"#d8576b\"],[0.6666666666666666,\"#ed7953\"],[0.7777777777777778,\"#fb9f3a\"],[0.8888888888888888,\"#fdca26\"],[1.0,\"#f0f921\"]]}],\"mesh3d\":[{\"type\":\"mesh3d\",\"colorbar\":{\"outlinewidth\":0,\"ticks\":\"\"}}],\"scatter\":[{\"marker\":{\"line\":{\"color\":\"#283442\"}},\"type\":\"scatter\"}],\"parcoords\":[{\"type\":\"parcoords\",\"line\":{\"colorbar\":{\"outlinewidth\":0,\"ticks\":\"\"}}}],\"scatterpolargl\":[{\"type\":\"scatterpolargl\",\"marker\":{\"colorbar\":{\"outlinewidth\":0,\"ticks\":\"\"}}}],\"bar\":[{\"error_x\":{\"color\":\"#f2f5fa\"},\"error_y\":{\"color\":\"#f2f5fa\"},\"marker\":{\"line\":{\"color\":\"rgb(17,17,17)\",\"width\":0.5},\"pattern\":{\"fillmode\":\"overlay\",\"size\":10,\"solidity\":0.2}},\"type\":\"bar\"}],\"scattergeo\":[{\"type\":\"scattergeo\",\"marker\":{\"colorbar\":{\"outlinewidth\":0,\"ticks\":\"\"}}}],\"scatterpolar\":[{\"type\":\"scatterpolar\",\"marker\":{\"colorbar\":{\"outlinewidth\":0,\"ticks\":\"\"}}}],\"histogram\":[{\"marker\":{\"pattern\":{\"fillmode\":\"overlay\",\"size\":10,\"solidity\":0.2}},\"type\":\"histogram\"}],\"scattergl\":[{\"marker\":{\"line\":{\"color\":\"#283442\"}},\"type\":\"scattergl\"}],\"scatter3d\":[{\"type\":\"scatter3d\",\"line\":{\"colorbar\":{\"outlinewidth\":0,\"ticks\":\"\"}},\"marker\":{\"colorbar\":{\"outlinewidth\":0,\"ticks\":\"\"}}}],\"scattermapbox\":[{\"type\":\"scattermapbox\",\"marker\":{\"colorbar\":{\"outlinewidth\":0,\"ticks\":\"\"}}}],\"scatterternary\":[{\"type\":\"scatterternary\",\"marker\":{\"colorbar\":{\"outlinewidth\":0,\"ticks\":\"\"}}}],\"scattercarpet\":[{\"type\":\"scattercarpet\",\"marker\":{\"colorbar\":{\"outlinewidth\":0,\"ticks\":\"\"}}}],\"carpet\":[{\"aaxis\":{\"endlinecolor\":\"#A2B1C6\",\"gridcolor\":\"#506784\",\"linecolor\":\"#506784\",\"minorgridcolor\":\"#506784\",\"startlinecolor\":\"#A2B1C6\"},\"baxis\":{\"endlinecolor\":\"#A2B1C6\",\"gridcolor\":\"#506784\",\"linecolor\":\"#506784\",\"minorgridcolor\":\"#506784\",\"startlinecolor\":\"#A2B1C6\"},\"type\":\"carpet\"}],\"table\":[{\"cells\":{\"fill\":{\"color\":\"#506784\"},\"line\":{\"color\":\"rgb(17,17,17)\"}},\"header\":{\"fill\":{\"color\":\"#2a3f5f\"},\"line\":{\"color\":\"rgb(17,17,17)\"}},\"type\":\"table\"}],\"barpolar\":[{\"marker\":{\"line\":{\"color\":\"rgb(17,17,17)\",\"width\":0.5},\"pattern\":{\"fillmode\":\"overlay\",\"size\":10,\"solidity\":0.2}},\"type\":\"barpolar\"}],\"pie\":[{\"automargin\":true,\"type\":\"pie\"}]},\"layout\":{\"autotypenumbers\":\"strict\",\"colorway\":[\"#636efa\",\"#EF553B\",\"#00cc96\",\"#ab63fa\",\"#FFA15A\",\"#19d3f3\",\"#FF6692\",\"#B6E880\",\"#FF97FF\",\"#FECB52\"],\"font\":{\"color\":\"#f2f5fa\"},\"hovermode\":\"closest\",\"hoverlabel\":{\"align\":\"left\"},\"paper_bgcolor\":\"rgb(17,17,17)\",\"plot_bgcolor\":\"rgb(17,17,17)\",\"polar\":{\"bgcolor\":\"rgb(17,17,17)\",\"angularaxis\":{\"gridcolor\":\"#506784\",\"linecolor\":\"#506784\",\"ticks\":\"\"},\"radialaxis\":{\"gridcolor\":\"#506784\",\"linecolor\":\"#506784\",\"ticks\":\"\"}},\"ternary\":{\"bgcolor\":\"rgb(17,17,17)\",\"aaxis\":{\"gridcolor\":\"#506784\",\"linecolor\":\"#506784\",\"ticks\":\"\"},\"baxis\":{\"gridcolor\":\"#506784\",\"linecolor\":\"#506784\",\"ticks\":\"\"},\"caxis\":{\"gridcolor\":\"#506784\",\"linecolor\":\"#506784\",\"ticks\":\"\"}},\"coloraxis\":{\"colorbar\":{\"outlinewidth\":0,\"ticks\":\"\"}},\"colorscale\":{\"sequential\":[[0.0,\"#0d0887\"],[0.1111111111111111,\"#46039f\"],[0.2222222222222222,\"#7201a8\"],[0.3333333333333333,\"#9c179e\"],[0.4444444444444444,\"#bd3786\"],[0.5555555555555556,\"#d8576b\"],[0.6666666666666666,\"#ed7953\"],[0.7777777777777778,\"#fb9f3a\"],[0.8888888888888888,\"#fdca26\"],[1.0,\"#f0f921\"]],\"sequentialminus\":[[0.0,\"#0d0887\"],[0.1111111111111111,\"#46039f\"],[0.2222222222222222,\"#7201a8\"],[0.3333333333333333,\"#9c179e\"],[0.4444444444444444,\"#bd3786\"],[0.5555555555555556,\"#d8576b\"],[0.6666666666666666,\"#ed7953\"],[0.7777777777777778,\"#fb9f3a\"],[0.8888888888888888,\"#fdca26\"],[1.0,\"#f0f921\"]],\"diverging\":[[0,\"#8e0152\"],[0.1,\"#c51b7d\"],[0.2,\"#de77ae\"],[0.3,\"#f1b6da\"],[0.4,\"#fde0ef\"],[0.5,\"#f7f7f7\"],[0.6,\"#e6f5d0\"],[0.7,\"#b8e186\"],[0.8,\"#7fbc41\"],[0.9,\"#4d9221\"],[1,\"#276419\"]]},\"xaxis\":{\"gridcolor\":\"#283442\",\"linecolor\":\"#506784\",\"ticks\":\"\",\"title\":{\"standoff\":15},\"zerolinecolor\":\"#283442\",\"automargin\":true,\"zerolinewidth\":2},\"yaxis\":{\"gridcolor\":\"#283442\",\"linecolor\":\"#506784\",\"ticks\":\"\",\"title\":{\"standoff\":15},\"zerolinecolor\":\"#283442\",\"automargin\":true,\"zerolinewidth\":2},\"scene\":{\"xaxis\":{\"backgroundcolor\":\"rgb(17,17,17)\",\"gridcolor\":\"#506784\",\"linecolor\":\"#506784\",\"showbackground\":true,\"ticks\":\"\",\"zerolinecolor\":\"#C8D4E3\",\"gridwidth\":2},\"yaxis\":{\"backgroundcolor\":\"rgb(17,17,17)\",\"gridcolor\":\"#506784\",\"linecolor\":\"#506784\",\"showbackground\":true,\"ticks\":\"\",\"zerolinecolor\":\"#C8D4E3\",\"gridwidth\":2},\"zaxis\":{\"backgroundcolor\":\"rgb(17,17,17)\",\"gridcolor\":\"#506784\",\"linecolor\":\"#506784\",\"showbackground\":true,\"ticks\":\"\",\"zerolinecolor\":\"#C8D4E3\",\"gridwidth\":2}},\"shapedefaults\":{\"line\":{\"color\":\"#f2f5fa\"}},\"annotationdefaults\":{\"arrowcolor\":\"#f2f5fa\",\"arrowhead\":0,\"arrowwidth\":1},\"geo\":{\"bgcolor\":\"rgb(17,17,17)\",\"landcolor\":\"rgb(17,17,17)\",\"subunitcolor\":\"#506784\",\"showland\":true,\"showlakes\":true,\"lakecolor\":\"rgb(17,17,17)\"},\"title\":{\"x\":0.05},\"updatemenudefaults\":{\"bgcolor\":\"#506784\",\"borderwidth\":0},\"sliderdefaults\":{\"bgcolor\":\"#C8D4E3\",\"borderwidth\":1,\"bordercolor\":\"rgb(17,17,17)\",\"tickwidth\":0},\"mapbox\":{\"style\":\"dark\"}}},\"xaxis\":{\"anchor\":\"y\",\"domain\":[0.0,1.0],\"title\":{\"text\":\"x\"}},\"yaxis\":{\"anchor\":\"x\",\"domain\":[0.0,1.0],\"title\":{\"text\":\"y\"}},\"legend\":{\"tracegroupgap\":0},\"title\":{\"text\":\"GD History : Marks are iterations.\"}},                        {\"responsive\": true}                    ).then(function(){\n                            \nvar gd = document.getElementById('29a5d3e3-9fcc-4a0e-9527-1cbbdca6f6de');\nvar x = new MutationObserver(function (mutations, observer) {{\n        var display = window.getComputedStyle(gd).display;\n        if (!display || display === 'none') {{\n            console.log([gd, 'removed!']);\n            Plotly.purge(gd);\n            observer.disconnect();\n        }}\n}});\n\n// Listen for the removal of the full notebook cells\nvar notebookContainer = gd.closest('#notebook-container');\nif (notebookContainer) {{\n    x.observe(notebookContainer, {childList: true});\n}}\n\n// Listen for the clearing of the current output cell\nvar outputEl = gd.closest('.output');\nif (outputEl) {{\n    x.observe(outputEl, {childList: true});\n}}\n\n                        })                };                });            </script>        </div>"
     },
     "metadata": {},
     "output_type": "display_data"
    }
   ],
   "source": [
    "import numpy as np\n",
    "import plotly.express as px\n",
    "import plotly.graph_objects as go\n",
    "\n",
    "\n",
    "def gradient_of_J(theta, x, y):\n",
    "    # \n",
    "    y_hat = theta\n",
    "    \n",
    "    # dL / dy_hat\n",
    "    dLdy = (y_hat - y)\n",
    "    \n",
    "    # dy_hat / dTheta\n",
    "    dy_HatdTheta = 1\n",
    "    \n",
    "    # chain rule\n",
    "    dLdTheta = dLdy * dy_HatdTheta\n",
    "    \n",
    "    return dLdTheta\n",
    "\n",
    "\n",
    "def calculate_l2_loss_non_vectorized(theta, xs, ys):\n",
    "    loss = 0.0\n",
    "    for k in range(ys.shape[0]):\n",
    "        y_pred = theta \n",
    "        loss += (y_pred - ys[k])**2\n",
    "\n",
    "    \n",
    "    mean_loss = loss / ys.shape[0]\n",
    "    return mean_loss\n",
    "\n",
    "\n",
    "    \n",
    "\n",
    "initial_theta = 5.5\n",
    "\n",
    "learning_rate = 0.44\n",
    "theta = np.array([initial_theta])\n",
    "m = x_train.shape[0]\n",
    "n_steps = 10\n",
    "\n",
    "print(\"Running GD with initial theta: {:.2f}, learning rate: {} over {} datapoints for {} steps\".format(\n",
    "    theta.item(),\n",
    "    learning_rate,\n",
    "    m,\n",
    "    n_steps))\n",
    "\n",
    "\n",
    "search_history = []\n",
    "for steps in range(n_steps):\n",
    "\n",
    "    gradient_theta_sum = 0.0\n",
    "    for k in range(m):\n",
    "        gradient_theta_sum += gradient_of_J(theta, x_train[k], y_train[k])\n",
    "\n",
    "    mean_gradient = (1/m) * gradient_theta_sum\n",
    "    loss = calculate_l2_loss_non_vectorized(theta, x_train, y_train)\n",
    "\n",
    "    print(\"[visit] theta: {:.2f} => loss: {:.2f}\".format(theta.item(), loss.item()))\n",
    "\n",
    "    # update theta using GD\n",
    "    theta = theta - (learning_rate * mean_gradient)\n",
    "    search_history.append((theta, loss))\n",
    "\n",
    "    \n",
    "\n",
    "\n",
    "# quick helper to generate plots \n",
    "loss_x = np.arange(-4, 6, 0.01)\n",
    "\n",
    "loss_y = np.array([calculate_l2_loss_non_vectorized(t, x_train, y_train) for t in loss_x])\n",
    "\n",
    "fig = px.line(x=loss_x, y=loss_y, title=\"GD History : Marks are iterations.\")\n",
    "\n",
    "\n",
    "x_visit, _ = list(zip(*search_history))\n",
    "x_visit = np.concatenate(x_visit)\n",
    "y_visit = np.array([calculate_l2_loss_non_vectorized(t, x_train, y_train) for t in x_visit])\n",
    "\n",
    "fig.add_trace(go.Scatter(x=x_visit, y=y_visit, name='GD history',\n",
    "                         line = dict(color='firebrick', width=8, dash='dot')))\n",
    "\n",
    "fig.show()"
   ],
   "metadata": {
    "collapsed": false,
    "pycharm": {
     "name": "#%%\n"
    }
   }
  },
  {
   "cell_type": "markdown",
   "source": [
    "## Task 4: Gradient Descent\n",
    "Below is a simple vectorized impl. of GD that can be used as a starting point. \n",
    "Please make sure you understand exactly HOW it works (so that you could have implemented one yourself).\n",
    "\n",
    "1) Change the code to use Stochastic Gradient Descent.\n",
    "2) Re-organize the code and add numba as to make the SGD go pew pew (faster).\n",
    "\n",
    "Numba: https://numba.readthedocs.io/en/stable/\n"
   ],
   "metadata": {
    "collapsed": false,
    "pycharm": {
     "name": "#%% md\n"
    }
   }
  },
  {
   "cell_type": "code",
   "execution_count": 20,
   "outputs": [
    {
     "name": "stdout",
     "output_type": "stream",
     "text": [
      "theta shape: (2, 1)\n",
      "The L2 error is: 0.01\n",
      "The L1 error is: 0.11\n",
      "R^2: 1.00\n",
      "[[0.58094179]\n",
      " [0.93377051]]\n"
     ]
    },
    {
     "data": {
      "application/vnd.plotly.v1+json": {
       "data": [
        {
         "hovertemplate": "variable=0<br>index=%{x}<br>value=%{y}<extra></extra>",
         "legendgroup": "0",
         "marker": {
          "color": "#636efa",
          "symbol": "circle"
         },
         "mode": "markers",
         "name": "0",
         "orientation": "v",
         "showlegend": true,
         "x": [
          0,
          1,
          2,
          3,
          4,
          5,
          6,
          7,
          8,
          9,
          10,
          11,
          12,
          13,
          14,
          15,
          16,
          17,
          18,
          19,
          20,
          21,
          22,
          23,
          24,
          25,
          26,
          27,
          28,
          29,
          30,
          31,
          32,
          33,
          34,
          35,
          36,
          37,
          38,
          39,
          40,
          41,
          42,
          43,
          44,
          45,
          46,
          47,
          48,
          49,
          50,
          51,
          52,
          53,
          54,
          55,
          56,
          57,
          58,
          59,
          60,
          61,
          62,
          63,
          64,
          65,
          66,
          67,
          68,
          69,
          70,
          71,
          72,
          73,
          74,
          75,
          76,
          77,
          78,
          79,
          80,
          81,
          82,
          83,
          84,
          85,
          86,
          87,
          88,
          89,
          90,
          91,
          92,
          93,
          94,
          95,
          96,
          97,
          98,
          99,
          100
         ],
         "xaxis": "x",
         "y": [
          1.0,
          1.9599999999999997,
          0.6032111111111113,
          3.9327296790123456,
          0.20028276939643344,
          1.593662487715653,
          0.05852288315356076,
          0.17440586873346342,
          0.03239766658028584,
          0.11829290996839795,
          0.01705644409900328,
          0.08123583954741687,
          0.06101714170450412,
          0.2593009605064006,
          0.01259731135908258,
          0.10050789490843755,
          0.003011427241942387,
          0.0025304353907988036,
          0.0019700053652386596,
          0.0025552979174737543,
          0.0021471600556550313,
          0.001804210880099013,
          0.0027460868273223643,
          0.0019515762694709922,
          0.0016398661708749338,
          0.0013779431019157458,
          0.0011578549675819796,
          0.0037207583681628997,
          0.0013906533075311329,
          0.0011685350709115731,
          0.05890708579128725,
          0.026180927018349984,
          0.011635967563711071,
          0.005171541139427164,
          0.002298462728634267,
          0.013371154243072544,
          0.011235483773692906,
          0.0019600250122789927,
          0.008600191520360559,
          8.465476551329096E-4,
          6.358513498553975E-4,
          4.775950138913848E-4,
          3.587269215450745E-4,
          0.005700031668941018,
          7.858622599953912E-5,
          5.902698752854204E-5,
          4.43358261881057E-5,
          3.3301131670176144E-5,
          0.004396924075319083,
          0.015991119557451007,
          5.598691342252178E-4,
          4.205239274847204E-4,
          0.008674621065436875,
          0.00733521329488267,
          0.005403898265641299,
          0.0077986913703601175,
          0.0011361363425122053,
          0.006018711361501626,
          0.0060633536935464725,
          0.0026948238637984167,
          0.002247728625745975,
          0.0019439138666039343,
          0.00802042863850223,
          0.0017085110059020551,
          0.0024224080893141464,
          0.006836511118811739,
          0.0011824829644815449,
          0.005235131107441683,
          0.0043989643333364244,
          0.0036963519745396318,
          0.003105962423050665,
          0.007979715513059465,
          0.003968680679916398,
          2.511470176817725E-4,
          1.8863931550319762E-4,
          0.005456620591322149,
          7.116682444011288E-4,
          5.345419257946366E-4,
          0.003505281290173474,
          0.0010162424345361853,
          0.0021018546972301766,
          0.004967136903162808,
          0.004173774758907647,
          5.42378147167024E-4,
          0.0028337329899064023,
          9.505120471128273E-4,
          0.0017351074422527694,
          0.004417031013919811,
          0.0013418433717785098,
          0.0012766860760581645,
          9.964714299439236E-4,
          4.4287619108617583E-4,
          1.968338627049712E-4,
          0.005057904060669932,
          0.0013825764074443022,
          0.0037790604497904144,
          6.800553583677243E-4,
          5.107971358406456E-4,
          3.836654042536399E-4,
          2.8817534808384457E-4,
          0.005157899393268297
         ],
         "yaxis": "y",
         "type": "scatter"
        }
       ],
       "layout": {
        "template": {
         "data": {
          "histogram2dcontour": [
           {
            "type": "histogram2dcontour",
            "colorbar": {
             "outlinewidth": 0,
             "ticks": ""
            },
            "colorscale": [
             [
              0.0,
              "#0d0887"
             ],
             [
              0.1111111111111111,
              "#46039f"
             ],
             [
              0.2222222222222222,
              "#7201a8"
             ],
             [
              0.3333333333333333,
              "#9c179e"
             ],
             [
              0.4444444444444444,
              "#bd3786"
             ],
             [
              0.5555555555555556,
              "#d8576b"
             ],
             [
              0.6666666666666666,
              "#ed7953"
             ],
             [
              0.7777777777777778,
              "#fb9f3a"
             ],
             [
              0.8888888888888888,
              "#fdca26"
             ],
             [
              1.0,
              "#f0f921"
             ]
            ]
           }
          ],
          "choropleth": [
           {
            "type": "choropleth",
            "colorbar": {
             "outlinewidth": 0,
             "ticks": ""
            }
           }
          ],
          "histogram2d": [
           {
            "type": "histogram2d",
            "colorbar": {
             "outlinewidth": 0,
             "ticks": ""
            },
            "colorscale": [
             [
              0.0,
              "#0d0887"
             ],
             [
              0.1111111111111111,
              "#46039f"
             ],
             [
              0.2222222222222222,
              "#7201a8"
             ],
             [
              0.3333333333333333,
              "#9c179e"
             ],
             [
              0.4444444444444444,
              "#bd3786"
             ],
             [
              0.5555555555555556,
              "#d8576b"
             ],
             [
              0.6666666666666666,
              "#ed7953"
             ],
             [
              0.7777777777777778,
              "#fb9f3a"
             ],
             [
              0.8888888888888888,
              "#fdca26"
             ],
             [
              1.0,
              "#f0f921"
             ]
            ]
           }
          ],
          "heatmap": [
           {
            "type": "heatmap",
            "colorbar": {
             "outlinewidth": 0,
             "ticks": ""
            },
            "colorscale": [
             [
              0.0,
              "#0d0887"
             ],
             [
              0.1111111111111111,
              "#46039f"
             ],
             [
              0.2222222222222222,
              "#7201a8"
             ],
             [
              0.3333333333333333,
              "#9c179e"
             ],
             [
              0.4444444444444444,
              "#bd3786"
             ],
             [
              0.5555555555555556,
              "#d8576b"
             ],
             [
              0.6666666666666666,
              "#ed7953"
             ],
             [
              0.7777777777777778,
              "#fb9f3a"
             ],
             [
              0.8888888888888888,
              "#fdca26"
             ],
             [
              1.0,
              "#f0f921"
             ]
            ]
           }
          ],
          "heatmapgl": [
           {
            "type": "heatmapgl",
            "colorbar": {
             "outlinewidth": 0,
             "ticks": ""
            },
            "colorscale": [
             [
              0.0,
              "#0d0887"
             ],
             [
              0.1111111111111111,
              "#46039f"
             ],
             [
              0.2222222222222222,
              "#7201a8"
             ],
             [
              0.3333333333333333,
              "#9c179e"
             ],
             [
              0.4444444444444444,
              "#bd3786"
             ],
             [
              0.5555555555555556,
              "#d8576b"
             ],
             [
              0.6666666666666666,
              "#ed7953"
             ],
             [
              0.7777777777777778,
              "#fb9f3a"
             ],
             [
              0.8888888888888888,
              "#fdca26"
             ],
             [
              1.0,
              "#f0f921"
             ]
            ]
           }
          ],
          "contourcarpet": [
           {
            "type": "contourcarpet",
            "colorbar": {
             "outlinewidth": 0,
             "ticks": ""
            }
           }
          ],
          "contour": [
           {
            "type": "contour",
            "colorbar": {
             "outlinewidth": 0,
             "ticks": ""
            },
            "colorscale": [
             [
              0.0,
              "#0d0887"
             ],
             [
              0.1111111111111111,
              "#46039f"
             ],
             [
              0.2222222222222222,
              "#7201a8"
             ],
             [
              0.3333333333333333,
              "#9c179e"
             ],
             [
              0.4444444444444444,
              "#bd3786"
             ],
             [
              0.5555555555555556,
              "#d8576b"
             ],
             [
              0.6666666666666666,
              "#ed7953"
             ],
             [
              0.7777777777777778,
              "#fb9f3a"
             ],
             [
              0.8888888888888888,
              "#fdca26"
             ],
             [
              1.0,
              "#f0f921"
             ]
            ]
           }
          ],
          "surface": [
           {
            "type": "surface",
            "colorbar": {
             "outlinewidth": 0,
             "ticks": ""
            },
            "colorscale": [
             [
              0.0,
              "#0d0887"
             ],
             [
              0.1111111111111111,
              "#46039f"
             ],
             [
              0.2222222222222222,
              "#7201a8"
             ],
             [
              0.3333333333333333,
              "#9c179e"
             ],
             [
              0.4444444444444444,
              "#bd3786"
             ],
             [
              0.5555555555555556,
              "#d8576b"
             ],
             [
              0.6666666666666666,
              "#ed7953"
             ],
             [
              0.7777777777777778,
              "#fb9f3a"
             ],
             [
              0.8888888888888888,
              "#fdca26"
             ],
             [
              1.0,
              "#f0f921"
             ]
            ]
           }
          ],
          "mesh3d": [
           {
            "type": "mesh3d",
            "colorbar": {
             "outlinewidth": 0,
             "ticks": ""
            }
           }
          ],
          "scatter": [
           {
            "marker": {
             "line": {
              "color": "#283442"
             }
            },
            "type": "scatter"
           }
          ],
          "parcoords": [
           {
            "type": "parcoords",
            "line": {
             "colorbar": {
              "outlinewidth": 0,
              "ticks": ""
             }
            }
           }
          ],
          "scatterpolargl": [
           {
            "type": "scatterpolargl",
            "marker": {
             "colorbar": {
              "outlinewidth": 0,
              "ticks": ""
             }
            }
           }
          ],
          "bar": [
           {
            "error_x": {
             "color": "#f2f5fa"
            },
            "error_y": {
             "color": "#f2f5fa"
            },
            "marker": {
             "line": {
              "color": "rgb(17,17,17)",
              "width": 0.5
             },
             "pattern": {
              "fillmode": "overlay",
              "size": 10,
              "solidity": 0.2
             }
            },
            "type": "bar"
           }
          ],
          "scattergeo": [
           {
            "type": "scattergeo",
            "marker": {
             "colorbar": {
              "outlinewidth": 0,
              "ticks": ""
             }
            }
           }
          ],
          "scatterpolar": [
           {
            "type": "scatterpolar",
            "marker": {
             "colorbar": {
              "outlinewidth": 0,
              "ticks": ""
             }
            }
           }
          ],
          "histogram": [
           {
            "marker": {
             "pattern": {
              "fillmode": "overlay",
              "size": 10,
              "solidity": 0.2
             }
            },
            "type": "histogram"
           }
          ],
          "scattergl": [
           {
            "marker": {
             "line": {
              "color": "#283442"
             }
            },
            "type": "scattergl"
           }
          ],
          "scatter3d": [
           {
            "type": "scatter3d",
            "line": {
             "colorbar": {
              "outlinewidth": 0,
              "ticks": ""
             }
            },
            "marker": {
             "colorbar": {
              "outlinewidth": 0,
              "ticks": ""
             }
            }
           }
          ],
          "scattermapbox": [
           {
            "type": "scattermapbox",
            "marker": {
             "colorbar": {
              "outlinewidth": 0,
              "ticks": ""
             }
            }
           }
          ],
          "scatterternary": [
           {
            "type": "scatterternary",
            "marker": {
             "colorbar": {
              "outlinewidth": 0,
              "ticks": ""
             }
            }
           }
          ],
          "scattercarpet": [
           {
            "type": "scattercarpet",
            "marker": {
             "colorbar": {
              "outlinewidth": 0,
              "ticks": ""
             }
            }
           }
          ],
          "carpet": [
           {
            "aaxis": {
             "endlinecolor": "#A2B1C6",
             "gridcolor": "#506784",
             "linecolor": "#506784",
             "minorgridcolor": "#506784",
             "startlinecolor": "#A2B1C6"
            },
            "baxis": {
             "endlinecolor": "#A2B1C6",
             "gridcolor": "#506784",
             "linecolor": "#506784",
             "minorgridcolor": "#506784",
             "startlinecolor": "#A2B1C6"
            },
            "type": "carpet"
           }
          ],
          "table": [
           {
            "cells": {
             "fill": {
              "color": "#506784"
             },
             "line": {
              "color": "rgb(17,17,17)"
             }
            },
            "header": {
             "fill": {
              "color": "#2a3f5f"
             },
             "line": {
              "color": "rgb(17,17,17)"
             }
            },
            "type": "table"
           }
          ],
          "barpolar": [
           {
            "marker": {
             "line": {
              "color": "rgb(17,17,17)",
              "width": 0.5
             },
             "pattern": {
              "fillmode": "overlay",
              "size": 10,
              "solidity": 0.2
             }
            },
            "type": "barpolar"
           }
          ],
          "pie": [
           {
            "automargin": true,
            "type": "pie"
           }
          ]
         },
         "layout": {
          "autotypenumbers": "strict",
          "colorway": [
           "#636efa",
           "#EF553B",
           "#00cc96",
           "#ab63fa",
           "#FFA15A",
           "#19d3f3",
           "#FF6692",
           "#B6E880",
           "#FF97FF",
           "#FECB52"
          ],
          "font": {
           "color": "#f2f5fa"
          },
          "hovermode": "closest",
          "hoverlabel": {
           "align": "left"
          },
          "paper_bgcolor": "rgb(17,17,17)",
          "plot_bgcolor": "rgb(17,17,17)",
          "polar": {
           "bgcolor": "rgb(17,17,17)",
           "angularaxis": {
            "gridcolor": "#506784",
            "linecolor": "#506784",
            "ticks": ""
           },
           "radialaxis": {
            "gridcolor": "#506784",
            "linecolor": "#506784",
            "ticks": ""
           }
          },
          "ternary": {
           "bgcolor": "rgb(17,17,17)",
           "aaxis": {
            "gridcolor": "#506784",
            "linecolor": "#506784",
            "ticks": ""
           },
           "baxis": {
            "gridcolor": "#506784",
            "linecolor": "#506784",
            "ticks": ""
           },
           "caxis": {
            "gridcolor": "#506784",
            "linecolor": "#506784",
            "ticks": ""
           }
          },
          "coloraxis": {
           "colorbar": {
            "outlinewidth": 0,
            "ticks": ""
           }
          },
          "colorscale": {
           "sequential": [
            [
             0.0,
             "#0d0887"
            ],
            [
             0.1111111111111111,
             "#46039f"
            ],
            [
             0.2222222222222222,
             "#7201a8"
            ],
            [
             0.3333333333333333,
             "#9c179e"
            ],
            [
             0.4444444444444444,
             "#bd3786"
            ],
            [
             0.5555555555555556,
             "#d8576b"
            ],
            [
             0.6666666666666666,
             "#ed7953"
            ],
            [
             0.7777777777777778,
             "#fb9f3a"
            ],
            [
             0.8888888888888888,
             "#fdca26"
            ],
            [
             1.0,
             "#f0f921"
            ]
           ],
           "sequentialminus": [
            [
             0.0,
             "#0d0887"
            ],
            [
             0.1111111111111111,
             "#46039f"
            ],
            [
             0.2222222222222222,
             "#7201a8"
            ],
            [
             0.3333333333333333,
             "#9c179e"
            ],
            [
             0.4444444444444444,
             "#bd3786"
            ],
            [
             0.5555555555555556,
             "#d8576b"
            ],
            [
             0.6666666666666666,
             "#ed7953"
            ],
            [
             0.7777777777777778,
             "#fb9f3a"
            ],
            [
             0.8888888888888888,
             "#fdca26"
            ],
            [
             1.0,
             "#f0f921"
            ]
           ],
           "diverging": [
            [
             0,
             "#8e0152"
            ],
            [
             0.1,
             "#c51b7d"
            ],
            [
             0.2,
             "#de77ae"
            ],
            [
             0.3,
             "#f1b6da"
            ],
            [
             0.4,
             "#fde0ef"
            ],
            [
             0.5,
             "#f7f7f7"
            ],
            [
             0.6,
             "#e6f5d0"
            ],
            [
             0.7,
             "#b8e186"
            ],
            [
             0.8,
             "#7fbc41"
            ],
            [
             0.9,
             "#4d9221"
            ],
            [
             1,
             "#276419"
            ]
           ]
          },
          "xaxis": {
           "gridcolor": "#283442",
           "linecolor": "#506784",
           "ticks": "",
           "title": {
            "standoff": 15
           },
           "zerolinecolor": "#283442",
           "automargin": true,
           "zerolinewidth": 2
          },
          "yaxis": {
           "gridcolor": "#283442",
           "linecolor": "#506784",
           "ticks": "",
           "title": {
            "standoff": 15
           },
           "zerolinecolor": "#283442",
           "automargin": true,
           "zerolinewidth": 2
          },
          "scene": {
           "xaxis": {
            "backgroundcolor": "rgb(17,17,17)",
            "gridcolor": "#506784",
            "linecolor": "#506784",
            "showbackground": true,
            "ticks": "",
            "zerolinecolor": "#C8D4E3",
            "gridwidth": 2
           },
           "yaxis": {
            "backgroundcolor": "rgb(17,17,17)",
            "gridcolor": "#506784",
            "linecolor": "#506784",
            "showbackground": true,
            "ticks": "",
            "zerolinecolor": "#C8D4E3",
            "gridwidth": 2
           },
           "zaxis": {
            "backgroundcolor": "rgb(17,17,17)",
            "gridcolor": "#506784",
            "linecolor": "#506784",
            "showbackground": true,
            "ticks": "",
            "zerolinecolor": "#C8D4E3",
            "gridwidth": 2
           }
          },
          "shapedefaults": {
           "line": {
            "color": "#f2f5fa"
           }
          },
          "annotationdefaults": {
           "arrowcolor": "#f2f5fa",
           "arrowhead": 0,
           "arrowwidth": 1
          },
          "geo": {
           "bgcolor": "rgb(17,17,17)",
           "landcolor": "rgb(17,17,17)",
           "subunitcolor": "#506784",
           "showland": true,
           "showlakes": true,
           "lakecolor": "rgb(17,17,17)"
          },
          "title": {
           "x": 0.05
          },
          "updatemenudefaults": {
           "bgcolor": "#506784",
           "borderwidth": 0
          },
          "sliderdefaults": {
           "bgcolor": "#C8D4E3",
           "borderwidth": 1,
           "bordercolor": "rgb(17,17,17)",
           "tickwidth": 0
          },
          "mapbox": {
           "style": "dark"
          }
         }
        },
        "xaxis": {
         "anchor": "y",
         "domain": [
          0.0,
          1.0
         ],
         "title": {
          "text": "index"
         }
        },
        "yaxis": {
         "anchor": "x",
         "domain": [
          0.0,
          1.0
         ],
         "title": {
          "text": "value"
         }
        },
        "legend": {
         "title": {
          "text": "variable"
         },
         "tracegroupgap": 0
        },
        "title": {
         "text": "J(theta) - Loss History"
        }
       },
       "config": {
        "plotlyServerURL": "https://plot.ly"
       }
      },
      "text/html": "<div>                            <div id=\"73da14d1-399d-4a66-a418-0a9731daf70e\" class=\"plotly-graph-div\" style=\"height:525px; width:100%;\"></div>            <script type=\"text/javascript\">                require([\"plotly\"], function(Plotly) {                    window.PLOTLYENV=window.PLOTLYENV || {};                                    if (document.getElementById(\"73da14d1-399d-4a66-a418-0a9731daf70e\")) {                    Plotly.newPlot(                        \"73da14d1-399d-4a66-a418-0a9731daf70e\",                        [{\"hovertemplate\":\"variable=0<br>index=%{x}<br>value=%{y}<extra></extra>\",\"legendgroup\":\"0\",\"marker\":{\"color\":\"#636efa\",\"symbol\":\"circle\"},\"mode\":\"markers\",\"name\":\"0\",\"orientation\":\"v\",\"showlegend\":true,\"x\":[0,1,2,3,4,5,6,7,8,9,10,11,12,13,14,15,16,17,18,19,20,21,22,23,24,25,26,27,28,29,30,31,32,33,34,35,36,37,38,39,40,41,42,43,44,45,46,47,48,49,50,51,52,53,54,55,56,57,58,59,60,61,62,63,64,65,66,67,68,69,70,71,72,73,74,75,76,77,78,79,80,81,82,83,84,85,86,87,88,89,90,91,92,93,94,95,96,97,98,99,100],\"xaxis\":\"x\",\"y\":[1.0,1.9599999999999997,0.6032111111111113,3.9327296790123456,0.20028276939643344,1.593662487715653,0.05852288315356076,0.17440586873346342,0.03239766658028584,0.11829290996839795,0.01705644409900328,0.08123583954741687,0.06101714170450412,0.2593009605064006,0.01259731135908258,0.10050789490843755,0.003011427241942387,0.0025304353907988036,0.0019700053652386596,0.0025552979174737543,0.0021471600556550313,0.001804210880099013,0.0027460868273223643,0.0019515762694709922,0.0016398661708749338,0.0013779431019157458,0.0011578549675819796,0.0037207583681628997,0.0013906533075311329,0.0011685350709115731,0.05890708579128725,0.026180927018349984,0.011635967563711071,0.005171541139427164,0.002298462728634267,0.013371154243072544,0.011235483773692906,0.0019600250122789927,0.008600191520360559,0.0008465476551329096,0.0006358513498553975,0.0004775950138913848,0.0003587269215450745,0.005700031668941018,7.858622599953912e-05,5.902698752854204e-05,4.43358261881057e-05,3.3301131670176144e-05,0.004396924075319083,0.015991119557451007,0.0005598691342252178,0.0004205239274847204,0.008674621065436875,0.00733521329488267,0.005403898265641299,0.0077986913703601175,0.0011361363425122053,0.006018711361501626,0.0060633536935464725,0.0026948238637984167,0.002247728625745975,0.0019439138666039343,0.00802042863850223,0.0017085110059020551,0.0024224080893141464,0.006836511118811739,0.0011824829644815449,0.005235131107441683,0.0043989643333364244,0.0036963519745396318,0.003105962423050665,0.007979715513059465,0.003968680679916398,0.0002511470176817725,0.00018863931550319762,0.005456620591322149,0.0007116682444011288,0.0005345419257946366,0.003505281290173474,0.0010162424345361853,0.0021018546972301766,0.004967136903162808,0.004173774758907647,0.000542378147167024,0.0028337329899064023,0.0009505120471128273,0.0017351074422527694,0.004417031013919811,0.0013418433717785098,0.0012766860760581645,0.0009964714299439236,0.00044287619108617583,0.0001968338627049712,0.005057904060669932,0.0013825764074443022,0.0037790604497904144,0.0006800553583677243,0.0005107971358406456,0.0003836654042536399,0.00028817534808384457,0.005157899393268297],\"yaxis\":\"y\",\"type\":\"scatter\"}],                        {\"template\":{\"data\":{\"histogram2dcontour\":[{\"type\":\"histogram2dcontour\",\"colorbar\":{\"outlinewidth\":0,\"ticks\":\"\"},\"colorscale\":[[0.0,\"#0d0887\"],[0.1111111111111111,\"#46039f\"],[0.2222222222222222,\"#7201a8\"],[0.3333333333333333,\"#9c179e\"],[0.4444444444444444,\"#bd3786\"],[0.5555555555555556,\"#d8576b\"],[0.6666666666666666,\"#ed7953\"],[0.7777777777777778,\"#fb9f3a\"],[0.8888888888888888,\"#fdca26\"],[1.0,\"#f0f921\"]]}],\"choropleth\":[{\"type\":\"choropleth\",\"colorbar\":{\"outlinewidth\":0,\"ticks\":\"\"}}],\"histogram2d\":[{\"type\":\"histogram2d\",\"colorbar\":{\"outlinewidth\":0,\"ticks\":\"\"},\"colorscale\":[[0.0,\"#0d0887\"],[0.1111111111111111,\"#46039f\"],[0.2222222222222222,\"#7201a8\"],[0.3333333333333333,\"#9c179e\"],[0.4444444444444444,\"#bd3786\"],[0.5555555555555556,\"#d8576b\"],[0.6666666666666666,\"#ed7953\"],[0.7777777777777778,\"#fb9f3a\"],[0.8888888888888888,\"#fdca26\"],[1.0,\"#f0f921\"]]}],\"heatmap\":[{\"type\":\"heatmap\",\"colorbar\":{\"outlinewidth\":0,\"ticks\":\"\"},\"colorscale\":[[0.0,\"#0d0887\"],[0.1111111111111111,\"#46039f\"],[0.2222222222222222,\"#7201a8\"],[0.3333333333333333,\"#9c179e\"],[0.4444444444444444,\"#bd3786\"],[0.5555555555555556,\"#d8576b\"],[0.6666666666666666,\"#ed7953\"],[0.7777777777777778,\"#fb9f3a\"],[0.8888888888888888,\"#fdca26\"],[1.0,\"#f0f921\"]]}],\"heatmapgl\":[{\"type\":\"heatmapgl\",\"colorbar\":{\"outlinewidth\":0,\"ticks\":\"\"},\"colorscale\":[[0.0,\"#0d0887\"],[0.1111111111111111,\"#46039f\"],[0.2222222222222222,\"#7201a8\"],[0.3333333333333333,\"#9c179e\"],[0.4444444444444444,\"#bd3786\"],[0.5555555555555556,\"#d8576b\"],[0.6666666666666666,\"#ed7953\"],[0.7777777777777778,\"#fb9f3a\"],[0.8888888888888888,\"#fdca26\"],[1.0,\"#f0f921\"]]}],\"contourcarpet\":[{\"type\":\"contourcarpet\",\"colorbar\":{\"outlinewidth\":0,\"ticks\":\"\"}}],\"contour\":[{\"type\":\"contour\",\"colorbar\":{\"outlinewidth\":0,\"ticks\":\"\"},\"colorscale\":[[0.0,\"#0d0887\"],[0.1111111111111111,\"#46039f\"],[0.2222222222222222,\"#7201a8\"],[0.3333333333333333,\"#9c179e\"],[0.4444444444444444,\"#bd3786\"],[0.5555555555555556,\"#d8576b\"],[0.6666666666666666,\"#ed7953\"],[0.7777777777777778,\"#fb9f3a\"],[0.8888888888888888,\"#fdca26\"],[1.0,\"#f0f921\"]]}],\"surface\":[{\"type\":\"surface\",\"colorbar\":{\"outlinewidth\":0,\"ticks\":\"\"},\"colorscale\":[[0.0,\"#0d0887\"],[0.1111111111111111,\"#46039f\"],[0.2222222222222222,\"#7201a8\"],[0.3333333333333333,\"#9c179e\"],[0.4444444444444444,\"#bd3786\"],[0.5555555555555556,\"#d8576b\"],[0.6666666666666666,\"#ed7953\"],[0.7777777777777778,\"#fb9f3a\"],[0.8888888888888888,\"#fdca26\"],[1.0,\"#f0f921\"]]}],\"mesh3d\":[{\"type\":\"mesh3d\",\"colorbar\":{\"outlinewidth\":0,\"ticks\":\"\"}}],\"scatter\":[{\"marker\":{\"line\":{\"color\":\"#283442\"}},\"type\":\"scatter\"}],\"parcoords\":[{\"type\":\"parcoords\",\"line\":{\"colorbar\":{\"outlinewidth\":0,\"ticks\":\"\"}}}],\"scatterpolargl\":[{\"type\":\"scatterpolargl\",\"marker\":{\"colorbar\":{\"outlinewidth\":0,\"ticks\":\"\"}}}],\"bar\":[{\"error_x\":{\"color\":\"#f2f5fa\"},\"error_y\":{\"color\":\"#f2f5fa\"},\"marker\":{\"line\":{\"color\":\"rgb(17,17,17)\",\"width\":0.5},\"pattern\":{\"fillmode\":\"overlay\",\"size\":10,\"solidity\":0.2}},\"type\":\"bar\"}],\"scattergeo\":[{\"type\":\"scattergeo\",\"marker\":{\"colorbar\":{\"outlinewidth\":0,\"ticks\":\"\"}}}],\"scatterpolar\":[{\"type\":\"scatterpolar\",\"marker\":{\"colorbar\":{\"outlinewidth\":0,\"ticks\":\"\"}}}],\"histogram\":[{\"marker\":{\"pattern\":{\"fillmode\":\"overlay\",\"size\":10,\"solidity\":0.2}},\"type\":\"histogram\"}],\"scattergl\":[{\"marker\":{\"line\":{\"color\":\"#283442\"}},\"type\":\"scattergl\"}],\"scatter3d\":[{\"type\":\"scatter3d\",\"line\":{\"colorbar\":{\"outlinewidth\":0,\"ticks\":\"\"}},\"marker\":{\"colorbar\":{\"outlinewidth\":0,\"ticks\":\"\"}}}],\"scattermapbox\":[{\"type\":\"scattermapbox\",\"marker\":{\"colorbar\":{\"outlinewidth\":0,\"ticks\":\"\"}}}],\"scatterternary\":[{\"type\":\"scatterternary\",\"marker\":{\"colorbar\":{\"outlinewidth\":0,\"ticks\":\"\"}}}],\"scattercarpet\":[{\"type\":\"scattercarpet\",\"marker\":{\"colorbar\":{\"outlinewidth\":0,\"ticks\":\"\"}}}],\"carpet\":[{\"aaxis\":{\"endlinecolor\":\"#A2B1C6\",\"gridcolor\":\"#506784\",\"linecolor\":\"#506784\",\"minorgridcolor\":\"#506784\",\"startlinecolor\":\"#A2B1C6\"},\"baxis\":{\"endlinecolor\":\"#A2B1C6\",\"gridcolor\":\"#506784\",\"linecolor\":\"#506784\",\"minorgridcolor\":\"#506784\",\"startlinecolor\":\"#A2B1C6\"},\"type\":\"carpet\"}],\"table\":[{\"cells\":{\"fill\":{\"color\":\"#506784\"},\"line\":{\"color\":\"rgb(17,17,17)\"}},\"header\":{\"fill\":{\"color\":\"#2a3f5f\"},\"line\":{\"color\":\"rgb(17,17,17)\"}},\"type\":\"table\"}],\"barpolar\":[{\"marker\":{\"line\":{\"color\":\"rgb(17,17,17)\",\"width\":0.5},\"pattern\":{\"fillmode\":\"overlay\",\"size\":10,\"solidity\":0.2}},\"type\":\"barpolar\"}],\"pie\":[{\"automargin\":true,\"type\":\"pie\"}]},\"layout\":{\"autotypenumbers\":\"strict\",\"colorway\":[\"#636efa\",\"#EF553B\",\"#00cc96\",\"#ab63fa\",\"#FFA15A\",\"#19d3f3\",\"#FF6692\",\"#B6E880\",\"#FF97FF\",\"#FECB52\"],\"font\":{\"color\":\"#f2f5fa\"},\"hovermode\":\"closest\",\"hoverlabel\":{\"align\":\"left\"},\"paper_bgcolor\":\"rgb(17,17,17)\",\"plot_bgcolor\":\"rgb(17,17,17)\",\"polar\":{\"bgcolor\":\"rgb(17,17,17)\",\"angularaxis\":{\"gridcolor\":\"#506784\",\"linecolor\":\"#506784\",\"ticks\":\"\"},\"radialaxis\":{\"gridcolor\":\"#506784\",\"linecolor\":\"#506784\",\"ticks\":\"\"}},\"ternary\":{\"bgcolor\":\"rgb(17,17,17)\",\"aaxis\":{\"gridcolor\":\"#506784\",\"linecolor\":\"#506784\",\"ticks\":\"\"},\"baxis\":{\"gridcolor\":\"#506784\",\"linecolor\":\"#506784\",\"ticks\":\"\"},\"caxis\":{\"gridcolor\":\"#506784\",\"linecolor\":\"#506784\",\"ticks\":\"\"}},\"coloraxis\":{\"colorbar\":{\"outlinewidth\":0,\"ticks\":\"\"}},\"colorscale\":{\"sequential\":[[0.0,\"#0d0887\"],[0.1111111111111111,\"#46039f\"],[0.2222222222222222,\"#7201a8\"],[0.3333333333333333,\"#9c179e\"],[0.4444444444444444,\"#bd3786\"],[0.5555555555555556,\"#d8576b\"],[0.6666666666666666,\"#ed7953\"],[0.7777777777777778,\"#fb9f3a\"],[0.8888888888888888,\"#fdca26\"],[1.0,\"#f0f921\"]],\"sequentialminus\":[[0.0,\"#0d0887\"],[0.1111111111111111,\"#46039f\"],[0.2222222222222222,\"#7201a8\"],[0.3333333333333333,\"#9c179e\"],[0.4444444444444444,\"#bd3786\"],[0.5555555555555556,\"#d8576b\"],[0.6666666666666666,\"#ed7953\"],[0.7777777777777778,\"#fb9f3a\"],[0.8888888888888888,\"#fdca26\"],[1.0,\"#f0f921\"]],\"diverging\":[[0,\"#8e0152\"],[0.1,\"#c51b7d\"],[0.2,\"#de77ae\"],[0.3,\"#f1b6da\"],[0.4,\"#fde0ef\"],[0.5,\"#f7f7f7\"],[0.6,\"#e6f5d0\"],[0.7,\"#b8e186\"],[0.8,\"#7fbc41\"],[0.9,\"#4d9221\"],[1,\"#276419\"]]},\"xaxis\":{\"gridcolor\":\"#283442\",\"linecolor\":\"#506784\",\"ticks\":\"\",\"title\":{\"standoff\":15},\"zerolinecolor\":\"#283442\",\"automargin\":true,\"zerolinewidth\":2},\"yaxis\":{\"gridcolor\":\"#283442\",\"linecolor\":\"#506784\",\"ticks\":\"\",\"title\":{\"standoff\":15},\"zerolinecolor\":\"#283442\",\"automargin\":true,\"zerolinewidth\":2},\"scene\":{\"xaxis\":{\"backgroundcolor\":\"rgb(17,17,17)\",\"gridcolor\":\"#506784\",\"linecolor\":\"#506784\",\"showbackground\":true,\"ticks\":\"\",\"zerolinecolor\":\"#C8D4E3\",\"gridwidth\":2},\"yaxis\":{\"backgroundcolor\":\"rgb(17,17,17)\",\"gridcolor\":\"#506784\",\"linecolor\":\"#506784\",\"showbackground\":true,\"ticks\":\"\",\"zerolinecolor\":\"#C8D4E3\",\"gridwidth\":2},\"zaxis\":{\"backgroundcolor\":\"rgb(17,17,17)\",\"gridcolor\":\"#506784\",\"linecolor\":\"#506784\",\"showbackground\":true,\"ticks\":\"\",\"zerolinecolor\":\"#C8D4E3\",\"gridwidth\":2}},\"shapedefaults\":{\"line\":{\"color\":\"#f2f5fa\"}},\"annotationdefaults\":{\"arrowcolor\":\"#f2f5fa\",\"arrowhead\":0,\"arrowwidth\":1},\"geo\":{\"bgcolor\":\"rgb(17,17,17)\",\"landcolor\":\"rgb(17,17,17)\",\"subunitcolor\":\"#506784\",\"showland\":true,\"showlakes\":true,\"lakecolor\":\"rgb(17,17,17)\"},\"title\":{\"x\":0.05},\"updatemenudefaults\":{\"bgcolor\":\"#506784\",\"borderwidth\":0},\"sliderdefaults\":{\"bgcolor\":\"#C8D4E3\",\"borderwidth\":1,\"bordercolor\":\"rgb(17,17,17)\",\"tickwidth\":0},\"mapbox\":{\"style\":\"dark\"}}},\"xaxis\":{\"anchor\":\"y\",\"domain\":[0.0,1.0],\"title\":{\"text\":\"index\"}},\"yaxis\":{\"anchor\":\"x\",\"domain\":[0.0,1.0],\"title\":{\"text\":\"value\"}},\"legend\":{\"title\":{\"text\":\"variable\"},\"tracegroupgap\":0},\"title\":{\"text\":\"J(theta) - Loss History\"}},                        {\"responsive\": true}                    ).then(function(){\n                            \nvar gd = document.getElementById('73da14d1-399d-4a66-a418-0a9731daf70e');\nvar x = new MutationObserver(function (mutations, observer) {{\n        var display = window.getComputedStyle(gd).display;\n        if (!display || display === 'none') {{\n            console.log([gd, 'removed!']);\n            Plotly.purge(gd);\n            observer.disconnect();\n        }}\n}});\n\n// Listen for the removal of the full notebook cells\nvar notebookContainer = gd.closest('#notebook-container');\nif (notebookContainer) {{\n    x.observe(notebookContainer, {childList: true});\n}}\n\n// Listen for the clearing of the current output cell\nvar outputEl = gd.closest('.output');\nif (outputEl) {{\n    x.observe(outputEl, {childList: true});\n}}\n\n                        })                };                });            </script>        </div>"
     },
     "metadata": {},
     "output_type": "display_data"
    }
   ],
   "source": [
    "import numpy as np\n",
    "import plotly.express as px\n",
    "from typing import Tuple, Union, List\n",
    "\n",
    "\n",
    "def predict(theta, xs):\n",
    "    return np.dot(xs, theta)\n",
    "\n",
    "def J_squared_residual(theta, xs, y):\n",
    "    h = predict(theta, xs)\n",
    "    sr = ((h - y)**2).sum()\n",
    "    return sr\n",
    "\n",
    "def gradient_J_squared_residual(theta, xs, y):\n",
    "    h = predict(theta, xs)\n",
    "    grad = np.dot(xs.transpose(), (h - y))\n",
    "    return grad\n",
    "\n",
    "\n",
    "def get_subset(xs: np.array, ys: np.array, indexes: np.array, batch_size: int) -> Union[Tuple[np.array, np.array], Tuple[None, None]]:\n",
    "    if (len(xs) < batch_size) or (len(xs) != len(ys)) or (len(indexes) < batch_size):\n",
    "        return None, None\n",
    "\n",
    "    x_data = np.empty([batch_size, len(xs[0])])\n",
    "    y_data = np.empty([batch_size, 1])\n",
    "\n",
    "    np.random.shuffle(indexes)\n",
    "\n",
    "    for i in range(0, batch_size):\n",
    "        x_data[i] = xs[indexes[i]]\n",
    "        y_data[i] = ys[indexes[i]]\n",
    "\n",
    "    return x_data, y_data\n",
    "\n",
    "\n",
    "# the dataset (already augmented so that we get a intercept coef)\n",
    "data_x = np.array([[1.0, 0.5], [1.0, 1.0], [1.0, 2.0]])\n",
    "data_y = np.array([[1.0], [1.5], [2.5]])\n",
    "\n",
    "n_features = data_x.shape[1]\n",
    "# variables we need\n",
    "theta = np.zeros((n_features, 1))\n",
    "learning_rate = 0.2\n",
    "m = data_x.shape[0]\n",
    "\n",
    "# run GD\n",
    "j_history = []\n",
    "n_iters = 100\n",
    "for it in range(n_iters):\n",
    "    x, y = get_subset(data_x, data_y, np.arange(0, len(data_x)), int(len(data_x) * 0.4))\n",
    "    if x is None:\n",
    "        print(\"Bad Input In (get_subset)\")\n",
    "        break\n",
    "    j = J_squared_residual(theta, x, y)\n",
    "    j_history.append(j)\n",
    "\n",
    "    theta = theta - (learning_rate * (1/m) * gradient_J_squared_residual(theta, x, y))\n",
    "\n",
    "print(\"theta shape:\", theta.shape)\n",
    "\n",
    "# append the final result.\n",
    "j = J_squared_residual(theta, data_x, data_y)\n",
    "j_history.append(j)\n",
    "print(\"The L2 error is: {:.2f}\".format(j))\n",
    "\n",
    "\n",
    "# find the L1 error.\n",
    "\n",
    "y_pred = predict(theta, data_x)\n",
    "\n",
    "l1_error = np.abs(y_pred - data_y).sum()\n",
    "print(\"The L1 error is: {:.2f}\".format(l1_error))\n",
    "\n",
    "\n",
    "# Find the R^2\n",
    "# if the data is normalized: use the normalized data not the original data (task 3 hint).\n",
    "# https://en.wikipedia.org/wiki/Coefficient_of_determination\n",
    "u = ((data_y - y_pred)**2).sum()\n",
    "v = ((data_y - data_y.mean())** 2).sum()\n",
    "print(\"R^2: {:.2f}\".format(1 - (u/v)))\n",
    "print(theta)\n",
    "\n",
    "\n",
    "\n",
    "# plot the result\n",
    "fig = px.scatter(j_history, title=\"J(theta) - Loss History\")\n",
    "fig.show()\n"
   ],
   "metadata": {
    "collapsed": false,
    "pycharm": {
     "name": "#%%\n"
    }
   }
  },
  {
   "cell_type": "markdown",
   "source": [
    "# Isak Housing Inc\n",
    "\n",
    "### Note: no pandas, sklearn or similar libraries should be used, numpy, dash, numba and plotly should be sufficient. Ask if you wonder about a library.\n",
    "\n",
    "The project consists of 4 parts: \n",
    "\n",
    "1) \n",
    "\n",
    "Go though the data and understand how encode the various features. \n",
    "* Clean the data for potential noise and simply wrong input.\n",
    "* Make sure you identify how a linear classifier will be affected by the encoding scheme. \n",
    "* How do you handle missing data?\n",
    "* Encode the features.\n",
    "\n",
    "2) \n",
    "Train a linear model based on the data in 'train.jsonl'.  \n",
    "Either write your own from scratch or modify the SGD example given in the handin.\n",
    "The input should consist of two parts: the features for the house, and how many years into the future the price should be predicted at. \n",
    "\n",
    "Simplified Example:  \n",
    "Input:[ features: 20m^2 house, built in 1979, .... | years: 4 ]  \n",
    "Output: In 4 years the house will be worth 2 100 000 NOK.  \n",
    "\n",
    "3) \n",
    "Implement the dashboard interface such that we can take 3 parameters. (See 'isak_dashboard.py' on canvas for a starting point for the dashboard.)  \n",
    "A) A file with house features and their cost. (example: 'houses_on_marked_setA_3_years.jsonl')  \n",
    "B) A budget to buy houses with.  \n",
    "C) How many years we can sit on the houses before we sell them.\n",
    "\n",
    "Output: a list of houses to buy and our estimated earnings.\n",
    "\n",
    "4) \n",
    "Test the interface on the different auctions found in the auctions folder on canvas. Record the output.   \n",
    "The auction files are of the format: \n",
    "* houses_on_marked_setX_yearY.jsonl - where X is the set id, and Y is the number of years into the future the houses are sold.\n",
    "* prices_in_future_setX_Y_years.jsonl - contains the prices (use the id field to connect the two datasets)  \n",
    "\n",
    "5) \n",
    "A client wants to know how the model works, my inspecting the weights (that is: $\\theta$) give a \n",
    "overview of the most important factors in the model. Are there any houses that \n",
    "should be avoided wrt. future sale?\n",
    "\n",
    "\n",
    "\n",
    "### Dataset\n",
    "Features found in the dataset:\n",
    "\n",
    "* Id: Transaction id.\n",
    "* Built: The year the house was built.\n",
    "* Color: The color of the house.  \n",
    "* Size: The size of the house.  \n",
    "* Sun: The % of the day the sun is hitting the house.\n",
    "\n",
    "* Year: The year the house was sold.  \n",
    "* Month: The month the house was sold (1 - Jan, 2 - Feb, ..., 12 - Dec)  \n",
    "* Price: The price when it was sold in (Year)  \n",
    "\n",
    "\n",
    "\n",
    "\n"
   ],
   "metadata": {
    "collapsed": false,
    "pycharm": {
     "name": "#%% md\n"
    }
   }
  },
  {
   "cell_type": "code",
   "execution_count": null,
   "outputs": [],
   "source": [],
   "metadata": {
    "collapsed": false,
    "pycharm": {
     "name": "#%%\n",
     "is_executing": true
    }
   }
  },
  {
   "cell_type": "code",
   "execution_count": 18,
   "outputs": [],
   "source": [],
   "metadata": {
    "collapsed": false,
    "pycharm": {
     "name": "#%%\n"
    }
   }
  }
 ],
 "metadata": {
  "kernelspec": {
   "display_name": "Python 3",
   "language": "python",
   "name": "python3"
  },
  "language_info": {
   "codemirror_mode": {
    "name": "ipython",
    "version": 3
   },
   "file_extension": ".py",
   "mimetype": "text/x-python",
   "name": "python",
   "nbconvert_exporter": "python",
   "pygments_lexer": "ipython3",
   "version": "3.8.5"
  },
  "vscode": {
   "interpreter": {
    "hash": "2fbaad391334481426845d7179b77e925f4524a09de31856cd4e700b067a7b69"
   }
  }
 },
 "nbformat": 4,
 "nbformat_minor": 4
}